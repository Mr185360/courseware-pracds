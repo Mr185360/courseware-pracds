{
 "cells": [
  {
   "cell_type": "markdown",
   "metadata": {},
   "source": [
    "# Network Science & Graph Analytics"
   ]
  },
  {
   "cell_type": "markdown",
   "metadata": {},
   "source": [
    "Every data set *can* be modelled with a table and relationships between tables. This is often the best place to start. \n",
    "\n",
    "However, *practically* certain queries and data structure requirements will push you to use a different data model. \n",
    "\n",
    "Often in graph analysis, your data will start in a relational database (csv, ...) and then get imported for analysis."
   ]
  },
  {
   "cell_type": "code",
   "execution_count": 1,
   "metadata": {},
   "outputs": [],
   "source": [
    "import pandas as pd\n",
    "passengers = pd.read_csv('passengers.csv')"
   ]
  },
  {
   "cell_type": "code",
   "execution_count": 3,
   "metadata": {},
   "outputs": [
    {
     "data": {
      "text/html": [
       "<div>\n",
       "<style scoped>\n",
       "    .dataframe tbody tr th:only-of-type {\n",
       "        vertical-align: middle;\n",
       "    }\n",
       "\n",
       "    .dataframe tbody tr th {\n",
       "        vertical-align: top;\n",
       "    }\n",
       "\n",
       "    .dataframe thead th {\n",
       "        text-align: right;\n",
       "    }\n",
       "</style>\n",
       "<table border=\"1\" class=\"dataframe\">\n",
       "  <thead>\n",
       "    <tr style=\"text-align: right;\">\n",
       "      <th></th>\n",
       "      <th>Unnamed: 0</th>\n",
       "      <th>YEAR</th>\n",
       "      <th>ORIGIN</th>\n",
       "      <th>DEST</th>\n",
       "      <th>UNIQUE_CARRIER_NAME</th>\n",
       "      <th>PASSENGERS</th>\n",
       "    </tr>\n",
       "  </thead>\n",
       "  <tbody>\n",
       "    <tr>\n",
       "      <th>0</th>\n",
       "      <td>0</td>\n",
       "      <td>1990</td>\n",
       "      <td>ABE</td>\n",
       "      <td>ACY</td>\n",
       "      <td>{'US Airways Inc.'}</td>\n",
       "      <td>73.0</td>\n",
       "    </tr>\n",
       "    <tr>\n",
       "      <th>1</th>\n",
       "      <td>1</td>\n",
       "      <td>1990</td>\n",
       "      <td>ABE</td>\n",
       "      <td>ATL</td>\n",
       "      <td>{'Eastern Air Lines Inc.'}</td>\n",
       "      <td>73172.0</td>\n",
       "    </tr>\n",
       "    <tr>\n",
       "      <th>2</th>\n",
       "      <td>2</td>\n",
       "      <td>1990</td>\n",
       "      <td>ABE</td>\n",
       "      <td>AVL</td>\n",
       "      <td>{'Westair Airlines Inc.'}</td>\n",
       "      <td>0.0</td>\n",
       "    </tr>\n",
       "    <tr>\n",
       "      <th>3</th>\n",
       "      <td>3</td>\n",
       "      <td>1990</td>\n",
       "      <td>ABE</td>\n",
       "      <td>AVP</td>\n",
       "      <td>{'Westair Airlines Inc.', 'US Airways Inc.', '...</td>\n",
       "      <td>8397.0</td>\n",
       "    </tr>\n",
       "    <tr>\n",
       "      <th>4</th>\n",
       "      <td>4</td>\n",
       "      <td>1990</td>\n",
       "      <td>ABE</td>\n",
       "      <td>BHM</td>\n",
       "      <td>{'Eastern Air Lines Inc.'}</td>\n",
       "      <td>59.0</td>\n",
       "    </tr>\n",
       "  </tbody>\n",
       "</table>\n",
       "</div>"
      ],
      "text/plain": [
       "   Unnamed: 0  YEAR ORIGIN DEST  \\\n",
       "0           0  1990    ABE  ACY   \n",
       "1           1  1990    ABE  ATL   \n",
       "2           2  1990    ABE  AVL   \n",
       "3           3  1990    ABE  AVP   \n",
       "4           4  1990    ABE  BHM   \n",
       "\n",
       "                                 UNIQUE_CARRIER_NAME  PASSENGERS  \n",
       "0                                {'US Airways Inc.'}        73.0  \n",
       "1                         {'Eastern Air Lines Inc.'}     73172.0  \n",
       "2                          {'Westair Airlines Inc.'}         0.0  \n",
       "3  {'Westair Airlines Inc.', 'US Airways Inc.', '...      8397.0  \n",
       "4                         {'Eastern Air Lines Inc.'}        59.0  "
      ]
     },
     "execution_count": 3,
     "metadata": {},
     "output_type": "execute_result"
    }
   ],
   "source": [
    "passengers.head()"
   ]
  },
  {
   "cell_type": "code",
   "execution_count": 6,
   "metadata": {},
   "outputs": [],
   "source": [
    "import networkx as nx"
   ]
  },
  {
   "cell_type": "code",
   "execution_count": 14,
   "metadata": {},
   "outputs": [],
   "source": [
    "G = nx.from_edgelist(\n",
    "    passengers[ ['ORIGIN', 'DEST'] ].values, nx.MultiGraph\n",
    ")"
   ]
  },
  {
   "cell_type": "code",
   "execution_count": 17,
   "metadata": {},
   "outputs": [
    {
     "data": {
      "text/plain": [
       "2177"
      ]
     },
     "execution_count": 17,
     "metadata": {},
     "output_type": "execute_result"
    }
   ],
   "source": [
    "len(G)"
   ]
  },
  {
   "cell_type": "code",
   "execution_count": 18,
   "metadata": {},
   "outputs": [],
   "source": [
    "PG = nx.from_pandas_edgelist(\n",
    "    passengers, \n",
    "    source='ORIGIN', \n",
    "    target='DEST', \n",
    "    edge_attr=['YEAR', 'PASSENGERS', 'UNIQUE_CARRIER_NAME'], \n",
    "    create_using=nx.MultiDiGraph()\n",
    ")"
   ]
  },
  {
   "cell_type": "code",
   "execution_count": 22,
   "metadata": {},
   "outputs": [
    {
     "data": {
      "text/plain": [
       "True"
      ]
     },
     "execution_count": 22,
     "metadata": {},
     "output_type": "execute_result"
    }
   ],
   "source": [
    "'JFK' in PG"
   ]
  },
  {
   "cell_type": "code",
   "execution_count": 24,
   "metadata": {},
   "outputs": [
    {
     "data": {
      "text/plain": [
       "{'YEAR': 1990,\n",
       " 'PASSENGERS': 133191.0,\n",
       " 'UNIQUE_CARRIER_NAME': \"{nan, 'United Air Lines Inc.', 'Pan American World Airways (1)', 'World Airways Inc.', 'Trans World Airways LLC', 'American Airlines Inc.', 'Alia-(The) Royal Jordanian', 'Aer Lingus Plc', 'Air Charter (Safa)', 'Compagnia Aerea Italiana', 'Evergreen International Inc.', 'Compagnie Natl Air France', 'El Al Israel Airlines Ltd.'}\"}"
      ]
     },
     "execution_count": 24,
     "metadata": {},
     "output_type": "execute_result"
    }
   ],
   "source": [
    "PG['ORD']['JFK'][0]"
   ]
  },
  {
   "cell_type": "code",
   "execution_count": 33,
   "metadata": {},
   "outputs": [
    {
     "data": {
      "text/plain": [
       "2015"
      ]
     },
     "execution_count": 33,
     "metadata": {},
     "output_type": "execute_result"
    }
   ],
   "source": [
    "max([ edge['YEAR'] for edge_id, edge in PG['ORD']['JFK'].items() ])"
   ]
  },
  {
   "cell_type": "code",
   "execution_count": 30,
   "metadata": {},
   "outputs": [],
   "source": [
    "from statistics import mean"
   ]
  },
  {
   "cell_type": "code",
   "execution_count": 31,
   "metadata": {},
   "outputs": [
    {
     "data": {
      "text/plain": [
       "139456.26923076922"
      ]
     },
     "execution_count": 31,
     "metadata": {},
     "output_type": "execute_result"
    }
   ],
   "source": [
    "mean([ edge['PASSENGERS'] for edge_id, edge in PG['ORD']['JFK'].items() ])"
   ]
  },
  {
   "cell_type": "code",
   "execution_count": 46,
   "metadata": {},
   "outputs": [],
   "source": [
    "chicago2ny = {e['YEAR']: e['PASSENGERS'] for e in PG['ORD']['JFK'].values() }"
   ]
  },
  {
   "cell_type": "code",
   "execution_count": 41,
   "metadata": {},
   "outputs": [],
   "source": [
    "import matplotlib.pyplot as plt"
   ]
  },
  {
   "cell_type": "code",
   "execution_count": 43,
   "metadata": {},
   "outputs": [
    {
     "data": {
      "image/png": "[encoded data removed]",
      "text/plain": [
       "<Figure size 432x288 with 1 Axes>"
      ]
     },
     "metadata": {
      "needs_background": "light"
     },
     "output_type": "display_data"
    }
   ],
   "source": [
    "plt.plot(chicago2ny.keys(), chicago2ny.values());"
   ]
  },
  {
   "cell_type": "code",
   "execution_count": 45,
   "metadata": {},
   "outputs": [],
   "source": [
    "ny2c = {e['YEAR']: e['PASSENGERS'] for e in PG['JFK']['ORD'].values() }"
   ]
  },
  {
   "cell_type": "code",
   "execution_count": 47,
   "metadata": {},
   "outputs": [
    {
     "data": {
      "image/png": "[encoded data removed]",
      "text/plain": [
       "<Figure size 432x288 with 1 Axes>"
      ]
     },
     "metadata": {
      "needs_background": "light"
     },
     "output_type": "display_data"
    }
   ],
   "source": [
    "plt.plot(ny2c.keys(), ny2c.values());"
   ]
  },
  {
   "cell_type": "markdown",
   "metadata": {},
   "source": [
    "## Exercise"
   ]
  },
  {
   "cell_type": "code",
   "execution_count": 50,
   "metadata": {},
   "outputs": [
    {
     "data": {
      "text/plain": [
       "['ABE', 'ACY', 'ATL', 'AVL', 'AVP']"
      ]
     },
     "execution_count": 50,
     "metadata": {},
     "output_type": "execute_result"
    }
   ],
   "source": [
    "list(PG.nodes())[:5]"
   ]
  },
  {
   "cell_type": "code",
   "execution_count": 52,
   "metadata": {},
   "outputs": [
    {
     "data": {
      "text/plain": [
       "True"
      ]
     },
     "execution_count": 52,
     "metadata": {},
     "output_type": "execute_result"
    }
   ],
   "source": [
    "'ABE' in PG"
   ]
  },
  {
   "cell_type": "code",
   "execution_count": 53,
   "metadata": {},
   "outputs": [
    {
     "data": {
      "text/plain": [
       "True"
      ]
     },
     "execution_count": 53,
     "metadata": {},
     "output_type": "execute_result"
    }
   ],
   "source": [
    "'JFK' in PG"
   ]
  },
  {
   "cell_type": "code",
   "execution_count": 61,
   "metadata": {},
   "outputs": [],
   "source": [
    "abe2jfk = {edge['YEAR']: edge['PASSENGERS'] for edge in PG['ABE']['JFK'].values() }"
   ]
  },
  {
   "cell_type": "code",
   "execution_count": 64,
   "metadata": {},
   "outputs": [
    {
     "data": {
      "image/png": "[encoded data removed]",
      "text/plain": [
       "<Figure size 432x288 with 1 Axes>"
      ]
     },
     "metadata": {
      "needs_background": "light"
     },
     "output_type": "display_data"
    }
   ],
   "source": [
    "plt.plot(abe2jfk.keys(), abe2jfk.values());"
   ]
  },
  {
   "cell_type": "markdown",
   "metadata": {},
   "source": [
    "* Choose two airpots in america which are in the graph\n",
    "    * verify they are present\n",
    "* Create a dictionary which maps their years to passengers\n",
    "    * visualize the passenger trends forwards and backwards\n",
    "\n",
    "\n",
    "EXTRA:\n",
    "* Review the GraphModelling notebook\n",
    "* In particular: what does degree centrality and betweeness centrality measure?\n",
    "* Investigate the most important nodes"
   ]
  },
  {
   "cell_type": "markdown",
   "metadata": {},
   "source": [
    "### Centrality Measures\n",
    "\n",
    "* Degree Centrality \n",
    "    * How many connected nodes (friends, neighbors) a node has as a fraction of total possible neighbors\n",
    "* Betweenness Centrality\n",
    "    * How many shortest paths go through this node\n",
    "    \n",
    "    "
   ]
  },
  {
   "cell_type": "code",
   "execution_count": 68,
   "metadata": {},
   "outputs": [],
   "source": [
    "ranked = sorted( \n",
    "    ((rank, code) for code, rank in nx.degree_centrality(PG).items()),\n",
    "    reverse=True\n",
    ")"
   ]
  },
  {
   "cell_type": "code",
   "execution_count": 70,
   "metadata": {},
   "outputs": [
    {
     "data": {
      "text/plain": [
       "[(4.446231617647059, 'ATL'),\n",
       " (4.3046875, 'ORD'),\n",
       " (4.261029411764706, 'MSP'),\n",
       " (4.016084558823529, 'DFW'),\n",
       " (3.8920036764705883, 'DEN'),\n",
       " (3.5510110294117645, 'DTW'),\n",
       " (3.4862132352941178, 'MEM'),\n",
       " (3.2904411764705883, 'IAH'),\n",
       " (3.1916360294117645, 'STL'),\n",
       " (3.1796875, 'LAX')]"
      ]
     },
     "execution_count": 70,
     "metadata": {},
     "output_type": "execute_result"
    }
   ],
   "source": [
    "ranked[:10]"
   ]
  },
  {
   "cell_type": "code",
   "execution_count": 73,
   "metadata": {},
   "outputs": [],
   "source": [
    "ranked = sorted( \n",
    "    ((rank, code) for code, rank in nx.betweenness_centrality(PG).items()),\n",
    "    reverse=True\n",
    ")"
   ]
  },
  {
   "cell_type": "code",
   "execution_count": 74,
   "metadata": {},
   "outputs": [
    {
     "data": {
      "text/plain": [
       "[(0.20278386833015108, 'ANC'),\n",
       " (0.07673048365724555, 'FAI'),\n",
       " (0.05612505733683818, 'HPN'),\n",
       " (0.05095656684607149, 'YIP'),\n",
       " (0.03381499721050059, 'JNU'),\n",
       " (0.03369365892681822, 'BUR'),\n",
       " (0.03088112974773567, 'TEB'),\n",
       " (0.028965851509976083, 'SEA'),\n",
       " (0.028339611766222864, 'BFI'),\n",
       " (0.026096384557146583, 'ADQ')]"
      ]
     },
     "execution_count": 74,
     "metadata": {},
     "output_type": "execute_result"
    }
   ],
   "source": [
    "ranked[:10]"
   ]
  },
  {
   "cell_type": "markdown",
   "metadata": {},
   "source": [
    "### Open-Ended Exploration Questions\n",
    "\n",
    "* What happens to the network as important nodes are removed?\n",
    "* What happens as connections between the least important nodes are added?\n",
    "* Where should you add a route to reduce the importance of hubs?\n",
    "    * def. hub = nodes with high betweenness, ie., bottlenecks"
   ]
  },
  {
   "cell_type": "code",
   "execution_count": null,
   "metadata": {},
   "outputs": [],
   "source": []
  }
 ],
 "metadata": {
  "kernelspec": {
   "display_name": "Python 3",
   "language": "python",
   "name": "python3"
  },
  "language_info": {
   "codemirror_mode": {
    "name": "ipython",
    "version": 3
   },
   "file_extension": ".py",
   "mimetype": "text/x-python",
   "name": "python",
   "nbconvert_exporter": "python",
   "pygments_lexer": "ipython3",
   "version": "3.7.7"
  }
 },
 "nbformat": 4,
 "nbformat_minor": 4
}
