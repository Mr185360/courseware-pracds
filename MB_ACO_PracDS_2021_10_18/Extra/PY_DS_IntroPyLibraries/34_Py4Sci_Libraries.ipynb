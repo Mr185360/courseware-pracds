{
 "cells": [
  {
   "cell_type": "markdown",
   "metadata": {},
   "source": [
    "# Introduction to Libraries in Python"
   ]
  },
  {
   "cell_type": "markdown",
   "metadata": {},
   "source": [
    "## What is a library?"
   ]
  },
  {
   "cell_type": "markdown",
   "metadata": {},
   "source": [
    "Below we write a python file.\n",
    "\n",
    "(NB. the only reason to do this is to include the file contents here, so we can see it!)."
   ]
  },
  {
   "cell_type": "code",
   "execution_count": 5,
   "metadata": {},
   "outputs": [],
   "source": [
    "print(\"\"\"\n",
    "\n",
    "name = \"Michael\"\n",
    "\n",
    "2 ** 3\n",
    "\n",
    "print(2 ** 3)\n",
    "\n",
    "\"\"\", file=open(\"prg.py\", \"w\"))"
   ]
  },
  {
   "cell_type": "markdown",
   "metadata": {},
   "source": [
    "If you say `import filename` (without `.py`), python will run the file:"
   ]
  },
  {
   "cell_type": "code",
   "execution_count": 3,
   "metadata": {},
   "outputs": [
    {
     "name": "stdout",
     "output_type": "stream",
     "text": [
      "8\n"
     ]
    }
   ],
   "source": [
    "import prg"
   ]
  },
  {
   "cell_type": "markdown",
   "metadata": {},
   "source": [
    "Anything defined inside the file is available as `prg.`. "
   ]
  },
  {
   "cell_type": "code",
   "execution_count": 4,
   "metadata": {
    "scrolled": true
   },
   "outputs": [
    {
     "data": {
      "text/plain": [
       "'Michael'"
      ]
     },
     "execution_count": 4,
     "metadata": {},
     "output_type": "execute_result"
    }
   ],
   "source": [
    "prg.name"
   ]
  },
  {
   "cell_type": "markdown",
   "metadata": {},
   "source": [
    "## What's the workflow for working with python modules and notebooks?"
   ]
  },
  {
   "cell_type": "markdown",
   "metadata": {},
   "source": [
    "A `.py` file is called a *module* and may only contain python code.\n",
    "\n",
    "You can `import` modules. \n",
    "\n",
    "As a data analyst (, scientist, etc.) you will often first prototype (write) a solution in a notebook, and then transfer the key repeated, **shareable** elements to a module. "
   ]
  },
  {
   "cell_type": "code",
   "execution_count": 4,
   "metadata": {},
   "outputs": [],
   "source": [
    "a, b, x = 1, 2, 3\n",
    "\n",
    "result = a * x + b"
   ]
  },
  {
   "cell_type": "code",
   "execution_count": 5,
   "metadata": {},
   "outputs": [
    {
     "data": {
      "text/plain": [
       "5"
      ]
     },
     "execution_count": 5,
     "metadata": {},
     "output_type": "execute_result"
    }
   ],
   "source": [
    "import shared\n",
    "\n",
    "shared.result"
   ]
  },
  {
   "cell_type": "markdown",
   "metadata": {},
   "source": [
    "## How do you define reusable functions?"
   ]
  },
  {
   "cell_type": "markdown",
   "metadata": {},
   "source": [
    "The `def` keyword defines a term `f` below, which is a function of one argument `x`. \n",
    "\n",
    "The function, when executed using `f()`, executes the block of indented code line-by-line. \n",
    "\n",
    "The line marked `return` is the value produced when the function is executed; ie., it is the *value* of that function. "
   ]
  },
  {
   "cell_type": "code",
   "execution_count": 6,
   "metadata": {},
   "outputs": [
    {
     "data": {
      "text/plain": [
       "5"
      ]
     },
     "execution_count": 6,
     "metadata": {},
     "output_type": "execute_result"
    }
   ],
   "source": [
    "def f(x):\n",
    "    a, b = 1, 2\n",
    "    \n",
    "    return a * x + b\n",
    "\n",
    "f(3)"
   ]
  },
  {
   "cell_type": "code",
   "execution_count": 7,
   "metadata": {},
   "outputs": [
    {
     "data": {
      "text/plain": [
       "9"
      ]
     },
     "execution_count": 7,
     "metadata": {},
     "output_type": "execute_result"
    }
   ],
   "source": [
    "f(7)"
   ]
  },
  {
   "cell_type": "markdown",
   "metadata": {},
   "source": [
    "For any purely mathematical function, there will only be one-line, `return ...`."
   ]
  },
  {
   "cell_type": "markdown",
   "metadata": {},
   "source": [
    "$g(x)      =      x^2$\n",
    "\n",
    "`def g(x) return x ** 2`"
   ]
  },
  {
   "cell_type": "code",
   "execution_count": 8,
   "metadata": {},
   "outputs": [
    {
     "data": {
      "text/plain": [
       "100"
      ]
     },
     "execution_count": 8,
     "metadata": {},
     "output_type": "execute_result"
    }
   ],
   "source": [
    "def g(x):\n",
    "    return x ** 2\n",
    "\n",
    "g(10)"
   ]
  },
  {
   "cell_type": "code",
   "execution_count": 9,
   "metadata": {},
   "outputs": [
    {
     "name": "stdout",
     "output_type": "stream",
     "text": [
      "10\n"
     ]
    }
   ],
   "source": [
    "def g(x):\n",
    "    print(x)      # <- sending x to the screen  (THIS ISNT SAVED!)\n",
    "    \n",
    "    return x ** 2 # <- the result               (save to memory)\n",
    "\n",
    "result = g(10) # the return value is saved into the \"result\" variable"
   ]
  },
  {
   "cell_type": "code",
   "execution_count": 10,
   "metadata": {},
   "outputs": [
    {
     "name": "stdout",
     "output_type": "stream",
     "text": [
      "100\n"
     ]
    }
   ],
   "source": [
    "print(result) "
   ]
  },
  {
   "cell_type": "markdown",
   "metadata": {},
   "source": [
    "## How do I share  a function?"
   ]
  },
  {
   "cell_type": "markdown",
   "metadata": {},
   "source": [
    "* define the function\n",
    "* put it in a `.py` file\n",
    "* `import` the file in the notebooks you need"
   ]
  },
  {
   "cell_type": "code",
   "execution_count": 11,
   "metadata": {},
   "outputs": [
    {
     "data": {
      "text/plain": [
       "'C'"
      ]
     },
     "execution_count": 11,
     "metadata": {},
     "output_type": "execute_result"
    }
   ],
   "source": [
    "def classify_voter(x_age_yr, x_education_yr):\n",
    "    if x_age_yr >= 45:\n",
    "        return \"C\"\n",
    "    elif x_education_yr <= 1:\n",
    "        return \"C\"\n",
    "    else:\n",
    "        return \"L\"\n",
    "    \n",
    "classify_voter(44, 0)"
   ]
  },
  {
   "cell_type": "markdown",
   "metadata": {},
   "source": [
    "Import (ie., run) the `shared.py` and use `s` as the prefix to refer to all of its names (ie., functions, variables, etc.)."
   ]
  },
  {
   "cell_type": "code",
   "execution_count": 12,
   "metadata": {},
   "outputs": [],
   "source": [
    "import shared as s"
   ]
  },
  {
   "cell_type": "code",
   "execution_count": 13,
   "metadata": {},
   "outputs": [
    {
     "data": {
      "text/plain": [
       "'C'"
      ]
     },
     "execution_count": 13,
     "metadata": {},
     "output_type": "execute_result"
    }
   ],
   "source": [
    "s.classify_voter(44, 0)"
   ]
  },
  {
   "cell_type": "code",
   "execution_count": 14,
   "metadata": {},
   "outputs": [
    {
     "data": {
      "text/plain": [
       "5"
      ]
     },
     "execution_count": 14,
     "metadata": {},
     "output_type": "execute_result"
    }
   ],
   "source": [
    "s.result"
   ]
  },
  {
   "cell_type": "markdown",
   "metadata": {},
   "source": [
    "## Exercise (25min)"
   ]
  },
  {
   "cell_type": "markdown",
   "metadata": {},
   "source": [
    "You are hired by a cinema to make film recommendations to customers as they speak to your front desk staff.\n",
    "\n",
    "Your staff may observe: their age, budget, like_action, like_comedy. \n",
    "\n",
    "Note, $x : (age, budget, action, comedy) = (18, 10, +1, -1)$\n",
    "\n",
    "### Q1. Define a function\n",
    "\n",
    "* You design a classification function which recommends either \"Transformers\" or \"AnnieHall\". \n",
    "    * The function should be called `recommend()`. \n",
    "    * HINT: it will have four arguments (`age, budget...`). \n",
    "\n",
    "You use the following rules:\n",
    "\n",
    "* if the customer is a child, always recommend \"Transfomers\"\n",
    "    * ```\n",
    "        if age < 18: \n",
    "            return \"Transfomers\"\n",
    "    ```\n",
    "* if the budget is under 10, always recommend \"AnnieHall\"\n",
    "* otherwise if they like action recommend \"Transformers\"\n",
    "* otherwise recommend \"AnnieHall\"\n",
    "\n",
    "* Run your function to show that it works"
   ]
  },
  {
   "cell_type": "markdown",
   "metadata": {},
   "source": [
    "### Q2. Define a module\n",
    "\n",
    "* In the same directory as your present notebook, create `model.py`\n",
    "    * NOTE: you cannot create empty files with **jupyter notebook**\n",
    "    * (you may need to create this with a text editor...)\n",
    "    * cut & paste your function into `model.py`\n",
    "* Run `import model`\n",
    "* Run `model.recommend(18, 10, +1, -1)`\n",
    "    * report the film recommendation\n",
    "    \n",
    "* **NOTE** if you're having trouble with `import` (eg., if you need to import twice), you must `Kernal > Restart`"
   ]
  }
 ],
 "metadata": {
  "kernelspec": {
   "display_name": "Python 3",
   "language": "python",
   "name": "python3"
  },
  "language_info": {
   "codemirror_mode": {
    "name": "ipython",
    "version": 3
   },
   "file_extension": ".py",
   "mimetype": "text/x-python",
   "name": "python",
   "nbconvert_exporter": "python",
   "pygments_lexer": "ipython3",
   "version": "3.8.3"
  }
 },
 "nbformat": 4,
 "nbformat_minor": 4
}
