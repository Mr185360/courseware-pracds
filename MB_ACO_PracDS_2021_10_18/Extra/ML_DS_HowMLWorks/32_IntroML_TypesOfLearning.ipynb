{
 "cells": [
  {
   "cell_type": "markdown",
   "metadata": {},
   "source": [
    "# Introduction to Machine Learning"
   ]
  },
  {
   "cell_type": "markdown",
   "metadata": {},
   "source": [
    "## What is Machine Learning?"
   ]
  },
  {
   "cell_type": "markdown",
   "metadata": {},
   "source": [
    "Computational Statistical Inference\n",
    "\n",
    "With a dataset ($D : (x, y)$), can we obtain a rule ($R : y = \\hat{f}(x))$, by which can infer conclusion $ C : \\text{Yes} \\,\\, \\text{if} y > 0 $? "
   ]
  },
  {
   "cell_type": "markdown",
   "metadata": {},
   "source": [
    "Consider a film recommendation dataset which has $(Age, Like?)$ ...\n",
    "\n",
    "Can we use this to determine a cutoff for $Age$ at which we should recommend the film?"
   ]
  },
  {
   "cell_type": "code",
   "execution_count": 5,
   "metadata": {},
   "outputs": [
    {
     "name": "stdout",
     "output_type": "stream",
     "text": [
      "Age? 25\n",
      "Recommend!\n"
     ]
    }
   ],
   "source": [
    "d = [(10, +1), (30, -1), (25, +1)]\n",
    "\n",
    "age = float(input(\"Age? \"))\n",
    "\n",
    "if age >= 25:\n",
    "    print(\"Recommend!\")\n",
    "else:\n",
    "    print(\"Consider another film!\")"
   ]
  },
  {
   "cell_type": "markdown",
   "metadata": {},
   "source": [
    "## Aside: What data do you need for ML?"
   ]
  },
  {
   "cell_type": "markdown",
   "metadata": {},
   "source": [
    "Historical observations: $(x, y)$\n",
    "\n",
    "* $x$ -- known *features* (, fields, columns, variables)\n",
    "* $y$ -- unknown prediction *target*\n",
    "\n",
    "$y$ is unknown at *prediction time*, but we require it in the historical data. "
   ]
  },
  {
   "cell_type": "markdown",
   "metadata": {},
   "source": [
    "* $Default = \\hat{f}(Balance, ...)$\n",
    "* $y = f(x..)$\n",
    "\n",
    "* $...Balance, Default$"
   ]
  },
  {
   "cell_type": "markdown",
   "metadata": {},
   "source": [
    "Everything in your historical data *must* be known. "
   ]
  },
  {
   "cell_type": "markdown",
   "metadata": {},
   "source": [
    "## What types of Machine Learning is there?"
   ]
  },
  {
   "cell_type": "markdown",
   "metadata": {},
   "source": [
    "\n",
    "\n",
    "* Supervised Learning $(x, y)$\n",
    "    * Regression -- \"trending\"\n",
    "        * Rating = Age <- information about y from x\n",
    "        * $y \\in \\mathbb{R}$ ie., float \n",
    "        * eg., Price, Profit, Age, Rating...\n",
    "    * Classification -- \"labelling\"\n",
    "        * eg., $y \\in \\{+1, -1\\} $ ie., int\n",
    "        * Yes|No, London|Manchester|Leeds, Fraud|NotFraud\n",
    "* Unsupervised Learning ($x, ...$)\n",
    "    * eg., mean(Age) <- information about x\n",
    "    * Clustering\n",
    "        * Do observations reflect groups?\n",
    "            * eg., do we see:\n",
    "                * Young & Leeds, Old & London ?\n",
    "    * Compression\n",
    "        * $x_{big} \\rightarrow x_{small}$ \n",
    "    \n",
    "    \n",
    "Supervised Learning is whenever we have a historical dataset $(x, y)$ which contains a $y$, ie., the thing we are trying to predict. \n",
    "\n",
    "Supervised Learning is prediction using historical data. \n",
    "\n",
    "Unsupervised Learning is any other sort of statistical inference. Typically we are just analysing patterns in known (certain) data, and not looking to predict anything.\n",
    "\n"
   ]
  },
  {
   "cell_type": "markdown",
   "metadata": {},
   "source": [
    "## What is Supervised Learning?"
   ]
  },
  {
   "cell_type": "markdown",
   "metadata": {},
   "source": [
    "$\\mathcal{D} = (x_0, x_1, \\dots y)$"
   ]
  },
  {
   "cell_type": "markdown",
   "metadata": {},
   "source": [
    "Find: $\\hat{y} = \\hat{f}(x_0, x_1, \\dots)$"
   ]
  },
  {
   "cell_type": "markdown",
   "metadata": {},
   "source": [
    "Given:  $l(a, b) = \\hat{f}(x; a, b) - y$"
   ]
  },
  {
   "cell_type": "markdown",
   "metadata": {},
   "source": [
    "## How does a machine find $\\hat{f}$ ?"
   ]
  },
  {
   "cell_type": "markdown",
   "metadata": {},
   "source": [
    "$f(x) = ax + b$\n",
    "\n",
    "ie., how does it find $(a, b)$\n",
    "\n",
    "One method: try lots of $(a, b)$ at random... and consider the dataset $D$, and look at the predictions made using $(a, b)$ and keep the closest. "
   ]
  },
  {
   "cell_type": "markdown",
   "metadata": {},
   "source": [
    "## How does Supervised Learning work?"
   ]
  },
  {
   "cell_type": "code",
   "execution_count": 32,
   "metadata": {},
   "outputs": [],
   "source": [
    "dataset = [\n",
    "    (1, 10), \n",
    "    (3, 20)\n",
    "]"
   ]
  },
  {
   "cell_type": "markdown",
   "metadata": {},
   "source": [
    "Suppose we try some random (a, b)"
   ]
  },
  {
   "cell_type": "code",
   "execution_count": 33,
   "metadata": {},
   "outputs": [],
   "source": [
    "a = 5\n",
    "b = 1"
   ]
  },
  {
   "cell_type": "code",
   "execution_count": 34,
   "metadata": {},
   "outputs": [
    {
     "name": "stdout",
     "output_type": "stream",
     "text": [
      "Prediction: 6\n",
      "Actual: 10\n",
      "Loss: 4\n",
      "\n",
      "Prediction: 16\n",
      "Actual: 20\n",
      "Loss: 4\n",
      "\n"
     ]
    }
   ],
   "source": [
    "for (x, y) in dataset:\n",
    "    print(\"Prediction:\", a * x + b )\n",
    "    print(\"Actual:\",  y )\n",
    "    print(\"Loss:\", y - (a * x + b))\n",
    "    print()"
   ]
  },
  {
   "cell_type": "code",
   "execution_count": 35,
   "metadata": {},
   "outputs": [
    {
     "data": {
      "text/plain": [
       "0"
      ]
     },
     "execution_count": 35,
     "metadata": {},
     "output_type": "execute_result"
    }
   ],
   "source": [
    "a = 6\n",
    "b = 3\n",
    "\n",
    "total_loss = 0\n",
    "for (x, y) in dataset:\n",
    "    # add to the total loss\n",
    "    total_loss += y - (a * x + b)\n",
    "                      # actual - prediction\n",
    "total_loss"
   ]
  },
  {
   "cell_type": "code",
   "execution_count": 38,
   "metadata": {},
   "outputs": [
    {
     "data": {
      "text/plain": [
       "[(1, 10), (3, 20)]"
      ]
     },
     "execution_count": 38,
     "metadata": {},
     "output_type": "execute_result"
    }
   ],
   "source": [
    "dataset"
   ]
  },
  {
   "cell_type": "code",
   "execution_count": 37,
   "metadata": {
    "scrolled": true
   },
   "outputs": [
    {
     "name": "stdout",
     "output_type": "stream",
     "text": [
      "Prediction: 9\n",
      "Actual: 10\n",
      "Loss: 1\n",
      "\n",
      "Prediction: 21\n",
      "Actual: 20\n",
      "Loss: -1\n",
      "\n"
     ]
    }
   ],
   "source": [
    "for (x, y) in dataset:\n",
    "    print(\"Prediction:\", a * x + b )\n",
    "    print(\"Actual:\",  y )\n",
    "    print(\"Loss:\", y - (a * x + b))\n",
    "    print()"
   ]
  },
  {
   "cell_type": "markdown",
   "metadata": {},
   "source": [
    "## Aside: Improving our loss"
   ]
  },
  {
   "cell_type": "markdown",
   "metadata": {},
   "source": [
    "Above, notice that we are told we have a $0$ error, depsite mispredicting **two** points (all of our points)!"
   ]
  },
  {
   "cell_type": "code",
   "execution_count": 44,
   "metadata": {},
   "outputs": [
    {
     "data": {
      "text/plain": [
       "2"
      ]
     },
     "execution_count": 44,
     "metadata": {},
     "output_type": "execute_result"
    }
   ],
   "source": [
    "a = 6\n",
    "b = 3\n",
    "\n",
    "total_loss = 0\n",
    "for (x, y) in dataset:\n",
    "    total_loss += (y - (a * x + b)) ** 2\n",
    "                    \n",
    "total_loss"
   ]
  },
  {
   "cell_type": "markdown",
   "metadata": {},
   "source": [
    "## How does a machine use a loss?"
   ]
  },
  {
   "cell_type": "markdown",
   "metadata": {},
   "source": [
    "We decide the $loss$, then the machine uses the dataset to minimize it. "
   ]
  },
  {
   "cell_type": "markdown",
   "metadata": {},
   "source": [
    "## Exercise"
   ]
  },
  {
   "cell_type": "markdown",
   "metadata": {},
   "source": [
    "Consider the following dataset:"
   ]
  },
  {
   "cell_type": "code",
   "execution_count": 45,
   "metadata": {},
   "outputs": [],
   "source": [
    "loans = [\n",
    "    (1000, +1), # loan_amount, settled\n",
    "    (2000, -1),\n",
    "    (500,  +1)\n",
    "]"
   ]
  },
  {
   "cell_type": "markdown",
   "metadata": {},
   "source": [
    "### Q1. Predictions\n",
    "\n",
    "Using the test `if amount > a` print, `1` if it passes otherwise `-1`\n",
    "\n",
    "HINT: choose `a = 500`\n",
    "\n",
    "### Q2. Compute Loss\n",
    "\n",
    "How bad is this rule?\n",
    "\n",
    "Loop over all loans, use your test above, to compute a prediction for loan. \n",
    "\n",
    "Compare this prediction with the historical answer. \n",
    "\n",
    "Print out the prediction and the loss for every point.\n",
    "\n",
    "\n",
    "### Q3. Compute the total loss\n",
    "\n",
    "Add up the loss for all points. "
   ]
  },
  {
   "cell_type": "markdown",
   "metadata": {},
   "source": [
    "HINT: in the exercise above, our prediction is computed using an `if`, not using a formula `a*x+b`. "
   ]
  },
  {
   "cell_type": "code",
   "execution_count": null,
   "metadata": {},
   "outputs": [],
   "source": []
  }
 ],
 "metadata": {
  "kernelspec": {
   "display_name": "Python 3",
   "language": "python",
   "name": "python3"
  },
  "language_info": {
   "codemirror_mode": {
    "name": "ipython",
    "version": 3
   },
   "file_extension": ".py",
   "mimetype": "text/x-python",
   "name": "python",
   "nbconvert_exporter": "python",
   "pygments_lexer": "ipython3",
   "version": "3.8.3"
  }
 },
 "nbformat": 4,
 "nbformat_minor": 4
}
