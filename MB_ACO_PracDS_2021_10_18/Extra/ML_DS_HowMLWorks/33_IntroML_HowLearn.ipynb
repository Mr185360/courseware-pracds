{
 "cells": [
  {
   "cell_type": "markdown",
   "metadata": {},
   "source": [
    "# Introduction to Machine\n",
    "## Illustrating Machine Learning in Python"
   ]
  },
  {
   "cell_type": "markdown",
   "metadata": {},
   "source": [
    "## Regression"
   ]
  },
  {
   "cell_type": "code",
   "execution_count": 2,
   "metadata": {},
   "outputs": [],
   "source": [
    "D = [\n",
    "    (1, 11.0), # x, y\n",
    "    (2, 12.3), # x, y\n",
    "    (3, 13.1), # x, y\n",
    "]"
   ]
  },
  {
   "cell_type": "code",
   "execution_count": 8,
   "metadata": {
    "scrolled": true
   },
   "outputs": [
    {
     "name": "stdout",
     "output_type": "stream",
     "text": [
      "1 11.0\n",
      "2 12.3\n",
      "3 13.1\n"
     ]
    }
   ],
   "source": [
    "for (x, y) in D:\n",
    "    print(x, y)"
   ]
  },
  {
   "cell_type": "code",
   "execution_count": 5,
   "metadata": {},
   "outputs": [
    {
     "name": "stdout",
     "output_type": "stream",
     "text": [
      "11.1\n",
      "12.2\n",
      "13.3\n"
     ]
    }
   ],
   "source": [
    "a = 1.1\n",
    "b = 10\n",
    "\n",
    "\n",
    "for (x, y) in D:\n",
    "    # the model\n",
    "    yhat = a * x + b\n",
    "    print(yhat)"
   ]
  },
  {
   "cell_type": "code",
   "execution_count": 10,
   "metadata": {},
   "outputs": [
    {
     "data": {
      "text/plain": [
       "3"
      ]
     },
     "execution_count": 10,
     "metadata": {},
     "output_type": "execute_result"
    }
   ],
   "source": [
    "error = 0\n",
    "error += 1 # add 1 to error\n",
    "error += 2 # add 2 to error\n",
    "error"
   ]
  },
  {
   "cell_type": "code",
   "execution_count": 33,
   "metadata": {},
   "outputs": [
    {
     "name": "stdout",
     "output_type": "stream",
     "text": [
      "0.08340000000000042\n"
     ]
    }
   ],
   "source": [
    "a = 1.01\n",
    "b = 10\n",
    "\n",
    "total_loss = 0\n",
    "for (x, y) in D:\n",
    "    \n",
    "    yhat = a * x + b         # prediction for point x\n",
    "    loss = (yhat - y) ** 2   # error for point x\n",
    "    \n",
    "    total_loss += loss       # running total \n",
    "\n",
    "print(total_loss)"
   ]
  },
  {
   "cell_type": "markdown",
   "metadata": {},
   "source": [
    "## Algorithm: Gradient Descent\n",
    "\n",
    "* Empirical Loss Minimization\n",
    "    * empirial = using a dataset\n",
    "    * loss = error signal\n",
    "    * minimiziation = finding a relationship by tuning \n",
    "* Algorithm\n",
    "    * eg., at Random -- try lots of $a$ \n",
    "    * eg., by Gradient Descent -- looking at up/down direction of loss\n",
    "    \n",
    "* We start at random a_old = Random()\n",
    "* And we move `a` to `a_new` *a little* and see the effect on the total loss:\n",
    "\n",
    "\n",
    "```\n",
    "a_old -> a_new\n",
    "loss_old -> loss_new \n",
    "\n",
    "10 -> 9 -> 8 -> 7 \n",
    "100 -> 10 -> 2 -> 10\n",
    "\n",
    "down -> down -> down -> down ->\n",
    "down -> down -> down -> up -> \n",
    ".......................STOP...\n",
    "```\n",
    "\n",
    "At some point as we're moving $a$, the total loss changes direction, and increases. \n",
    "\n",
    "\n",
    "**We never want the loss to *increase*!**\n",
    "\n",
    "So we reverse direction in our $a$ changes, when the loss goes up. \n",
    "```\n",
    "\n",
    "8.1 -> 8.2 -> 8.3\n",
    "2 -> 1.5 -> 1.6\n",
    "\n",
    "........................STOP...\n",
    "up -> up -> up \n",
    "down -> down -> up \n",
    "\n",
    "```\n",
    "STOP WHEN ERROR IS \"SMALL\" eg., < 2\n",
    "a_best = 8.2"
   ]
  },
  {
   "cell_type": "code",
   "execution_count": 30,
   "metadata": {},
   "outputs": [
    {
     "data": {
      "image/png": "[encoded data removed]",
      "text/plain": [
       "<Figure size 432x288 with 1 Axes>"
      ]
     },
     "metadata": {
      "needs_background": "light"
     },
     "output_type": "display_data"
    }
   ],
   "source": [
    "import seaborn as sns\n",
    "\n",
    "sns.lineplot([10, 9, 8, 8.1, 8.2, 8.3, 7], \n",
    "             [100, 10, 2, 2, 1.5, 1.6, 10]);"
   ]
  },
  {
   "cell_type": "markdown",
   "metadata": {},
   "source": [
    "## Classification"
   ]
  },
  {
   "cell_type": "code",
   "execution_count": 38,
   "metadata": {},
   "outputs": [
    {
     "name": "stdout",
     "output_type": "stream",
     "text": [
      "-1 1 -2\n",
      "-1 -1 0\n",
      "-1 1 -2\n"
     ]
    }
   ],
   "source": [
    "D = [\n",
    "    (10, +1), # x, y\n",
    "    (30, -1), # x, y\n",
    "    (20, +1), # x, y\n",
    "]\n",
    "\n",
    "a = 30\n",
    "for (x, y) in D:\n",
    "    if x > a:\n",
    "        yhat = +1\n",
    "    else:\n",
    "        yhat = -1\n",
    "    \n",
    "    loss = yhat - y\n",
    "    \n",
    "    print(yhat, y, loss)"
   ]
  },
  {
   "cell_type": "code",
   "execution_count": 67,
   "metadata": {},
   "outputs": [
    {
     "name": "stdout",
     "output_type": "stream",
     "text": [
      "4\n"
     ]
    }
   ],
   "source": [
    "\n",
    "a = 0\n",
    "b = -31\n",
    "\n",
    "total_loss = 0\n",
    "for (x, y) in D:\n",
    "    if (x + b) > a:\n",
    "        yhat = -1\n",
    "    else:\n",
    "        yhat = +1\n",
    "    \n",
    "    total_loss += (yhat - y) ** 2\n",
    "\n",
    "print(total_loss)"
   ]
  }
 ],
 "metadata": {
  "kernelspec": {
   "display_name": "Python 3",
   "language": "python",
   "name": "python3"
  },
  "language_info": {
   "codemirror_mode": {
    "name": "ipython",
    "version": 3
   },
   "file_extension": ".py",
   "mimetype": "text/x-python",
   "name": "python",
   "nbconvert_exporter": "python",
   "pygments_lexer": "ipython3",
   "version": "3.8.3"
  }
 },
 "nbformat": 4,
 "nbformat_minor": 4
}
