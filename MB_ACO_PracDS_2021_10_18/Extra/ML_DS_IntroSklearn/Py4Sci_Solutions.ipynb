{
 "cells": [
  {
   "cell_type": "code",
   "execution_count": null,
   "metadata": {},
   "outputs": [],
   "source": []
  },
  {
   "cell_type": "code",
   "execution_count": 30,
   "metadata": {},
   "outputs": [],
   "source": [
    "import pandas as pd\n",
    "\n",
    "ti = pd.read_csv(\"datasets/titanic.csv\").dropna()"
   ]
  },
  {
   "cell_type": "code",
   "execution_count": 31,
   "metadata": {},
   "outputs": [],
   "source": [
    "y = ti['survived'].to_numpy()\n",
    "X = ti[['age', 'fare', 'pclass']].to_numpy()"
   ]
  },
  {
   "cell_type": "code",
   "execution_count": 32,
   "metadata": {},
   "outputs": [],
   "source": [
    "from sklearn.linear_model import LogisticRegression\n",
    "\n",
    "# fit: give historical (X, y) to algorithm \n",
    "model = LogisticRegression().fit(X, y) \n",
    "\n",
    "# model: formula which takes a new observation (x_new), and predicts y_new"
   ]
  },
  {
   "cell_type": "code",
   "execution_count": 33,
   "metadata": {},
   "outputs": [
    {
     "data": {
      "text/plain": [
       "array([1, 1, 0])"
      ]
     },
     "execution_count": 33,
     "metadata": {},
     "output_type": "execute_result"
    }
   ],
   "source": [
    "x_new = [\n",
    "    [18, 20, 2], # age=18, fare=20, pclass=2 ; 1 = SURVIVE\n",
    "    [1, 5, 1],   #  ... ; SURVIVE\n",
    "    [70, 35, 2]  #  ... ; DIE\n",
    "]\n",
    "\n",
    "yhat = model.predict(x_new) # model.predict == f\n",
    "\n",
    "yhat "
   ]
  },
  {
   "cell_type": "markdown",
   "metadata": {},
   "source": [
    "$f(x) = \\frac{1}{1-e^{ax + b}}$\n",
    "\n",
    "$y = f(5)$"
   ]
  },
  {
   "cell_type": "markdown",
   "metadata": {},
   "source": [
    "## Aside: Visually inspecting the model (predictions)"
   ]
  },
  {
   "cell_type": "markdown",
   "metadata": {},
   "source": [
    "Let's run this again with a single column, to simplify so we can plot in 2D easily..."
   ]
  },
  {
   "cell_type": "code",
   "execution_count": 36,
   "metadata": {},
   "outputs": [
    {
     "data": {
      "image/png": "[encoded data removed]",
      "text/plain": [
       "<Figure size 432x288 with 1 Axes>"
      ]
     },
     "metadata": {
      "needs_background": "light"
     },
     "output_type": "display_data"
    }
   ],
   "source": [
    "import seaborn as sns\n",
    "\n",
    "\n",
    "y = ti['survived'].to_numpy()\n",
    "X = ti[['age']].to_numpy() \n",
    "\n",
    "# NB. we select the list ['age'] in order to get a matrix back\n",
    "\n",
    "model = LogisticRegression().fit(X, y) \n",
    "\n",
    "sns.scatterplot(X[:, 0],  y);\n",
    "sns.lineplot(X[:, 0], model.predict(X), color=\"red\");"
   ]
  },
  {
   "cell_type": "markdown",
   "metadata": {},
   "source": [
    "### EXTRA: compute a score"
   ]
  },
  {
   "cell_type": "code",
   "execution_count": null,
   "metadata": {},
   "outputs": [],
   "source": []
  }
 ],
 "metadata": {
  "kernelspec": {
   "display_name": "Python 3",
   "language": "python",
   "name": "python3"
  },
  "language_info": {
   "codemirror_mode": {
    "name": "ipython",
    "version": 3
   },
   "file_extension": ".py",
   "mimetype": "text/x-python",
   "name": "python",
   "nbconvert_exporter": "python",
   "pygments_lexer": "ipython3",
   "version": "3.8.3"
  }
 },
 "nbformat": 4,
 "nbformat_minor": 4
}
