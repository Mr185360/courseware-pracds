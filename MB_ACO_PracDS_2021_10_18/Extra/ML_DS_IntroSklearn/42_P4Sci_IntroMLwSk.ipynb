{
 "cells": [
  {
   "cell_type": "markdown",
   "metadata": {},
   "source": [
    "# Introduction to Python Machine Learning \n",
    "### with Sci-Kit Learn"
   ]
  },
  {
   "cell_type": "markdown",
   "metadata": {},
   "source": [
    "## What simple library do I use for Machine Learning?"
   ]
  },
  {
   "cell_type": "markdown",
   "metadata": {},
   "source": [
    "The sci-kit learn library in python is well-suited for simple machine learning problems.\n",
    "\n",
    "If you have a complex problem (eg., working with images, audio, etc.); you may find other libraries perform better (eg., tensorflow). \n",
    "\n",
    "These libraries are industry-standard, perform reasonably well; free for commercial use. \n",
    "\n",
    "If they do not suit your problem, you require very expert assistance. "
   ]
  },
  {
   "cell_type": "markdown",
   "metadata": {},
   "source": [
    "## How do I  import sklearn?\n",
    "\n",
    "We do not import the sklearn package itself, we always select some more specific part..."
   ]
  },
  {
   "cell_type": "code",
   "execution_count": 2,
   "metadata": {},
   "outputs": [],
   "source": [
    "# from PACKAGE import SPECIFIC LIBRARY\n",
    "from sklearn import linear_model"
   ]
  },
  {
   "cell_type": "markdown",
   "metadata": {},
   "source": [
    "The library here is `linear_model`..."
   ]
  },
  {
   "cell_type": "code",
   "execution_count": 4,
   "metadata": {},
   "outputs": [
    {
     "data": {
      "text/plain": [
       "LinearRegression()"
      ]
     },
     "execution_count": 4,
     "metadata": {},
     "output_type": "execute_result"
    }
   ],
   "source": [
    "linear_model.LinearRegression()"
   ]
  },
  {
   "cell_type": "markdown",
   "metadata": {},
   "source": [
    "## What methodology do I follow ?\n",
    "\n",
    "ie., How do I solve a machine learning problem in python?\n",
    "\n",
    "* Pre-ML Phase\n",
    "    * Get Data (, Experiments, etc.)\n",
    "    * Data Preparation\n",
    "        * gather together, join...\n",
    "    * EDA (Data Understanding)\n",
    "\n",
    "* ML Phase\n",
    "    * Feature Selection\n",
    "        * Choose $x, y$\n",
    "    * (Mathematical, Statistical) Data Preparation\n",
    "        * eg., suppose we have (w, h)\n",
    "            * perhaps we compute bmi = w^2/h \n",
    "    * Modelling\n",
    "        * fit data to a model\n",
    "            * ie., find the best parameters \n",
    "        * Model Choice\n",
    "            * try lots of different models\n",
    "            * keep \"best\" -- depends on project goal\n",
    "    * (Statistical, Experimental) Evaluation\n",
    "        * try using your model for predictions\n",
    "        * how good is it?\n",
    "* Post-ML Phase\n",
    "    * Deployment <- put ML model into practice\n",
    "        * eg., develop software using model\n",
    "        * eg., make some business decision"
   ]
  },
  {
   "cell_type": "markdown",
   "metadata": {},
   "source": [
    "## How do I select features?"
   ]
  },
  {
   "cell_type": "markdown",
   "metadata": {},
   "source": [
    "We typically use pandas to *provide* data..."
   ]
  },
  {
   "cell_type": "code",
   "execution_count": 6,
   "metadata": {},
   "outputs": [],
   "source": [
    "import pandas as pd\n",
    "\n",
    "tips = pd.read_csv('datasets/tips.csv')"
   ]
  },
  {
   "cell_type": "code",
   "execution_count": 8,
   "metadata": {},
   "outputs": [
    {
     "name": "stdout",
     "output_type": "stream",
     "text": [
      "<class 'pandas.core.frame.DataFrame'>\n",
      "RangeIndex: 244 entries, 0 to 243\n",
      "Data columns (total 7 columns):\n",
      " #   Column      Non-Null Count  Dtype  \n",
      "---  ------      --------------  -----  \n",
      " 0   total_bill  244 non-null    float64\n",
      " 1   tip         244 non-null    float64\n",
      " 2   sex         244 non-null    object \n",
      " 3   smoker      244 non-null    object \n",
      " 4   day         244 non-null    object \n",
      " 5   time        244 non-null    object \n",
      " 6   size        244 non-null    int64  \n",
      "dtypes: float64(2), int64(1), object(4)\n",
      "memory usage: 13.5+ KB\n"
     ]
    }
   ],
   "source": [
    "tips.info()"
   ]
  },
  {
   "cell_type": "code",
   "execution_count": 17,
   "metadata": {},
   "outputs": [],
   "source": [
    "select_columns = ['total_bill', 'size', 'sex', 'day']\n",
    "\n",
    "features = tips[ select_columns ]\n",
    "target = tips['tip']"
   ]
  },
  {
   "cell_type": "markdown",
   "metadata": {},
   "source": [
    "## How do I prepare data for modelling?"
   ]
  },
  {
   "cell_type": "markdown",
   "metadata": {},
   "source": [
    "Observe that one of the features is just text:"
   ]
  },
  {
   "cell_type": "code",
   "execution_count": 30,
   "metadata": {},
   "outputs": [
    {
     "data": {
      "text/html": [
       "<div>\n",
       "<style scoped>\n",
       "    .dataframe tbody tr th:only-of-type {\n",
       "        vertical-align: middle;\n",
       "    }\n",
       "\n",
       "    .dataframe tbody tr th {\n",
       "        vertical-align: top;\n",
       "    }\n",
       "\n",
       "    .dataframe thead th {\n",
       "        text-align: right;\n",
       "    }\n",
       "</style>\n",
       "<table border=\"1\" class=\"dataframe\">\n",
       "  <thead>\n",
       "    <tr style=\"text-align: right;\">\n",
       "      <th></th>\n",
       "      <th>total_bill</th>\n",
       "      <th>size</th>\n",
       "      <th>sex</th>\n",
       "      <th>day</th>\n",
       "    </tr>\n",
       "  </thead>\n",
       "  <tbody>\n",
       "    <tr>\n",
       "      <th>83</th>\n",
       "      <td>32.68</td>\n",
       "      <td>2</td>\n",
       "      <td>Male</td>\n",
       "      <td>Thur</td>\n",
       "    </tr>\n",
       "    <tr>\n",
       "      <th>51</th>\n",
       "      <td>10.29</td>\n",
       "      <td>2</td>\n",
       "      <td>Female</td>\n",
       "      <td>Sun</td>\n",
       "    </tr>\n",
       "  </tbody>\n",
       "</table>\n",
       "</div>"
      ],
      "text/plain": [
       "    total_bill  size     sex   day\n",
       "83       32.68     2    Male  Thur\n",
       "51       10.29     2  Female   Sun"
      ]
     },
     "execution_count": 30,
     "metadata": {},
     "output_type": "execute_result"
    }
   ],
   "source": [
    "features.sample(2)"
   ]
  },
  {
   "cell_type": "code",
   "execution_count": 31,
   "metadata": {},
   "outputs": [],
   "source": [
    "from sklearn.preprocessing import OrdinalEncoder"
   ]
  },
  {
   "cell_type": "markdown",
   "metadata": {},
   "source": [
    "The `OrdinalEncoder` will scan *categorical* columns; determine their unique values (ie., categories) and swap these out with a integers.\n",
    "\n",
    "* Eg., Leeds, London, Machester -> 0, 1, 2"
   ]
  },
  {
   "cell_type": "code",
   "execution_count": 32,
   "metadata": {},
   "outputs": [],
   "source": [
    "X_categorical = OrdinalEncoder().fit_transform(features[['sex', 'day']])"
   ]
  },
  {
   "cell_type": "markdown",
   "metadata": {},
   "source": [
    "The first rows of X:"
   ]
  },
  {
   "cell_type": "code",
   "execution_count": 34,
   "metadata": {},
   "outputs": [
    {
     "data": {
      "text/plain": [
       "array([[0., 2.],\n",
       "       [1., 2.],\n",
       "       [1., 2.],\n",
       "       [1., 2.]])"
      ]
     },
     "execution_count": 34,
     "metadata": {},
     "output_type": "execute_result"
    }
   ],
   "source": [
    "X_categorical[0:3, :]"
   ]
  },
  {
   "cell_type": "code",
   "execution_count": 35,
   "metadata": {},
   "outputs": [
    {
     "data": {
      "text/html": [
       "<div>\n",
       "<style scoped>\n",
       "    .dataframe tbody tr th:only-of-type {\n",
       "        vertical-align: middle;\n",
       "    }\n",
       "\n",
       "    .dataframe tbody tr th {\n",
       "        vertical-align: top;\n",
       "    }\n",
       "\n",
       "    .dataframe thead th {\n",
       "        text-align: right;\n",
       "    }\n",
       "</style>\n",
       "<table border=\"1\" class=\"dataframe\">\n",
       "  <thead>\n",
       "    <tr style=\"text-align: right;\">\n",
       "      <th></th>\n",
       "      <th>sex</th>\n",
       "      <th>day</th>\n",
       "    </tr>\n",
       "  </thead>\n",
       "  <tbody>\n",
       "    <tr>\n",
       "      <th>0</th>\n",
       "      <td>Female</td>\n",
       "      <td>Sun</td>\n",
       "    </tr>\n",
       "    <tr>\n",
       "      <th>1</th>\n",
       "      <td>Male</td>\n",
       "      <td>Sun</td>\n",
       "    </tr>\n",
       "    <tr>\n",
       "      <th>2</th>\n",
       "      <td>Male</td>\n",
       "      <td>Sun</td>\n",
       "    </tr>\n",
       "    <tr>\n",
       "      <th>3</th>\n",
       "      <td>Male</td>\n",
       "      <td>Sun</td>\n",
       "    </tr>\n",
       "  </tbody>\n",
       "</table>\n",
       "</div>"
      ],
      "text/plain": [
       "      sex  day\n",
       "0  Female  Sun\n",
       "1    Male  Sun\n",
       "2    Male  Sun\n",
       "3    Male  Sun"
      ]
     },
     "execution_count": 35,
     "metadata": {},
     "output_type": "execute_result"
    }
   ],
   "source": [
    "features.loc[0:3, ['sex', 'day']]"
   ]
  },
  {
   "cell_type": "markdown",
   "metadata": {},
   "source": [
    "Note here we have columns: `total_bill`, `size`, `sex`, `day`.\n",
    "\n",
    "So, for `sex`: 0, 1; `day`: `0` thurs, ..."
   ]
  },
  {
   "cell_type": "markdown",
   "metadata": {},
   "source": [
    "## How do I combine my dataset into one matrix?"
   ]
  },
  {
   "cell_type": "markdown",
   "metadata": {},
   "source": [
    "Now, notice we have two split datasets... the processed one called `X_categorical` which is the numerical version of the categorical columns.\n",
    "\n",
    "And we have the real-valued columns `total_bill` and `size`, still in our `features` table."
   ]
  },
  {
   "cell_type": "code",
   "execution_count": 39,
   "metadata": {},
   "outputs": [],
   "source": [
    "X_real = features[['total_bill', 'size']].to_numpy() # selecting the numerical columns"
   ]
  },
  {
   "cell_type": "markdown",
   "metadata": {},
   "source": [
    "So now we need to combine them into one feature matrix, `X`."
   ]
  },
  {
   "cell_type": "code",
   "execution_count": 41,
   "metadata": {},
   "outputs": [],
   "source": [
    "import numpy as np"
   ]
  },
  {
   "cell_type": "markdown",
   "metadata": {},
   "source": [
    "In numpy, `np.column_stack` means *join* -- glue columns together into one matrix. "
   ]
  },
  {
   "cell_type": "code",
   "execution_count": 46,
   "metadata": {},
   "outputs": [
    {
     "data": {
      "text/plain": [
       "array([[16.99,  2.  ,  0.  ,  2.  ],\n",
       "       [10.34,  3.  ,  1.  ,  2.  ],\n",
       "       [21.01,  3.  ,  1.  ,  2.  ],\n",
       "       [23.68,  2.  ,  1.  ,  2.  ]])"
      ]
     },
     "execution_count": 46,
     "metadata": {},
     "output_type": "execute_result"
    }
   ],
   "source": [
    "X = np.column_stack((X_real, X_categorical))\n",
    "\n",
    "X[0:4,:]"
   ]
  },
  {
   "cell_type": "markdown",
   "metadata": {},
   "source": [
    "## How do I choose a model?"
   ]
  },
  {
   "cell_type": "markdown",
   "metadata": {},
   "source": [
    "* What type of problem?\n",
    "    * Supervised Learning\n",
    "        * Regression \n",
    "            * $y$ is tip, is a number!\n",
    "* What type of regression models are there?\n",
    "    * **Linear** <- CHOOSEN!\n",
    "    * Polynomial\n",
    "    * Neural Network\n",
    "        * Half-linear, half-polynomial\n",
    "    * ... \n",
    "    \n",
    "* What should I do now?\n",
    "    * Either: try them all \n",
    "    * Or: try ones you think most likely to be accurate"
   ]
  },
  {
   "cell_type": "markdown",
   "metadata": {},
   "source": [
    "## How do I import a model?"
   ]
  },
  {
   "cell_type": "markdown",
   "metadata": {},
   "source": [
    "You will need to consult the documentation, but LinearRegression lives in `sklearn.linear_model`..."
   ]
  },
  {
   "cell_type": "code",
   "execution_count": 47,
   "metadata": {},
   "outputs": [],
   "source": [
    "from sklearn.linear_model import LinearRegression"
   ]
  },
  {
   "cell_type": "markdown",
   "metadata": {},
   "source": [
    "## How do I train a model?"
   ]
  },
  {
   "cell_type": "code",
   "execution_count": 50,
   "metadata": {},
   "outputs": [],
   "source": [
    "X = X # reminder that we have X\n",
    "y = target.to_numpy()"
   ]
  },
  {
   "cell_type": "markdown",
   "metadata": {},
   "source": [
    "All the machine learning happens here:"
   ]
  },
  {
   "cell_type": "code",
   "execution_count": 76,
   "metadata": {},
   "outputs": [],
   "source": [
    "model = LinearRegression().fit(X, y) # <- empirical loss minmization "
   ]
  },
  {
   "cell_type": "markdown",
   "metadata": {},
   "source": [
    "## How do I use a model to predict?"
   ]
  },
  {
   "cell_type": "markdown",
   "metadata": {},
   "source": [
    "Recall that `X` has four elements per observation:"
   ]
  },
  {
   "cell_type": "code",
   "execution_count": 52,
   "metadata": {},
   "outputs": [
    {
     "data": {
      "text/plain": [
       "array([[16.99,  2.  ,  0.  ,  2.  ],\n",
       "       [10.34,  3.  ,  1.  ,  2.  ]])"
      ]
     },
     "execution_count": 52,
     "metadata": {},
     "output_type": "execute_result"
    }
   ],
   "source": [
    "X[:2, :] #first two, all columns"
   ]
  },
  {
   "cell_type": "markdown",
   "metadata": {},
   "source": [
    "`model.predict` requires the same structure we used in `X`..."
   ]
  },
  {
   "cell_type": "code",
   "execution_count": 53,
   "metadata": {},
   "outputs": [
    {
     "data": {
      "text/plain": [
       "array([2.70323683])"
      ]
     },
     "execution_count": 53,
     "metadata": {},
     "output_type": "execute_result"
    }
   ],
   "source": [
    "x_newpoint = [\n",
    "    [20, 1, 1, 1]  # even though this is ONE observation, it must be a matrix\n",
    "]\n",
    "\n",
    "model.predict(x_newpoint)"
   ]
  },
  {
   "cell_type": "markdown",
   "metadata": {},
   "source": [
    "## How do I predict for multiple observations?"
   ]
  },
  {
   "cell_type": "code",
   "execution_count": 55,
   "metadata": {},
   "outputs": [
    {
     "data": {
      "text/plain": [
       "array([2.70323683, 3.63332512, 4.5634134 ])"
      ]
     },
     "execution_count": 55,
     "metadata": {},
     "output_type": "execute_result"
    }
   ],
   "source": [
    "x_newpoint = [\n",
    "    [20, 1, 1, 1],\n",
    "    [30, 1, 1, 1],\n",
    "    [40, 1, 1, 1],\n",
    "]\n",
    "\n",
    "yhat = model.predict(x_newpoint) # predictions\n",
    "\n",
    "yhat"
   ]
  },
  {
   "cell_type": "markdown",
   "metadata": {},
   "source": [
    "## How do I score a model?"
   ]
  },
  {
   "cell_type": "code",
   "execution_count": 57,
   "metadata": {},
   "outputs": [
    {
     "data": {
      "text/plain": [
       "0.4679728655676543"
      ]
     },
     "execution_count": 57,
     "metadata": {},
     "output_type": "execute_result"
    }
   ],
   "source": [
    "model.score(X, y) # scores model on historical (X, y)"
   ]
  },
  {
   "cell_type": "markdown",
   "metadata": {},
   "source": [
    "...this is quite low, so maybe we need a more complex model. (Or: maybe this is good enough for your use case...)"
   ]
  },
  {
   "cell_type": "markdown",
   "metadata": {},
   "source": [
    "## Aside: How do I choose a better model?"
   ]
  },
  {
   "cell_type": "markdown",
   "metadata": {},
   "source": [
    "Two thoughts:\n",
    "* reconsider your data\n",
    "    * prepare it differently\n",
    "        * use different columns\n",
    "        * formula to combine them \n",
    "        * etc. \n",
    "    * get more data\n",
    "* try a differnt model"
   ]
  },
  {
   "cell_type": "markdown",
   "metadata": {},
   "source": [
    "## Aside: Trying a Different Model"
   ]
  },
  {
   "cell_type": "markdown",
   "metadata": {},
   "source": [
    "The kNearest Neighbors algorithm is very simple. \n",
    "\n",
    "When you `fit(X, y)` it just remembers them exactly. \n",
    "\n",
    "`Database = (X, y)`\n",
    "\n",
    "When you `predict(z)`\n",
    "\n",
    "It finds the `k` most similar $X$s, and tells you their average $y$.\n",
    "\n",
    "eg., $(x, y) = (Age, SalesPrice)$\n",
    "\n",
    "A prediction for an 18yo, is to find all the people \"about 18 yo\" in the dataset, find out what they paid and take the average.\n",
    "\n",
    "```\n",
    "SELECT MEAN(Price)\n",
    "FROM database\n",
    "WHERE Age CLOSE_TO age_newpoint\n",
    "LIMIT k\n",
    "```"
   ]
  },
  {
   "cell_type": "code",
   "execution_count": 79,
   "metadata": {},
   "outputs": [],
   "source": [
    "from sklearn.neighbors import KNeighborsRegressor"
   ]
  },
  {
   "cell_type": "code",
   "execution_count": 92,
   "metadata": {},
   "outputs": [
    {
     "name": "stdout",
     "output_type": "stream",
     "text": [
      "0.6435960451483365\n",
      "0.5848980368607244\n",
      "0.5247895125206865\n",
      "0.4996194323723515\n",
      "0.48323409891574254\n",
      "0.47662276752680455\n",
      "0.4497514915579601\n",
      "0.4417900984789215\n"
     ]
    }
   ],
   "source": [
    "for k in range(3, 11):\n",
    "    model = KNeighborsRegressor(k).fit(X, y)\n",
    "    \n",
    "    # find the k closest points in database (X, y)\n",
    "    # report their mean(y)\n",
    "\n",
    "    print(model.score(X, y))"
   ]
  },
  {
   "cell_type": "code",
   "execution_count": 93,
   "metadata": {},
   "outputs": [
    {
     "data": {
      "text/plain": [
       "0.6435960451483365"
      ]
     },
     "execution_count": 93,
     "metadata": {},
     "output_type": "execute_result"
    }
   ],
   "source": [
    "model = KNeighborsRegressor(3).fit(X, y)\n",
    "model.score(X, y)"
   ]
  },
  {
   "cell_type": "markdown",
   "metadata": {},
   "source": [
    "## Exercise (30min)\n"
   ]
  },
  {
   "cell_type": "markdown",
   "metadata": {},
   "source": [
    "### Q1. Obtain & Prepare Data\n",
    "\n",
    "* read the titianic csv using pandas\n",
    "* clean the dataset\n",
    "    * dropna to remove missing rows"
   ]
  },
  {
   "cell_type": "markdown",
   "metadata": {},
   "source": [
    "### Q2. Select & Prepare Columns\n",
    "\n",
    "* select the survived column as your target\n",
    "* use age, fare, pclass as your features\n",
    "    * NOTE: these do not need to be prepared as they are all numbers!"
   ]
  },
  {
   "cell_type": "markdown",
   "metadata": {},
   "source": [
    "### Q3. Fit & Predict\n",
    "* Use `LogisticRegression` to build a *classifier* and *predict* for a point\n",
    "    * HINT: exactly the same as `LinearRegression`\n",
    "    * HINT: `from sklearn.linear_model import LogisticRegression`\n",
    "    \n",
    "* This algorithm is a classification algorith, so it will output eg., `0`, `1` as predictions"
   ]
  },
  {
   "cell_type": "code",
   "execution_count": null,
   "metadata": {},
   "outputs": [],
   "source": []
  }
 ],
 "metadata": {
  "kernelspec": {
   "display_name": "Python 3",
   "language": "python",
   "name": "python3"
  },
  "language_info": {
   "codemirror_mode": {
    "name": "ipython",
    "version": 3
   },
   "file_extension": ".py",
   "mimetype": "text/x-python",
   "name": "python",
   "nbconvert_exporter": "python",
   "pygments_lexer": "ipython3",
   "version": "3.8.3"
  }
 },
 "nbformat": 4,
 "nbformat_minor": 4
}
