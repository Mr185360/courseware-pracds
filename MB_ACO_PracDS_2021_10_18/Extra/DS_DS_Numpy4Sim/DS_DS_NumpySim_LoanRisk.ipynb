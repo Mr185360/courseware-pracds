{
 "cells": [
  {
   "cell_type": "markdown",
   "metadata": {},
   "source": [
    "# Python Data Science & Analysis \n",
    "### Project: Credit Risk Assessment \n"
   ]
  },
  {
   "cell_type": "markdown",
   "metadata": {},
   "source": [
    "# Simulation"
   ]
  },
  {
   "cell_type": "code",
   "execution_count": 1,
   "metadata": {},
   "outputs": [
    {
     "data": {
      "text/plain": [
       "1000"
      ]
     },
     "execution_count": 1,
     "metadata": {},
     "output_type": "execute_result"
    }
   ],
   "source": [
    "import pandas as pd\n",
    "import numpy as np\n",
    "\n",
    "N = 1000\n",
    "\n",
    "income = np.r_[\n",
    "    np.random.normal(20_000, 2_500, N//2),\n",
    "    np.random.normal(40_000, 5_000, N//4),\n",
    "    np.random.normal(60_000, 6_000, N//8),\n",
    "    np.random.normal(80_000, 7_000, N//16),\n",
    "    np.random.normal(35_000, 10_000, N//16 + 1),\n",
    "].round(-2)\n",
    "\n",
    "len(income)"
   ]
  },
  {
   "cell_type": "code",
   "execution_count": 2,
   "metadata": {},
   "outputs": [],
   "source": [
    "terms = ['Short Term', 'Long Term']\n",
    "\n",
    "term = np.r_[\n",
    "    np.random.choice(terms, N//2, p=(0.8, 0.2)),\n",
    "    np.random.choice(terms, N//4, p=(0.6, 0.4)),\n",
    "    np.random.choice(terms, N//8, p=(0.5, 0.5)),\n",
    "    np.random.choice(terms, N//16, p=(0.4, 0.6)),\n",
    "    np.random.choice(terms, N//16 + 1, p=(0.2, 0.8)),\n",
    "]"
   ]
  },
  {
   "cell_type": "code",
   "execution_count": 3,
   "metadata": {},
   "outputs": [],
   "source": [
    "balance = abs(np.r_[\n",
    "    np.random.normal(1000, 250, N//2),\n",
    "    np.random.normal(1250, 300, N//4),\n",
    "    np.random.normal(1750, 400, N//8),\n",
    "    np.random.normal(5000, 1000, N//16),\n",
    "    np.random.normal(1500, 500, N//16 + 1),\n",
    "]).round(-1)\n"
   ]
  },
  {
   "cell_type": "code",
   "execution_count": 4,
   "metadata": {},
   "outputs": [],
   "source": [
    "debt = np.r_[\n",
    "    np.random.normal(0, 1000, N//2),\n",
    "    np.random.normal(0, 1500, N//4),\n",
    "    np.random.normal(0, 2500, N//8),\n",
    "    np.random.normal(0, 5000, N//16),\n",
    "    np.random.normal(0, 3000, N//16 + 1),\n",
    "].clip(min=0).round()\n"
   ]
  },
  {
   "cell_type": "code",
   "execution_count": 5,
   "metadata": {},
   "outputs": [],
   "source": [
    "from scipy.stats import zscore\n",
    "\n",
    "score = np.r_[\n",
    "    np.random.normal(500, 150, N//2),\n",
    "    np.random.normal(600, 150, N//4),\n",
    "    np.random.normal(700, 150, N//8),\n",
    "    np.random.normal(800, 150, N//16),\n",
    "    np.random.normal(600, 150, N//16 + 1),\n",
    "]\n",
    "\n",
    "score += score*0.6*zscore(income) + score*0.1*zscore(balance) - score*0.3*zscore(debt)\n",
    "\n",
    "score = score.clip(min=0, max=1000).round()"
   ]
  },
  {
   "cell_type": "code",
   "execution_count": 6,
   "metadata": {},
   "outputs": [
    {
     "name": "stdout",
     "output_type": "stream",
     "text": [
      "0.054\n",
      "0.094\n"
     ]
    }
   ],
   "source": [
    "defaults = [False, True]\n",
    "\n",
    "default = ((debt/(income/12) >= 0.85) & (score < 500))\n",
    "\n",
    "print(default.mean())\n",
    "\n",
    "default = default | np.r_[\n",
    "    np.random.choice(defaults, N//2, p=(0.95, 0.05)),\n",
    "    np.random.choice(defaults, N//4, p=(0.96, 0.04)),\n",
    "    np.random.choice(defaults, N//8, p=(0.97, 0.03)),\n",
    "    np.random.choice(defaults, N//16, p=(0.98, 0.02)),\n",
    "    np.random.choice(defaults, N//16 + 1, p=(0.93, 0.07)),\n",
    "]\n",
    "\n",
    "print(default.mean())\n"
   ]
  },
  {
   "cell_type": "code",
   "execution_count": 7,
   "metadata": {},
   "outputs": [],
   "source": [
    "df = pd.DataFrame({\n",
    "    'ID': np.random.choice(np.arange(1, N + 1), N, replace=False),\n",
    "    'Income': income,\n",
    "    'Term': term,\n",
    "    'Balance': balance,\n",
    "    'Debt': debt,\n",
    "    'Score': score,\n",
    "    'Default': default,\n",
    "})"
   ]
  },
  {
   "cell_type": "code",
   "execution_count": 8,
   "metadata": {},
   "outputs": [
    {
     "data": {
      "text/html": [
       "<div>\n",
       "<style scoped>\n",
       "    .dataframe tbody tr th:only-of-type {\n",
       "        vertical-align: middle;\n",
       "    }\n",
       "\n",
       "    .dataframe tbody tr th {\n",
       "        vertical-align: top;\n",
       "    }\n",
       "\n",
       "    .dataframe thead th {\n",
       "        text-align: right;\n",
       "    }\n",
       "</style>\n",
       "<table border=\"1\" class=\"dataframe\">\n",
       "  <thead>\n",
       "    <tr style=\"text-align: right;\">\n",
       "      <th></th>\n",
       "      <th>ID</th>\n",
       "      <th>Income</th>\n",
       "      <th>Term</th>\n",
       "      <th>Balance</th>\n",
       "      <th>Debt</th>\n",
       "      <th>Score</th>\n",
       "      <th>Default</th>\n",
       "    </tr>\n",
       "  </thead>\n",
       "  <tbody>\n",
       "    <tr>\n",
       "      <th>122</th>\n",
       "      <td>287</td>\n",
       "      <td>19200.0</td>\n",
       "      <td>Long Term</td>\n",
       "      <td>1410.0</td>\n",
       "      <td>0.0</td>\n",
       "      <td>134.0</td>\n",
       "      <td>False</td>\n",
       "    </tr>\n",
       "    <tr>\n",
       "      <th>490</th>\n",
       "      <td>252</td>\n",
       "      <td>17000.0</td>\n",
       "      <td>Short Term</td>\n",
       "      <td>360.0</td>\n",
       "      <td>1537.0</td>\n",
       "      <td>49.0</td>\n",
       "      <td>True</td>\n",
       "    </tr>\n",
       "    <tr>\n",
       "      <th>600</th>\n",
       "      <td>191</td>\n",
       "      <td>41100.0</td>\n",
       "      <td>Short Term</td>\n",
       "      <td>1540.0</td>\n",
       "      <td>784.0</td>\n",
       "      <td>732.0</td>\n",
       "      <td>False</td>\n",
       "    </tr>\n",
       "    <tr>\n",
       "      <th>777</th>\n",
       "      <td>517</td>\n",
       "      <td>68500.0</td>\n",
       "      <td>Short Term</td>\n",
       "      <td>1740.0</td>\n",
       "      <td>0.0</td>\n",
       "      <td>1000.0</td>\n",
       "      <td>False</td>\n",
       "    </tr>\n",
       "    <tr>\n",
       "      <th>220</th>\n",
       "      <td>311</td>\n",
       "      <td>20200.0</td>\n",
       "      <td>Short Term</td>\n",
       "      <td>990.0</td>\n",
       "      <td>0.0</td>\n",
       "      <td>349.0</td>\n",
       "      <td>False</td>\n",
       "    </tr>\n",
       "    <tr>\n",
       "      <th>875</th>\n",
       "      <td>951</td>\n",
       "      <td>93100.0</td>\n",
       "      <td>Long Term</td>\n",
       "      <td>6230.0</td>\n",
       "      <td>3710.0</td>\n",
       "      <td>1000.0</td>\n",
       "      <td>False</td>\n",
       "    </tr>\n",
       "    <tr>\n",
       "      <th>290</th>\n",
       "      <td>752</td>\n",
       "      <td>19900.0</td>\n",
       "      <td>Short Term</td>\n",
       "      <td>1080.0</td>\n",
       "      <td>0.0</td>\n",
       "      <td>255.0</td>\n",
       "      <td>False</td>\n",
       "    </tr>\n",
       "    <tr>\n",
       "      <th>538</th>\n",
       "      <td>887</td>\n",
       "      <td>37400.0</td>\n",
       "      <td>Long Term</td>\n",
       "      <td>530.0</td>\n",
       "      <td>0.0</td>\n",
       "      <td>524.0</td>\n",
       "      <td>False</td>\n",
       "    </tr>\n",
       "    <tr>\n",
       "      <th>283</th>\n",
       "      <td>833</td>\n",
       "      <td>19500.0</td>\n",
       "      <td>Short Term</td>\n",
       "      <td>1360.0</td>\n",
       "      <td>367.0</td>\n",
       "      <td>233.0</td>\n",
       "      <td>False</td>\n",
       "    </tr>\n",
       "    <tr>\n",
       "      <th>71</th>\n",
       "      <td>767</td>\n",
       "      <td>20600.0</td>\n",
       "      <td>Short Term</td>\n",
       "      <td>630.0</td>\n",
       "      <td>758.0</td>\n",
       "      <td>265.0</td>\n",
       "      <td>False</td>\n",
       "    </tr>\n",
       "  </tbody>\n",
       "</table>\n",
       "</div>"
      ],
      "text/plain": [
       "      ID   Income        Term  Balance    Debt   Score  Default\n",
       "122  287  19200.0   Long Term   1410.0     0.0   134.0    False\n",
       "490  252  17000.0  Short Term    360.0  1537.0    49.0     True\n",
       "600  191  41100.0  Short Term   1540.0   784.0   732.0    False\n",
       "777  517  68500.0  Short Term   1740.0     0.0  1000.0    False\n",
       "220  311  20200.0  Short Term    990.0     0.0   349.0    False\n",
       "875  951  93100.0   Long Term   6230.0  3710.0  1000.0    False\n",
       "290  752  19900.0  Short Term   1080.0     0.0   255.0    False\n",
       "538  887  37400.0   Long Term    530.0     0.0   524.0    False\n",
       "283  833  19500.0  Short Term   1360.0   367.0   233.0    False\n",
       "71   767  20600.0  Short Term    630.0   758.0   265.0    False"
      ]
     },
     "execution_count": 8,
     "metadata": {},
     "output_type": "execute_result"
    }
   ],
   "source": [
    "df.sample(10)"
   ]
  },
  {
   "cell_type": "code",
   "execution_count": 9,
   "metadata": {},
   "outputs": [
    {
     "data": {
      "text/plain": [
       "180"
      ]
     },
     "execution_count": 9,
     "metadata": {},
     "output_type": "execute_result"
    }
   ],
   "source": [
    "len(df.loc[ df['Score'] == 1000 , : ].index)"
   ]
  },
  {
   "cell_type": "code",
   "execution_count": 10,
   "metadata": {},
   "outputs": [],
   "source": [
    "indexes = df.loc[ df['Score'] == 1000 , : ].index\n",
    "\n",
    "indexes = np.random.choice(indexes, replace=False, size=(8*len(indexes))//10)\n",
    "df = df.drop(indexes)"
   ]
  },
  {
   "cell_type": "code",
   "execution_count": 11,
   "metadata": {},
   "outputs": [],
   "source": [
    "df.loc[ np.random.choice(df.index, N//50), 'Score' ] = np.nan"
   ]
  },
  {
   "cell_type": "code",
   "execution_count": 12,
   "metadata": {},
   "outputs": [],
   "source": [
    "df.to_csv('loan_data.csv', index=False)"
   ]
  },
  {
   "cell_type": "code",
   "execution_count": 13,
   "metadata": {},
   "outputs": [
    {
     "data": {
      "text/plain": [
       "856"
      ]
     },
     "execution_count": 13,
     "metadata": {},
     "output_type": "execute_result"
    }
   ],
   "source": [
    "len(df)"
   ]
  },
  {
   "cell_type": "code",
   "execution_count": 14,
   "metadata": {},
   "outputs": [
    {
     "data": {
      "text/plain": [
       "0.04205607476635514"
      ]
     },
     "execution_count": 14,
     "metadata": {},
     "output_type": "execute_result"
    }
   ],
   "source": [
    "(df['Score'] == 1000).mean()"
   ]
  },
  {
   "cell_type": "code",
   "execution_count": 15,
   "metadata": {},
   "outputs": [
    {
     "data": {
      "text/html": [
       "<div>\n",
       "<style scoped>\n",
       "    .dataframe tbody tr th:only-of-type {\n",
       "        vertical-align: middle;\n",
       "    }\n",
       "\n",
       "    .dataframe tbody tr th {\n",
       "        vertical-align: top;\n",
       "    }\n",
       "\n",
       "    .dataframe thead th {\n",
       "        text-align: right;\n",
       "    }\n",
       "</style>\n",
       "<table border=\"1\" class=\"dataframe\">\n",
       "  <thead>\n",
       "    <tr style=\"text-align: right;\">\n",
       "      <th></th>\n",
       "      <th>ID</th>\n",
       "      <th>Income</th>\n",
       "      <th>Term</th>\n",
       "      <th>Balance</th>\n",
       "      <th>Debt</th>\n",
       "      <th>Score</th>\n",
       "      <th>Default</th>\n",
       "    </tr>\n",
       "  </thead>\n",
       "  <tbody>\n",
       "    <tr>\n",
       "      <th>933</th>\n",
       "      <td>226</td>\n",
       "      <td>79900.0</td>\n",
       "      <td>Short Term</td>\n",
       "      <td>3720.0</td>\n",
       "      <td>12891.0</td>\n",
       "      <td>0.0</td>\n",
       "      <td>True</td>\n",
       "    </tr>\n",
       "    <tr>\n",
       "      <th>149</th>\n",
       "      <td>885</td>\n",
       "      <td>17500.0</td>\n",
       "      <td>Short Term</td>\n",
       "      <td>1040.0</td>\n",
       "      <td>1695.0</td>\n",
       "      <td>89.0</td>\n",
       "      <td>True</td>\n",
       "    </tr>\n",
       "    <tr>\n",
       "      <th>227</th>\n",
       "      <td>667</td>\n",
       "      <td>19100.0</td>\n",
       "      <td>Short Term</td>\n",
       "      <td>840.0</td>\n",
       "      <td>728.0</td>\n",
       "      <td>235.0</td>\n",
       "      <td>False</td>\n",
       "    </tr>\n",
       "    <tr>\n",
       "      <th>350</th>\n",
       "      <td>318</td>\n",
       "      <td>16300.0</td>\n",
       "      <td>Short Term</td>\n",
       "      <td>570.0</td>\n",
       "      <td>0.0</td>\n",
       "      <td>357.0</td>\n",
       "      <td>False</td>\n",
       "    </tr>\n",
       "    <tr>\n",
       "      <th>42</th>\n",
       "      <td>841</td>\n",
       "      <td>20600.0</td>\n",
       "      <td>Short Term</td>\n",
       "      <td>1640.0</td>\n",
       "      <td>91.0</td>\n",
       "      <td>517.0</td>\n",
       "      <td>False</td>\n",
       "    </tr>\n",
       "    <tr>\n",
       "      <th>298</th>\n",
       "      <td>989</td>\n",
       "      <td>18500.0</td>\n",
       "      <td>Long Term</td>\n",
       "      <td>1040.0</td>\n",
       "      <td>0.0</td>\n",
       "      <td>246.0</td>\n",
       "      <td>False</td>\n",
       "    </tr>\n",
       "    <tr>\n",
       "      <th>424</th>\n",
       "      <td>894</td>\n",
       "      <td>21000.0</td>\n",
       "      <td>Short Term</td>\n",
       "      <td>530.0</td>\n",
       "      <td>0.0</td>\n",
       "      <td>384.0</td>\n",
       "      <td>True</td>\n",
       "    </tr>\n",
       "    <tr>\n",
       "      <th>491</th>\n",
       "      <td>678</td>\n",
       "      <td>21200.0</td>\n",
       "      <td>Short Term</td>\n",
       "      <td>360.0</td>\n",
       "      <td>575.0</td>\n",
       "      <td>250.0</td>\n",
       "      <td>False</td>\n",
       "    </tr>\n",
       "    <tr>\n",
       "      <th>237</th>\n",
       "      <td>884</td>\n",
       "      <td>21800.0</td>\n",
       "      <td>Short Term</td>\n",
       "      <td>1010.0</td>\n",
       "      <td>0.0</td>\n",
       "      <td>537.0</td>\n",
       "      <td>False</td>\n",
       "    </tr>\n",
       "    <tr>\n",
       "      <th>329</th>\n",
       "      <td>827</td>\n",
       "      <td>20600.0</td>\n",
       "      <td>Short Term</td>\n",
       "      <td>540.0</td>\n",
       "      <td>725.0</td>\n",
       "      <td>303.0</td>\n",
       "      <td>False</td>\n",
       "    </tr>\n",
       "  </tbody>\n",
       "</table>\n",
       "</div>"
      ],
      "text/plain": [
       "      ID   Income        Term  Balance     Debt  Score  Default\n",
       "933  226  79900.0  Short Term   3720.0  12891.0    0.0     True\n",
       "149  885  17500.0  Short Term   1040.0   1695.0   89.0     True\n",
       "227  667  19100.0  Short Term    840.0    728.0  235.0    False\n",
       "350  318  16300.0  Short Term    570.0      0.0  357.0    False\n",
       "42   841  20600.0  Short Term   1640.0     91.0  517.0    False\n",
       "298  989  18500.0   Long Term   1040.0      0.0  246.0    False\n",
       "424  894  21000.0  Short Term    530.0      0.0  384.0     True\n",
       "491  678  21200.0  Short Term    360.0    575.0  250.0    False\n",
       "237  884  21800.0  Short Term   1010.0      0.0  537.0    False\n",
       "329  827  20600.0  Short Term    540.0    725.0  303.0    False"
      ]
     },
     "execution_count": 15,
     "metadata": {},
     "output_type": "execute_result"
    }
   ],
   "source": [
    "df.sample(10)"
   ]
  },
  {
   "cell_type": "code",
   "execution_count": null,
   "metadata": {},
   "outputs": [],
   "source": []
  },
  {
   "cell_type": "code",
   "execution_count": 21,
   "metadata": {},
   "outputs": [
    {
     "data": {
      "text/plain": [
       "[(215, 37900., 'Short Term', 1530., 0., 595., False),\n",
       " (442, 78700., 'Long Term', 4220., 2561., 1000., False),\n",
       " (22, 41900., 'Long Term', 1720., 1884., 372., False),\n",
       " (711, 24600., 'Short Term', 1200., 0., 385., True),\n",
       " (113, 33900., 'Short Term', 1010., 1404., 456., False),\n",
       " (91, 23200., 'Short Term', 1310., 2003., 264., True),\n",
       " (268, 17700., 'Short Term', 640., 0., 289., False),\n",
       " (735, 37100., 'Long Term', 1030., 0., 661., False),\n",
       " (971, 35300., 'Short Term', 790., 1479., nan, False),\n",
       " (858, 16700., 'Short Term', 610., 0., 201., False)]"
      ]
     },
     "execution_count": 21,
     "metadata": {},
     "output_type": "execute_result"
    }
   ],
   "source": [
    "import pandas as pd \n",
    "\n",
    "df = pd.read_csv('./loan_data.csv')\n",
    "list(df.sample(10).to_records(index=False))"
   ]
  },
  {
   "cell_type": "code",
   "execution_count": null,
   "metadata": {},
   "outputs": [],
   "source": []
  }
 ],
 "metadata": {
  "kernelspec": {
   "display_name": "Python 3",
   "language": "python",
   "name": "python3"
  },
  "language_info": {
   "codemirror_mode": {
    "name": "ipython",
    "version": 3
   },
   "file_extension": ".py",
   "mimetype": "text/x-python",
   "name": "python",
   "nbconvert_exporter": "python",
   "pygments_lexer": "ipython3",
   "version": "3.8.3"
  }
 },
 "nbformat": 4,
 "nbformat_minor": 4
}
