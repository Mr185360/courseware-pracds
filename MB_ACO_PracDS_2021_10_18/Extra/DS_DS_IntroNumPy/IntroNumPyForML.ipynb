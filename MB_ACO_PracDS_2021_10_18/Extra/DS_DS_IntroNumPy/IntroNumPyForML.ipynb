{
 "cells": [
  {
   "cell_type": "markdown",
   "metadata": {},
   "source": [
    "# Introduction to Machine Learning with NumPy\n",
    "### Python Data Science & Analysis"
   ]
  },
  {
   "cell_type": "markdown",
   "metadata": {},
   "source": [
    "## What is Statistical Learning?\n",
    "\n",
    "The goal of statistical learning (ie., ML) is to be able to compute some unobservable $y$ from one or more observables $x$. \n",
    "\n",
    "Here, $y$ is a quantitiy we cannot observe in the future (ie., something we need to predict); and $x$ is always observable. \n",
    "\n",
    "We call $y$ the prediction **target** and $x$ the **features** of the observation.\n",
    "\n",
    "### Examples\n",
    "\n",
    "* Consider a cinema wishing to recommend a film at a ticket booth:\n",
    "    * Predict $y : $ **FilmRating** from $x_{1 \\dots N} : $ CustomerAge, CustomerTicketPrice, ...\n",
    "* Consider an estate agency wishing to recommend a city to move to...\n",
    "    * Predict  $y : $ **City** from $x_{1 \\dots N} : $ Budget, PrefHouseSize, ...\n",
    "* Consider an automated system diagnosing a health condition...\n",
    "    * Predict  $y : $ **Condition** from $x_{1 \\dots N} : $ ChestImage, ReportedSymptom1, ...\n",
    "    "
   ]
  },
  {
   "cell_type": "markdown",
   "metadata": {},
   "source": [
    "## Why is this a \"statistical\" process?"
   ]
  },
  {
   "cell_type": "markdown",
   "metadata": {},
   "source": [
    "In practice any $y$ cannot be known for certain, as *many* unobservable variables contribute to its value. \n",
    "\n",
    "Eg., A customer's **FilmRating** is also a product of their **Hunger** when watching. \n",
    "\n",
    "The game is to obtain some *model*, $\\hat{f}$ which estimates $y$ as best as possible from observable $x$s, \n",
    "\n",
    "$\\hat{y} = \\hat{f}(x)$\n",
    "\n",
    "NB. Here the $\\hat{}$  symbol means \"estimating\"; ie., we expect any individual prediction to be some ways off because of the effect of unmeasured variables -- but the *aggregate* predictions will be \"accurate enough\". "
   ]
  },
  {
   "cell_type": "markdown",
   "metadata": {},
   "source": [
    "## What is the set up of a Machine Learning problem?"
   ]
  },
  {
   "cell_type": "markdown",
   "metadata": {},
   "source": [
    "* Predict $y : $ **FilmRating** from $x_{1 \\dots N} : $ CustomerAge, CustomerTicketPrice, ..."
   ]
  },
  {
   "cell_type": "code",
   "execution_count": 1,
   "metadata": {},
   "outputs": [],
   "source": [
    "import numpy as np"
   ]
  },
  {
   "cell_type": "code",
   "execution_count": 167,
   "metadata": {},
   "outputs": [],
   "source": [
    "x_age = np.array([35, 19, 30, 68, 22])\n",
    "x_price = np.array([12, 10, 8, 9, 12])"
   ]
  },
  {
   "cell_type": "code",
   "execution_count": 168,
   "metadata": {},
   "outputs": [],
   "source": [
    "age_effect    = 0.08\n",
    "price_effect  = 0.01\n",
    "baseline_rating = 1.8"
   ]
  },
  {
   "cell_type": "markdown",
   "metadata": {},
   "source": [
    "What is the maximum rating?"
   ]
  },
  {
   "cell_type": "code",
   "execution_count": 169,
   "metadata": {},
   "outputs": [
    {
     "data": {
      "text/plain": [
       "10.0"
      ]
     },
     "execution_count": 169,
     "metadata": {},
     "output_type": "execute_result"
    }
   ],
   "source": [
    "age_effect * 100 + price_effect * 20 + baseline_rating"
   ]
  },
  {
   "cell_type": "markdown",
   "metadata": {},
   "source": [
    "What are all the ratings?"
   ]
  },
  {
   "cell_type": "code",
   "execution_count": 170,
   "metadata": {},
   "outputs": [],
   "source": [
    "y_rating = age_effect * x_age   +   price_effect * x_price   +   baseline_rating"
   ]
  },
  {
   "cell_type": "code",
   "execution_count": 171,
   "metadata": {},
   "outputs": [
    {
     "data": {
      "text/plain": [
       "array([4.72, 3.42, 4.28, 7.33, 3.68])"
      ]
     },
     "execution_count": 171,
     "metadata": {},
     "output_type": "execute_result"
    }
   ],
   "source": [
    "y_rating"
   ]
  },
  {
   "cell_type": "markdown",
   "metadata": {},
   "source": [
    "...the goal of machine learning, then, is for the algorithm to determine a \"best\" `age_effect`, `price_effect` and `baseline_rating`. \n",
    "\n",
    "These terms are called, \"parmaters\" of the model (, where model, here means the entire relationship). "
   ]
  },
  {
   "cell_type": "code",
   "execution_count": 172,
   "metadata": {},
   "outputs": [
    {
     "data": {
      "image/png": "[encoded data removed]",
      "text/plain": [
       "<Figure size 432x288 with 1 Axes>"
      ]
     },
     "metadata": {
      "needs_background": "light"
     },
     "output_type": "display_data"
    }
   ],
   "source": [
    "import seaborn as sns\n",
    "\n",
    "sns.regplot(x=x_age, y=y_rating);"
   ]
  },
  {
   "cell_type": "markdown",
   "metadata": {},
   "source": [
    "The points here are the values of $x_{age}$ and $y_{rating}$.. the line, is the solution to the machine learning problem. It is the line of *predictions* over the age range, for ratings. This line has been *inferred* from the dataset. \n",
    "\n",
    "As a formula, the line is $\\hat{y} = \\hat{f}(x; a, b) = ax + b$. \n",
    "\n",
    "Where $a$ is a fixed value, the slope of the line; and $b$ is the intercept. "
   ]
  },
  {
   "cell_type": "markdown",
   "metadata": {},
   "source": [
    "## How does NumPy compute $y$ from $x$ ?"
   ]
  },
  {
   "cell_type": "markdown",
   "metadata": {},
   "source": [
    "In the following line `x_` are numpy arrays:"
   ]
  },
  {
   "cell_type": "code",
   "execution_count": 31,
   "metadata": {},
   "outputs": [],
   "source": [
    "y_rating = age_effect * x_age   +    price_effect * x_price    +    baseline_rating"
   ]
  },
  {
   "cell_type": "markdown",
   "metadata": {},
   "source": [
    "Note that the `*` and `+` have been run across all the elements of each (sometimes called \"brodcasting\")."
   ]
  },
  {
   "cell_type": "code",
   "execution_count": 32,
   "metadata": {},
   "outputs": [
    {
     "data": {
      "text/plain": [
       "array([4.601, 3.321, 4.201, 7.241, 3.561])"
      ]
     },
     "execution_count": 32,
     "metadata": {},
     "output_type": "execute_result"
    }
   ],
   "source": [
    "y_rating"
   ]
  },
  {
   "cell_type": "markdown",
   "metadata": {},
   "source": [
    "## How do we create NumPy arrays?"
   ]
  },
  {
   "cell_type": "markdown",
   "metadata": {},
   "source": [
    "We can convert python lists to numpy arrays:"
   ]
  },
  {
   "cell_type": "code",
   "execution_count": 35,
   "metadata": {},
   "outputs": [],
   "source": [
    "x_age = np.array([35, 19, 30, 68, 22])"
   ]
  },
  {
   "cell_type": "markdown",
   "metadata": {},
   "source": [
    "Or there are many helper methods for generating data, eg., over a range:"
   ]
  },
  {
   "cell_type": "code",
   "execution_count": 40,
   "metadata": {},
   "outputs": [
    {
     "data": {
      "text/plain": [
       "array([18, 19, 20, 21, 22, 23, 24, 25, 26, 27, 28, 29, 30])"
      ]
     },
     "execution_count": 40,
     "metadata": {},
     "output_type": "execute_result"
    }
   ],
   "source": [
    "np.arange(18, 31)"
   ]
  },
  {
   "cell_type": "markdown",
   "metadata": {},
   "source": [
    "For simulating data we may want a random choice, here we select $10$ observations from the range $[12,80)$ (ie., 12 until 80)."
   ]
  },
  {
   "cell_type": "code",
   "execution_count": 53,
   "metadata": {},
   "outputs": [
    {
     "data": {
      "text/plain": [
       "45.3617"
      ]
     },
     "execution_count": 53,
     "metadata": {},
     "output_type": "execute_result"
    }
   ],
   "source": [
    "np.random.choice(np.arange(12, 80), 10)"
   ]
  },
  {
   "cell_type": "markdown",
   "metadata": {},
   "source": [
    "NumPy chooses uniformly at random, so all numbers are equally likely... here we select $10,000$"
   ]
  },
  {
   "cell_type": "code",
   "execution_count": 60,
   "metadata": {},
   "outputs": [
    {
     "data": {
      "text/plain": [
       "45.5281"
      ]
     },
     "execution_count": 60,
     "metadata": {},
     "output_type": "execute_result"
    }
   ],
   "source": [
    "np.random.choice(np.arange(12, 80), 10_000).mean()"
   ]
  },
  {
   "cell_type": "markdown",
   "metadata": {},
   "source": [
    "Since they are all equally likely, the mean is just the mean of the range:"
   ]
  },
  {
   "cell_type": "code",
   "execution_count": 57,
   "metadata": {},
   "outputs": [
    {
     "data": {
      "text/plain": [
       "46.0"
      ]
     },
     "execution_count": 57,
     "metadata": {},
     "output_type": "execute_result"
    }
   ],
   "source": [
    "(80 + 12)/2"
   ]
  },
  {
   "cell_type": "markdown",
   "metadata": {},
   "source": [
    "The helper `np.random.uniform` does this directly:"
   ]
  },
  {
   "cell_type": "code",
   "execution_count": 61,
   "metadata": {},
   "outputs": [
    {
     "data": {
      "text/plain": [
       "45.967177607748994"
      ]
     },
     "execution_count": 61,
     "metadata": {},
     "output_type": "execute_result"
    }
   ],
   "source": [
    "np.random.uniform(12, 80, 10_000).mean()"
   ]
  },
  {
   "cell_type": "markdown",
   "metadata": {},
   "source": [
    "## How do we make simulations more realistic?"
   ]
  },
  {
   "cell_type": "markdown",
   "metadata": {},
   "source": [
    "When we observe, eg., ages of people in a cinema we don't see them arriving in a sequence; ie., we dont see all $12$ year olds, then all $13$, then $14$ etc. \n",
    "\n",
    "Nor are all ages equally likely. We don't see the same number of $80$ year olds as $12$ year olds. \n",
    "\n",
    "They will likely follow a normal pattern (\"distribution\"), ie.,  \n",
    "\n",
    "* they have a mean (eg., $35$)\n",
    "* the most common values are near the mean (eg., $35 \\pm 15$)\n",
    "    * NB. $\\text{c. } 66\\%$ are within a standard deivation of this mean\n",
    "* values above and below the mean are as equally, decreasingly, common\n",
    "    * eg., a $\\text{c. } 5$ is about as common as $\\text{c. } 65$\n",
    "    \n"
   ]
  },
  {
   "cell_type": "markdown",
   "metadata": {},
   "source": [
    "Let's generate $10$ observations according to this pattern:"
   ]
  },
  {
   "cell_type": "code",
   "execution_count": 81,
   "metadata": {},
   "outputs": [
    {
     "data": {
      "text/plain": [
       "array([ 8., 41., 16., 30., 59., 39., 52., 63., 48., 40.])"
      ]
     },
     "execution_count": 81,
     "metadata": {},
     "output_type": "execute_result"
    }
   ],
   "source": [
    "np.random.normal(35, 15, 10).round()"
   ]
  },
  {
   "cell_type": "markdown",
   "metadata": {},
   "source": [
    "And now, $10,000$"
   ]
  },
  {
   "cell_type": "code",
   "execution_count": 84,
   "metadata": {},
   "outputs": [],
   "source": [
    "n_customers = 1_000\n",
    "\n",
    "x_age   = np.random.normal(35, 15, n_customers).round()"
   ]
  },
  {
   "cell_type": "markdown",
   "metadata": {},
   "source": [
    "## How do you generate variables which depend on others?"
   ]
  },
  {
   "cell_type": "markdown",
   "metadata": {},
   "source": [
    "Let's generate ticket prices.\n",
    "\n",
    "This is more deterministic, as there is a base price (eg., $£10$), but..\n",
    "* people over 65 sometimes get a discount\n",
    "* people under 18 sometimes get a discount\n",
    "* people sometimes buy a VIP ticket\n",
    "\n",
    "How many people are over 65?"
   ]
  },
  {
   "cell_type": "code",
   "execution_count": 100,
   "metadata": {},
   "outputs": [
    {
     "data": {
      "text/plain": [
       "27"
      ]
     },
     "execution_count": 100,
     "metadata": {},
     "output_type": "execute_result"
    }
   ],
   "source": [
    "n_65 = (x_age >= 65).sum()\n",
    "n_65"
   ]
  },
  {
   "cell_type": "code",
   "execution_count": 102,
   "metadata": {},
   "outputs": [
    {
     "data": {
      "text/plain": [
       "130"
      ]
     },
     "execution_count": 102,
     "metadata": {},
     "output_type": "execute_result"
    }
   ],
   "source": [
    "n_18 = (x_age <= 18).sum()\n",
    "n_18"
   ]
  },
  {
   "cell_type": "markdown",
   "metadata": {},
   "source": [
    "What percentage are over 65?"
   ]
  },
  {
   "cell_type": "code",
   "execution_count": 90,
   "metadata": {},
   "outputs": [
    {
     "data": {
      "text/plain": [
       "0.027"
      ]
     },
     "execution_count": 90,
     "metadata": {},
     "output_type": "execute_result"
    }
   ],
   "source": [
    "(x_age >= 65).mean()"
   ]
  },
  {
   "cell_type": "markdown",
   "metadata": {},
   "source": [
    "Under 18?"
   ]
  },
  {
   "cell_type": "code",
   "execution_count": 111,
   "metadata": {},
   "outputs": [
    {
     "data": {
      "text/plain": [
       "0.13"
      ]
     },
     "execution_count": 111,
     "metadata": {},
     "output_type": "execute_result"
    }
   ],
   "source": [
    "(x_age <= 18).mean()"
   ]
  },
  {
   "cell_type": "code",
   "execution_count": 161,
   "metadata": {},
   "outputs": [],
   "source": [
    "x_price65 = np.random.choice([10, 8], n_65, p=(0.6, 0.4))\n",
    "x_price18 = np.random.choice([10, 8], n_18, p=(0.2, 0.8))\n",
    "x_price00 = np.random.choice([10, 12], n_customers - n_65 - n_18, p=(0.95, 0.05))"
   ]
  },
  {
   "cell_type": "code",
   "execution_count": 162,
   "metadata": {},
   "outputs": [],
   "source": [
    "x_price = np.zeros(n_customers)\n",
    "x_price[x_age >= 65] = x_price65\n",
    "x_price[x_age <= 18] = x_price18\n",
    "x_price[ (x_age < 65) & (x_age > 18) ] = x_price00"
   ]
  },
  {
   "cell_type": "code",
   "execution_count": 163,
   "metadata": {},
   "outputs": [
    {
     "data": {
      "text/plain": [
       "9.89"
      ]
     },
     "execution_count": 163,
     "metadata": {},
     "output_type": "execute_result"
    }
   ],
   "source": [
    "x_price.mean()"
   ]
  },
  {
   "cell_type": "code",
   "execution_count": 164,
   "metadata": {},
   "outputs": [
    {
     "data": {
      "image/png": "[encoded data removed]",
      "text/plain": [
       "<Figure size 432x288 with 1 Axes>"
      ]
     },
     "metadata": {
      "needs_background": "light"
     },
     "output_type": "display_data"
    }
   ],
   "source": [
    "sns.histplot(x_price);"
   ]
  },
  {
   "cell_type": "markdown",
   "metadata": {},
   "source": [
    "## How do we select values in NumPy arrays?"
   ]
  },
  {
   "cell_type": "markdown",
   "metadata": {},
   "source": [
    "## Appendix"
   ]
  },
  {
   "cell_type": "markdown",
   "metadata": {},
   "source": [
    "## Why are Normal Distributions common?"
   ]
  },
  {
   "cell_type": "markdown",
   "metadata": {},
   "source": [
    "    \n",
    "Normal distributions \"arise naturally\" when a variable is a product of many independent factors. Eg., consider a room temp vs., a theormostat dial. This is not a normal distribution, as the room temp is essentially entirely determined by the thermostat.\n",
    "\n",
    "However if you look at the temp fluctations without changing the dial, ie., very small ones, these are normal. As eg., they are caused by small air movements (wind); people moving around; hot/cold air mixing; etc. ie., many independent factors. "
   ]
  },
  {
   "cell_type": "code",
   "execution_count": null,
   "metadata": {},
   "outputs": [],
   "source": []
  }
 ],
 "metadata": {
  "kernelspec": {
   "display_name": "Python 3",
   "language": "python",
   "name": "python3"
  },
  "language_info": {
   "codemirror_mode": {
    "name": "ipython",
    "version": 3
   },
   "file_extension": ".py",
   "mimetype": "text/x-python",
   "name": "python",
   "nbconvert_exporter": "python",
   "pygments_lexer": "ipython3",
   "version": "3.8.3"
  }
 },
 "nbformat": 4,
 "nbformat_minor": 4
}
