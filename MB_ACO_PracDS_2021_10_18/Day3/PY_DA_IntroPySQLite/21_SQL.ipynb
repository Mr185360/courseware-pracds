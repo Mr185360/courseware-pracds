{
 "cells": [
  {
   "cell_type": "markdown",
   "metadata": {
    "slideshow": {
     "slide_type": "slide"
    }
   },
   "source": [
    "# Python for Data Science & Analysis \n",
    "## Notes 3.1, SQL & Relational Databases\n",
    "\n",
    "---"
   ]
  },
  {
   "cell_type": "markdown",
   "metadata": {},
   "source": [
    "This module looks at a standardized way of using python with relational databases; and with SQL. \n",
    "\n",
    "Here we review the general method and looping over result sets; in the next section we look at looping over datasets to injest (ie., insert) data."
   ]
  },
  {
   "cell_type": "markdown",
   "metadata": {
    "slideshow": {
     "slide_type": "slide"
    }
   },
   "source": [
    "### Objectives\n",
    "* import sqlite and connect to a local file database\n",
    "* write a create table query\n",
    "* write a insert and update query\n",
    "* write a select query:\n",
    "    * over all columns\n",
    "    * over a subset of columns\n",
    "    * over two tables\n",
    "    * filters by rows \n",
    "    * subsets rows and aggregates \n",
    "    "
   ]
  },
  {
   "cell_type": "markdown",
   "metadata": {
    "slideshow": {
     "slide_type": "slide"
    }
   },
   "source": [
    "### Problem & Data Context"
   ]
  },
  {
   "cell_type": "markdown",
   "metadata": {
    "slideshow": {
     "slide_type": "fragment"
    }
   },
   "source": [
    "* You have been hired as a data scientist by: **a naval expidition company**\n",
    "\n",
    "* Task: **investigate which passengers survived the Titanic shipwreck**"
   ]
  },
  {
   "cell_type": "markdown",
   "metadata": {
    "slideshow": {
     "slide_type": "slide"
    }
   },
   "source": [
    "# Part 0: History of SQL & Relational Databases"
   ]
  },
  {
   "cell_type": "markdown",
   "metadata": {
    "slideshow": {
     "slide_type": "fragment"
    }
   },
   "source": [
    "## What is a Relation?"
   ]
  },
  {
   "cell_type": "markdown",
   "metadata": {
    "slideshow": {
     "slide_type": "fragment"
    }
   },
   "source": [
    "A *relation* is a technical name for a *table* -- a data structure made of rows and columns. \n",
    "\n",
    "(A common misunderstanding is that \"relation\" means foregin key). "
   ]
  },
  {
   "cell_type": "markdown",
   "metadata": {
    "slideshow": {
     "slide_type": "slide"
    }
   },
   "source": [
    "## What is a Database?"
   ]
  },
  {
   "cell_type": "markdown",
   "metadata": {
    "slideshow": {
     "slide_type": "fragment"
    }
   },
   "source": [
    "A database is an organised collection of structured information\n",
    "\n",
    "i.e. any storage of data which has a uniform schema.\n",
    "\n",
    "A relational database has a uniform tabular structure. "
   ]
  },
  {
   "cell_type": "markdown",
   "metadata": {
    "slideshow": {
     "slide_type": "fragment"
    }
   },
   "source": [
    "### What is a Schema?"
   ]
  },
  {
   "cell_type": "markdown",
   "metadata": {
    "slideshow": {
     "slide_type": "fragment"
    }
   },
   "source": [
    "A blueprint for the structure of the data in a database. In particular, a schema describes the particular structure of tables in the database. \n",
    "\n",
    "Schemas can be enforced across the entire database: every piece of data in the database has a known schema up-front. \n",
    "\n",
    "Or, the data itself can be on-disk in any strucutre, with a schema imposed by *the query* (eg., spark). "
   ]
  },
  {
   "cell_type": "markdown",
   "metadata": {
    "slideshow": {
     "slide_type": "slide"
    }
   },
   "source": [
    "## What is a Relational Database?"
   ]
  },
  {
   "cell_type": "markdown",
   "metadata": {
    "slideshow": {
     "slide_type": "fragment"
    }
   },
   "source": [
    "Data stored in tables; data is structured the same way on-disk. \n",
    "\n",
    "There may be relationships (links) between these tables (based on data common to each)."
   ]
  },
  {
   "cell_type": "markdown",
   "metadata": {
    "slideshow": {
     "slide_type": "fragment"
    }
   },
   "source": [
    "## How else can you store data?\n",
    "\n",
    "Constrast a relational database, with a *file system* where each packet of data may have an *abitarily different* schema -- eg., `.docx`, `.png`.\n",
    "\n",
    "Here there is no uniform structure (each peice has a very different structure); table-structure isn't enforced (or common). "
   ]
  },
  {
   "cell_type": "markdown",
   "metadata": {
    "slideshow": {
     "slide_type": "slide"
    }
   },
   "source": [
    "## What are some examples of Relational Databases?"
   ]
  },
  {
   "cell_type": "markdown",
   "metadata": {
    "slideshow": {
     "slide_type": "fragment"
    }
   },
   "source": [
    "* postgres\n",
    "* oracle\n",
    "* mysql\n",
    "* mariadb\n",
    "* microsoft\n",
    "    * sql sever"
   ]
  },
  {
   "cell_type": "markdown",
   "metadata": {},
   "source": [
    "## When were relational databases first invented\n",
    "\n",
    "* 60s -- E. F. Codd invented \"Relational Algebra\" (mathematics of SQL)\n",
    "    * \"Relation\" (aka. Table)\n",
    "    * IBM\n",
    "* 70s -- teams outside IBM built the first one"
   ]
  },
  {
   "cell_type": "markdown",
   "metadata": {
    "slideshow": {
     "slide_type": "slide"
    }
   },
   "source": [
    "## How do I interact/communicate with relational databases?"
   ]
  },
  {
   "cell_type": "markdown",
   "metadata": {
    "slideshow": {
     "slide_type": "fragment"
    }
   },
   "source": [
    "SQL: strucutred query langauge\n",
    "* 1974 first version\n",
    "* 1986 standardized \n",
    "\n",
    "\n",
    "Verbs:\n",
    "\n",
    "* Data Manipulation \n",
    "    * `SELECT` <- reading\n",
    "    * `INSERT` <- inserting\n",
    "    * `UPDATE` <- editing\n",
    "    * `DELETE` <- removing\n",
    "* Data Defintion <- defining structure\n",
    "* Data Control <- user permissions"
   ]
  },
  {
   "cell_type": "markdown",
   "metadata": {
    "slideshow": {
     "slide_type": "slide"
    }
   },
   "source": [
    "SQL: strucutred query langauge\n",
    "\n",
    "Verbs:\n",
    "\n",
    "* Data Manipulation \n",
    "* Data Defintion \n",
    "    * `CREATE` <- create table\n",
    "    * `ALTER` <- eg., add fields to a table\n",
    "    * `DROP` <- remove table (, databases)\n",
    "* Data Control"
   ]
  },
  {
   "cell_type": "markdown",
   "metadata": {
    "slideshow": {
     "slide_type": "slide"
    }
   },
   "source": [
    "SQL: strucutred query langauge\n",
    "\n",
    "Verbs:\n",
    "\n",
    "* Data Manipulation \n",
    "* Data Defintion \n",
    "* Data Control\n",
    "    * `GRANT` <- give a user permissions\n",
    "    * `REVOKE` <- remove permissions"
   ]
  },
  {
   "cell_type": "markdown",
   "metadata": {},
   "source": [
    "## How do I write SQL queries?"
   ]
  },
  {
   "cell_type": "markdown",
   "metadata": {},
   "source": [
    "By convention, SQL keywords are written in capitals, and our custom names (identifiers) are written in lowercase:\n",
    "\n",
    "```sql\n",
    "\n",
    "CREATE TABLE tablename (\n",
    "  id INT,\n",
    "  location TEXT\n",
    ");\n",
    "\n",
    "\n",
    "INSERT INTO tablename VALUES\n",
    "(1, \"London\"),\n",
    "(2, \"Manchester\");\n",
    "\n",
    "\n",
    "SELECT id, location FROM tbl WHERE id == 10;\n",
    "\n",
    "SELECT * FROM table WHERE location IN (\"London\", \"Manchester\");```\n",
    "\n",
    "\n"
   ]
  },
  {
   "cell_type": "markdown",
   "metadata": {},
   "source": [
    "# Part 1: SQLite"
   ]
  },
  {
   "cell_type": "markdown",
   "metadata": {
    "slideshow": {
     "slide_type": "slide"
    }
   },
   "source": [
    "## What is SQLite?"
   ]
  },
  {
   "cell_type": "markdown",
   "metadata": {
    "slideshow": {
     "slide_type": "fragment"
    }
   },
   "source": [
    "SQLite is a relational database, but it has no database management program. \n",
    "\n",
    "You do not connect to some running program to create/query/etc. a database."
   ]
  },
  {
   "cell_type": "markdown",
   "metadata": {
    "slideshow": {
     "slide_type": "fragment"
    }
   },
   "source": [
    "SQLite is a *flat file* database, meaning, the whole db is in one file. And, all db operations are run from your program. "
   ]
  },
  {
   "cell_type": "markdown",
   "metadata": {
    "slideshow": {
     "slide_type": "slide"
    }
   },
   "source": [
    "## Why use SQLite?"
   ]
  },
  {
   "cell_type": "markdown",
   "metadata": {},
   "source": [
    "* sqlite3 is a good demonstration db\n",
    "    * uses SQL\n",
    "    * no installation\n",
    "    * follows \"database python conventions\"\n",
    "        * learning sqlite3 helpful for abitary databases\n",
    "* most used database in the world\n",
    "    * (neary every device will have an installation)\n",
    "        * eg., mobile apps, and even jupyter\n",
    "    * highly performant \"simple\" database"
   ]
  },
  {
   "cell_type": "markdown",
   "metadata": {
    "slideshow": {
     "slide_type": "fragment"
    }
   },
   "source": [
    "Sqlite3's API follows a common pattern across most python database libraries, so it is convenient for demonstration.\n",
    "\n",
    "However it is also a highly performant database library, which is used on billions of devices -- esp. with mobile apps, embedded & IOT devices, and small-medium sized websites. "
   ]
  },
  {
   "cell_type": "markdown",
   "metadata": {
    "slideshow": {
     "slide_type": "skip"
    }
   },
   "source": [
    "#### Aside: Modern Hardware\n",
    "Due to recent advances in RAM and CPU capacity (since, eg., 2017), procesing large amounts of data on a single machine with sqlite3 -- traditionally regarded as a *simple* database -- is now often more performant than the equivalent distributed solution. "
   ]
  },
  {
   "cell_type": "markdown",
   "metadata": {},
   "source": [
    "#### Aside: Why insert CSV data into a database?\n",
    "\n",
    "Here we create and insert some examples into a db to illustrate using a relational database. "
   ]
  },
  {
   "cell_type": "markdown",
   "metadata": {},
   "source": [
    "# Part 2: Python DBs"
   ]
  },
  {
   "cell_type": "markdown",
   "metadata": {
    "slideshow": {
     "slide_type": "slide"
    }
   },
   "source": [
    "## How do I import SQLite?\n"
   ]
  },
  {
   "cell_type": "markdown",
   "metadata": {},
   "source": [
    "sqlite3 is already installed:"
   ]
  },
  {
   "cell_type": "code",
   "execution_count": 1,
   "metadata": {
    "slideshow": {
     "slide_type": "fragment"
    }
   },
   "outputs": [],
   "source": [
    "import sqlite3\n"
   ]
  },
  {
   "cell_type": "markdown",
   "metadata": {
    "slideshow": {
     "slide_type": "skip"
    }
   },
   "source": [
    "ref: https://docs.python.org/3/library/sqlite3.html"
   ]
  },
  {
   "cell_type": "markdown",
   "metadata": {},
   "source": [
    "## How does SQLite3 work?"
   ]
  },
  {
   "cell_type": "markdown",
   "metadata": {},
   "source": [
    "NB. `ls` *lists* the current directory. On windows, use `dir`:"
   ]
  },
  {
   "cell_type": "code",
   "execution_count": 10,
   "metadata": {},
   "outputs": [
    {
     "name": "stdout",
     "output_type": "stream",
     "text": [
      "LIVE_01_JupyterReview.ipynb      NHS34_MyWorkbook.ipynb\n",
      "LIVE_31_SQL.ipynb                NHS34_Overview.ipynb\n",
      "LIVE_32_SQL_CSV.ipynb            NHS34_Workbook.ipynb\n",
      "LIVE_33_Spark.ipynb              NHS34_Workbook_Solutions.ipynb\n",
      "LIVE_33b_IntroSpark4Analysts.pdf Untitled.ipynb\n",
      "LIVE_34_Pandas.ipynb             \u001b[34mdatasets\u001b[m\u001b[m\n",
      "LIVE_411_EDA_Pandas.ipynb        \u001b[34mimages\u001b[m\u001b[m\n",
      "LIVE_412_EDA_Visuals.ipynb       my_titanic.db\n",
      "LIVE_413_EDA_Plotly.ipynb        \u001b[34mreference\u001b[m\u001b[m\n",
      "LIVE_42_Text.ipynb\n"
     ]
    }
   ],
   "source": [
    "!ls"
   ]
  },
  {
   "cell_type": "markdown",
   "metadata": {},
   "source": [
    "It \"connects\" by *creating a file* which will store the data:"
   ]
  },
  {
   "cell_type": "code",
   "execution_count": 5,
   "metadata": {},
   "outputs": [
    {
     "data": {
      "text/plain": [
       "<sqlite3.Connection at 0x7f88886887b0>"
      ]
     },
     "execution_count": 5,
     "metadata": {},
     "output_type": "execute_result"
    }
   ],
   "source": [
    "sqlite3.connect(\"titanic.db\")"
   ]
  },
  {
   "cell_type": "markdown",
   "metadata": {},
   "source": [
    "sqlite3 creates database *files* on-disk, eg., when we create a database (say, \"titanic.db\") we have a file called \"titanic.db\" on-disk:"
   ]
  },
  {
   "cell_type": "code",
   "execution_count": 6,
   "metadata": {},
   "outputs": [
    {
     "name": "stdout",
     "output_type": "stream",
     "text": [
      "LIVE_01_JupyterReview.ipynb      NHS34_MyWorkbook.ipynb\n",
      "LIVE_31_SQL.ipynb                NHS34_Overview.ipynb\n",
      "LIVE_32_SQL_CSV.ipynb            NHS34_Workbook.ipynb\n",
      "LIVE_33_Spark.ipynb              NHS34_Workbook_Solutions.ipynb\n",
      "LIVE_33b_IntroSpark4Analysts.pdf Untitled.ipynb\n",
      "LIVE_34_Pandas.ipynb             \u001b[34mdatasets\u001b[m\u001b[m\n",
      "LIVE_411_EDA_Pandas.ipynb        \u001b[34mimages\u001b[m\u001b[m\n",
      "LIVE_412_EDA_Visuals.ipynb       my_titanic.db\n",
      "LIVE_413_EDA_Plotly.ipynb        \u001b[34mreference\u001b[m\u001b[m\n",
      "LIVE_42_Text.ipynb               titanic.db\n"
     ]
    }
   ],
   "source": [
    "!ls"
   ]
  },
  {
   "cell_type": "markdown",
   "metadata": {},
   "source": [
    "## How do I delete a database?"
   ]
  },
  {
   "cell_type": "markdown",
   "metadata": {},
   "source": [
    "The `unlink` function *deletes a file*:"
   ]
  },
  {
   "cell_type": "code",
   "execution_count": 29,
   "metadata": {
    "slideshow": {
     "slide_type": "skip"
    }
   },
   "outputs": [],
   "source": [
    "import os\n",
    "\n",
    "if os.path.exists(\"titanic.db\"):\n",
    "    os.unlink(\"titanic.db\") # if exists then remove/delete"
   ]
  },
  {
   "cell_type": "markdown",
   "metadata": {},
   "source": [
    "...the reason for having this example *here* is so that we delete any prior \"dbs\", before running the examples below..."
   ]
  },
  {
   "cell_type": "code",
   "execution_count": 8,
   "metadata": {},
   "outputs": [
    {
     "name": "stdout",
     "output_type": "stream",
     "text": [
      "LIVE_01_JupyterReview.ipynb      NHS34_MyWorkbook.ipynb\n",
      "LIVE_31_SQL.ipynb                NHS34_Overview.ipynb\n",
      "LIVE_32_SQL_CSV.ipynb            NHS34_Workbook.ipynb\n",
      "LIVE_33_Spark.ipynb              NHS34_Workbook_Solutions.ipynb\n",
      "LIVE_33b_IntroSpark4Analysts.pdf Untitled.ipynb\n",
      "LIVE_34_Pandas.ipynb             \u001b[34mdatasets\u001b[m\u001b[m\n",
      "LIVE_411_EDA_Pandas.ipynb        \u001b[34mimages\u001b[m\u001b[m\n",
      "LIVE_412_EDA_Visuals.ipynb       my_titanic.db\n",
      "LIVE_413_EDA_Plotly.ipynb        \u001b[34mreference\u001b[m\u001b[m\n",
      "LIVE_42_Text.ipynb\n"
     ]
    }
   ],
   "source": [
    "!ls"
   ]
  },
  {
   "cell_type": "markdown",
   "metadata": {
    "slideshow": {
     "slide_type": "slide"
    }
   },
   "source": [
    "## How do I create a db?"
   ]
  },
  {
   "cell_type": "markdown",
   "metadata": {
    "slideshow": {
     "slide_type": "fragment"
    }
   },
   "source": [
    "Create a database to hold some \"titanic\" data..."
   ]
  },
  {
   "cell_type": "code",
   "execution_count": 11,
   "metadata": {
    "slideshow": {
     "slide_type": "fragment"
    }
   },
   "outputs": [],
   "source": [
    "conn = sqlite3.connect(\"titanic.db\")\n"
   ]
  },
  {
   "cell_type": "markdown",
   "metadata": {
    "slideshow": {
     "slide_type": "fragment"
    }
   },
   "source": [
    "The `Connection` object is mostly used for debugging and error handling. "
   ]
  },
  {
   "cell_type": "markdown",
   "metadata": {},
   "source": [
    "`variable = library.method(input)`"
   ]
  },
  {
   "cell_type": "markdown",
   "metadata": {},
   "source": [
    "`connect` will create a database file if it doesn't exist; otherwise, it will connect (ie., open) an existing file..."
   ]
  },
  {
   "cell_type": "markdown",
   "metadata": {
    "slideshow": {
     "slide_type": "slide"
    }
   },
   "source": [
    "## Where are the database files?"
   ]
  },
  {
   "cell_type": "markdown",
   "metadata": {
    "slideshow": {
     "slide_type": "fragment"
    }
   },
   "source": [
    "By default, in the same directory as the script which created them.\n",
    "\n",
    "We can list the current directory's contents:"
   ]
  },
  {
   "cell_type": "code",
   "execution_count": 4,
   "metadata": {
    "slideshow": {
     "slide_type": "fragment"
    }
   },
   "outputs": [
    {
     "name": "stdout",
     "output_type": "stream",
     "text": [
      "/Users/michael/Dropbox/courses/znhspython/02x-DataAnalysis\n",
      "\n"
     ]
    },
    {
     "data": {
      "text/plain": [
       "['NHS34_MyWorkbook.ipynb',\n",
       " 'LIVE_33_Spark.ipynb',\n",
       " 'Untitled1.ipynb',\n",
       " '.DS_Store',\n",
       " 'images',\n",
       " 'Untitled.ipynb',\n",
       " 'LIVE_413_EDA_Plotly.ipynb',\n",
       " 'NHS34_Overview.ipynb',\n",
       " 'datasets',\n",
       " 'LIVE_32_SQL_CSV.ipynb',\n",
       " 'LIVE_411_EDA_Pandas.ipynb',\n",
       " 'LIVE_42_Text.ipynb',\n",
       " 'NHS34_Workbook.ipynb',\n",
       " 'LIVE_412_EDA_Visuals.ipynb',\n",
       " 'LIVE_31_SQL.ipynb',\n",
       " 'NHS34_Workbook_Solutions.ipynb',\n",
       " '.ipynb_checkpoints',\n",
       " 'LIVE_01_JupyterReview.ipynb',\n",
       " 'titanic.db',\n",
       " 'LIVE_34_Pandas.ipynb',\n",
       " 'reference']"
      ]
     },
     "execution_count": 4,
     "metadata": {},
     "output_type": "execute_result"
    }
   ],
   "source": [
    "from os import listdir, getcwd\n",
    "\n",
    "print(getcwd())\n",
    "print()\n",
    "listdir('.')\n"
   ]
  },
  {
   "cell_type": "markdown",
   "metadata": {
    "slideshow": {
     "slide_type": "slide"
    }
   },
   "source": [
    "Or just show the files which contain `db` in their name:"
   ]
  },
  {
   "cell_type": "code",
   "execution_count": 5,
   "metadata": {
    "slideshow": {
     "slide_type": "fragment"
    }
   },
   "outputs": [
    {
     "data": {
      "text/plain": [
       "['titanic.db']"
      ]
     },
     "execution_count": 5,
     "metadata": {},
     "output_type": "execute_result"
    }
   ],
   "source": [
    "from glob import glob\n",
    "\n",
    "glob('*.db*')\n"
   ]
  },
  {
   "cell_type": "markdown",
   "metadata": {
    "slideshow": {
     "slide_type": "fragment"
    }
   },
   "source": [
    "By convention developers end db files with: `.db .sqlite .db3 .sqlite3`. "
   ]
  },
  {
   "cell_type": "markdown",
   "metadata": {},
   "source": [
    "`glob` is a technical term which means \"searching for files by a pattern\". "
   ]
  },
  {
   "cell_type": "markdown",
   "metadata": {
    "slideshow": {
     "slide_type": "slide"
    }
   },
   "source": [
    "## How do I communicate/query?"
   ]
  },
  {
   "cell_type": "markdown",
   "metadata": {},
   "source": [
    "The connection object above is just a connection to the file; if you want to query you need a cursor:"
   ]
  },
  {
   "cell_type": "markdown",
   "metadata": {
    "slideshow": {
     "slide_type": "fragment"
    }
   },
   "source": [
    "create a Cursor object"
   ]
  },
  {
   "cell_type": "code",
   "execution_count": 31,
   "metadata": {
    "slideshow": {
     "slide_type": "fragment"
    }
   },
   "outputs": [],
   "source": [
    "\n",
    "conn = sqlite3.connect(\"titanic.db\") # creates the file\n",
    "cur = conn.cursor() # tracks dataset, enables querying\n"
   ]
  },
  {
   "cell_type": "markdown",
   "metadata": {
    "slideshow": {
     "slide_type": "fragment"
    }
   },
   "source": [
    "<font size=3 color=red> important: *use* a cursor! (to execute queries)</span>"
   ]
  },
  {
   "cell_type": "markdown",
   "metadata": {
    "slideshow": {
     "slide_type": "slide"
    }
   },
   "source": [
    "to perform SQL commands we can use the `.execute()` method"
   ]
  },
  {
   "cell_type": "code",
   "execution_count": 32,
   "metadata": {
    "slideshow": {
     "slide_type": "fragment"
    }
   },
   "outputs": [],
   "source": [
    "cur.execute('CREATE TABLE data (x INT, y INT);');\n"
   ]
  },
  {
   "cell_type": "markdown",
   "metadata": {},
   "source": [
    "...create a table called `data` with columns (x, y)..."
   ]
  },
  {
   "cell_type": "code",
   "execution_count": 33,
   "metadata": {
    "slideshow": {
     "slide_type": "fragment"
    }
   },
   "outputs": [],
   "source": [
    "cur.execute('INSERT INTO data VALUES (0, 0), (1, 2), (3, 5)');\n"
   ]
  },
  {
   "cell_type": "markdown",
   "metadata": {},
   "source": [
    "...insert three rows into `data`... "
   ]
  },
  {
   "cell_type": "code",
   "execution_count": 34,
   "metadata": {
    "slideshow": {
     "slide_type": "fragment"
    }
   },
   "outputs": [
    {
     "data": {
      "text/plain": [
       "[(0, 0), (1, 2), (3, 5)]"
      ]
     },
     "execution_count": 34,
     "metadata": {},
     "output_type": "execute_result"
    }
   ],
   "source": [
    "cur.execute('SELECT x, y FROM data').fetchall()\n"
   ]
  },
  {
   "cell_type": "markdown",
   "metadata": {},
   "source": [
    "...selecting all the rows from `data`... "
   ]
  },
  {
   "cell_type": "markdown",
   "metadata": {
    "slideshow": {
     "slide_type": "slide"
    }
   },
   "source": [
    "## How do write a multi-line SQL query?"
   ]
  },
  {
   "cell_type": "markdown",
   "metadata": {},
   "source": [
    "It's often convenient to write SQL across multiple lines, this requires a specifc multi-line string syntax:"
   ]
  },
  {
   "cell_type": "markdown",
   "metadata": {},
   "source": [
    "```\n",
    "SELECT \n",
    "    d.id,\n",
    "    d.location AS city,\n",
    "    c.price AS revenue,\n",
    "    (c.loss + c.price) AS profit\n",
    "FROM \n",
    "    data AS d\n",
    "    costs AS c\n",
    "```"
   ]
  },
  {
   "cell_type": "markdown",
   "metadata": {
    "slideshow": {
     "slide_type": "fragment"
    }
   },
   "source": [
    "Use triple quotes..."
   ]
  },
  {
   "cell_type": "code",
   "execution_count": 10,
   "metadata": {
    "scrolled": true,
    "slideshow": {
     "slide_type": "fragment"
    }
   },
   "outputs": [
    {
     "name": "stdout",
     "output_type": "stream",
     "text": [
      "\n",
      "this\n",
      "runs\n",
      "across\n",
      "many lines\n",
      "\n"
     ]
    }
   ],
   "source": [
    "print('''\n",
    "this\n",
    "runs\n",
    "across\n",
    "many lines\n",
    "''')"
   ]
  },
  {
   "cell_type": "code",
   "execution_count": 21,
   "metadata": {
    "slideshow": {
     "slide_type": "slide"
    }
   },
   "outputs": [],
   "source": [
    "cur.execute('''\n",
    "INSERT INTO \n",
    "    data \n",
    "VALUES \n",
    "    (9, 8), \n",
    "    (7, 6), \n",
    "    (5, 4);\n",
    "''');\n"
   ]
  },
  {
   "cell_type": "code",
   "execution_count": 13,
   "metadata": {
    "slideshow": {
     "slide_type": "fragment"
    }
   },
   "outputs": [
    {
     "data": {
      "text/plain": [
       "[(0, 0), (1, 2), (3, 5), (9, 8), (7, 6), (5, 4)]"
      ]
     },
     "execution_count": 13,
     "metadata": {},
     "output_type": "execute_result"
    }
   ],
   "source": [
    "cur.execute('''\n",
    "SELECT \n",
    "    * \n",
    "FROM \n",
    "    data;\n",
    "''').fetchall()\n"
   ]
  },
  {
   "cell_type": "markdown",
   "metadata": {},
   "source": [
    "## How do I ensure data has been saved to the db?"
   ]
  },
  {
   "cell_type": "code",
   "execution_count": 35,
   "metadata": {},
   "outputs": [],
   "source": [
    "conn.commit()"
   ]
  },
  {
   "cell_type": "markdown",
   "metadata": {},
   "source": [
    "## How do I finish using a database?"
   ]
  },
  {
   "cell_type": "markdown",
   "metadata": {},
   "source": [
    "Commit the data, as above, and then `.close()`:"
   ]
  },
  {
   "cell_type": "code",
   "execution_count": 37,
   "metadata": {},
   "outputs": [],
   "source": [
    "conn.close()"
   ]
  },
  {
   "cell_type": "markdown",
   "metadata": {
    "slideshow": {
     "slide_type": "slide"
    }
   },
   "source": [
    "## How do I delete an existing db?"
   ]
  },
  {
   "cell_type": "markdown",
   "metadata": {
    "slideshow": {
     "slide_type": "fragment"
    }
   },
   "source": [
    "We can delete the db just by removing the file (`unlink` here means delete file)."
   ]
  },
  {
   "cell_type": "code",
   "execution_count": 38,
   "metadata": {},
   "outputs": [],
   "source": [
    "# close the connection\n",
    "conn.close()\n"
   ]
  },
  {
   "cell_type": "markdown",
   "metadata": {},
   "source": [
    "The `unlink()` function deletes a file:"
   ]
  },
  {
   "cell_type": "code",
   "execution_count": 39,
   "metadata": {
    "slideshow": {
     "slide_type": "fragment"
    }
   },
   "outputs": [],
   "source": [
    "os.unlink('titanic.db')\n"
   ]
  },
  {
   "cell_type": "markdown",
   "metadata": {},
   "source": [
    "## How do I use SQLite3 in-full?"
   ]
  },
  {
   "cell_type": "code",
   "execution_count": 43,
   "metadata": {},
   "outputs": [
    {
     "name": "stdout",
     "output_type": "stream",
     "text": [
      "[(10, 20), (30, 40)]\n"
     ]
    }
   ],
   "source": [
    "import sqlite3\n",
    "import os \n",
    "\n",
    "# step 0. remove existing databases if needed\n",
    "os.unlink(\"titanic.db\")\n",
    "\n",
    "# step 1. connect\n",
    "conn = sqlite3.connect(\"titanic.db\") \n",
    "\n",
    "# step 2. get a cursor\n",
    "cur = conn.cursor()\n",
    "\n",
    "# step 3. run the query\n",
    "cur.execute('CREATE TABLE data (x INT, y INT)')\n",
    "cur.execute('INSERT INTO data VALUES (10, 20), (30, 40)')\n",
    "print(cur.execute('SELECT * FROM data').fetchall())\n",
    "\n",
    "# step 4. commit *on the connection* to save any changes\n",
    "conn.commit()\n",
    "\n",
    "# step 5. close the connection\n",
    "conn.close()"
   ]
  },
  {
   "cell_type": "markdown",
   "metadata": {},
   "source": [
    "## Exercise (15min)\n",
    "\n",
    "Starting with the code above as the key example,\n",
    "\n",
    "* Create a database to hold some data points in a data table\n",
    "* Insert data points \n",
    "* Select and show them\n",
    "* Commit, Close the connection on the DB\n",
    "* EXTRA:\n",
    "    * add a text field to the data table when you create it\n",
    "    * select a groupby on that text field"
   ]
  },
  {
   "cell_type": "markdown",
   "metadata": {},
   "source": [
    "# Part 3: Working with a Dataset"
   ]
  },
  {
   "cell_type": "markdown",
   "metadata": {
    "slideshow": {
     "slide_type": "slide"
    }
   },
   "source": [
    "## What is the titanic dataset?"
   ]
  },
  {
   "cell_type": "markdown",
   "metadata": {},
   "source": [
    "The titanic dataset describes the passengers on the titanic, including whether they survived. "
   ]
  },
  {
   "cell_type": "code",
   "execution_count": 44,
   "metadata": {
    "slideshow": {
     "slide_type": "fragment"
    }
   },
   "outputs": [
    {
     "data": {
      "text/html": [
       "<div>\n",
       "<style scoped>\n",
       "    .dataframe tbody tr th:only-of-type {\n",
       "        vertical-align: middle;\n",
       "    }\n",
       "\n",
       "    .dataframe tbody tr th {\n",
       "        vertical-align: top;\n",
       "    }\n",
       "\n",
       "    .dataframe thead th {\n",
       "        text-align: right;\n",
       "    }\n",
       "</style>\n",
       "<table border=\"1\" class=\"dataframe\">\n",
       "  <thead>\n",
       "    <tr style=\"text-align: right;\">\n",
       "      <th></th>\n",
       "      <th>survived</th>\n",
       "      <th>pclass</th>\n",
       "      <th>sex</th>\n",
       "      <th>age</th>\n",
       "      <th>sibsp</th>\n",
       "      <th>parch</th>\n",
       "      <th>fare</th>\n",
       "      <th>embarked</th>\n",
       "      <th>class</th>\n",
       "      <th>who</th>\n",
       "      <th>adult_male</th>\n",
       "      <th>deck</th>\n",
       "      <th>embark_town</th>\n",
       "      <th>alive</th>\n",
       "      <th>alone</th>\n",
       "    </tr>\n",
       "  </thead>\n",
       "  <tbody>\n",
       "    <tr>\n",
       "      <th>0</th>\n",
       "      <td>0</td>\n",
       "      <td>3</td>\n",
       "      <td>male</td>\n",
       "      <td>22.0</td>\n",
       "      <td>1</td>\n",
       "      <td>0</td>\n",
       "      <td>7.2500</td>\n",
       "      <td>S</td>\n",
       "      <td>Third</td>\n",
       "      <td>man</td>\n",
       "      <td>True</td>\n",
       "      <td>NaN</td>\n",
       "      <td>Southampton</td>\n",
       "      <td>no</td>\n",
       "      <td>False</td>\n",
       "    </tr>\n",
       "    <tr>\n",
       "      <th>1</th>\n",
       "      <td>1</td>\n",
       "      <td>1</td>\n",
       "      <td>female</td>\n",
       "      <td>38.0</td>\n",
       "      <td>1</td>\n",
       "      <td>0</td>\n",
       "      <td>71.2833</td>\n",
       "      <td>C</td>\n",
       "      <td>First</td>\n",
       "      <td>woman</td>\n",
       "      <td>False</td>\n",
       "      <td>C</td>\n",
       "      <td>Cherbourg</td>\n",
       "      <td>yes</td>\n",
       "      <td>False</td>\n",
       "    </tr>\n",
       "    <tr>\n",
       "      <th>2</th>\n",
       "      <td>1</td>\n",
       "      <td>3</td>\n",
       "      <td>female</td>\n",
       "      <td>26.0</td>\n",
       "      <td>0</td>\n",
       "      <td>0</td>\n",
       "      <td>7.9250</td>\n",
       "      <td>S</td>\n",
       "      <td>Third</td>\n",
       "      <td>woman</td>\n",
       "      <td>False</td>\n",
       "      <td>NaN</td>\n",
       "      <td>Southampton</td>\n",
       "      <td>yes</td>\n",
       "      <td>True</td>\n",
       "    </tr>\n",
       "    <tr>\n",
       "      <th>3</th>\n",
       "      <td>1</td>\n",
       "      <td>1</td>\n",
       "      <td>female</td>\n",
       "      <td>35.0</td>\n",
       "      <td>1</td>\n",
       "      <td>0</td>\n",
       "      <td>53.1000</td>\n",
       "      <td>S</td>\n",
       "      <td>First</td>\n",
       "      <td>woman</td>\n",
       "      <td>False</td>\n",
       "      <td>C</td>\n",
       "      <td>Southampton</td>\n",
       "      <td>yes</td>\n",
       "      <td>False</td>\n",
       "    </tr>\n",
       "    <tr>\n",
       "      <th>4</th>\n",
       "      <td>0</td>\n",
       "      <td>3</td>\n",
       "      <td>male</td>\n",
       "      <td>35.0</td>\n",
       "      <td>0</td>\n",
       "      <td>0</td>\n",
       "      <td>8.0500</td>\n",
       "      <td>S</td>\n",
       "      <td>Third</td>\n",
       "      <td>man</td>\n",
       "      <td>True</td>\n",
       "      <td>NaN</td>\n",
       "      <td>Southampton</td>\n",
       "      <td>no</td>\n",
       "      <td>True</td>\n",
       "    </tr>\n",
       "    <tr>\n",
       "      <th>...</th>\n",
       "      <td>...</td>\n",
       "      <td>...</td>\n",
       "      <td>...</td>\n",
       "      <td>...</td>\n",
       "      <td>...</td>\n",
       "      <td>...</td>\n",
       "      <td>...</td>\n",
       "      <td>...</td>\n",
       "      <td>...</td>\n",
       "      <td>...</td>\n",
       "      <td>...</td>\n",
       "      <td>...</td>\n",
       "      <td>...</td>\n",
       "      <td>...</td>\n",
       "      <td>...</td>\n",
       "    </tr>\n",
       "    <tr>\n",
       "      <th>886</th>\n",
       "      <td>0</td>\n",
       "      <td>2</td>\n",
       "      <td>male</td>\n",
       "      <td>27.0</td>\n",
       "      <td>0</td>\n",
       "      <td>0</td>\n",
       "      <td>13.0000</td>\n",
       "      <td>S</td>\n",
       "      <td>Second</td>\n",
       "      <td>man</td>\n",
       "      <td>True</td>\n",
       "      <td>NaN</td>\n",
       "      <td>Southampton</td>\n",
       "      <td>no</td>\n",
       "      <td>True</td>\n",
       "    </tr>\n",
       "    <tr>\n",
       "      <th>887</th>\n",
       "      <td>1</td>\n",
       "      <td>1</td>\n",
       "      <td>female</td>\n",
       "      <td>19.0</td>\n",
       "      <td>0</td>\n",
       "      <td>0</td>\n",
       "      <td>30.0000</td>\n",
       "      <td>S</td>\n",
       "      <td>First</td>\n",
       "      <td>woman</td>\n",
       "      <td>False</td>\n",
       "      <td>B</td>\n",
       "      <td>Southampton</td>\n",
       "      <td>yes</td>\n",
       "      <td>True</td>\n",
       "    </tr>\n",
       "    <tr>\n",
       "      <th>888</th>\n",
       "      <td>0</td>\n",
       "      <td>3</td>\n",
       "      <td>female</td>\n",
       "      <td>NaN</td>\n",
       "      <td>1</td>\n",
       "      <td>2</td>\n",
       "      <td>23.4500</td>\n",
       "      <td>S</td>\n",
       "      <td>Third</td>\n",
       "      <td>woman</td>\n",
       "      <td>False</td>\n",
       "      <td>NaN</td>\n",
       "      <td>Southampton</td>\n",
       "      <td>no</td>\n",
       "      <td>False</td>\n",
       "    </tr>\n",
       "    <tr>\n",
       "      <th>889</th>\n",
       "      <td>1</td>\n",
       "      <td>1</td>\n",
       "      <td>male</td>\n",
       "      <td>26.0</td>\n",
       "      <td>0</td>\n",
       "      <td>0</td>\n",
       "      <td>30.0000</td>\n",
       "      <td>C</td>\n",
       "      <td>First</td>\n",
       "      <td>man</td>\n",
       "      <td>True</td>\n",
       "      <td>C</td>\n",
       "      <td>Cherbourg</td>\n",
       "      <td>yes</td>\n",
       "      <td>True</td>\n",
       "    </tr>\n",
       "    <tr>\n",
       "      <th>890</th>\n",
       "      <td>0</td>\n",
       "      <td>3</td>\n",
       "      <td>male</td>\n",
       "      <td>32.0</td>\n",
       "      <td>0</td>\n",
       "      <td>0</td>\n",
       "      <td>7.7500</td>\n",
       "      <td>Q</td>\n",
       "      <td>Third</td>\n",
       "      <td>man</td>\n",
       "      <td>True</td>\n",
       "      <td>NaN</td>\n",
       "      <td>Queenstown</td>\n",
       "      <td>no</td>\n",
       "      <td>True</td>\n",
       "    </tr>\n",
       "  </tbody>\n",
       "</table>\n",
       "<p>891 rows × 15 columns</p>\n",
       "</div>"
      ],
      "text/plain": [
       "     survived  pclass     sex   age  sibsp  parch     fare embarked   class  \\\n",
       "0           0       3    male  22.0      1      0   7.2500        S   Third   \n",
       "1           1       1  female  38.0      1      0  71.2833        C   First   \n",
       "2           1       3  female  26.0      0      0   7.9250        S   Third   \n",
       "3           1       1  female  35.0      1      0  53.1000        S   First   \n",
       "4           0       3    male  35.0      0      0   8.0500        S   Third   \n",
       "..        ...     ...     ...   ...    ...    ...      ...      ...     ...   \n",
       "886         0       2    male  27.0      0      0  13.0000        S  Second   \n",
       "887         1       1  female  19.0      0      0  30.0000        S   First   \n",
       "888         0       3  female   NaN      1      2  23.4500        S   Third   \n",
       "889         1       1    male  26.0      0      0  30.0000        C   First   \n",
       "890         0       3    male  32.0      0      0   7.7500        Q   Third   \n",
       "\n",
       "       who  adult_male deck  embark_town alive  alone  \n",
       "0      man        True  NaN  Southampton    no  False  \n",
       "1    woman       False    C    Cherbourg   yes  False  \n",
       "2    woman       False  NaN  Southampton   yes   True  \n",
       "3    woman       False    C  Southampton   yes  False  \n",
       "4      man        True  NaN  Southampton    no   True  \n",
       "..     ...         ...  ...          ...   ...    ...  \n",
       "886    man        True  NaN  Southampton    no   True  \n",
       "887  woman       False    B  Southampton   yes   True  \n",
       "888  woman       False  NaN  Southampton    no  False  \n",
       "889    man        True    C    Cherbourg   yes   True  \n",
       "890    man        True  NaN   Queenstown    no   True  \n",
       "\n",
       "[891 rows x 15 columns]"
      ]
     },
     "execution_count": 44,
     "metadata": {},
     "output_type": "execute_result"
    }
   ],
   "source": [
    "import pandas as pd\n",
    "\n",
    "pd.read_csv('datasets/titanic.csv')"
   ]
  },
  {
   "cell_type": "markdown",
   "metadata": {},
   "source": [
    "...we will look at this data set later, for now we're going to create a database for working with it..."
   ]
  },
  {
   "cell_type": "markdown",
   "metadata": {
    "slideshow": {
     "slide_type": "slide"
    }
   },
   "source": [
    "## How do I create a table?"
   ]
  },
  {
   "cell_type": "code",
   "execution_count": 11,
   "metadata": {
    "slideshow": {
     "slide_type": "fragment"
    }
   },
   "outputs": [],
   "source": [
    "import os\n",
    "os.unlink('titanic.db')\n",
    "\n",
    "conn = sqlite3.connect(\"titanic.db\")\n",
    "cur = conn.cursor()\n",
    "\n",
    "cur.execute('''\n",
    "CREATE TABLE titanic (\n",
    "    id INT PRIMARY KEY,\n",
    "    survived INT,\n",
    "    sex TEXT,\n",
    "    age FLOAT,\n",
    "    fare FLOAT,\n",
    "    class TEXT\n",
    ");\n",
    "''');"
   ]
  },
  {
   "cell_type": "markdown",
   "metadata": {},
   "source": [
    "Here we define a table just to hold a few columns of the dataset above. "
   ]
  },
  {
   "cell_type": "markdown",
   "metadata": {
    "slideshow": {
     "slide_type": "slide"
    }
   },
   "source": [
    "## How do I insert data into a table?"
   ]
  },
  {
   "cell_type": "code",
   "execution_count": 12,
   "metadata": {
    "slideshow": {
     "slide_type": "fragment"
    }
   },
   "outputs": [],
   "source": [
    "cur.execute('''\n",
    "INSERT INTO \n",
    "    titanic \n",
    "VALUES\n",
    "    (1, 0, \"male\", 22.0, 7.2500, \"Third\"),\n",
    "    (2, 1, \"female\", 38.0, 71.28, \"First\");\n",
    "''');\n"
   ]
  },
  {
   "cell_type": "markdown",
   "metadata": {
    "slideshow": {
     "slide_type": "slide"
    }
   },
   "source": [
    "## How do I select data from a table?"
   ]
  },
  {
   "cell_type": "markdown",
   "metadata": {
    "slideshow": {
     "slide_type": "fragment"
    }
   },
   "source": [
    "With queries that return information, the rows are not returned until you request them. "
   ]
  },
  {
   "cell_type": "code",
   "execution_count": 54,
   "metadata": {
    "slideshow": {
     "slide_type": "fragment"
    }
   },
   "outputs": [
    {
     "data": {
      "text/plain": [
       "<sqlite3.Cursor at 0x7f88987a2c00>"
      ]
     },
     "execution_count": 54,
     "metadata": {},
     "output_type": "execute_result"
    }
   ],
   "source": [
    "cur.execute('SELECT * FROM titanic')"
   ]
  },
  {
   "cell_type": "markdown",
   "metadata": {
    "slideshow": {
     "slide_type": "fragment"
    }
   },
   "source": [
    "You can request them:\n",
    "* `.fetchall`, all at once \n",
    "    * load all results into memory\n",
    "    * eg., 100 GB -> one machine?\n",
    "* `for` loop\n",
    "    * loads one row at a time\n",
    "    * process row-by-row"
   ]
  },
  {
   "cell_type": "code",
   "execution_count": 55,
   "metadata": {
    "slideshow": {
     "slide_type": "fragment"
    }
   },
   "outputs": [
    {
     "data": {
      "text/plain": [
       "[(1, 0, 'male', 22.0, 7.25, 'Third'), (2, 1, 'female', 38.0, 71.28, 'First')]"
      ]
     },
     "execution_count": 55,
     "metadata": {},
     "output_type": "execute_result"
    }
   ],
   "source": [
    "results = cur.execute('SELECT * FROM titanic')\n",
    "\n",
    "results.fetchall()\n"
   ]
  },
  {
   "cell_type": "markdown",
   "metadata": {},
   "source": [
    "Aside: by default `execute` returns an *iterator* which  behaves like a collection (eg., list) but \"runs out\" and only provides one element at a time.\n",
    "\n",
    "`.fetchall()` converts the iterator into a list, which stores all data in memory -- so you can loop over it as many times as you like."
   ]
  },
  {
   "cell_type": "markdown",
   "metadata": {
    "slideshow": {
     "slide_type": "slide"
    }
   },
   "source": [
    "## How do I loop over a result set in python?"
   ]
  },
  {
   "cell_type": "code",
   "execution_count": 58,
   "metadata": {
    "slideshow": {
     "slide_type": "fragment"
    }
   },
   "outputs": [
    {
     "name": "stdout",
     "output_type": "stream",
     "text": [
      "1 Third\n",
      "2 First\n"
     ]
    }
   ],
   "source": [
    "results = cur.execute('SELECT * FROM titanic') # NOTE: no `.fetchall`\n",
    "\n",
    "# for LABEL in dataset: \n",
    "for row in results:\n",
    "    # row = (1, 0, 'male', 22.0, 7.25, 'Third') \n",
    "    # row = (2, 1, 'female', 38.0, 71.28, 'First')\n",
    "    \n",
    "    print(row[0], row[-1])\n",
    "    "
   ]
  },
  {
   "cell_type": "markdown",
   "metadata": {},
   "source": [
    "The dataset we get out, in `row`, is a tuple -- to access elements of this tuple (ie., the columns of the db) we have use an index.\n",
    "\n",
    "Eg., `row[0]` is the `id` column. "
   ]
  },
  {
   "cell_type": "markdown",
   "metadata": {
    "slideshow": {
     "slide_type": "slide"
    }
   },
   "source": [
    "## How can I assign field names in a for loop?"
   ]
  },
  {
   "cell_type": "code",
   "execution_count": 60,
   "metadata": {},
   "outputs": [
    {
     "name": "stdout",
     "output_type": "stream",
     "text": [
      "1\n",
      "2\n",
      "\n",
      "0\n",
      "1\n"
     ]
    }
   ],
   "source": [
    "dataset = [\n",
    "    (1, 0, 'male', 22.0, 7.25, 'Third'),\n",
    "    (2, 1, 'female', 38.0, 71.28, 'First')\n",
    "]\n",
    "\n",
    "for row in dataset:\n",
    "    # row = (1, 0, 'male', 22.0, 7.25, 'Third') \n",
    "    # row = (2, 1, 'female', 38.0, 71.28, 'First')\n",
    "    print(row[0])\n",
    "\n",
    "print()\n",
    "for pid, psurvived, psex, page, pfare, pclass in dataset:\n",
    "    print(psurvived)"
   ]
  },
  {
   "cell_type": "code",
   "execution_count": 62,
   "metadata": {
    "scrolled": true,
    "slideshow": {
     "slide_type": "fragment"
    }
   },
   "outputs": [
    {
     "name": "stdout",
     "output_type": "stream",
     "text": [
      "0 male\n",
      "1 female\n"
     ]
    }
   ],
   "source": [
    "results = cur.execute('SELECT * FROM titanic');\n",
    "\n",
    "for pid, psurvived, psex, page, pfare, pclass in results:\n",
    "    print(psurvived, psex)"
   ]
  },
  {
   "cell_type": "markdown",
   "metadata": {},
   "source": [
    "Recall we need to close & commit:"
   ]
  },
  {
   "cell_type": "code",
   "execution_count": 13,
   "metadata": {},
   "outputs": [],
   "source": [
    "conn.commit()\n",
    "conn.close()"
   ]
  },
  {
   "cell_type": "markdown",
   "metadata": {},
   "source": [
    "## EXTRA: How can I obtain rows as dictionaries?\n",
    "\n",
    "Some databases allow you to obtain a dictionary for each row, this can be more convenient to use. "
   ]
  },
  {
   "cell_type": "code",
   "execution_count": 17,
   "metadata": {},
   "outputs": [
    {
     "name": "stdout",
     "output_type": "stream",
     "text": [
      "0 male\n",
      "1 female\n"
     ]
    }
   ],
   "source": [
    "import sqlite3\n",
    "con = sqlite3.connect('titanic.db')\n",
    "\n",
    "# new line: this changes how rows are created\n",
    "# returns a Row object, which is more like a dictionary\n",
    "\n",
    "con.row_factory = sqlite3.Row\n",
    "\n",
    "\n",
    "cur = con.cursor()\n",
    "res = cur.execute('SELECT * FROM titanic')\n",
    "\n",
    "for row in res:\n",
    "    print(row['survived'], row['sex'])\n",
    "    \n",
    "con.commit()\n",
    "con.close()"
   ]
  },
  {
   "cell_type": "markdown",
   "metadata": {},
   "source": [
    "Aside: other databases require you to write\n",
    "```python\n",
    "cur = con.cursor(dictionary=True) # add the dictionary option\n",
    "```"
   ]
  },
  {
   "cell_type": "markdown",
   "metadata": {},
   "source": [
    "## How do I loop more than once?"
   ]
  },
  {
   "cell_type": "markdown",
   "metadata": {},
   "source": [
    "If you run the loop a second time, you will not see any data:"
   ]
  },
  {
   "cell_type": "code",
   "execution_count": 68,
   "metadata": {
    "slideshow": {
     "slide_type": "fragment"
    }
   },
   "outputs": [
    {
     "name": "stdout",
     "output_type": "stream",
     "text": [
      "first 0 male\n",
      "first 1 female\n",
      "\n"
     ]
    }
   ],
   "source": [
    "results = cur.execute('SELECT * FROM titanic')\n",
    "\n",
    "for pid, psurvived, psex, page, pfare, pclass in results:\n",
    "    print(\"first\", psurvived, psex)\n",
    "    \n",
    "    \n",
    "# results = cur.execute('SELECT * FROM titanic')\n",
    "print()\n",
    "for pid, psurvived, psex, page, pfare, pclass in results:\n",
    "    print(\"second\", psurvived, psex)"
   ]
  },
  {
   "cell_type": "markdown",
   "metadata": {},
   "source": [
    "A second loop would work if you used `.fetchall()`, but looping over the raw results set is *actually* just moving a cursor along the file... at the end of the first loop, the cursor is at the end of the result set -- so you cannot reloop. "
   ]
  },
  {
   "cell_type": "markdown",
   "metadata": {
    "slideshow": {
     "slide_type": "slide"
    }
   },
   "source": [
    "## How do I update existing data?"
   ]
  },
  {
   "cell_type": "code",
   "execution_count": 70,
   "metadata": {
    "slideshow": {
     "slide_type": "fragment"
    }
   },
   "outputs": [
    {
     "name": "stdout",
     "output_type": "stream",
     "text": [
      "[(1, 0, 'male', 22.0, 7.25, 'Third')]\n"
     ]
    }
   ],
   "source": [
    "before = cur.execute('SELECT * FROM titanic WHERE id = 1')\n",
    "\n",
    "print(before.fetchall())\n"
   ]
  },
  {
   "cell_type": "code",
   "execution_count": 71,
   "metadata": {
    "slideshow": {
     "slide_type": "fragment"
    }
   },
   "outputs": [
    {
     "data": {
      "text/plain": [
       "<sqlite3.Cursor at 0x7f88987a2c00>"
      ]
     },
     "execution_count": 71,
     "metadata": {},
     "output_type": "execute_result"
    }
   ],
   "source": [
    "cur.execute('UPDATE titanic SET survived = 1 WHERE id = 1')\n"
   ]
  },
  {
   "cell_type": "code",
   "execution_count": 73,
   "metadata": {
    "slideshow": {
     "slide_type": "fragment"
    }
   },
   "outputs": [
    {
     "name": "stdout",
     "output_type": "stream",
     "text": [
      "[(1, 1, 'male', 22.0, 7.25, 'Third')]\n"
     ]
    }
   ],
   "source": [
    "after = cur.execute('SELECT * FROM titanic WHERE id = 1')\n",
    "\n",
    "print(after.fetchall())\n"
   ]
  },
  {
   "cell_type": "markdown",
   "metadata": {
    "slideshow": {
     "slide_type": "slide"
    }
   },
   "source": [
    "## How do I filter the data I select?"
   ]
  },
  {
   "cell_type": "code",
   "execution_count": 74,
   "metadata": {
    "slideshow": {
     "slide_type": "fragment"
    }
   },
   "outputs": [
    {
     "name": "stdout",
     "output_type": "stream",
     "text": [
      "[(39.265,)]\n"
     ]
    }
   ],
   "source": [
    "after = cur.execute('''\n",
    "SELECT \n",
    "    AVG(fare) \n",
    "FROM \n",
    "    titanic \n",
    "WHERE \n",
    "    age >= 18\n",
    "''')\n",
    "\n",
    "print(after.fetchall())\n"
   ]
  },
  {
   "cell_type": "markdown",
   "metadata": {
    "slideshow": {
     "slide_type": "slide"
    }
   },
   "source": [
    "## How do I obtain aggregate data?"
   ]
  },
  {
   "cell_type": "code",
   "execution_count": 75,
   "metadata": {
    "slideshow": {
     "slide_type": "fragment"
    }
   },
   "outputs": [
    {
     "name": "stdout",
     "output_type": "stream",
     "text": [
      "[('First', 71.28), ('Third', 7.25)]\n"
     ]
    }
   ],
   "source": [
    "after = cur.execute('''\n",
    "SELECT \n",
    "    class, \n",
    "    AVG(fare) \n",
    "FROM titanic \n",
    "GROUP BY class\n",
    "''')\n",
    "\n",
    "print(after.fetchall())\n"
   ]
  },
  {
   "cell_type": "markdown",
   "metadata": {
    "slideshow": {
     "slide_type": "slide"
    }
   },
   "source": [
    "## How do I select data from multiple tables?"
   ]
  },
  {
   "cell_type": "code",
   "execution_count": 76,
   "metadata": {},
   "outputs": [
    {
     "data": {
      "text/plain": [
       "<sqlite3.Cursor at 0x7f88987a2c00>"
      ]
     },
     "execution_count": 76,
     "metadata": {},
     "output_type": "execute_result"
    }
   ],
   "source": [
    "cur.execute('''\n",
    "CREATE TABLE classes (\n",
    "    class text,\n",
    "    location text\n",
    ");\n",
    "''')"
   ]
  },
  {
   "cell_type": "code",
   "execution_count": 77,
   "metadata": {},
   "outputs": [
    {
     "data": {
      "text/plain": [
       "<sqlite3.Cursor at 0x7f88987a2c00>"
      ]
     },
     "execution_count": 77,
     "metadata": {},
     "output_type": "execute_result"
    }
   ],
   "source": [
    "cur.execute('''\n",
    "INSERT INTO classes VALUES \n",
    "    (\"First\", \"London\"),\n",
    "    (\"Second\", \"Liverpool\"),\n",
    "    (\"Third\", \"Portsmouth\");\n",
    "''')"
   ]
  },
  {
   "cell_type": "code",
   "execution_count": 80,
   "metadata": {
    "slideshow": {
     "slide_type": "fragment"
    }
   },
   "outputs": [
    {
     "name": "stdout",
     "output_type": "stream",
     "text": [
      "[(22.0, 'male', 'London'), (22.0, 'male', 'Liverpool'), (22.0, 'male', 'Portsmouth'), (38.0, 'female', 'London'), (38.0, 'female', 'Liverpool'), (38.0, 'female', 'Portsmouth')]\n"
     ]
    }
   ],
   "source": [
    "before = cur.execute('''\n",
    "    SELECT t.age, t.sex, c.location \n",
    "    FROM titanic AS t\n",
    "    JOIN classes AS c\n",
    "    ON t.class = t.class\n",
    "''')\n",
    "\n",
    "print(before.fetchall())\n"
   ]
  },
  {
   "cell_type": "markdown",
   "metadata": {
    "slideshow": {
     "slide_type": "slide"
    }
   },
   "source": [
    "### Exercise (20 min)\n",
    "\n",
    "#### Problem Context\n",
    "\n",
    "* You have been hired as a data scientist by: **a naval expedition company**. \n",
    "\n",
    "* Problem: **investigate which passengers survived the Titanic shipwreck**\n",
    "\n",
    "\n",
    "* Goal: to create the data infrastructure to store titanic data. \n",
    "    * ie., to create an sqlite3 db with the right columns "
   ]
  },
  {
   "cell_type": "code",
   "execution_count": 3,
   "metadata": {
    "scrolled": true
   },
   "outputs": [
    {
     "data": {
      "text/html": [
       "<div>\n",
       "<style scoped>\n",
       "    .dataframe tbody tr th:only-of-type {\n",
       "        vertical-align: middle;\n",
       "    }\n",
       "\n",
       "    .dataframe tbody tr th {\n",
       "        vertical-align: top;\n",
       "    }\n",
       "\n",
       "    .dataframe thead th {\n",
       "        text-align: right;\n",
       "    }\n",
       "</style>\n",
       "<table border=\"1\" class=\"dataframe\">\n",
       "  <thead>\n",
       "    <tr style=\"text-align: right;\">\n",
       "      <th></th>\n",
       "      <th>survived</th>\n",
       "      <th>pclass</th>\n",
       "      <th>sex</th>\n",
       "      <th>age</th>\n",
       "      <th>sibsp</th>\n",
       "      <th>parch</th>\n",
       "      <th>fare</th>\n",
       "      <th>embarked</th>\n",
       "      <th>class</th>\n",
       "      <th>who</th>\n",
       "      <th>adult_male</th>\n",
       "      <th>deck</th>\n",
       "      <th>embark_town</th>\n",
       "      <th>alive</th>\n",
       "      <th>alone</th>\n",
       "    </tr>\n",
       "  </thead>\n",
       "  <tbody>\n",
       "    <tr>\n",
       "      <th>870</th>\n",
       "      <td>0</td>\n",
       "      <td>3</td>\n",
       "      <td>male</td>\n",
       "      <td>26.0</td>\n",
       "      <td>0</td>\n",
       "      <td>0</td>\n",
       "      <td>7.8958</td>\n",
       "      <td>S</td>\n",
       "      <td>Third</td>\n",
       "      <td>man</td>\n",
       "      <td>True</td>\n",
       "      <td>NaN</td>\n",
       "      <td>Southampton</td>\n",
       "      <td>no</td>\n",
       "      <td>True</td>\n",
       "    </tr>\n",
       "    <tr>\n",
       "      <th>547</th>\n",
       "      <td>1</td>\n",
       "      <td>2</td>\n",
       "      <td>male</td>\n",
       "      <td>NaN</td>\n",
       "      <td>0</td>\n",
       "      <td>0</td>\n",
       "      <td>13.8625</td>\n",
       "      <td>C</td>\n",
       "      <td>Second</td>\n",
       "      <td>man</td>\n",
       "      <td>True</td>\n",
       "      <td>NaN</td>\n",
       "      <td>Cherbourg</td>\n",
       "      <td>yes</td>\n",
       "      <td>True</td>\n",
       "    </tr>\n",
       "    <tr>\n",
       "      <th>713</th>\n",
       "      <td>0</td>\n",
       "      <td>3</td>\n",
       "      <td>male</td>\n",
       "      <td>29.0</td>\n",
       "      <td>0</td>\n",
       "      <td>0</td>\n",
       "      <td>9.4833</td>\n",
       "      <td>S</td>\n",
       "      <td>Third</td>\n",
       "      <td>man</td>\n",
       "      <td>True</td>\n",
       "      <td>NaN</td>\n",
       "      <td>Southampton</td>\n",
       "      <td>no</td>\n",
       "      <td>True</td>\n",
       "    </tr>\n",
       "  </tbody>\n",
       "</table>\n",
       "</div>"
      ],
      "text/plain": [
       "     survived  pclass   sex   age  sibsp  parch     fare embarked   class  \\\n",
       "870         0       3  male  26.0      0      0   7.8958        S   Third   \n",
       "547         1       2  male   NaN      0      0  13.8625        C  Second   \n",
       "713         0       3  male  29.0      0      0   9.4833        S   Third   \n",
       "\n",
       "     who  adult_male deck  embark_town alive  alone  \n",
       "870  man        True  NaN  Southampton    no   True  \n",
       "547  man        True  NaN    Cherbourg   yes   True  \n",
       "713  man        True  NaN  Southampton    no   True  "
      ]
     },
     "execution_count": 3,
     "metadata": {},
     "output_type": "execute_result"
    }
   ],
   "source": [
    "import pandas as pd\n",
    "\n",
    "pd.read_csv('datasets/titanic.csv').sample(3)"
   ]
  },
  {
   "cell_type": "markdown",
   "metadata": {
    "slideshow": {
     "slide_type": "-"
    }
   },
   "source": [
    "#### Questions\n",
    "\n",
    "* create a database called `my_titanic.db`\n",
    "    * HINT: `import`, `connect`"
   ]
  },
  {
   "cell_type": "markdown",
   "metadata": {
    "slideshow": {
     "slide_type": "slide"
    }
   },
   "source": [
    "* create a table the following fields:\n",
    "    * survived\t\n",
    "    * pclass\n",
    "    * sex\n",
    "    * age\n",
    "    * fare\n",
    "    * class\n",
    "    * adult_male\n",
    "    * embark_town\n",
    "* EXTRA:\n",
    "    * include all the fields\n",
    "* HINT:\n",
    "    * `TEXT`, `INT`, `FLOAT`"
   ]
  },
  {
   "cell_type": "markdown",
   "metadata": {
    "slideshow": {
     "slide_type": "fragment"
    }
   },
   "source": [
    "* insert exampe data\n",
    "    * review the table above and, by hand, \n",
    "    * insert a few example rows which match\n",
    "    * HINT: `execute`, `INSERT`"
   ]
  },
  {
   "cell_type": "markdown",
   "metadata": {
    "slideshow": {
     "slide_type": "fragment"
    }
   },
   "source": [
    "* produce a report on your sample data\n",
    "    * query to include:\n",
    "        * insert, select, \n",
    "        * HINT: `SELECT`, `for row in results`, `print()`\n",
    "    * EXTRA:\n",
    "        * update, group by\n",
    "            * e.g. group by class "
   ]
  }
 ],
 "metadata": {
  "kernelspec": {
   "display_name": "Python 3",
   "language": "python",
   "name": "python3"
  },
  "language_info": {
   "codemirror_mode": {
    "name": "ipython",
    "version": 3
   },
   "file_extension": ".py",
   "mimetype": "text/x-python",
   "name": "python",
   "nbconvert_exporter": "python",
   "pygments_lexer": "ipython3",
   "version": "3.8.3"
  }
 },
 "nbformat": 4,
 "nbformat_minor": 4
}
