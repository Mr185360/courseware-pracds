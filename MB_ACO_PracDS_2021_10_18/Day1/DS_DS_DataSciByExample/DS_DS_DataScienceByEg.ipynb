{
 "cells": [
  {
   "cell_type": "markdown",
   "metadata": {
    "slideshow": {
     "slide_type": "slide"
    }
   },
   "source": [
    "# Data Science by Example\n",
    "### Data Science for Data Scientists\n",
    "---"
   ]
  },
  {
   "cell_type": "markdown",
   "metadata": {
    "slideshow": {
     "slide_type": "slide"
    }
   },
   "source": [
    "## Overview\n",
    "* What? Topic\n",
    "* Why? Applications\n",
    "* Who? Prereqs\n",
    "* How? Objectives\n",
    "* How? Process\n",
    "* When? Lesson Plan"
   ]
  },
  {
   "cell_type": "markdown",
   "metadata": {
    "slideshow": {
     "slide_type": "slide"
    }
   },
   "source": [
    "### What? Topic\n",
    "\n",
    "\"Data Science\" is an opaque term; via examples, this module illustrates the kinds of problems a data scientist might solve. By illustration you will gain an appreciation of the technical skillset, mindset and methodology of data science. "
   ]
  },
  {
   "cell_type": "markdown",
   "metadata": {
    "slideshow": {
     "slide_type": "slide"
    }
   },
   "source": [
    "### Why? Applications\n",
    "\n",
    "After this module you will better appreciate the value data science can bring to an organization; and what skills you may need to acquire to become a data scientist. "
   ]
  },
  {
   "cell_type": "markdown",
   "metadata": {
    "slideshow": {
     "slide_type": "slide"
    }
   },
   "source": [
    "### Who? Prereqs\n",
    "\n",
    "No prior knowledge is assumed, however learners may benefit from some backgound in mathematics and computer science. \n",
    "\n",
    "The module *illustrates* problems, we expect many learners will \"not grasping every detail\". "
   ]
  },
  {
   "cell_type": "markdown",
   "metadata": {
    "slideshow": {
     "slide_type": "slide"
    }
   },
   "source": [
    "### When? Lesson Plan (c. 1h 30m)\n",
    "* Case Study: Argonaught (10 min)\n",
    "* Statistics & Machine Learning: The Risk of Return (20 min)\n",
    "    * The Problem\n",
    "    * Investigation\n",
    "    * Ideation\n",
    "    * Wb. Solution Design\n",
    "    * Related Problems\n",
    "* Algorithms &  Graph Theory: Recommending Products (20 min)\n",
    "    * ...\n",
    "* Big Data: User Behaviour with Event Systems (20 min)\n",
    "    * ...\n",
    "* Discuss: What is Problem Solving? (5 min)\n",
    "    * More Problems (2 min)\n",
    "    * Reflect: What skills, concerns, topics, knowledge have we used? (5 min)\n",
    "    * Review: What is a Data Scientist? (5 min)"
   ]
  },
  {
   "cell_type": "markdown",
   "metadata": {
    "slideshow": {
     "slide_type": "slide"
    }
   },
   "source": [
    "### How? Objectives (30 min)\n",
    "* Brainstorm: Mind-Map concerns for some example problems"
   ]
  },
  {
   "cell_type": "markdown",
   "metadata": {
    "slideshow": {
     "slide_type": "slide"
    }
   },
   "source": [
    "### How? Process\n",
    "* Module time: 2h\n",
    "* Discussion & Slides (c. 30min)\n",
    "* Whiteboards (c. 1h)\n",
    "* Exercise Discussion (c. 30min)\n",
    "---"
   ]
  },
  {
   "cell_type": "markdown",
   "metadata": {
    "slideshow": {
     "slide_type": "slide"
    }
   },
   "source": [
    "## Learning"
   ]
  },
  {
   "cell_type": "markdown",
   "metadata": {
    "slideshow": {
     "slide_type": "slide"
    }
   },
   "source": [
    "## Argonaught\n",
    "### An Ecommerce Business"
   ]
  },
  {
   "cell_type": "markdown",
   "metadata": {
    "slideshow": {
     "slide_type": "slide"
    }
   },
   "source": [
    "###  An Ecommerce Business\n",
    "* argonaught is a traditional retail buisness \n",
    "    * with an ecommerce website and mobile app\n",
    "* argonuaght's website has:\n",
    "    * customers\n",
    "    * product reviews\n",
    "    * product wishlists\n",
    "    * ... \n",
    "    "
   ]
  },
  {
   "cell_type": "markdown",
   "metadata": {
    "slideshow": {
     "slide_type": "slide"
    }
   },
   "source": [
    "### How will we solve problems?"
   ]
  },
  {
   "cell_type": "markdown",
   "metadata": {
    "slideshow": {
     "slide_type": "fragment"
    }
   },
   "source": [
    "* investigation: what is the problem?\n",
    "    * Q. What steps are relevant?\n",
    "* ideation: what could we do to solve it?\n",
    "    * Q. What steps are relevant?\n",
    "* solution (design): what would a plausible solution look like?\n",
    "    * Q. What steps are relevant?\n",
    "* solution (build): how do we build it?\n",
    "    * Q. What steps are relevant?"
   ]
  },
  {
   "cell_type": "markdown",
   "metadata": {
    "slideshow": {
     "slide_type": "subslide"
    }
   },
   "source": [
    "* investigation: what is the problem?\n",
    "    * problem understanding\n",
    "        * domain\n",
    "        * objective\n",
    "        * impact \n",
    "    * quantification & measurement\n",
    "    * data exploration\n",
    "* ideation: what could we do to solve it?\n",
    "    * subproblems identified \n",
    "    * strategies to solve subproblems / problems\n",
    "    * hyopothesis generation\n",
    "* solution (design): what would a plausible solution look like?\n",
    "    * experimental design\n",
    "    * product/implementation design\n",
    "* solution (build): how do we build it?\n",
    "    * ..."
   ]
  },
  {
   "cell_type": "markdown",
   "metadata": {
    "slideshow": {
     "slide_type": "slide"
    }
   },
   "source": [
    "### Why not use business case studies ?\n",
    "* all examples are based on real problems\n",
    "    * but business case studies do not walk through problem from a data *scientist*'s pov\n",
    "* business case studies focus on the problem-solution and solution's buisness value\n",
    "    * not on how a data scientist has added value to an existing business\n",
    "* business case studies seem to narrow the applicability of data science\n",
    "    * and fail to educate on the mindset & value of the *role*\n",
    "* some case studies do this -- and area often published as journal articles or youtube technical talks\n",
    "    * these can be overly technical and omit clear motivations\n",
    "    * several are included in this module"
   ]
  },
  {
   "cell_type": "markdown",
   "metadata": {
    "slideshow": {
     "slide_type": "slide"
    }
   },
   "source": [
    "## Statistics & Machine Learning\n",
    "### The Risk of Return"
   ]
  },
  {
   "cell_type": "markdown",
   "metadata": {
    "slideshow": {
     "slide_type": "slide"
    }
   },
   "source": [
    "#### The Problem\n",
    "\n",
    "* quite a lot of products are being returned within their 30 day window"
   ]
  },
  {
   "cell_type": "markdown",
   "metadata": {
    "slideshow": {
     "slide_type": "slide"
    }
   },
   "source": [
    "#### Investigation\n",
    "* what questions should we ask?"
   ]
  },
  {
   "cell_type": "markdown",
   "metadata": {
    "slideshow": {
     "slide_type": "fragment"
    }
   },
   "source": [
    "* what is the existing system/policy?\n",
    "* how many products are being sold?\n",
    "* how many are being returned?\n",
    "* what is the loss of profit associated with a return?\n",
    "* why is this profit lost?\n",
    "* what causes returns?\n",
    "* (what causes sales?)"
   ]
  },
  {
   "cell_type": "markdown",
   "metadata": {
    "slideshow": {
     "slide_type": "subslide"
    }
   },
   "source": [
    "* argonaught sell $100$ toys a year costing $£100$ each \n",
    "    * each toy makes the company a profit of $£10$ after $£10$ of operating & delivery costs\n",
    "    * a return costs them $£5$ reducing a resale to $0$ profit\n",
    "* $20%$ of toys are being returned within their $30$ day window\n",
    "* problem is: we are making $10 * 80$  profit (vs 100)\n",
    "    * can we improve this?"
   ]
  },
  {
   "cell_type": "markdown",
   "metadata": {
    "slideshow": {
     "slide_type": "slide"
    }
   },
   "source": [
    "#### Ideation"
   ]
  },
  {
   "cell_type": "markdown",
   "metadata": {
    "slideshow": {
     "slide_type": "fragment"
    }
   },
   "source": [
    "* What actions can we take?\n",
    "* What can we quantify?\n",
    "* What data do we have?\n",
    "* Is existing data relevant to taking possible actions?\n",
    "* What can we do if we lack data?"
   ]
  },
  {
   "cell_type": "markdown",
   "metadata": {
    "slideshow": {
     "slide_type": "subslide"
    }
   },
   "source": [
    "* What can we quanitfy?\n",
    "    * $P(Return | CustomerBehaviour)$ ?\n",
    "    * $P(Purchase | ItemPrice, CustomerBehaviour)$ ?\n",
    "* Can we:\n",
    "    * modify prices?\n",
    "    * modify return window?\n",
    "* tiny amount of data\n",
    "    * we should look at each return in detail (only 20 items)\n",
    "    * perform an essentially qualitative analysis\n",
    "    * even, perhaps: email the customer asking them why they returned\n",
    "* data not relevant to certain strategies\n",
    "    * eg., how do we know $P(Purchase | Price)$?\n",
    "    * ... we need to experiment!\n",
    "        * ie., to change prices and directly observe $P(Purchase)$\n",
    "* we can look at qualitative analysis and *simulate* datasets which model our assumptions\n",
    "    * eg., that \"recent history of returns\" increases $P(Return)$, etc.\n",
    "* or we can experiment with customer base to collect more data "
   ]
  },
  {
   "cell_type": "markdown",
   "metadata": {
    "slideshow": {
     "slide_type": "slide"
    }
   },
   "source": [
    "#### Wb. Solution Design"
   ]
  },
  {
   "cell_type": "markdown",
   "metadata": {
    "slideshow": {
     "slide_type": "slide"
    }
   },
   "source": [
    "* let's change the return window if we think that a customer is likely to return an item\n",
    "    * two windows: statutory minimum (eg., 7 day) and 30 day\n",
    "* factors relevant to return:\n",
    "    * age, location, history of recent returns, repeat customer, whether item is gifted\n",
    "* build a logistic regression model using experimental customer data\n",
    "    * $\\hat{y} = \\hat{f}(x_{Age}, x_{FqReturns}, x_{Gift}, \\dots)$\n",
    "* plug in model to orders page\n",
    "    * define model in python: `def predict_returner(): ...`\n",
    "    * define action: `if predict_returner():`\n",
    "        * show short-window , `else:` show long window\n",
    "        "
   ]
  },
  {
   "cell_type": "markdown",
   "metadata": {
    "slideshow": {
     "slide_type": "slide"
    }
   },
   "source": [
    "#### Related Problems\n",
    "* loan default risk analysis\n",
    "* changing pricing models based on customer behaviour\n",
    "* obtaining demographics from likes (/preference signals) -- cf. facebook pdf"
   ]
  },
  {
   "cell_type": "markdown",
   "metadata": {
    "slideshow": {
     "slide_type": "slide"
    }
   },
   "source": [
    "## Algorithms &  Graph Theory\n",
    "###  Recommending Products"
   ]
  },
  {
   "cell_type": "markdown",
   "metadata": {
    "slideshow": {
     "slide_type": "slide"
    }
   },
   "source": [
    "#### The Problem\n",
    "* recommendations are currently determined by a product score & sales team\n",
    "* these are labour-intensive and not tailored to the customer"
   ]
  },
  {
   "cell_type": "markdown",
   "metadata": {
    "slideshow": {
     "slide_type": "slide"
    }
   },
   "source": [
    "#### Investigation\n",
    "* what questions should we ask?"
   ]
  },
  {
   "cell_type": "markdown",
   "metadata": {
    "slideshow": {
     "slide_type": "fragment"
    }
   },
   "source": [
    "* what is the existing system/policy?\n",
    "* how are scores computed?\n",
    "* how does the sales team select products?\n",
    "* how effective is this system?\n",
    "    * ie., what is the sales/profit impact?\n",
    "* what impact will an improved system have?"
   ]
  },
  {
   "cell_type": "markdown",
   "metadata": {
    "slideshow": {
     "slide_type": "subslide"
    }
   },
   "source": [
    "* what is the current scoring system?\n",
    "    * `score = rating_score + popularity_score`\n",
    "    * based on filtered list of products by sales team\n",
    "* why are recommendations not currently tailored?\n",
    "    * very hard to compute personalised scores for all users, all products\n",
    "* how effective is the current scoring system?\n",
    "    * customers probability of purchasing X:\n",
    "        * in general, $P(X)$ (ie., #purchasesX / #purchases) \n",
    "        * via query, $P(X|Q)$\n",
    "        * via recommendation, $P(X|R)$\n",
    "    * suppose: $P(X|Q) = 0.8$, $P(X|R) = 0.2$, $P(X) = 0.01$\n",
    "    * what do these say?\n",
    "    * what don't they say?\n",
    "        * ie., what experiments could we do?\n",
    "        * eg., to determine efficacy various scoring strategies\n",
    "* what profit increase is associated with an improvement in scoring?\n",
    "    * eg., strategies R_1, R_2: $P(X|R_1) = 0.1$, $P(X|R_2) = 0.2$\n",
    "    * what is this in profit?\n",
    "        * 10% * Profit/Item\n",
    "      "
   ]
  },
  {
   "cell_type": "markdown",
   "metadata": {
    "slideshow": {
     "slide_type": "slide"
    }
   },
   "source": [
    "#### Ideation"
   ]
  },
  {
   "cell_type": "markdown",
   "metadata": {
    "slideshow": {
     "slide_type": "fragment"
    }
   },
   "source": [
    "* What actions can we take?\n",
    "* What can we quantify?\n",
    "* What data do we have?\n",
    "* Is existing data relevant to taking possible actions?\n",
    "* What can we do if we lack data?"
   ]
  },
  {
   "cell_type": "markdown",
   "metadata": {
    "slideshow": {
     "slide_type": "subslide"
    }
   },
   "source": [
    "* What could we add to `score` ?\n",
    "    * $P(Purchase|Age, Gender, Location)$ ?\n",
    "        * requires knowing demographics \n",
    "        * & computing conditionals for lots of users/products\n",
    "* Can we measure $P(Purchase|UserCharacteristics)$ indirectly?\n",
    "    * eg., via \"how often people *similar to* this user purchase?\n",
    "* How can we determine who is *similar*?\n",
    "    * community detection via reviews/purchases\n",
    "    * users who \"review-alike\" are \"alike\"\n",
    "* If we can determine a \"similar user set\" then:\n",
    "    * we can specialize the `rating_score`\n",
    "    * and add a `community_score`\n",
    "        * how \"important\" that product is to that community\n",
    "        * ie., a graph-centrality measure\n",
    " "
   ]
  },
  {
   "cell_type": "markdown",
   "metadata": {
    "slideshow": {
     "slide_type": "slide"
    }
   },
   "source": [
    "#### Wb. Solution Design"
   ]
  },
  {
   "cell_type": "markdown",
   "metadata": {
    "slideshow": {
     "slide_type": "slide"
    }
   },
   "source": [
    "* bi-partite graph, $G$\n",
    "    * two types of nodes: users, products\n",
    "    * users are connected to products they like (high score review)\n",
    "* we filter $G$ into $F$, when we know the user $u$ we are recommending to\n",
    "    * filter by selecting \"fans of the same products\" \n",
    "    * fans = users who review the same products\n",
    "* with $F$, we group users into communities\n",
    "    * community = group of users who review related products\n",
    "        * \"related\" = often reviewed by the same user\n",
    "* and obtain $u$'s community, $C$\n",
    "    * this contains user-products\n",
    "    * where the products are those which are \"preferred\" by $u$'s community\n",
    "* we extract the products $p$ from $C$ and score each with the same formula above\n",
    "    * we can also add additional terms, eg., \n",
    "    * eg., `community_popularity` which measures, in $C$, how often a product is reviewed\n",
    "    * + many other terms\n",
    "    "
   ]
  },
  {
   "cell_type": "markdown",
   "metadata": {
    "slideshow": {
     "slide_type": "slide"
    }
   },
   "source": [
    "#### Related Problems\n",
    "* (forensic) monitoring networking events in 4G networks\n",
    "* amazon recommendations (cf. case study pdf)"
   ]
  },
  {
   "cell_type": "markdown",
   "metadata": {
    "slideshow": {
     "slide_type": "slide"
    }
   },
   "source": [
    "## Big Data\n",
    "### User Behaviour with Event Systems"
   ]
  },
  {
   "cell_type": "markdown",
   "metadata": {
    "slideshow": {
     "slide_type": "slide"
    }
   },
   "source": [
    "#### The Problem\n",
    "We need a data system which supports the inferences and techniques above. These require (or are otherwise helped by) vuser *behavior*. \n",
    "\n",
    "However, we currently *only* store transactional retail data: orders, customers, etc. This does not capture: when a transaction occured, who initiated it, from what system, and other context. It is this context which enables inference. "
   ]
  },
  {
   "cell_type": "markdown",
   "metadata": {
    "slideshow": {
     "slide_type": "slide"
    }
   },
   "source": [
    "#### Investigation: What is the Problem?\n",
    "* What questions should we ask?"
   ]
  },
  {
   "cell_type": "markdown",
   "metadata": {
    "slideshow": {
     "slide_type": "fragment"
    }
   },
   "source": [
    "* What do existing data systems track?\n",
    "* What software do these systems support?\n",
    "* How long have they been in operation?\n",
    "* What current technical problems arise from their use?\n",
    "* What kinds of queries do these systems answer?\n",
    "* What kinds don't they?"
   ]
  },
  {
   "cell_type": "markdown",
   "metadata": {
    "slideshow": {
     "slide_type": "subslide"
    }
   },
   "source": [
    "* What do existing data systems track?\n",
    "    * reviews, users, products, orders, stock, campaigns, pages...\n",
    "    * customer_support, ...\n",
    "* What software do these systems support?\n",
    "    * ecommerce & review website\n",
    "    * customer support website\n",
    "    * mobile app\n",
    "    * advert campagin system\n",
    "    * editorial content system\n",
    "    * stock & purchasing system\n",
    "* How long have they been in operation?\n",
    "    * v1 2005, v2 2010, v3 2017\n",
    "* What current technical problems arise from their use?\n",
    "    * poor performance in review system & mobile app\n",
    "    * presently no recorded connections between ads, reviews, etc.\n",
    "    * editorial content poorly monitored (eg., hits on article, but no other metrics)\n",
    "* What kinds of queries do these systems answer?\n",
    "* What kinds don't they?"
   ]
  },
  {
   "cell_type": "markdown",
   "metadata": {
    "slideshow": {
     "slide_type": "slide"
    }
   },
   "source": [
    "#### Ideation: What could we do to solve it?"
   ]
  },
  {
   "cell_type": "markdown",
   "metadata": {
    "slideshow": {
     "slide_type": "fragment"
    }
   },
   "source": [
    "* What actions can we take?\n",
    "* What can we quantify?\n",
    "* What data do we have?\n",
    "* Is existing data relevant to taking possible actions?\n",
    "* What can we do if we lack data?"
   ]
  },
  {
   "cell_type": "markdown",
   "metadata": {
    "slideshow": {
     "slide_type": "subslide"
    }
   },
   "source": [
    "* We need to change the website & apps \n",
    "    *  many aspects of user interaction need to be recorded\n",
    "* We need events:\n",
    "    * subject, verb, object, context\n",
    "    * CUSTOMER VIEWS PAGE {ID: 10, TIME: 10pm}\n",
    "* We need a new system to track these events\n",
    "* Do we keep existing transactional system?\n",
    "    * YES... but where does it sit in relation to new system?\n",
    "    * ... how complex can the migration be? (without too much impact)\n",
    "* What kinds of queries should an event system answer?\n",
    "    * Query:\n",
    "        * What are customers doing now?\n",
    "        * How often does a given customer visit the site?\n",
    "            * read pages, ...\n",
    "        * What campagins/reviews/pages *impact* sales?\n",
    "        * etc.\n",
    "        "
   ]
  },
  {
   "cell_type": "markdown",
   "metadata": {
    "slideshow": {
     "slide_type": "slide"
    }
   },
   "source": [
    "#### Solution Design: What would a plausible solution look like?\n",
    "* event log\n",
    "    * exteremely fast append-only log of events\n",
    "    * live log records 24 hr windows \n",
    "    * daily archive & wipe of live log \n",
    "* retail db *dervived* from log\n",
    "    * all existing tables populated from log *asynchronously* where possible\n",
    "        * eg., reviews, but not orders\n",
    "* existing queries point to retail db\n",
    "* \"log archive\" supplied to data science & analytical teams \n",
    "* derive *new* per-service databases from main log\n",
    "    * eg., camapaign-targeting service\n",
    "* migrate & replace \"low-performance\" services to new system\n",
    "    * eg., with mobile app, feed to event log & query against new dbs"
   ]
  },
  {
   "cell_type": "markdown",
   "metadata": {
    "slideshow": {
     "slide_type": "slide"
    }
   },
   "source": [
    "#### Related Problems\n",
    "* netflix data system ( https://www.youtube.com/watch?v=CZ3wIuvmHeM )"
   ]
  },
  {
   "cell_type": "markdown",
   "metadata": {
    "slideshow": {
     "slide_type": "slide"
    }
   },
   "source": [
    "### More Problems\n",
    "\n",
    "* Sales campaigns are targeted to demographics. We could improve sales with better targeting.\n"
   ]
  },
  {
   "cell_type": "markdown",
   "metadata": {
    "slideshow": {
     "slide_type": "slide"
    }
   },
   "source": [
    "### Discuss: What is Problem Solving?"
   ]
  },
  {
   "cell_type": "markdown",
   "metadata": {
    "slideshow": {
     "slide_type": "fragment"
    }
   },
   "source": [
    "* open problems vs. closed problems\n",
    "    * under-specified open problem solving requires:\n",
    "        * establishing relevance criteria \n",
    "        * establishing success criteria\n",
    "        * building the problem framing\n",
    "    * over-specified open problem solving requires:\n",
    "        * designing systems which conform to specification\n",
    "        * control, quality, integrity (etc.) checks on specifications\n",
    "        * reliability, performance (etc.) checks on implementation \n",
    "    * closed problem solving requires:\n",
    "        * building systems to exact specification"
   ]
  },
  {
   "cell_type": "markdown",
   "metadata": {
    "slideshow": {
     "slide_type": "slide"
    }
   },
   "source": [
    "### Brainstorm: Mind-Map concerns for some example problems\n",
    "\n",
    "* example organizations (problem domains: amazon, spotify...)\n",
    "* probabalistic questions (how likely is H...)\n",
    "* what data is relevant?\n",
    "* how would we collect it?\n",
    "* how would we store/track/etc.?\n",
    "\n",
    "### Reflect: What skills, concerns, topics, knowledge have we used?\n",
    "### Review: What is a Data Scientist?"
   ]
  },
  {
   "cell_type": "markdown",
   "metadata": {
    "slideshow": {
     "slide_type": "slide"
    }
   },
   "source": [
    "---\n",
    "## Summary\n"
   ]
  }
 ],
 "metadata": {
  "kernelspec": {
   "display_name": "Python 3",
   "language": "python",
   "name": "python3"
  },
  "language_info": {
   "codemirror_mode": {
    "name": "ipython",
    "version": 3
   },
   "file_extension": ".py",
   "mimetype": "text/x-python",
   "name": "python",
   "nbconvert_exporter": "python",
   "pygments_lexer": "ipython3",
   "version": "3.8.3"
  }
 },
 "nbformat": 4,
 "nbformat_minor": 4
}
