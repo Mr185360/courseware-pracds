{
 "cells": [
  {
   "cell_type": "markdown",
   "metadata": {},
   "source": [
    "# Python Event Systems"
   ]
  },
  {
   "cell_type": "markdown",
   "metadata": {},
   "source": [
    "Event systems are proposed to be a *universal* modern big data solution.\n",
    "\n",
    "We track realtime events in a highly efficient append-only log, and we derive the rest of our data system from this log.\n",
    "\n",
    "We can process the log very quickly, and integrate insight and analytics easily.\n",
    "\n",
    "The log can be archived to a data lake (ie., a distributed file system); making entire-systems backup trivial. "
   ]
  },
  {
   "cell_type": "markdown",
   "metadata": {},
   "source": [
    "### Case Study: Insurance System\n",
    "\n",
    "* customers\n",
    "    * CALL\n",
    "    * APPLY\n",
    "    * CLAIM\n",
    "* assement team\n",
    "    * ASSESS\n",
    "    * REJECT_CALIM\n",
    "    * ACCEPT_CLAIM\n",
    "* police\n",
    "    * ...\n"
   ]
  },
  {
   "cell_type": "markdown",
   "metadata": {},
   "source": [
    "## How do I represent events?"
   ]
  },
  {
   "cell_type": "markdown",
   "metadata": {},
   "source": [
    "Events are dictionaries (\"documents\") which are tagged values, "
   ]
  },
  {
   "cell_type": "code",
   "execution_count": 94,
   "metadata": {},
   "outputs": [],
   "source": [
    "def event(subject, verb, object, context):\n",
    "    return {\n",
    "        'subject': subject,\n",
    "        'verb': verb,\n",
    "        'object': object,\n",
    "        'context': context\n",
    "    }"
   ]
  },
  {
   "cell_type": "code",
   "execution_count": 95,
   "metadata": {
    "scrolled": true
   },
   "outputs": [
    {
     "data": {
      "text/plain": [
       "{'subject': 'CUSTOMER',\n",
       " 'verb': 'APPLY',\n",
       " 'object': 'FORM',\n",
       " 'context': '1800-01-01 12pm'}"
      ]
     },
     "execution_count": 95,
     "metadata": {},
     "output_type": "execute_result"
    }
   ],
   "source": [
    "event(\"CUSTOMER\", \"APPLY\", \"FORM\", '1800-01-01 12pm')"
   ]
  },
  {
   "cell_type": "markdown",
   "metadata": {},
   "source": [
    "## How I track events?"
   ]
  },
  {
   "cell_type": "markdown",
   "metadata": {},
   "source": [
    "Events are kept in an append-only log,"
   ]
  },
  {
   "cell_type": "code",
   "execution_count": 2,
   "metadata": {},
   "outputs": [],
   "source": [
    "from datetime import datetime"
   ]
  },
  {
   "cell_type": "code",
   "execution_count": 25,
   "metadata": {},
   "outputs": [],
   "source": [
    "elog = []"
   ]
  },
  {
   "cell_type": "code",
   "execution_count": 26,
   "metadata": {},
   "outputs": [],
   "source": [
    "elog.append(event(\"CUSTOMER\", \"APPLY\", \"FORM\", str(datetime.now())))\n",
    "elog.append(event(\"ASSESSOR\", \"ACCEPT\", \"FORM\", str(datetime.now())))\n",
    "elog.append(event(\"CUSTOMER\", \"CLAIM\", \"FORM\", str(datetime.now())))\n",
    "elog.append(event(\"ACCESSOR\", \"ACCEPT\", \"CLAIM\", str(datetime.now())))\n",
    "elog.append(event(\"PAYMENTS\", \"PAY\", \"CUSTOMER\", str(datetime.now())))"
   ]
  },
  {
   "cell_type": "markdown",
   "metadata": {},
   "source": [
    ", we do not delete, update, etc."
   ]
  },
  {
   "cell_type": "code",
   "execution_count": 27,
   "metadata": {},
   "outputs": [
    {
     "data": {
      "text/plain": [
       "[{'subject': 'CUSTOMER',\n",
       "  'verb': 'APPLY',\n",
       "  'object': 'FORM',\n",
       "  'context': '2021-05-21 13:14:43.553497'},\n",
       " {'subject': 'ASSESSOR',\n",
       "  'verb': 'ACCEPT',\n",
       "  'object': 'FORM',\n",
       "  'context': '2021-05-21 13:14:43.553497'},\n",
       " {'subject': 'CUSTOMER',\n",
       "  'verb': 'CLAIM',\n",
       "  'object': 'FORM',\n",
       "  'context': '2021-05-21 13:14:43.553497'},\n",
       " {'subject': 'ACCESSOR',\n",
       "  'verb': 'ACCEPT',\n",
       "  'object': 'CLAIM',\n",
       "  'context': '2021-05-21 13:14:43.553497'},\n",
       " {'subject': 'PAYMENTS',\n",
       "  'verb': 'PAY',\n",
       "  'object': 'CUSTOMER',\n",
       "  'context': '2021-05-21 13:14:43.553497'}]"
      ]
     },
     "execution_count": 27,
     "metadata": {},
     "output_type": "execute_result"
    }
   ],
   "source": [
    "elog"
   ]
  },
  {
   "cell_type": "markdown",
   "metadata": {},
   "source": [
    "## How do we store the log?"
   ]
  },
  {
   "cell_type": "markdown",
   "metadata": {},
   "source": [
    "Note the events above are *dictionaries*, not text. We need to convert to text to save to file."
   ]
  },
  {
   "cell_type": "code",
   "execution_count": 28,
   "metadata": {},
   "outputs": [
    {
     "data": {
      "text/plain": [
       "'CUSTOMER'"
      ]
     },
     "execution_count": 28,
     "metadata": {},
     "output_type": "execute_result"
    }
   ],
   "source": [
    "elog[0]['subject']"
   ]
  },
  {
   "cell_type": "code",
   "execution_count": 29,
   "metadata": {},
   "outputs": [],
   "source": [
    "import json"
   ]
  },
  {
   "cell_type": "code",
   "execution_count": 30,
   "metadata": {},
   "outputs": [
    {
     "data": {
      "text/plain": [
       "'{\"subject\": \"CUSTOMER\", \"verb\": \"APPLY\", \"object\": \"FORM\", \"context\": \"2021-05-21 13:14:43.553497\"}'"
      ]
     },
     "execution_count": 30,
     "metadata": {},
     "output_type": "execute_result"
    }
   ],
   "source": [
    "json.dumps(elog[0])"
   ]
  },
  {
   "cell_type": "code",
   "execution_count": 31,
   "metadata": {},
   "outputs": [],
   "source": [
    "file = open('elog.txt', 'w')\n",
    "\n",
    "for e in elog:\n",
    "    file.write(json.dumps(e) + \"\\n\") # dictionary -> text\n",
    "    \n",
    "file.close()"
   ]
  },
  {
   "cell_type": "markdown",
   "metadata": {},
   "source": [
    "We can see these events have been saved to the file,"
   ]
  },
  {
   "cell_type": "code",
   "execution_count": 32,
   "metadata": {},
   "outputs": [
    {
     "name": "stdout",
     "output_type": "stream",
     "text": [
      "{\"subject\": \"CUSTOMER\", \"verb\": \"APPLY\", \"object\": \"FORM\", \"context\": \"2021-05-21 13:14:43.553497\"}\n",
      "{\"subject\": \"ASSESSOR\", \"verb\": \"ACCEPT\", \"object\": \"FORM\", \"context\": \"2021-05-21 13:14:43.553497\"}\n",
      "{\"subject\": \"CUSTOMER\", \"verb\": \"CLAIM\", \"object\": \"FORM\", \"context\": \"2021-05-21 13:14:43.553497\"}\n",
      "{\"subject\": \"ACCESSOR\", \"verb\": \"ACCEPT\", \"object\": \"CLAIM\", \"context\": \"2021-05-21 13:14:43.553497\"}\n",
      "{\"subject\": \"PAYMENTS\", \"verb\": \"PAY\", \"object\": \"CUSTOMER\", \"context\": \"2021-05-21 13:14:43.553497\"}\n",
      "\n"
     ]
    }
   ],
   "source": [
    "print(open('elog.txt').read())"
   ]
  },
  {
   "cell_type": "markdown",
   "metadata": {},
   "source": [
    "## How do we process (ETL) the event log?"
   ]
  },
  {
   "cell_type": "markdown",
   "metadata": {},
   "source": [
    "One type of ETL process involving logs is simply to archive them for analysis,"
   ]
  },
  {
   "cell_type": "code",
   "execution_count": 33,
   "metadata": {},
   "outputs": [
    {
     "data": {
      "text/plain": [
       "505"
      ]
     },
     "execution_count": 33,
     "metadata": {},
     "output_type": "execute_result"
    }
   ],
   "source": [
    "open('day1_log_copy.txt', 'w').write( open('elog.txt', 'r').read() )"
   ]
  },
  {
   "cell_type": "markdown",
   "metadata": {},
   "source": [
    "We typically also clear the original, so it is fast for new events,"
   ]
  },
  {
   "cell_type": "code",
   "execution_count": 34,
   "metadata": {},
   "outputs": [],
   "source": [
    "open('elog', 'w').close() # writing mode blanks the file "
   ]
  },
  {
   "cell_type": "markdown",
   "metadata": {},
   "source": [
    "We may then work from this copy and ETL into a relational db..."
   ]
  },
  {
   "cell_type": "markdown",
   "metadata": {},
   "source": [
    "## How do we process event logs for analysis?"
   ]
  },
  {
   "cell_type": "markdown",
   "metadata": {},
   "source": [
    "Recreate the event stream (ie., list of events)..."
   ]
  },
  {
   "cell_type": "code",
   "execution_count": 91,
   "metadata": {},
   "outputs": [],
   "source": [
    "day1= open('day1_log_copy.txt', 'r')\n",
    "\n",
    "day1_log = []\n",
    "for line in day1:\n",
    "    e = json.loads(line) # text -> dictionary\n",
    "    day1_log.append(e)\n",
    "    "
   ]
  },
  {
   "cell_type": "code",
   "execution_count": 92,
   "metadata": {},
   "outputs": [
    {
     "data": {
      "text/plain": [
       "[{'subject': 'CUSTOMER',\n",
       "  'verb': 'APPLY',\n",
       "  'object': 'FORM',\n",
       "  'context': '2021-05-21 13:14:43.553497'},\n",
       " {'subject': 'ASSESSOR',\n",
       "  'verb': 'ACCEPT',\n",
       "  'object': 'FORM',\n",
       "  'context': '2021-05-21 13:14:43.553497'},\n",
       " {'subject': 'CUSTOMER',\n",
       "  'verb': 'CLAIM',\n",
       "  'object': 'FORM',\n",
       "  'context': '2021-05-21 13:14:43.553497'},\n",
       " {'subject': 'ACCESSOR',\n",
       "  'verb': 'ACCEPT',\n",
       "  'object': 'CLAIM',\n",
       "  'context': '2021-05-21 13:14:43.553497'},\n",
       " {'subject': 'PAYMENTS',\n",
       "  'verb': 'PAY',\n",
       "  'object': 'CUSTOMER',\n",
       "  'context': '2021-05-21 13:14:43.553497'}]"
      ]
     },
     "execution_count": 92,
     "metadata": {},
     "output_type": "execute_result"
    }
   ],
   "source": [
    "day1_log"
   ]
  },
  {
   "cell_type": "code",
   "execution_count": 89,
   "metadata": {},
   "outputs": [],
   "source": [
    "def process_customer_apply(e):\n",
    "    print(\"APPLYING\")\n",
    "    \n",
    "def process_payments_pay(e):\n",
    "    print(\"PAYING\")"
   ]
  },
  {
   "cell_type": "code",
   "execution_count": 90,
   "metadata": {},
   "outputs": [
    {
     "name": "stdout",
     "output_type": "stream",
     "text": [
      "APPLYING\n",
      "PAYING\n"
     ]
    }
   ],
   "source": [
    "for e in day1_log:\n",
    "    if (e['subject'] == 'CUSTOMER') and (e['verb'] == 'APPLY'):\n",
    "        process_customer_apply(e)\n",
    "        \n",
    "    elif (e['subject'] == 'PAYMENTS') and (e['verb'] == 'PAY'):\n",
    "        process_payments_pay(e)"
   ]
  },
  {
   "cell_type": "markdown",
   "metadata": {},
   "source": [
    "## What is Stream Processing?"
   ]
  },
  {
   "cell_type": "markdown",
   "metadata": {},
   "source": [
    "Whenever we are processing one data element at a time we are *stream processing*. \n",
    "\n",
    "Stream processing algorithms, approaches, techniques are their own field. And many libraries and systems exist to support this type of analysis/processing. "
   ]
  },
  {
   "cell_type": "code",
   "execution_count": 41,
   "metadata": {},
   "outputs": [],
   "source": [
    "stream = [1, 2, 3, 1, 2, 3, 5, 1, 2]"
   ]
  },
  {
   "cell_type": "markdown",
   "metadata": {},
   "source": [
    "We can only process this *one* thing at a time...\n",
    "\n",
    "two possible reasons for this restriction:\n",
    "1. realtime therefore we only see one event at a time (ie., no future)\n",
    "2. we dont have a lot of memory/compute/etc. \n",
    "    * eg., 1000s of machines\n",
    "\n",
    "Either of these restrictions mean we cannot extract \"common data elements\" (eg., via SELECT) and process them in common. "
   ]
  },
  {
   "cell_type": "code",
   "execution_count": 42,
   "metadata": {},
   "outputs": [
    {
     "name": "stdout",
     "output_type": "stream",
     "text": [
      "1\n",
      "2\n",
      "3\n",
      "1\n",
      "2\n",
      "3\n",
      "5\n",
      "1\n",
      "2\n"
     ]
    }
   ],
   "source": [
    "for e in stream:\n",
    "    print(e)"
   ]
  },
  {
   "cell_type": "markdown",
   "metadata": {},
   "source": [
    "Suppose I want to \"watch\" for 2s, 3s, 5s..."
   ]
  },
  {
   "cell_type": "code",
   "execution_count": 45,
   "metadata": {},
   "outputs": [
    {
     "name": "stdout",
     "output_type": "stream",
     "text": [
      "SEEN 2\n",
      "SEEN 3\n",
      "SEEN 2\n",
      "SEEN 3\n",
      "SEEN 5\n",
      "SEEN 2\n"
     ]
    }
   ],
   "source": [
    "for e in stream:\n",
    "    if e == 2:\n",
    "        print(\"SEEN 2\")\n",
    "        \n",
    "    elif e == 5:\n",
    "        print(\"SEEN 5\")\n",
    "        \n",
    "    elif e == 3:\n",
    "        print(\"SEEN 3\")\n",
    "        \n",
    "    else:\n",
    "        continue # skip"
   ]
  },
  {
   "cell_type": "markdown",
   "metadata": {},
   "source": [
    "In practice, if we had a list like this we may not write this type of loop.\n",
    "\n",
    "But what about a 1TB file...\n",
    "\n",
    "There we cannot load the whole file into memory (split it up, etc.); we **have** to process line-by-line. "
   ]
  },
  {
   "cell_type": "markdown",
   "metadata": {},
   "source": [
    "This is non-tabular, there is no \"saved table\". In analogy: the database can only see one row at a time. "
   ]
  },
  {
   "cell_type": "markdown",
   "metadata": {},
   "source": [
    "---"
   ]
  },
  {
   "cell_type": "markdown",
   "metadata": {},
   "source": [
    "## Case Study 2: Enriched Events"
   ]
  },
  {
   "cell_type": "markdown",
   "metadata": {},
   "source": [
    "In practice events will be complex hierachical documents with enriched information about the nature of the event,"
   ]
  },
  {
   "cell_type": "code",
   "execution_count": 75,
   "metadata": {
    "slideshow": {
     "slide_type": "slide"
    }
   },
   "outputs": [],
   "source": [
    "def event_detail(subject, sid, verb, object, oid, data):\n",
    "    return {\n",
    "        'subject': {\"type\" : subject, \"id\": sid },\n",
    "        'verb': verb,\n",
    "        'object': { \"type\" : object, \"id\": oid },\n",
    "        'context': {\n",
    "            \"time\": str(datetime.now()),\n",
    "            \"data\": data\n",
    "        }\n",
    "    }"
   ]
  },
  {
   "cell_type": "code",
   "execution_count": 76,
   "metadata": {},
   "outputs": [
    {
     "data": {
      "text/plain": [
       "{'subject': {'type': 'CUSTOMER', 'id': 1001},\n",
       " 'verb': 'APPLY',\n",
       " 'object': {'type': 'FORM', 'id': 3081},\n",
       " 'context': {'time': '2021-05-21 13:43:05.121000',\n",
       "  'data': 'Medical Insurance'}}"
      ]
     },
     "execution_count": 76,
     "metadata": {},
     "output_type": "execute_result"
    }
   ],
   "source": [
    "event_detail(\"CUSTOMER\", 1001, \"APPLY\", \"FORM\", 3081, \"Medical Insurance\")"
   ]
  },
  {
   "cell_type": "markdown",
   "metadata": {},
   "source": [
    "This information, in a machine learning system, will likely provide the $X$ values we use to make predictions.\n",
    "\n",
    "\n",
    "Consider the event log below: two customers, one is accepted, makes a claim, and the claim is paid; the other customer is rejected."
   ]
  },
  {
   "cell_type": "code",
   "execution_count": 65,
   "metadata": {},
   "outputs": [],
   "source": [
    "detail = []\n",
    "detail.append(\n",
    "    event_detail(\"CUSTOMER\", 1001, \"APPLY\", \"FORM\", 3081, \"Medical Insurance\")\n",
    ")\n",
    "\n",
    "detail.append(\n",
    "    event_detail(\"CUSTOMER\", 1002, \"APPLY\", \"FORM\", 3082, \"Car Insurance\")\n",
    ")\n",
    "\n",
    "detail.append(\n",
    "    event_detail(\"ASSESSOR\", 32, \"ACCEPT\", \"CUSTOMER\", 1001, \"GOOD\")\n",
    ")\n",
    "\n",
    "detail.append(\n",
    "    event_detail(\"ASSESSOR\", 32, \"REJECT\", \"CUSTOMER\", 1002, \"GOOD\")\n",
    ")\n",
    "\n",
    "detail.append(\n",
    "    event_detail(\"CUSTOMER\", 1001, \"CLAIM\", \"FORM\", 3087, 10_000)\n",
    ")\n",
    "\n",
    "detail.append(\n",
    "    event_detail(\"ASSESSOR\", 32, \"ACCEPT\", \"CLAIM\", 3087, 10_000)\n",
    ")\n",
    "\n",
    "detail.append(\n",
    "    event_detail(\"PAYMENTS\", 1, \"PAYS\", \"CUSTOMER\", 1001, 7_500)\n",
    ")"
   ]
  },
  {
   "cell_type": "markdown",
   "metadata": {},
   "source": [
    "Assuming we have ETL'd this, we then stream process,"
   ]
  },
  {
   "cell_type": "markdown",
   "metadata": {},
   "source": [
    "### How do I add machine learning to an event system?"
   ]
  },
  {
   "cell_type": "markdown",
   "metadata": {},
   "source": [
    "For now consider a dummy prediction function,"
   ]
  },
  {
   "cell_type": "code",
   "execution_count": 71,
   "metadata": {},
   "outputs": [],
   "source": [
    "def predict_claim(amount):\n",
    "    return 0.9 * amount"
   ]
  },
  {
   "cell_type": "markdown",
   "metadata": {},
   "source": [
    "Below we perform simple reporting analysis (counting the number of applicants, and claim volume),"
   ]
  },
  {
   "cell_type": "code",
   "execution_count": 78,
   "metadata": {},
   "outputs": [],
   "source": [
    "applications = 0\n",
    "claims = 0\n",
    "\n",
    "for e in detail:\n",
    "    if (e['subject']['type'] == 'CUSTOMER' and e['verb'] == 'APPLY'):\n",
    "        applications += 1\n",
    "    elif e['subject']['type'] == 'ASSESSOR' and e['verb'] == 'ACCEPT' and e['object'] == 'CLAIM': \n",
    "        claims += e['context']['data']\n",
    "    elif e['subject']['type'] == 'PAYMENTS' and e['verb'] == 'PAYS':\n",
    "        claims -= e['context']['data']"
   ]
  },
  {
   "cell_type": "code",
   "execution_count": 77,
   "metadata": {},
   "outputs": [
    {
     "name": "stdout",
     "output_type": "stream",
     "text": [
      "2 -7500\n"
     ]
    }
   ],
   "source": [
    "print(applications, claims)"
   ]
  },
  {
   "cell_type": "markdown",
   "metadata": {},
   "source": [
    "We could revise this to add our prediction function, which is triggered whenever we see a claim being received,"
   ]
  },
  {
   "cell_type": "code",
   "execution_count": 83,
   "metadata": {},
   "outputs": [
    {
     "name": "stdout",
     "output_type": "stream",
     "text": [
      "CLAIM RECEIVED\n",
      "WE PREDICT A PAYOUT OF: 9000.0\n",
      "...EMAILING INTERNAL DEPARTMENTS..\n"
     ]
    }
   ],
   "source": [
    "\n",
    "for e in detail:\n",
    "    if (e['subject']['type'] == 'CUSTOMER' and e['verb'] == 'APPLY'):\n",
    "        ...\n",
    "        \n",
    "        \n",
    "    elif e['subject']['type'] == 'CUSTOMER' and e['verb'] == 'CLAIM':\n",
    "        prediction = predict_claim(e['context']['data'])\n",
    "        \n",
    "        if prediction > 5_000:\n",
    "            print(\"CLAIM RECEIVED\")\n",
    "            print(\"WE PREDICT A PAYOUT OF:\", prediction) \n",
    "            print(\"...EMAILING INTERNAL DEPARTMENTS..\")\n",
    "            \n",
    "            \n",
    "    elif e['subject']['type'] == 'ASSESSOR' and e['verb'] == 'ACCEPT' and e['object'] == 'CLAIM': \n",
    "        ...\n",
    "        \n",
    "        \n",
    "    elif e['subject']['type'] == 'PAYMENTS' and e['verb'] == 'PAYS':\n",
    "        ...\n",
    "        "
   ]
  },
  {
   "cell_type": "markdown",
   "metadata": {},
   "source": [
    "## What is a realistic prediction function?"
   ]
  },
  {
   "cell_type": "markdown",
   "metadata": {},
   "source": [
    "We can use the event archive with sklearn to create a predictive model,"
   ]
  },
  {
   "cell_type": "code",
   "execution_count": 96,
   "metadata": {},
   "outputs": [],
   "source": [
    "from sklearn.linear_model import LinearRegression\n",
    "\n",
    "X = [[10_000], [20_000], [30_000]] # claim amounts\n",
    "y = [8_300, 18_200, 19_500] # actual payouts\n",
    "\n",
    "model = LinearRegression().fit(X, y)"
   ]
  },
  {
   "cell_type": "markdown",
   "metadata": {},
   "source": [
    "Above, data is just simulated for convenience."
   ]
  },
  {
   "cell_type": "code",
   "execution_count": 102,
   "metadata": {},
   "outputs": [
    {
     "name": "stdout",
     "output_type": "stream",
     "text": [
      "CLAIM RECEIVED\n",
      "WE PREDICT A PAYOUT OF: [9733.33]\n",
      "...EMAILING INTERNAL DEPARTMENTS..\n"
     ]
    }
   ],
   "source": [
    "\n",
    "for e in detail:\n",
    "    if e['subject']['type'] == 'CUSTOMER' and e['verb'] == 'CLAIM':\n",
    "        \n",
    "        x_claim_amount = e['context']['data']\n",
    "        \n",
    "        prediction = model.predict([ [x_claim_amount] ]).round(2)\n",
    "        \n",
    "        if prediction > 5_000:\n",
    "            print(\"CLAIM RECEIVED\")\n",
    "            print(\"WE PREDICT A PAYOUT OF:\", prediction) \n",
    "            print(\"...EMAILING INTERNAL DEPARTMENTS..\")\n",
    "            \n",
    "            "
   ]
  },
  {
   "cell_type": "markdown",
   "metadata": {},
   "source": [
    "## Exercise"
   ]
  },
  {
   "cell_type": "markdown",
   "metadata": {},
   "source": [
    "Consider the IoT health data for a single individual in their home,"
   ]
  },
  {
   "cell_type": "code",
   "execution_count": 106,
   "metadata": {},
   "outputs": [],
   "source": [
    "def health_event(subject, verb, object, context, time):\n",
    "    return {\n",
    "        'subject': subject,\n",
    "        'verb': verb,\n",
    "        'object': object,\n",
    "        'context': context,\n",
    "        'time': time\n",
    "    }"
   ]
  },
  {
   "cell_type": "markdown",
   "metadata": {},
   "source": [
    "We measure time from 0 = 12pm noon. We have watches, kettles, ... which track their events,"
   ]
  },
  {
   "cell_type": "code",
   "execution_count": 111,
   "metadata": {},
   "outputs": [],
   "source": [
    "healthlog = []\n",
    "\n",
    "healthlog.append(health_event(\"WATCH\", \"MEASURES\", \"HR\", 60, 0))\n",
    "healthlog.append(health_event(\"WATCH\", \"MEASURES\", \"HR\", 78, 1))\n",
    "healthlog.append(health_event(\"WATCH\", \"MEASURES\", \"spO2\", 98, 3))\n",
    "healthlog.append(health_event(\"WATCH\", \"MEASURES\", \"spO2\", 99, 7))\n",
    "healthlog.append(health_event(\"WATCH\", \"MEASURES\", \"HR\", 78, 8))\n",
    "healthlog.append(health_event(\"KETTLE\", \"PERCOLATES\", \"COFFEE\", 500, 60))\n",
    "healthlog.append(health_event(\"WATCH\", \"MEASURES\", \"HR\", 100, 200))\n",
    "healthlog.append(health_event(\"WATCH\", \"MEASURES\", \"HR\", 60, 1100))\n",
    "healthlog.append(health_event(\"WATCH\", \"MEASURES\", \"HR\", 78, 1200))\n"
   ]
  },
  {
   "cell_type": "markdown",
   "metadata": {},
   "source": [
    "To analyse this log we process the event streaming in a loop,"
   ]
  },
  {
   "cell_type": "code",
   "execution_count": 113,
   "metadata": {},
   "outputs": [
    {
     "name": "stdout",
     "output_type": "stream",
     "text": [
      "MEASURES\n",
      "MEASURES\n",
      "MEASURES\n",
      "MEASURES\n",
      "MEASURES\n",
      "PERCOLATES\n",
      "MEASURES\n",
      "MEASURES\n",
      "MEASURES\n"
     ]
    },
    {
     "data": {
      "text/plain": [
       "75.66666666666667"
      ]
     },
     "execution_count": 113,
     "metadata": {},
     "output_type": "execute_result"
    }
   ],
   "source": [
    "total = 0\n",
    "count = 0\n",
    "\n",
    "for e in healthlog:    \n",
    "    if e['object'] == 'HR':\n",
    "        count += 1\n",
    "        total += e['context']\n",
    "        \n",
    "    print(e['verb'])\n",
    "    \n",
    "total / count"
   ]
  },
  {
   "cell_type": "markdown",
   "metadata": {},
   "source": [
    "### Questions (20 min)\n",
    "\n",
    "* modify the loop to record a running total for the HR\n",
    "    * and then report an *average heart rate*\n",
    "    \n",
    "* HINTS:\n",
    "    * count = 0 -- before\n",
    "    * total = 0 -- before the loop\n",
    "    * total += e['context'] -- add the data to the total\n",
    "    * count += 1\n",
    "    * total/count\n",
    "    \n",
    "* EXTRA:\n",
    "    * detect a HR anomoly -- ie., a HR spike\n",
    "    * advise the person on their health\n",
    "        * ie., come up with prediction function which maps HR,O2,Coffee->Quality"
   ]
  },
  {
   "cell_type": "code",
   "execution_count": null,
   "metadata": {},
   "outputs": [],
   "source": []
  }
 ],
 "metadata": {
  "kernelspec": {
   "display_name": "Python 3",
   "language": "python",
   "name": "python3"
  },
  "language_info": {
   "codemirror_mode": {
    "name": "ipython",
    "version": 3
   },
   "file_extension": ".py",
   "mimetype": "text/x-python",
   "name": "python",
   "nbconvert_exporter": "python",
   "pygments_lexer": "ipython3",
   "version": "3.8.3"
  }
 },
 "nbformat": 4,
 "nbformat_minor": 4
}
