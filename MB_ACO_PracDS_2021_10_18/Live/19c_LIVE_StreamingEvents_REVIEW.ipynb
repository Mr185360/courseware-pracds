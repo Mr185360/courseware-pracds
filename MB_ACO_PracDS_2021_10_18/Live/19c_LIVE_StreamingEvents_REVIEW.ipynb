{
 "cells": [
  {
   "cell_type": "markdown",
   "id": "da8afe1d",
   "metadata": {},
   "source": [
    "# Big Data & Machine Learning: Streaming Review"
   ]
  },
  {
   "cell_type": "markdown",
   "id": "b55320f3",
   "metadata": {},
   "source": [
    "* data science\n",
    "    * network science\n",
    "* machine learning\n",
    "    * regression\n",
    "* big data\n",
    "    * streaming"
   ]
  },
  {
   "cell_type": "markdown",
   "id": "2ce432d6",
   "metadata": {},
   "source": [
    "## Reflect"
   ]
  },
  {
   "cell_type": "markdown",
   "id": "6a3130ee",
   "metadata": {},
   "source": [
    "* dataset which provides connections between user preferences\n",
    "* user-product graph which records high ratings of products\n",
    "    * we use an events system to record high-ratings (i.e, \"LIKE\"s)\n",
    "* we use machine learning on the event stream to detect if they'd like \"WINE\"\n",
    "    * if so, we recommend the wine (on offer)"
   ]
  },
  {
   "cell_type": "markdown",
   "id": "29ad3e10",
   "metadata": {},
   "source": [
    "## Simulating the User-Product Graph"
   ]
  },
  {
   "cell_type": "code",
   "execution_count": 4,
   "id": "6ac60deb",
   "metadata": {},
   "outputs": [],
   "source": [
    "from random import choice, random"
   ]
  },
  {
   "cell_type": "code",
   "execution_count": 15,
   "id": "64693b13",
   "metadata": {},
   "outputs": [
    {
     "data": {
      "text/plain": [
       "['ElectricToy', 'ElectricToy', 'ElectricToy']"
      ]
     },
     "execution_count": 15,
     "metadata": {},
     "output_type": "execute_result"
    }
   ],
   "source": [
    "[\"ElectricToy\"] * 3"
   ]
  },
  {
   "cell_type": "code",
   "execution_count": 21,
   "id": "dd97ad05",
   "metadata": {},
   "outputs": [],
   "source": [
    "ptype = [\"ElectricToy\"] * 5 + [\"Chocolate\"] * 3 + [\"Wine\"]  * 2\n",
    "\n",
    "\n",
    "\n",
    "users = [\n",
    "    (\n",
    "        f\"User{i}\", \n",
    "        round(10 * random())/10, \n",
    "        round(5 * random() + 1)/10, \n",
    "        round(10 * random())/10\n",
    "    )\n",
    "     for i in range(0, 100)\n",
    "]\n",
    "\n",
    "products = [ (f\"Product{i}\", choice(ptype)) for i in range(0, 100)]"
   ]
  },
  {
   "cell_type": "code",
   "execution_count": 22,
   "id": "50932966",
   "metadata": {},
   "outputs": [
    {
     "data": {
      "text/plain": [
       "[('User0', 0.5, 0.4, 0.5),\n",
       " ('User1', 1.0, 0.4, 0.5),\n",
       " ('User2', 0.3, 0.5, 0.4),\n",
       " ('User3', 0.5, 0.2, 0.3),\n",
       " ('User4', 0.2, 0.3, 0.1)]"
      ]
     },
     "execution_count": 22,
     "metadata": {},
     "output_type": "execute_result"
    }
   ],
   "source": [
    "users[:5]"
   ]
  },
  {
   "cell_type": "code",
   "execution_count": 23,
   "id": "921a61f8",
   "metadata": {},
   "outputs": [
    {
     "data": {
      "text/plain": [
       "[('Product0', 'ElectricToy'),\n",
       " ('Product1', 'Chocolate'),\n",
       " ('Product2', 'Wine'),\n",
       " ('Product3', 'Chocolate'),\n",
       " ('Product4', 'ElectricToy')]"
      ]
     },
     "execution_count": 23,
     "metadata": {},
     "output_type": "execute_result"
    }
   ],
   "source": [
    "products[:5]"
   ]
  },
  {
   "cell_type": "code",
   "execution_count": 29,
   "id": "82a31e89",
   "metadata": {},
   "outputs": [],
   "source": [
    "G = []\n",
    "\n",
    "for (user, pr_toy, pr_choc, pr_wine) in users:\n",
    "    if (pr_toy > random()) and (pr_toy >= 0.5):\n",
    "        product = choice([ \n",
    "            pname for (pname, ptype) in products \n",
    "            if ptype == \"ElectricToy\"\n",
    "        ])\n",
    "        \n",
    "        G.append( (user, product, pr_toy) )\n",
    "            \n",
    "            \n",
    "    if pr_choc > random() and (pr_choc >= 0.5):\n",
    "        product = choice([ \n",
    "            pname for (pname, ptype) in products \n",
    "            if ptype == \"Chocolate\"\n",
    "        ])\n",
    "        \n",
    "        G.append( (user, product, pr_choc) )\n",
    "            \n",
    "    if pr_wine > random() and (pr_wine >= 0.5):\n",
    "        product = choice([ \n",
    "            pname for (pname, ptype) in products \n",
    "            if ptype == \"Wine\"\n",
    "        ])\n",
    "        \n",
    "        G.append( (user, product, pr_wine) )\n",
    "            "
   ]
  },
  {
   "cell_type": "markdown",
   "id": "4872fefc",
   "metadata": {},
   "source": [
    "---"
   ]
  },
  {
   "cell_type": "code",
   "execution_count": 31,
   "id": "8582e100",
   "metadata": {},
   "outputs": [],
   "source": [
    "import pandas as pd"
   ]
  },
  {
   "cell_type": "code",
   "execution_count": 52,
   "id": "f4a87d3e",
   "metadata": {},
   "outputs": [
    {
     "data": {
      "text/html": [
       "<div>\n",
       "<style scoped>\n",
       "    .dataframe tbody tr th:only-of-type {\n",
       "        vertical-align: middle;\n",
       "    }\n",
       "\n",
       "    .dataframe tbody tr th {\n",
       "        vertical-align: top;\n",
       "    }\n",
       "\n",
       "    .dataframe thead th {\n",
       "        text-align: right;\n",
       "    }\n",
       "</style>\n",
       "<table border=\"1\" class=\"dataframe\">\n",
       "  <thead>\n",
       "    <tr style=\"text-align: right;\">\n",
       "      <th></th>\n",
       "      <th>ProductName</th>\n",
       "      <th>Type</th>\n",
       "    </tr>\n",
       "  </thead>\n",
       "  <tbody>\n",
       "    <tr>\n",
       "      <th>3</th>\n",
       "      <td>Product3</td>\n",
       "      <td>Chocolate</td>\n",
       "    </tr>\n",
       "    <tr>\n",
       "      <th>41</th>\n",
       "      <td>Product41</td>\n",
       "      <td>Wine</td>\n",
       "    </tr>\n",
       "    <tr>\n",
       "      <th>46</th>\n",
       "      <td>Product46</td>\n",
       "      <td>ElectricToy</td>\n",
       "    </tr>\n",
       "  </tbody>\n",
       "</table>\n",
       "</div>"
      ],
      "text/plain": [
       "   ProductName         Type\n",
       "3     Product3    Chocolate\n",
       "41   Product41         Wine\n",
       "46   Product46  ElectricToy"
      ]
     },
     "execution_count": 52,
     "metadata": {},
     "output_type": "execute_result"
    }
   ],
   "source": [
    "pdf = pd.DataFrame(products, columns=[\"ProductName\", \"Type\"])\n",
    "\n",
    "pdf.sample(3)"
   ]
  },
  {
   "cell_type": "code",
   "execution_count": 53,
   "id": "681ad875",
   "metadata": {},
   "outputs": [],
   "source": [
    "udf = pd.DataFrame(users, columns=[\"UserName\", \"Toy\", \"Choc\", \"Wine\"])"
   ]
  },
  {
   "cell_type": "code",
   "execution_count": 54,
   "id": "b89ee8ae",
   "metadata": {},
   "outputs": [
    {
     "data": {
      "text/html": [
       "<div>\n",
       "<style scoped>\n",
       "    .dataframe tbody tr th:only-of-type {\n",
       "        vertical-align: middle;\n",
       "    }\n",
       "\n",
       "    .dataframe tbody tr th {\n",
       "        vertical-align: top;\n",
       "    }\n",
       "\n",
       "    .dataframe thead th {\n",
       "        text-align: right;\n",
       "    }\n",
       "</style>\n",
       "<table border=\"1\" class=\"dataframe\">\n",
       "  <thead>\n",
       "    <tr style=\"text-align: right;\">\n",
       "      <th></th>\n",
       "      <th>UserName</th>\n",
       "      <th>Toy</th>\n",
       "      <th>Choc</th>\n",
       "      <th>Wine</th>\n",
       "    </tr>\n",
       "  </thead>\n",
       "  <tbody>\n",
       "    <tr>\n",
       "      <th>21</th>\n",
       "      <td>User21</td>\n",
       "      <td>0.4</td>\n",
       "      <td>0.2</td>\n",
       "      <td>0.1</td>\n",
       "    </tr>\n",
       "    <tr>\n",
       "      <th>51</th>\n",
       "      <td>User51</td>\n",
       "      <td>0.4</td>\n",
       "      <td>0.3</td>\n",
       "      <td>0.4</td>\n",
       "    </tr>\n",
       "    <tr>\n",
       "      <th>73</th>\n",
       "      <td>User73</td>\n",
       "      <td>1.0</td>\n",
       "      <td>0.1</td>\n",
       "      <td>0.0</td>\n",
       "    </tr>\n",
       "  </tbody>\n",
       "</table>\n",
       "</div>"
      ],
      "text/plain": [
       "   UserName  Toy  Choc  Wine\n",
       "21   User21  0.4   0.2   0.1\n",
       "51   User51  0.4   0.3   0.4\n",
       "73   User73  1.0   0.1   0.0"
      ]
     },
     "execution_count": 54,
     "metadata": {},
     "output_type": "execute_result"
    }
   ],
   "source": [
    "udf.sample(3)"
   ]
  },
  {
   "cell_type": "code",
   "execution_count": 58,
   "id": "4be78163",
   "metadata": {},
   "outputs": [],
   "source": [
    "updf = pd.DataFrame(G, columns=[\"UserName\", \"ProductName\", \"Rating\"])"
   ]
  },
  {
   "cell_type": "code",
   "execution_count": 59,
   "id": "6eeda200",
   "metadata": {},
   "outputs": [
    {
     "data": {
      "text/html": [
       "<div>\n",
       "<style scoped>\n",
       "    .dataframe tbody tr th:only-of-type {\n",
       "        vertical-align: middle;\n",
       "    }\n",
       "\n",
       "    .dataframe tbody tr th {\n",
       "        vertical-align: top;\n",
       "    }\n",
       "\n",
       "    .dataframe thead th {\n",
       "        text-align: right;\n",
       "    }\n",
       "</style>\n",
       "<table border=\"1\" class=\"dataframe\">\n",
       "  <thead>\n",
       "    <tr style=\"text-align: right;\">\n",
       "      <th></th>\n",
       "      <th>UserName</th>\n",
       "      <th>ProductName</th>\n",
       "      <th>Rating</th>\n",
       "    </tr>\n",
       "  </thead>\n",
       "  <tbody>\n",
       "    <tr>\n",
       "      <th>29</th>\n",
       "      <td>User32</td>\n",
       "      <td>Product22</td>\n",
       "      <td>0.5</td>\n",
       "    </tr>\n",
       "    <tr>\n",
       "      <th>64</th>\n",
       "      <td>User65</td>\n",
       "      <td>Product49</td>\n",
       "      <td>0.8</td>\n",
       "    </tr>\n",
       "    <tr>\n",
       "      <th>34</th>\n",
       "      <td>User36</td>\n",
       "      <td>Product75</td>\n",
       "      <td>0.9</td>\n",
       "    </tr>\n",
       "  </tbody>\n",
       "</table>\n",
       "</div>"
      ],
      "text/plain": [
       "   UserName ProductName  Rating\n",
       "29   User32   Product22     0.5\n",
       "64   User65   Product49     0.8\n",
       "34   User36   Product75     0.9"
      ]
     },
     "execution_count": 59,
     "metadata": {},
     "output_type": "execute_result"
    }
   ],
   "source": [
    "updf.sample(3)"
   ]
  },
  {
   "cell_type": "markdown",
   "id": "dd24501b",
   "metadata": {},
   "source": [
    "---"
   ]
  },
  {
   "cell_type": "code",
   "execution_count": 61,
   "id": "b58cd086",
   "metadata": {},
   "outputs": [],
   "source": [
    "from sklearn.linear_model import LinearRegression"
   ]
  },
  {
   "cell_type": "code",
   "execution_count": 68,
   "id": "42c95174",
   "metadata": {},
   "outputs": [],
   "source": [
    "model_toy = LinearRegression().fit(udf[['Toy']], udf['Wine'])\n",
    "model_cho = LinearRegression().fit(udf[['Choc']], udf['Wine'])\n"
   ]
  },
  {
   "cell_type": "code",
   "execution_count": 70,
   "id": "a3e90168",
   "metadata": {},
   "outputs": [
    {
     "data": {
      "text/plain": [
       "array([0.52483928, 0.51363589])"
      ]
     },
     "execution_count": 70,
     "metadata": {},
     "output_type": "execute_result"
    }
   ],
   "source": [
    "model_toy.predict([\n",
    "    [0.1],\n",
    "    [0.5]\n",
    "])"
   ]
  },
  {
   "cell_type": "markdown",
   "id": "b2b0d874",
   "metadata": {},
   "source": [
    "---"
   ]
  },
  {
   "cell_type": "markdown",
   "id": "3186f3f6",
   "metadata": {},
   "source": [
    "## Events"
   ]
  },
  {
   "cell_type": "code",
   "execution_count": 81,
   "id": "1b4be0b8",
   "metadata": {},
   "outputs": [],
   "source": [
    "events = [{\n",
    "    \"subject\": u,\n",
    "    \"verb\": \"like\",\n",
    "    \"object\": v,\n",
    "    \"context\" :{\n",
    "        \"time\": \"12pm\",\n",
    "        \"rating\": w\n",
    "    }\n",
    "} for (u, v, w) in G]"
   ]
  },
  {
   "cell_type": "markdown",
   "id": "4b9e2035",
   "metadata": {},
   "source": [
    "As an event database (ie., append-only eventlog), "
   ]
  },
  {
   "cell_type": "code",
   "execution_count": 83,
   "id": "c0c0cc54",
   "metadata": {},
   "outputs": [
    {
     "data": {
      "text/plain": [
       "[{'subject': 'User0',\n",
       "  'verb': 'like',\n",
       "  'object': 'Product29',\n",
       "  'context': {'time': '12pm', 'rating': 0.5}},\n",
       " {'subject': 'User1',\n",
       "  'verb': 'like',\n",
       "  'object': 'Product70',\n",
       "  'context': {'time': '12pm', 'rating': 1.0}}]"
      ]
     },
     "execution_count": 83,
     "metadata": {},
     "output_type": "execute_result"
    }
   ],
   "source": [
    "events[:2]"
   ]
  },
  {
   "cell_type": "code",
   "execution_count": 85,
   "id": "b6886263",
   "metadata": {},
   "outputs": [],
   "source": [
    "events.append({\n",
    "    \"subject\": \"User0\",\n",
    "    \"verb\": \"orders\",\n",
    "    \"object\": \"Product0\",\n",
    "    \"context\": {\n",
    "        \"time\": \"1pm\"\n",
    "    }\n",
    "})"
   ]
  },
  {
   "cell_type": "markdown",
   "id": "60587adb",
   "metadata": {},
   "source": [
    "...to simulate a stream we can use `iter`, "
   ]
  },
  {
   "cell_type": "code",
   "execution_count": 116,
   "id": "6f58ecf7",
   "metadata": {},
   "outputs": [],
   "source": [
    "stream = iter()"
   ]
  },
  {
   "cell_type": "code",
   "execution_count": 117,
   "id": "4a69cca5",
   "metadata": {},
   "outputs": [],
   "source": [
    "def get_from_eventsdb():\n",
    "    return next(stream)"
   ]
  },
  {
   "cell_type": "code",
   "execution_count": 120,
   "id": "23653f1a",
   "metadata": {
    "scrolled": true
   },
   "outputs": [],
   "source": [
    "for event in events:\n",
    "    \n",
    "    if event['verb'] != \"like\":\n",
    "        #print(\"SKIPPING\", event)\n",
    "        continue \n",
    "        \n",
    "    # PROCESSING LIKE\n",
    "    \n",
    "    user, product, rating = (\n",
    "        event['subject'], \n",
    "        event['object'], \n",
    "        event['context']['rating']\n",
    "    )\n",
    "    \n",
    "    # FIND THE PRODUCT TYPE\n",
    "    fav_type = pdf.loc[ pdf['ProductName'] == product, 'Type' ].values[0]\n",
    "    \n",
    "    # AIM: RECOMMEND WINE IF SUITABLE \n",
    "    \n",
    "    if fav_type == \"Wine\":\n",
    "        est_pref_wine = rating\n",
    "        \n",
    "    if fav_type == \"ElectricToy\":\n",
    "        est_pref_wine = model_toy.predict([\n",
    "            [rating]\n",
    "        ])\n",
    "        \n",
    "    if fav_type == \"Chocolate\":\n",
    "        est_pref_wine = model_cho.predict([\n",
    "            [rating]\n",
    "        ])\n",
    "        \n",
    "    if est_pref_wine > 0.85:\n",
    "        events.append({\n",
    "            \"subject\": \"RECOMMENDATION_SYSTEM\",\n",
    "            \"verb\": \"RECOMMEND\",\n",
    "            \"object\": \"USER\",\n",
    "            \"context\": {\n",
    "                \"time\": \"2pm\",\n",
    "                \"product\": \"WINE_ON_OFFER\"\n",
    "            }\n",
    "        })"
   ]
  },
  {
   "cell_type": "code",
   "execution_count": 121,
   "id": "cc814c0b",
   "metadata": {},
   "outputs": [
    {
     "data": {
      "text/plain": [
       "[{'subject': 'RECOMMENDATION_SYSTEM',\n",
       "  'verb': 'RECOMMEND',\n",
       "  'object': 'USER',\n",
       "  'context': {'time': '2pm', 'product': 'WINE_ON_OFFER'}},\n",
       " {'subject': 'RECOMMENDATION_SYSTEM',\n",
       "  'verb': 'RECOMMEND',\n",
       "  'object': 'USER',\n",
       "  'context': {'time': '2pm', 'product': 'WINE_ON_OFFER'}},\n",
       " {'subject': 'RECOMMENDATION_SYSTEM',\n",
       "  'verb': 'RECOMMEND',\n",
       "  'object': 'USER',\n",
       "  'context': {'time': '2pm', 'product': 'WINE_ON_OFFER'}}]"
      ]
     },
     "execution_count": 121,
     "metadata": {},
     "output_type": "execute_result"
    }
   ],
   "source": [
    "events[-3:]"
   ]
  },
  {
   "cell_type": "markdown",
   "id": "a7bd04d7",
   "metadata": {},
   "source": [
    "---"
   ]
  },
  {
   "cell_type": "code",
   "execution_count": null,
   "id": "0cb0d95f",
   "metadata": {},
   "outputs": [],
   "source": []
  }
 ],
 "metadata": {
  "kernelspec": {
   "display_name": "Python 3.9",
   "language": "python",
   "name": "python3"
  },
  "language_info": {
   "codemirror_mode": {
    "name": "ipython",
    "version": 3
   },
   "file_extension": ".py",
   "mimetype": "text/x-python",
   "name": "python",
   "nbconvert_exporter": "python",
   "pygments_lexer": "ipython3",
   "version": "3.9.6"
  }
 },
 "nbformat": 4,
 "nbformat_minor": 5
}
