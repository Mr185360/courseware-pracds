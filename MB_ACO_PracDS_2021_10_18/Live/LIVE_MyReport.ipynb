{
 "cells": [
  {
   "cell_type": "markdown",
   "id": "250fa190",
   "metadata": {},
   "source": [
    "# Report \n",
    "#### By Michael Burgess\n",
    "\n",
    "\n",
    "## Section One\n",
    "\n",
    "* bullet points\n",
    "    * subpoint\n",
    "    * subpoint\n",
    "* bullet points\n",
    "    1. one\n",
    "    1. two\n",
    "    1. three, `code formatting`\n",
    "    \n",
    "$\\hat{y} = \\hat{f}(X) : X \\in D_X, y \\in D_y : via \\mathcal{Alg}$\n",
    "\n",
    "<img src=/static/base/images/logo.png width=200px />\n",
    "\n",
    "\n",
    "> be the chage you wish to see in the world -- ghandi\n",
    "> more quote\n",
    "\n",
    "\n",
    "```java\n",
    "\n",
    "class Program {\n",
    "    public static void Main() { System.out.println(\"Simpe, right?!\"); \n",
    "}\n",
    "\n",
    "```\n",
    "\n",
    "---\n",
    "\n"
   ]
  },
  {
   "cell_type": "code",
   "execution_count": null,
   "id": "88e364e1",
   "metadata": {},
   "outputs": [],
   "source": [
    "import seaborn as sns\n",
    "\n",
    "features = [7, 18, 21, 30, ] # ages\n",
    "target   = [] # spend on sweets\n",
    "\n",
    "sns.scatterplot(x=features, y=target)"
   ]
  },
  {
   "cell_type": "markdown",
   "id": "4f976c35",
   "metadata": {},
   "source": [
    "## Exercise"
   ]
  },
  {
   "cell_type": "markdown",
   "id": "1c01c208",
   "metadata": {},
   "source": [
    "* browse to a folder using jupyter\n",
    "* create a new notebook\n",
    "* rename it\n",
    "    * click on the \"Untitled\" heading"
   ]
  },
  {
   "cell_type": "markdown",
   "id": "6e4aa50f",
   "metadata": {},
   "source": [
    "**Raise hand when done.**"
   ]
  },
  {
   "cell_type": "code",
   "execution_count": null,
   "id": "6d7213b7",
   "metadata": {},
   "outputs": [],
   "source": []
  }
 ],
 "metadata": {
  "kernelspec": {
   "display_name": "Python 3.9",
   "language": "python",
   "name": "python3"
  },
  "language_info": {
   "codemirror_mode": {
    "name": "ipython",
    "version": 3
   },
   "file_extension": ".py",
   "mimetype": "text/x-python",
   "name": "python",
   "nbconvert_exporter": "python",
   "pygments_lexer": "ipython3",
   "version": "3.9.6"
  }
 },
 "nbformat": 4,
 "nbformat_minor": 5
}
