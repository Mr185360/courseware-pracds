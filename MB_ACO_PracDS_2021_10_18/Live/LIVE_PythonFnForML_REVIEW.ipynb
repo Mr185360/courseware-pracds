{
 "cells": [
  {
   "cell_type": "markdown",
   "id": "6604417f",
   "metadata": {},
   "source": [
    "# Python: Functions for ML Methodology"
   ]
  },
  {
   "cell_type": "markdown",
   "id": "885a25d6",
   "metadata": {},
   "source": [
    "## Machine Learning Process"
   ]
  },
  {
   "cell_type": "markdown",
   "id": "b92e4794",
   "metadata": {},
   "source": [
    "Recall the Machine Learning process,"
   ]
  },
  {
   "cell_type": "markdown",
   "id": "c2919a70",
   "metadata": {},
   "source": [
    "`Data -> Algorithm -> prediction = Model(newdata, parameters)`"
   ]
  },
  {
   "cell_type": "markdown",
   "id": "b07a2132",
   "metadata": {},
   "source": [
    "$(X, y) \\rightarrow \\mathcal{Alg} \\rightarrow \\hat{y} = \\hat{f}(X_{new}; w, b)$"
   ]
  },
  {
   "cell_type": "markdown",
   "id": "ed4de743",
   "metadata": {},
   "source": [
    "`generate_data(...) -> min(algo_linear_regression(...)) -> yhat = predict(..., w, b)`"
   ]
  },
  {
   "cell_type": "markdown",
   "id": "c12fc233",
   "metadata": {},
   "source": [
    "## Sketching the ML Process"
   ]
  },
  {
   "cell_type": "code",
   "execution_count": 60,
   "id": "26203ac0",
   "metadata": {},
   "outputs": [],
   "source": [
    "def generate_data():\n",
    "    pass"
   ]
  },
  {
   "cell_type": "code",
   "execution_count": 67,
   "id": "eb637921",
   "metadata": {},
   "outputs": [],
   "source": [
    "def algo_linear_regression(data):\n",
    "    pass"
   ]
  },
  {
   "cell_type": "code",
   "execution_count": 68,
   "id": "06cae3ea",
   "metadata": {},
   "outputs": [],
   "source": [
    "def predict(newpoint, parameters):\n",
    "    pass"
   ]
  },
  {
   "cell_type": "markdown",
   "id": "ba91e26b",
   "metadata": {},
   "source": [
    "together,"
   ]
  },
  {
   "cell_type": "code",
   "execution_count": 69,
   "id": "38ad4dbd",
   "metadata": {},
   "outputs": [],
   "source": [
    "data = generate_data()\n",
    "parameters = algo_linear_regression(data)\n",
    "\n",
    "newpoint = 10\n",
    "prediction = predict(newpoint, parameters)"
   ]
  },
  {
   "cell_type": "markdown",
   "id": "8e9e7822",
   "metadata": {},
   "source": [
    "---"
   ]
  },
  {
   "cell_type": "code",
   "execution_count": 5,
   "id": "1aafaa99",
   "metadata": {},
   "outputs": [],
   "source": [
    "from random import random"
   ]
  },
  {
   "cell_type": "markdown",
   "id": "c45d0a1e",
   "metadata": {},
   "source": [
    "**Q. import `choice` from `random`, what does `choice([True, False])` do?**\n",
    "\n",
    "**Q. How would you use `choice` to simulate categorical data?**\n"
   ]
  },
  {
   "cell_type": "markdown",
   "id": "638cf2fc",
   "metadata": {},
   "source": [
    "The `random()` function with the `random` module generates random numbers in `[0, 1]`,"
   ]
  },
  {
   "cell_type": "code",
   "execution_count": 13,
   "id": "09fd5661",
   "metadata": {},
   "outputs": [
    {
     "data": {
      "text/plain": [
       "0.8139780834117014"
      ]
     },
     "execution_count": 13,
     "metadata": {},
     "output_type": "execute_result"
    }
   ],
   "source": [
    "random()"
   ]
  },
  {
   "cell_type": "markdown",
   "id": "5a716a44",
   "metadata": {},
   "source": [
    "## The Data"
   ]
  },
  {
   "cell_type": "code",
   "execution_count": 21,
   "id": "ee80d51f",
   "metadata": {},
   "outputs": [],
   "source": [
    "def generate_data(w, b, n=5):\n",
    "    X = [ round(random(), 2) for _ in range(0, n)]\n",
    "    y = [ w * x + b for x in X ]\n",
    "    \n",
    "    return (X, y)"
   ]
  },
  {
   "cell_type": "code",
   "execution_count": 22,
   "id": "36e10e63",
   "metadata": {},
   "outputs": [
    {
     "data": {
      "text/plain": [
       "([0.61, 0.52, 0.71, 0.63, 0.77], [11.1, 10.2, 12.1, 11.3, 12.7])"
      ]
     },
     "execution_count": 22,
     "metadata": {},
     "output_type": "execute_result"
    }
   ],
   "source": [
    "generate_data(10, 5)"
   ]
  },
  {
   "cell_type": "markdown",
   "id": "d0477ec8",
   "metadata": {},
   "source": [
    "**Q. Define a new `generate_data_category` so that `y` is `True` or `False`**\n",
    "\n",
    "**HINT: use, eg., `<0` on the `w*x + b`**. "
   ]
  },
  {
   "cell_type": "markdown",
   "id": "0991fbab",
   "metadata": {},
   "source": [
    "## The Algorithm"
   ]
  },
  {
   "cell_type": "markdown",
   "id": "f15d2ce9",
   "metadata": {},
   "source": [
    "We would like to guess $w, b$ until we get close to the \"true\" ones, "
   ]
  },
  {
   "cell_type": "code",
   "execution_count": 54,
   "id": "e088a4bf",
   "metadata": {},
   "outputs": [],
   "source": [
    "def algo_linear_regression(X, y):\n",
    "    history = []\n",
    "    \n",
    "    for wguess in range(0, 100):\n",
    "        for bguess in range(0, 100):\n",
    "            yhat = (wguess * x + bguess)\n",
    "            error = sum([ abs(y - yhat) for x, y in zip(X, y)])\n",
    "            \n",
    "            history.append( (error, (wguess, bguess)))\n",
    "            \n",
    "    return history "
   ]
  },
  {
   "cell_type": "markdown",
   "id": "5a04921c",
   "metadata": {},
   "source": [
    "**Q. EXTRA: define `algo_cat_score` which works with a category `y` (ie., `True`, `False`).**\n",
    "\n",
    "**Q. HINT: modify `yhat` to use `<0`.**"
   ]
  },
  {
   "cell_type": "markdown",
   "id": "531ca6d1",
   "metadata": {},
   "source": [
    "With the functions above we can now `generate_data`,"
   ]
  },
  {
   "cell_type": "code",
   "execution_count": 42,
   "id": "95995dd2",
   "metadata": {},
   "outputs": [],
   "source": [
    "X_discount, y_spent = generate_data(10, 5)"
   ]
  },
  {
   "cell_type": "markdown",
   "id": "aaca0742",
   "metadata": {},
   "source": [
    "Let's inspect the first five entries, "
   ]
  },
  {
   "cell_type": "code",
   "execution_count": 43,
   "id": "086ee1be",
   "metadata": {},
   "outputs": [
    {
     "data": {
      "text/plain": [
       "[0.23, 0.43, 0.18, 0.81, 0.25]"
      ]
     },
     "execution_count": 43,
     "metadata": {},
     "output_type": "execute_result"
    }
   ],
   "source": [
    "X_discount[:5]"
   ]
  },
  {
   "cell_type": "code",
   "execution_count": 44,
   "id": "a4ed2260",
   "metadata": {},
   "outputs": [
    {
     "data": {
      "text/plain": [
       "[7.300000000000001, 9.3, 6.8, 13.100000000000001, 7.5]"
      ]
     },
     "execution_count": 44,
     "metadata": {},
     "output_type": "execute_result"
    }
   ],
   "source": [
    "y_spent[:5]"
   ]
  },
  {
   "cell_type": "markdown",
   "id": "253bd118",
   "metadata": {},
   "source": [
    "## The Algorithm on The Data:  \"Learning\""
   ]
  },
  {
   "cell_type": "markdown",
   "id": "5974dbc9",
   "metadata": {},
   "source": [
    "Using `algo_linear_regression(X_discount, y_spent)` we can get a list with lots of $w, b$ attempts and the associated error, "
   ]
  },
  {
   "cell_type": "code",
   "execution_count": 45,
   "id": "44cda66f",
   "metadata": {},
   "outputs": [],
   "source": [
    "trials = algo_linear_regression(X_discount, y_spent)"
   ]
  },
  {
   "cell_type": "markdown",
   "id": "95e78a5e",
   "metadata": {},
   "source": [
    "The first five trials, "
   ]
  },
  {
   "cell_type": "code",
   "execution_count": 46,
   "id": "bac87830",
   "metadata": {
    "scrolled": true
   },
   "outputs": [
    {
     "data": {
      "text/plain": [
       "[(44.0, (0, 0)),\n",
       " (39.0, (0, 1)),\n",
       " (34.0, (0, 2)),\n",
       " (29.000000000000004, (0, 3)),\n",
       " (24.000000000000004, (0, 4))]"
      ]
     },
     "execution_count": 46,
     "metadata": {},
     "output_type": "execute_result"
    }
   ],
   "source": [
    "trials[:5]"
   ]
  },
  {
   "cell_type": "markdown",
   "id": "1ffee22b",
   "metadata": {},
   "source": [
    "`min` provides the entry with the minimum error (because error is the first number), "
   ]
  },
  {
   "cell_type": "code",
   "execution_count": 48,
   "id": "d6826bfa",
   "metadata": {},
   "outputs": [
    {
     "data": {
      "text/plain": [
       "(0.0, (10, 5))"
      ]
     },
     "execution_count": 48,
     "metadata": {},
     "output_type": "execute_result"
    }
   ],
   "source": [
    "min(trials)"
   ]
  },
  {
   "cell_type": "markdown",
   "id": "4e21e09e",
   "metadata": {},
   "source": [
    "We can assign multiple variables at once, if we match the pattern of what we are assigning,"
   ]
  },
  {
   "cell_type": "code",
   "execution_count": 49,
   "id": "1674b26d",
   "metadata": {},
   "outputs": [],
   "source": [
    "error, (wbest, bbest) = min(trials)"
   ]
  },
  {
   "cell_type": "code",
   "execution_count": 51,
   "id": "6d126c6c",
   "metadata": {},
   "outputs": [
    {
     "name": "stdout",
     "output_type": "stream",
     "text": [
      "10 5\n"
     ]
    }
   ],
   "source": [
    "print(wbest, bbest)"
   ]
  },
  {
   "cell_type": "markdown",
   "id": "e1c279c0",
   "metadata": {},
   "source": [
    "## Prediction"
   ]
  },
  {
   "cell_type": "markdown",
   "id": "b183b3a8",
   "metadata": {},
   "source": [
    "To predict for a new point we use the $w, b$ we found by minimizing the error,"
   ]
  },
  {
   "cell_type": "code",
   "execution_count": 40,
   "id": "22dc7e63",
   "metadata": {},
   "outputs": [],
   "source": [
    "def predict(x, w, b):\n",
    "    return w * x + b"
   ]
  },
  {
   "cell_type": "markdown",
   "id": "c425dbf3",
   "metadata": {},
   "source": [
    "**Q. define a `predict_cat` function which predicts using a score, ie., `<0`**. "
   ]
  },
  {
   "cell_type": "markdown",
   "id": "20543f3a",
   "metadata": {},
   "source": [
    "Here, for $x_{discount} = 0.5$, $\\hat{y}_{spend} = £10$,"
   ]
  },
  {
   "cell_type": "code",
   "execution_count": 52,
   "id": "941fad72",
   "metadata": {},
   "outputs": [],
   "source": [
    "yhat = predict(0.5, wbest, bbest)"
   ]
  },
  {
   "cell_type": "code",
   "execution_count": 53,
   "id": "66529dd5",
   "metadata": {},
   "outputs": [
    {
     "data": {
      "text/plain": [
       "10.0"
      ]
     },
     "execution_count": 53,
     "metadata": {},
     "output_type": "execute_result"
    }
   ],
   "source": [
    "yhat"
   ]
  },
  {
   "cell_type": "markdown",
   "id": "d7626463",
   "metadata": {},
   "source": [
    "---"
   ]
  },
  {
   "cell_type": "markdown",
   "id": "c1628f7f",
   "metadata": {},
   "source": [
    "## Stretch Exercise\n",
    "\n",
    "Having answered the questions above, use your three functions for categorical data to: \n",
    "\n",
    "1. generate categorical data; \n",
    "\n",
    "2. find a best (w, b) for classifying/scoring it; \n",
    "\n",
    "3. predict using your best (w,b) with your prediction function. "
   ]
  },
  {
   "cell_type": "code",
   "execution_count": null,
   "id": "59faa6db",
   "metadata": {},
   "outputs": [],
   "source": []
  }
 ],
 "metadata": {
  "kernelspec": {
   "display_name": "Python 3.9",
   "language": "python",
   "name": "python3"
  },
  "language_info": {
   "codemirror_mode": {
    "name": "ipython",
    "version": 3
   },
   "file_extension": ".py",
   "mimetype": "text/x-python",
   "name": "python",
   "nbconvert_exporter": "python",
   "pygments_lexer": "ipython3",
   "version": "3.9.6"
  }
 },
 "nbformat": 4,
 "nbformat_minor": 5
}
