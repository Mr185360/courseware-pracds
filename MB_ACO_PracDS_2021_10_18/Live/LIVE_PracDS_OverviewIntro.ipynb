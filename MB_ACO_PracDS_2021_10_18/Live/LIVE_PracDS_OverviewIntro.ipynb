{
 "cells": [
  {
   "cell_type": "markdown",
   "id": "7f66c91a",
   "metadata": {},
   "source": [
    "# Practical Data Science with Python"
   ]
  },
  {
   "cell_type": "markdown",
   "id": "60600347",
   "metadata": {},
   "source": [
    "* Introduce Instructor\n",
    "* Introduce Learners\n",
    "* Introduce Course\n",
    "    * Admin\n",
    "    * Pre-req\n",
    "    * Courseware\n",
    "    * Tools"
   ]
  },
  {
   "cell_type": "markdown",
   "id": "9d121a11",
   "metadata": {},
   "source": [
    "## Overview\n",
    "\n",
    "* Day 1: Introductions\n",
    "    * Introductions, Concepts, Whiteboarding\n",
    "    * Python Programming\n",
    "* Day 2: Python Programming\n",
    "* Day 3: Exploratory Data Analysis / Data Science\n",
    "* Day 4: Machine Learning\n",
    "* Day 5: Big Data"
   ]
  },
  {
   "cell_type": "markdown",
   "id": "4cc7c6f0",
   "metadata": {},
   "source": [
    "## Approach\n",
    "\n",
    "* Whiteboards\n",
    "* Notebooks\n",
    "    * Python Programming Demonstrations\n",
    "* Inidividual Exercises\n",
    "    * One or two group / breakout room exercises"
   ]
  },
  {
   "cell_type": "markdown",
   "id": "bc0411cd",
   "metadata": {},
   "source": [
    "## Admin\n",
    "\n",
    "* 9.30am to 4.30pm \n",
    "* Breaks:\n",
    "    * c. 11am\n",
    "    * c. 12pm - 1pm\n",
    "    * c. 2.30pm\n",
    "    * +5min occasionally (on-request)\n",
    "    \n",
    "    \n",
    "## Courseware\n",
    "\n",
    "* github link\n",
    "\n",
    "## Tools\n",
    "\n",
    "* anaconda / jupyter notebook "
   ]
  },
  {
   "cell_type": "markdown",
   "id": "00d69f30",
   "metadata": {},
   "source": [
    "---"
   ]
  },
  {
   "cell_type": "markdown",
   "id": "7b83d2a7",
   "metadata": {},
   "source": [
    "* Name\n",
    "* Background / Prior Experience\n",
    "* **What are you looking to get out of the course?**\n",
    "* Hobby"
   ]
  },
  {
   "cell_type": "markdown",
   "id": "d053f73e",
   "metadata": {},
   "source": [
    "* Stuart\n",
    "    * SEng, Hobbyist in Langs\n",
    "    * Moving to ML/DS project work\n",
    "    * Literature & Music\n",
    "* Rollo\n",
    "    * SEng, 20+yr, Mangament\n",
    "        * C/++/#\n",
    "        * Some python\n",
    "    * Bread making, hiking\n",
    "    * Move towards DS, bridge SE/AI\n",
    "* Manjit\n",
    "    * SEng, 20yr, Java/C/++\n",
    "        * software testing\n",
    "        * moving towards \n",
    "    * Watching Movies\n",
    "* Liam \n",
    "    * SEng -- Web, JS\n",
    "    * Learn some more DS, role transition\n",
    "    * Gym, video games\n",
    "* Josh \n",
    "    * 6yr SEng -- Java/JS\n",
    "    * Working on python project in ML/DS\n",
    "    * Running\n",
    "* Alison\n",
    "    * 20yr IT / SEng -- Java\n",
    "    * Learn about data science\n",
    "    * Karate\n",
    "* Andrew\n",
    "    * SEng -- Some python, Recently working on Python/ML\n",
    "    * Choir\n",
    "* Isabel\n",
    "    * Tech & SDev, c. 3yr -- Javascript\n",
    "        * Some python & java\n",
    "    * Will be working with some ML\n",
    "    * Hiking & Walks\n",
    "* Joanna\n",
    "    * SEng -- Java/JS\n",
    "    * Consider moving into area \n",
    "    * Swimming\n",
    "    "
   ]
  },
  {
   "cell_type": "markdown",
   "id": "d000de03",
   "metadata": {},
   "source": [
    "* Michael Burgess\n",
    "    * QA 5/6yr, IT Contractor 4/5yr (defence, telephony, fintech), Physics 7yr\n",
    "    * Head of Cap. for Data, Analytics & AI\n",
    "    * Philosophy, Arguing, Youtube, Podcasts... \n"
   ]
  },
  {
   "cell_type": "code",
   "execution_count": null,
   "id": "cb0aacff",
   "metadata": {},
   "outputs": [],
   "source": []
  }
 ],
 "metadata": {
  "kernelspec": {
   "display_name": "Python 3.9",
   "language": "python",
   "name": "python3"
  },
  "language_info": {
   "codemirror_mode": {
    "name": "ipython",
    "version": 3
   },
   "file_extension": ".py",
   "mimetype": "text/x-python",
   "name": "python",
   "nbconvert_exporter": "python",
   "pygments_lexer": "ipython3",
   "version": "3.9.6"
  }
 },
 "nbformat": 4,
 "nbformat_minor": 5
}
