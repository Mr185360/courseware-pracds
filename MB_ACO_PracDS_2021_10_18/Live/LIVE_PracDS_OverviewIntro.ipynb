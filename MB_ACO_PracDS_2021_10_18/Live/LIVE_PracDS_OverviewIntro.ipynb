{
 "cells": [
  {
   "cell_type": "markdown",
   "id": "3443274a",
   "metadata": {},
   "source": [
    "# Practical Data Science with Python"
   ]
  },
  {
   "cell_type": "markdown",
   "id": "b1da2712",
   "metadata": {},
   "source": [
    "* Introduce Instructor\n",
    "* Introduce Learners\n",
    "* Introduce Course\n",
    "    * Admin\n",
    "    * Pre-req\n",
    "    * Courseware\n",
    "    * Tools"
   ]
  },
  {
   "cell_type": "markdown",
   "id": "9a12b0e5",
   "metadata": {},
   "source": [
    "## Overview\n",
    "\n",
    "* Day 1: Introductions\n",
    "    * Introductions, Concepts, Whiteboarding\n",
    "    * Python Programming\n",
    "* Day 2: Python Programming\n",
    "* Day 3: Exploratory Data Analysis / Data Science\n",
    "* Day 4: Machine Learning\n",
    "* Day 5: Big Data"
   ]
  },
  {
   "cell_type": "markdown",
   "id": "8c2e482b",
   "metadata": {},
   "source": [
    "## Approach\n",
    "\n",
    "* Whiteboards\n",
    "* Notebooks\n",
    "    * Python Programming Demonstrations\n",
    "* Inidividual Exercises\n",
    "    * One or two group / breakout room exercises"
   ]
  },
  {
   "cell_type": "markdown",
   "id": "c19b5c34",
   "metadata": {},
   "source": [
    "## Admin\n",
    "\n",
    "* 9.30am to 4.30pm \n",
    "* Breaks:\n",
    "    * c. 11am\n",
    "    * c. 12pm - 1pm\n",
    "    * c. 2.30pm\n",
    "    * +5min occasionally (on-request)\n",
    "    \n",
    "    \n",
    "## Courseware\n",
    "\n",
    "* github link\n",
    "\n",
    "## Tools\n",
    "\n",
    "* anaconda / jupyter notebook "
   ]
  },
  {
   "cell_type": "markdown",
   "id": "211d765c",
   "metadata": {},
   "source": [
    "---"
   ]
  },
  {
   "cell_type": "markdown",
   "id": "106e1a59",
   "metadata": {},
   "source": [
    "* Name\n",
    "* Background / Prior Experience\n",
    "* **What are you looking to get out of the course?**\n",
    "* Hobby"
   ]
  },
  {
   "cell_type": "markdown",
   "id": "2b70edab",
   "metadata": {},
   "source": [
    "* Michael Burgess\n",
    "    * QA 5/6yr, IT Contractor 4/5yr (defence, telephony, fintech), Physics 7yr\n",
    "    * Head of Cap. for Data, Analytics & AI\n",
    "    * Philosophy, Arguing, Youtube, Podcasts... \n"
   ]
  },
  {
   "cell_type": "code",
   "execution_count": null,
   "id": "e993f01d",
   "metadata": {},
   "outputs": [],
   "source": []
  }
 ],
 "metadata": {
  "kernelspec": {
   "display_name": "Python 3.9",
   "language": "python",
   "name": "python3"
  },
  "language_info": {
   "codemirror_mode": {
    "name": "ipython",
    "version": 3
   },
   "file_extension": ".py",
   "mimetype": "text/x-python",
   "name": "python",
   "nbconvert_exporter": "python",
   "pygments_lexer": "ipython3",
   "version": "3.9.6"
  }
 },
 "nbformat": 4,
 "nbformat_minor": 5
}
