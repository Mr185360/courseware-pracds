{
 "cells": [
  {
   "cell_type": "markdown",
   "id": "5cac4fa1",
   "metadata": {},
   "source": [
    "# Python Data Processing"
   ]
  },
  {
   "cell_type": "markdown",
   "id": "433fda27",
   "metadata": {},
   "source": [
    "## Comprehensions"
   ]
  },
  {
   "cell_type": "markdown",
   "id": "be7898ee",
   "metadata": {},
   "source": [
    "#### Example: Regression\n",
    "\n",
    "* $y$ is a quantity\n",
    "    * $y \\in \\mathbb{R}$\n",
    "        * $\\mathbb{R}$ aproximately `float`"
   ]
  },
  {
   "cell_type": "code",
   "execution_count": 1,
   "id": "f1927957",
   "metadata": {},
   "outputs": [],
   "source": [
    "from random import randint"
   ]
  },
  {
   "cell_type": "code",
   "execution_count": 4,
   "id": "e098ab0c",
   "metadata": {},
   "outputs": [],
   "source": [
    "X = [\n",
    "    (60, 120, 200),  # hr, bp, caffine\n",
    "    (randint(55, 100), randint(100, 140), 100 * randint(1, 10)),\n",
    "    (randint(55, 100), randint(100, 140), 100 * randint(1, 10)),\n",
    "    (randint(55, 100), randint(100, 140), 100 * randint(1, 10)),\n",
    "]"
   ]
  },
  {
   "cell_type": "code",
   "execution_count": 7,
   "id": "5c19b37e",
   "metadata": {},
   "outputs": [],
   "source": [
    "y = [ # was sleep good?\n",
    "    True, \n",
    "    True,\n",
    "    False, \n",
    "    False\n",
    "]"
   ]
  },
  {
   "cell_type": "code",
   "execution_count": 8,
   "id": "bc35f1eb",
   "metadata": {
    "scrolled": true
   },
   "outputs": [
    {
     "data": {
      "text/plain": [
       "[(60, 120, 200), (97, 119, 300), (76, 112, 600), (60, 104, 300)]"
      ]
     },
     "execution_count": 8,
     "metadata": {},
     "output_type": "execute_result"
    }
   ],
   "source": [
    "X"
   ]
  },
  {
   "cell_type": "markdown",
   "id": "2948c5e0",
   "metadata": {},
   "source": [
    "#### Data Simulation: Generating $X$"
   ]
  },
  {
   "cell_type": "code",
   "execution_count": 10,
   "id": "6a52f394",
   "metadata": {},
   "outputs": [
    {
     "data": {
      "text/plain": [
       "[0, 1, 2, 3]"
      ]
     },
     "execution_count": 10,
     "metadata": {},
     "output_type": "execute_result"
    }
   ],
   "source": [
    "[ i for i in range(0, 4)]"
   ]
  },
  {
   "cell_type": "markdown",
   "id": "e9ae38af",
   "metadata": {},
   "source": [
    "By convention, when not using a variable, we name it `_`, "
   ]
  },
  {
   "cell_type": "code",
   "execution_count": 12,
   "id": "39f2e999",
   "metadata": {},
   "outputs": [
    {
     "data": {
      "text/plain": [
       "[0, 1, 2, 3]"
      ]
     },
     "execution_count": 12,
     "metadata": {},
     "output_type": "execute_result"
    }
   ],
   "source": [
    "[ _ for _ in range(0, 4)]"
   ]
  },
  {
   "cell_type": "markdown",
   "id": "5e818fab",
   "metadata": {},
   "source": [
    "We can use `range` to generate `N` data points by ignoring the output of `range` and just writing the generation code, "
   ]
  },
  {
   "cell_type": "code",
   "execution_count": 22,
   "id": "2c01471b",
   "metadata": {},
   "outputs": [],
   "source": [
    "X = [ (randint(60, 100), randint(100, 200), randint(0, 600)) for _ in range(0, 4)]"
   ]
  },
  {
   "cell_type": "code",
   "execution_count": 16,
   "id": "aacb1f45",
   "metadata": {},
   "outputs": [
    {
     "name": "stdout",
     "output_type": "stream",
     "text": [
      "[(93, 103, 600), (89, 133, 176), (96, 139, 534), (72, 102, 22)]\n"
     ]
    }
   ],
   "source": [
    "print(X)"
   ]
  },
  {
   "cell_type": "markdown",
   "id": "910621c3",
   "metadata": {},
   "source": [
    "### Computing $y$ from $X$"
   ]
  },
  {
   "cell_type": "markdown",
   "id": "da5fa165",
   "metadata": {},
   "source": [
    "Consider computing scores across $X$ based on some weighting factors, "
   ]
  },
  {
   "cell_type": "code",
   "execution_count": 18,
   "id": "02bd578c",
   "metadata": {},
   "outputs": [
    {
     "data": {
      "text/plain": [
       "[(93, 103, 600), (89, 133, 176), (96, 139, 534), (72, 102, 22)]"
      ]
     },
     "execution_count": 18,
     "metadata": {},
     "output_type": "execute_result"
    }
   ],
   "source": [
    "[ x for x in X ]"
   ]
  },
  {
   "cell_type": "code",
   "execution_count": 40,
   "id": "0bf7c613",
   "metadata": {},
   "outputs": [
    {
     "data": {
      "text/plain": [
       "[1217, 1926, 1299, 3027]"
      ]
     },
     "execution_count": 40,
     "metadata": {},
     "output_type": "execute_result"
    }
   ],
   "source": [
    "[  2*x0 + 3*x1 + 4*x2 for (x0, x1, x2) in X ]"
   ]
  },
  {
   "cell_type": "markdown",
   "id": "e9981185",
   "metadata": {},
   "source": [
    "If these scores go between `0` and `1` we can interpret them as a *probability* of $y$ being True, "
   ]
  },
  {
   "cell_type": "code",
   "execution_count": 33,
   "id": "e856666f",
   "metadata": {},
   "outputs": [
    {
     "data": {
      "text/plain": [
       "[1.9749999999999999, 2.356666666666667, 1.815, 2.631666666666667]"
      ]
     },
     "execution_count": 33,
     "metadata": {},
     "output_type": "execute_result"
    }
   ],
   "source": [
    "[  x0/100 + x1/200 + x2/600 for (x0, x1, x2) in X ]"
   ]
  },
  {
   "cell_type": "code",
   "execution_count": 34,
   "id": "a4d1e526",
   "metadata": {},
   "outputs": [
    {
     "data": {
      "text/plain": [
       "[0.6583333333333333, 0.7855555555555555, 0.605, 0.8772222222222221]"
      ]
     },
     "execution_count": 34,
     "metadata": {},
     "output_type": "execute_result"
    }
   ],
   "source": [
    "[  1/3 * x0/100 + 1/3 * x1/200 + 1/3 * x2/600 for (x0, x1, x2) in X ]"
   ]
  },
  {
   "cell_type": "markdown",
   "id": "b331131b",
   "metadata": {},
   "source": [
    "Above we are just weighing each $x$ *the same* (ie., `1, 1, 1`), we would like to weight differently, "
   ]
  },
  {
   "cell_type": "code",
   "execution_count": 37,
   "id": "7d42cf9b",
   "metadata": {},
   "outputs": [
    {
     "data": {
      "text/plain": [
       "[-175, 352, -100, 1187]"
      ]
     },
     "execution_count": 37,
     "metadata": {},
     "output_type": "execute_result"
    }
   ],
   "source": [
    "w = [1, 2, 3]\n",
    "b = -1000\n",
    "[ (w[0]*x0) + (w[1]*x1) + (w[2]*x2) + b for (x0, x1, x2) in X ]"
   ]
  },
  {
   "cell_type": "markdown",
   "id": "b577fb9e",
   "metadata": {},
   "source": [
    "To return to probabilities, we can `scale` and `weight`, "
   ]
  },
  {
   "cell_type": "code",
   "execution_count": 38,
   "id": "a9d8d034",
   "metadata": {},
   "outputs": [
    {
     "data": {
      "text/plain": [
       "[0.0026666666666666505,\n",
       " 0.047555555555555545,\n",
       " -0.021999999999999992,\n",
       " 0.10222222222222221]"
      ]
     },
     "execution_count": 38,
     "metadata": {},
     "output_type": "execute_result"
    }
   ],
   "source": [
    "scale = [(1/3 * 1/100), (1/3 * 1/200), (1/3 * 1/600)]\n",
    "\n",
    "w = [0.2, 0.4, 0.4]\n",
    "b = -0.2\n",
    "\n",
    "[ (w[0]*scale[0]*x0) + (w[1]*scale[1]*x1) + (w[2]*scale[2]*x2) + b for (x0, x1, x2) in X ]"
   ]
  },
  {
   "cell_type": "markdown",
   "id": "348d5c62",
   "metadata": {},
   "source": [
    "In practice, weights may often include the scale factor,"
   ]
  },
  {
   "cell_type": "code",
   "execution_count": 39,
   "id": "277d4db6",
   "metadata": {},
   "outputs": [
    {
     "data": {
      "text/plain": [
       "[0.0026666666666666505,\n",
       " 0.047555555555555545,\n",
       " -0.021999999999999992,\n",
       " 0.10222222222222221]"
      ]
     },
     "execution_count": 39,
     "metadata": {},
     "output_type": "execute_result"
    }
   ],
   "source": [
    "w = [0.2 * (1/3 * 1/100), 0.4 * (1/3 * 1/200), 0.4 * (1/3 * 1/600)]\n",
    "b = -0.2\n",
    "\n",
    "[ (w[0]*x0) + (w[1]*x1) + (w[2]*x2) + b for (x0, x1, x2) in X ]"
   ]
  },
  {
   "cell_type": "markdown",
   "id": "f2a5fd22",
   "metadata": {},
   "source": [
    "The predicitons for $y$, ie., $\\hat{y}$ are whether these are `<0`, "
   ]
  },
  {
   "cell_type": "code",
   "execution_count": 41,
   "id": "cf975d2c",
   "metadata": {},
   "outputs": [
    {
     "data": {
      "text/plain": [
       "[False, False, True, False]"
      ]
     },
     "execution_count": 41,
     "metadata": {},
     "output_type": "execute_result"
    }
   ],
   "source": [
    "w = [0.2 * (1/3 * 1/100), 0.4 * (1/3 * 1/200), 0.4 * (1/3 * 1/600)]\n",
    "b = -0.2\n",
    "\n",
    "[ (w[0]*x0) + (w[1]*x1) + (w[2]*x2) + b < 0 for (x0, x1, x2) in X ]"
   ]
  },
  {
   "cell_type": "markdown",
   "id": "b8737b99",
   "metadata": {},
   "source": [
    "## Further Comprehensions"
   ]
  },
  {
   "cell_type": "markdown",
   "id": "de03eff4",
   "metadata": {},
   "source": [
    "#### Filters"
   ]
  },
  {
   "cell_type": "code",
   "execution_count": 44,
   "id": "e5814a48",
   "metadata": {},
   "outputs": [],
   "source": [
    "X = [\n",
    "    (1, 2),\n",
    "    (None, 3),\n",
    "    (1.2, 2.4),\n",
    "]"
   ]
  },
  {
   "cell_type": "markdown",
   "id": "a0efb958",
   "metadata": {},
   "source": [
    "A decision tree formula is a formula involving logical operations, "
   ]
  },
  {
   "cell_type": "code",
   "execution_count": 43,
   "id": "8e20369d",
   "metadata": {},
   "outputs": [
    {
     "data": {
      "text/plain": [
       "[False, True]"
      ]
     },
     "execution_count": 43,
     "metadata": {},
     "output_type": "execute_result"
    }
   ],
   "source": [
    "[ (x0 <3) and (x1 > 2) for x0, x1 in X]"
   ]
  },
  {
   "cell_type": "markdown",
   "id": "236ce8b2",
   "metadata": {},
   "source": [
    "There is missing data,"
   ]
  },
  {
   "cell_type": "code",
   "execution_count": 47,
   "id": "bb2a350f",
   "metadata": {},
   "outputs": [
    {
     "ename": "TypeError",
     "evalue": "'<' not supported between instances of 'NoneType' and 'int'",
     "output_type": "error",
     "traceback": [
      "\u001b[0;31m---------------------------------------------------------------------------\u001b[0m",
      "\u001b[0;31mTypeError\u001b[0m                                 Traceback (most recent call last)",
      "\u001b[0;32m<ipython-input-47-e856346f336c>\u001b[0m in \u001b[0;36m<module>\u001b[0;34m\u001b[0m\n\u001b[0;32m----> 1\u001b[0;31m \u001b[0;34m[\u001b[0m \u001b[0;34m(\u001b[0m\u001b[0mx0\u001b[0m \u001b[0;34m<\u001b[0m\u001b[0;36m3\u001b[0m\u001b[0;34m)\u001b[0m \u001b[0;32mand\u001b[0m \u001b[0;34m(\u001b[0m\u001b[0mx1\u001b[0m \u001b[0;34m>\u001b[0m \u001b[0;36m2\u001b[0m\u001b[0;34m)\u001b[0m \u001b[0;32mfor\u001b[0m \u001b[0mx0\u001b[0m\u001b[0;34m,\u001b[0m \u001b[0mx1\u001b[0m \u001b[0;32min\u001b[0m \u001b[0mX\u001b[0m\u001b[0;34m]\u001b[0m\u001b[0;34m\u001b[0m\u001b[0;34m\u001b[0m\u001b[0m\n\u001b[0m",
      "\u001b[0;32m<ipython-input-47-e856346f336c>\u001b[0m in \u001b[0;36m<listcomp>\u001b[0;34m(.0)\u001b[0m\n\u001b[0;32m----> 1\u001b[0;31m \u001b[0;34m[\u001b[0m \u001b[0;34m(\u001b[0m\u001b[0mx0\u001b[0m \u001b[0;34m<\u001b[0m\u001b[0;36m3\u001b[0m\u001b[0;34m)\u001b[0m \u001b[0;32mand\u001b[0m \u001b[0;34m(\u001b[0m\u001b[0mx1\u001b[0m \u001b[0;34m>\u001b[0m \u001b[0;36m2\u001b[0m\u001b[0;34m)\u001b[0m \u001b[0;32mfor\u001b[0m \u001b[0mx0\u001b[0m\u001b[0;34m,\u001b[0m \u001b[0mx1\u001b[0m \u001b[0;32min\u001b[0m \u001b[0mX\u001b[0m\u001b[0;34m]\u001b[0m\u001b[0;34m\u001b[0m\u001b[0;34m\u001b[0m\u001b[0m\n\u001b[0m",
      "\u001b[0;31mTypeError\u001b[0m: '<' not supported between instances of 'NoneType' and 'int'"
     ]
    }
   ],
   "source": [
    "[ (x0 <3) and (x1 > 2) for x0, x1 in X]"
   ]
  },
  {
   "cell_type": "markdown",
   "id": "cc17faf0",
   "metadata": {},
   "source": [
    "Lets filter,"
   ]
  },
  {
   "cell_type": "code",
   "execution_count": 48,
   "id": "3e2f2cdb",
   "metadata": {},
   "outputs": [
    {
     "data": {
      "text/plain": [
       "[False, True]"
      ]
     },
     "execution_count": 48,
     "metadata": {},
     "output_type": "execute_result"
    }
   ],
   "source": [
    "[ (x0 <3) and (x1 > 2) \n",
    "     for x0, x1 in X \n",
    "     if x0 is not None\n",
    "]"
   ]
  },
  {
   "cell_type": "markdown",
   "id": "538e63cc",
   "metadata": {},
   "source": [
    "#### Dictionary Comprehensions"
   ]
  },
  {
   "cell_type": "code",
   "execution_count": 49,
   "id": "04840050",
   "metadata": {},
   "outputs": [
    {
     "data": {
      "text/plain": [
       "['M', 'i', 'c', 'h', 'a', 'e', 'l']"
      ]
     },
     "execution_count": 49,
     "metadata": {},
     "output_type": "execute_result"
    }
   ],
   "source": [
    "[ c for c in \"Michael\"]"
   ]
  },
  {
   "cell_type": "markdown",
   "id": "5919c458",
   "metadata": {},
   "source": [
    "A dictionary comprehension has the syntax, `{ k : v ... for ... in old }`, "
   ]
  },
  {
   "cell_type": "code",
   "execution_count": 51,
   "id": "6a83cc51",
   "metadata": {},
   "outputs": [
    {
     "data": {
      "text/plain": [
       "{'M': 0, 'i': 1, 'c': 2, 'h': 3, 'a': 4, 'e': 5, 'l': 6}"
      ]
     },
     "execution_count": 51,
     "metadata": {},
     "output_type": "execute_result"
    }
   ],
   "source": [
    "{ c : \"Michael\".index(c) for c in \"Michael\"}"
   ]
  },
  {
   "cell_type": "markdown",
   "id": "170e0ad1",
   "metadata": {},
   "source": [
    "You are required to find some formula to generate a key `k` and `v` value possible from some, eg., list,"
   ]
  },
  {
   "cell_type": "code",
   "execution_count": 54,
   "id": "fb23c756",
   "metadata": {},
   "outputs": [
    {
     "data": {
      "text/plain": [
       "{1: 2, None: 3, 1.2: 2.4}"
      ]
     },
     "execution_count": 54,
     "metadata": {},
     "output_type": "execute_result"
    }
   ],
   "source": [
    "{ x0 : x1 for x0, x1  in X }"
   ]
  },
  {
   "cell_type": "markdown",
   "id": "d116022c",
   "metadata": {},
   "source": [
    "## Looping Idioms"
   ]
  },
  {
   "cell_type": "markdown",
   "id": "7514c5b4",
   "metadata": {},
   "source": [
    "Python has utility looping operations (aka iterators, aka \"streaming operations\") which enable different kinds of data processing patterns,"
   ]
  },
  {
   "cell_type": "code",
   "execution_count": 55,
   "id": "2fb0df6b",
   "metadata": {},
   "outputs": [
    {
     "data": {
      "text/plain": [
       "range(0, 10)"
      ]
     },
     "execution_count": 55,
     "metadata": {},
     "output_type": "execute_result"
    }
   ],
   "source": [
    "range(0, 10)"
   ]
  },
  {
   "cell_type": "markdown",
   "id": "648afa37",
   "metadata": {},
   "source": [
    "`range` for repetition,"
   ]
  },
  {
   "cell_type": "code",
   "execution_count": 60,
   "id": "e2858968",
   "metadata": {},
   "outputs": [
    {
     "data": {
      "text/plain": [
       "['Ho', 'Ho', 'Ho']"
      ]
     },
     "execution_count": 60,
     "metadata": {},
     "output_type": "execute_result"
    }
   ],
   "source": [
    "[ \"Ho\" for _ in range(0, 3)]"
   ]
  },
  {
   "cell_type": "markdown",
   "id": "8a6ea5fd",
   "metadata": {},
   "source": [
    "`zip` for combination,"
   ]
  },
  {
   "cell_type": "code",
   "execution_count": 56,
   "id": "bb14543b",
   "metadata": {},
   "outputs": [
    {
     "data": {
      "text/plain": [
       "<zip at 0x7fc470713d40>"
      ]
     },
     "execution_count": 56,
     "metadata": {},
     "output_type": "execute_result"
    }
   ],
   "source": [
    "zip(\"Micahel\", [1, 2, 3, 4])"
   ]
  },
  {
   "cell_type": "code",
   "execution_count": 62,
   "id": "d2075330",
   "metadata": {},
   "outputs": [],
   "source": [
    "X = [1, 2, 3]\n",
    "y = [True, True, False]"
   ]
  },
  {
   "cell_type": "code",
   "execution_count": 63,
   "id": "7c16e363",
   "metadata": {},
   "outputs": [
    {
     "data": {
      "text/plain": [
       "['X is 1 and y is True ', 'X is 2 and y is True ', 'X is 3 and y is False ']"
      ]
     },
     "execution_count": 63,
     "metadata": {},
     "output_type": "execute_result"
    }
   ],
   "source": [
    "[ f\"X is {x} and y is {y} \" for x, y in zip(X, y) ]"
   ]
  },
  {
   "cell_type": "markdown",
   "id": "20acf0ea",
   "metadata": {},
   "source": [
    "`enumerate` provides indexes, "
   ]
  },
  {
   "cell_type": "code",
   "execution_count": 57,
   "id": "dc79e329",
   "metadata": {},
   "outputs": [
    {
     "data": {
      "text/plain": [
       "<enumerate at 0x7fc4604b87c0>"
      ]
     },
     "execution_count": 57,
     "metadata": {},
     "output_type": "execute_result"
    }
   ],
   "source": [
    "enumerate(X)"
   ]
  },
  {
   "cell_type": "code",
   "execution_count": 65,
   "id": "d4f20ea6",
   "metadata": {},
   "outputs": [
    {
     "name": "stdout",
     "output_type": "stream",
     "text": [
      "0 (1, 2)\n",
      "1 (None, 3)\n",
      "2 (1.2, 2.4)\n"
     ]
    }
   ],
   "source": [
    "X = [\n",
    "    (1, 2),\n",
    "    (None, 3),\n",
    "    (1.2, 2.4),\n",
    "]\n",
    "\n",
    "for i, x in enumerate(X):\n",
    "    print(i, x)"
   ]
  },
  {
   "cell_type": "markdown",
   "id": "52d0f57c",
   "metadata": {},
   "source": [
    "Using `list` we can convert iterators to lists which computes all the elements the iterator generates,"
   ]
  },
  {
   "cell_type": "code",
   "execution_count": 66,
   "id": "7d5d2a41",
   "metadata": {},
   "outputs": [
    {
     "data": {
      "text/plain": [
       "[(1.2, 2.4), (None, 3), (1, 2)]"
      ]
     },
     "execution_count": 66,
     "metadata": {},
     "output_type": "execute_result"
    }
   ],
   "source": [
    "list(reversed(X))"
   ]
  },
  {
   "cell_type": "markdown",
   "id": "e4a03d81",
   "metadata": {},
   "source": [
    "...sorting,"
   ]
  },
  {
   "cell_type": "code",
   "execution_count": 59,
   "id": "aa57449d",
   "metadata": {},
   "outputs": [
    {
     "data": {
      "text/plain": [
       "[False, False, True, True]"
      ]
     },
     "execution_count": 59,
     "metadata": {},
     "output_type": "execute_result"
    }
   ],
   "source": [
    "sorted(y)"
   ]
  },
  {
   "cell_type": "code",
   "execution_count": 67,
   "id": "9540db4c",
   "metadata": {},
   "outputs": [
    {
     "data": {
      "text/plain": [
       "['M', 'a', 'c', 'e', 'h', 'i', 'l']"
      ]
     },
     "execution_count": 67,
     "metadata": {},
     "output_type": "execute_result"
    }
   ],
   "source": [
    "sorted(\"Michael\")"
   ]
  },
  {
   "cell_type": "code",
   "execution_count": 69,
   "id": "52d9a74e",
   "metadata": {},
   "outputs": [
    {
     "data": {
      "text/plain": [
       "['l', 'i', 'h', 'e', 'c', 'a', 'M']"
      ]
     },
     "execution_count": 69,
     "metadata": {},
     "output_type": "execute_result"
    }
   ],
   "source": [
    "sorted(\"Michael\", reverse=True)"
   ]
  },
  {
   "cell_type": "markdown",
   "id": "d5e3e479",
   "metadata": {},
   "source": [
    "Min'ing and Max'ing, "
   ]
  },
  {
   "cell_type": "code",
   "execution_count": 70,
   "id": "00196c42",
   "metadata": {},
   "outputs": [
    {
     "data": {
      "text/plain": [
       "'M'"
      ]
     },
     "execution_count": 70,
     "metadata": {},
     "output_type": "execute_result"
    }
   ],
   "source": [
    "min(\"Micahel\")"
   ]
  },
  {
   "cell_type": "code",
   "execution_count": 71,
   "id": "0df5d308",
   "metadata": {},
   "outputs": [
    {
     "data": {
      "text/plain": [
       "'l'"
      ]
     },
     "execution_count": 71,
     "metadata": {},
     "output_type": "execute_result"
    }
   ],
   "source": [
    "max(\"Micahel\")"
   ]
  },
  {
   "cell_type": "markdown",
   "id": "95471a82",
   "metadata": {},
   "source": [
    "Which are very useful when working with lists of tuples,"
   ]
  },
  {
   "cell_type": "code",
   "execution_count": 72,
   "id": "84dd663f",
   "metadata": {},
   "outputs": [],
   "source": [
    "ranked = [\n",
    "    (101, [\"SOMEDATA\", \"SOMEMORE\"]),\n",
    "    (33, [\"SOMEDATA\", \"SOMEMORE\"]),\n",
    "    (6, [\"SOMEDATA\", \"SOMEMORE\"])\n",
    "]"
   ]
  },
  {
   "cell_type": "markdown",
   "id": "47657239",
   "metadata": {},
   "source": [
    "`min` and `max` consider the first element only when producing a minimum or maximum,"
   ]
  },
  {
   "cell_type": "code",
   "execution_count": 73,
   "id": "a8cc52eb",
   "metadata": {},
   "outputs": [
    {
     "data": {
      "text/plain": [
       "(6, ['SOMEDATA', 'SOMEMORE'])"
      ]
     },
     "execution_count": 73,
     "metadata": {},
     "output_type": "execute_result"
    }
   ],
   "source": [
    "min(ranked)"
   ]
  },
  {
   "cell_type": "code",
   "execution_count": 74,
   "id": "f59fb3b0",
   "metadata": {},
   "outputs": [
    {
     "data": {
      "text/plain": [
       "(101, ['SOMEDATA', 'SOMEMORE'])"
      ]
     },
     "execution_count": 74,
     "metadata": {},
     "output_type": "execute_result"
    }
   ],
   "source": [
    "max(ranked)"
   ]
  },
  {
   "cell_type": "markdown",
   "id": "11a528b3",
   "metadata": {},
   "source": [
    "## Example"
   ]
  },
  {
   "cell_type": "markdown",
   "id": "c9d1639a",
   "metadata": {},
   "source": [
    "Consider a case of trying lots of different `w, b` values for a dataset and recording the error associated with each."
   ]
  },
  {
   "cell_type": "code",
   "execution_count": 80,
   "id": "39bd28af",
   "metadata": {},
   "outputs": [
    {
     "data": {
      "text/plain": [
       "[18, 31, 23]"
      ]
     },
     "execution_count": 80,
     "metadata": {},
     "output_type": "execute_result"
    }
   ],
   "source": [
    "X_age = [18, 31, 23]\n",
    "y_price = [2.3, 4.6, 3.2]\n",
    "\n",
    "[x  for x in X_age ]"
   ]
  },
  {
   "cell_type": "code",
   "execution_count": 81,
   "id": "0f60e2d5",
   "metadata": {},
   "outputs": [
    {
     "data": {
      "text/plain": [
       "[2.8, 4.1, 3.3000000000000003]"
      ]
     },
     "execution_count": 81,
     "metadata": {},
     "output_type": "execute_result"
    }
   ],
   "source": [
    "[ 0.1 * x + 1  for x in X_age ]"
   ]
  },
  {
   "cell_type": "code",
   "execution_count": 83,
   "id": "295fd472",
   "metadata": {},
   "outputs": [
    {
     "data": {
      "text/plain": [
       "[2.8, 4.1, 3.3000000000000003]"
      ]
     },
     "execution_count": 83,
     "metadata": {},
     "output_type": "execute_result"
    }
   ],
   "source": [
    "w, b = 0.1, 1\n",
    "\n",
    "[ w * x + b for x in X_age ]"
   ]
  },
  {
   "cell_type": "code",
   "execution_count": 86,
   "id": "1cd44230",
   "metadata": {},
   "outputs": [
    {
     "data": {
      "text/plain": [
       "[(2.3, 2.8), (4.6, 4.1), (3.2, 3.3000000000000003)]"
      ]
     },
     "execution_count": 86,
     "metadata": {},
     "output_type": "execute_result"
    }
   ],
   "source": [
    "[(y, (w * x + b)) for x, y in zip(X_age, y_price) ]"
   ]
  },
  {
   "cell_type": "code",
   "execution_count": 85,
   "id": "234d3cae",
   "metadata": {},
   "outputs": [
    {
     "data": {
      "text/plain": [
       "[0.5, 0.5, 0.10000000000000009]"
      ]
     },
     "execution_count": 85,
     "metadata": {},
     "output_type": "execute_result"
    }
   ],
   "source": [
    "[ abs(y - (w * x + b)) for x, y in zip(X_age, y_price) ]"
   ]
  },
  {
   "cell_type": "code",
   "execution_count": 87,
   "id": "45f0950a",
   "metadata": {},
   "outputs": [
    {
     "data": {
      "text/plain": [
       "[(0.5, (0.1, 1)), (0.5, (0.1, 1)), (0.10000000000000009, (0.1, 1))]"
      ]
     },
     "execution_count": 87,
     "metadata": {},
     "output_type": "execute_result"
    }
   ],
   "source": [
    "[ (abs(y - (w * x + b)), (w,b)) for x, y in zip(X_age, y_price) ]"
   ]
  },
  {
   "cell_type": "code",
   "execution_count": 90,
   "id": "8a251e8f",
   "metadata": {},
   "outputs": [],
   "source": [
    "history = []\n",
    "\n",
    "for wg in range(0, 10):\n",
    "    for bg in range(0, 10):\n",
    "       history.append(\n",
    "           [ (abs(y - (wg * x + bg)), (wg,bg)) for x, y in zip(X_age, y_price) ])"
   ]
  },
  {
   "cell_type": "markdown",
   "id": "7f47ad6a",
   "metadata": {},
   "source": [
    "Consider looking through `history` to find the best, `w, b`,"
   ]
  },
  {
   "cell_type": "code",
   "execution_count": 93,
   "id": "2ee7e77f",
   "metadata": {
    "scrolled": true
   },
   "outputs": [
    {
     "data": {
      "text/plain": [
       "[(2.3, (0, 0)), (4.6, (0, 0)), (3.2, (0, 0))]"
      ]
     },
     "execution_count": 93,
     "metadata": {},
     "output_type": "execute_result"
    }
   ],
   "source": [
    "history[0]"
   ]
  },
  {
   "cell_type": "code",
   "execution_count": null,
   "id": "8e3c61b9",
   "metadata": {},
   "outputs": [],
   "source": []
  }
 ],
 "metadata": {
  "kernelspec": {
   "display_name": "Python 3.9",
   "language": "python",
   "name": "python3"
  },
  "language_info": {
   "codemirror_mode": {
    "name": "ipython",
    "version": 3
   },
   "file_extension": ".py",
   "mimetype": "text/x-python",
   "name": "python",
   "nbconvert_exporter": "python",
   "pygments_lexer": "ipython3",
   "version": "3.9.6"
  }
 },
 "nbformat": 4,
 "nbformat_minor": 5
}
