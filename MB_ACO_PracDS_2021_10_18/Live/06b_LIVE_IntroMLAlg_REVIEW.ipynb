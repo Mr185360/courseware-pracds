{
 "cells": [
  {
   "cell_type": "markdown",
   "id": "ed6f505a",
   "metadata": {},
   "source": [
    "# Introduction to Machine Learning Algorithms: REVIEW"
   ]
  },
  {
   "cell_type": "markdown",
   "id": "c970aa52",
   "metadata": {},
   "source": [
    "### Review"
   ]
  },
  {
   "cell_type": "markdown",
   "id": "6722ecd2",
   "metadata": {},
   "source": [
    "* non-parametric \n",
    "    * <font color=red>kNN</font>\n",
    "    * (w, b) = (X, y)\n",
    "* parametric\n",
    "    * $(w, b) = \\dots mean(\\dots X, \\dots y)$\n",
    "        * makes assumptions about the relationship between $X, y$\n",
    "    * <font color=red>Linear Regression</font>\n",
    "        * We assume a true function, \n",
    "            * $y = f(x; w, b) = wx + b$\n",
    "    \n",
    "* \"blend\"\n",
    "    * neural networks, much more like non-parametric\n",
    "        * remember compressed versions of data\n",
    "        * (w, b) ~= compressed (X, y)"
   ]
  },
  {
   "cell_type": "markdown",
   "id": "43874b70",
   "metadata": {},
   "source": [
    "## $k$ Nearest Neighbors"
   ]
  },
  {
   "cell_type": "code",
   "execution_count": 5,
   "id": "97d18e24",
   "metadata": {},
   "outputs": [],
   "source": [
    "X = [\n",
    "    (180, 13), # movie_length, ticket_price\n",
    "    (120, 14),\n",
    "    (90, 9),\n",
    "]\n",
    "\n",
    "y = [ # like_film\n",
    "    False,\n",
    "    True,\n",
    "    True\n",
    "]"
   ]
  },
  {
   "cell_type": "markdown",
   "id": "0bded2e5",
   "metadata": {},
   "source": [
    "### The Algorithm"
   ]
  },
  {
   "cell_type": "code",
   "execution_count": 4,
   "id": "09e1f8fa",
   "metadata": {},
   "outputs": [],
   "source": [
    "model = (X, y) # remember everything!"
   ]
  },
  {
   "cell_type": "markdown",
   "id": "0c078eb2",
   "metadata": {},
   "source": [
    "### The Prediction"
   ]
  },
  {
   "cell_type": "code",
   "execution_count": 6,
   "id": "bb17d4cd",
   "metadata": {},
   "outputs": [],
   "source": [
    "x_new  = (100, 12.50)"
   ]
  },
  {
   "cell_type": "markdown",
   "id": "a8d94d9a",
   "metadata": {},
   "source": [
    "$k = 2$ means, \"find the 2-most-similar people\","
   ]
  },
  {
   "cell_type": "code",
   "execution_count": 7,
   "id": "74036022",
   "metadata": {},
   "outputs": [],
   "source": [
    "k = 2"
   ]
  },
  {
   "cell_type": "markdown",
   "id": "2385be35",
   "metadata": {},
   "source": [
    "### Rank every point in the database by similarity to `x_new`,"
   ]
  },
  {
   "cell_type": "markdown",
   "id": "0cf85945",
   "metadata": {},
   "source": [
    "How do we rank?\n",
    "\n",
    "Consider the diference in runtime and price, add them up,"
   ]
  },
  {
   "cell_type": "code",
   "execution_count": 20,
   "id": "dfdcd088",
   "metadata": {},
   "outputs": [
    {
     "data": {
      "text/plain": [
       "80.5"
      ]
     },
     "execution_count": 20,
     "metadata": {},
     "output_type": "execute_result"
    }
   ],
   "source": [
    "abs(100 - 180) + abs(12.50 - 13)"
   ]
  },
  {
   "cell_type": "markdown",
   "id": "eb80fcc7",
   "metadata": {},
   "source": [
    "..this is bigger if the customer's features ($X$) are different. "
   ]
  },
  {
   "cell_type": "code",
   "execution_count": 15,
   "id": "ec7474a2",
   "metadata": {},
   "outputs": [
    {
     "data": {
      "text/plain": [
       "[(180, 13), (120, 14), (90, 9)]"
      ]
     },
     "execution_count": 15,
     "metadata": {},
     "output_type": "execute_result"
    }
   ],
   "source": [
    "X"
   ]
  },
  {
   "cell_type": "code",
   "execution_count": 24,
   "id": "996f00aa",
   "metadata": {
    "scrolled": true
   },
   "outputs": [],
   "source": [
    "ranked = sorted([\n",
    "    (abs(x_new[0] - runtime) + abs(x_new[0] - price), like) \n",
    "    for (runtime, price), like in  zip(X, y)\n",
    "])"
   ]
  },
  {
   "cell_type": "code",
   "execution_count": 26,
   "id": "fcf6434b",
   "metadata": {},
   "outputs": [
    {
     "data": {
      "text/plain": [
       "[(101, True), (106, True), (167, False)]"
      ]
     },
     "execution_count": 26,
     "metadata": {},
     "output_type": "execute_result"
    }
   ],
   "source": [
    "ranked # (X's similarity-to-x_new, y for that X entry)"
   ]
  },
  {
   "cell_type": "markdown",
   "id": "ed292b87",
   "metadata": {},
   "source": [
    "### Choose $k$ points"
   ]
  },
  {
   "cell_type": "markdown",
   "id": "9c4272f5",
   "metadata": {},
   "source": [
    "Given they are sorted, we want the first $k$,"
   ]
  },
  {
   "cell_type": "code",
   "execution_count": 29,
   "id": "ad65f65e",
   "metadata": {},
   "outputs": [],
   "source": [
    "from statistics import mode"
   ]
  },
  {
   "cell_type": "code",
   "execution_count": 30,
   "id": "03de0460",
   "metadata": {
    "scrolled": true
   },
   "outputs": [
    {
     "data": {
      "text/plain": [
       "True"
      ]
     },
     "execution_count": 30,
     "metadata": {},
     "output_type": "execute_result"
    }
   ],
   "source": [
    "mode([y for rank, y in ranked[:k] ])"
   ]
  },
  {
   "cell_type": "markdown",
   "id": "6896610a",
   "metadata": {},
   "source": [
    "$ mode(y^0 \\dots y^k)$ for $k$ smallest points ranked by $|x_0 - x_0^{new}| + |x_1 - x_1^{new}| $"
   ]
  },
  {
   "cell_type": "markdown",
   "id": "57d05a9b",
   "metadata": {},
   "source": [
    "Aside, "
   ]
  },
  {
   "cell_type": "code",
   "execution_count": 32,
   "id": "5e080127",
   "metadata": {},
   "outputs": [
    {
     "data": {
      "text/plain": [
       "True"
      ]
     },
     "execution_count": 32,
     "metadata": {},
     "output_type": "execute_result"
    }
   ],
   "source": [
    "mode( y for x, y in sorted([\n",
    "    (abs(x_new[0] - runtime) + abs(x_new[0] - price), like) \n",
    "    for (runtime, price), like in  zip(X, y)\n",
    "])[:k])"
   ]
  },
  {
   "cell_type": "markdown",
   "id": "af4bd5b4",
   "metadata": {},
   "source": [
    "Aside,"
   ]
  },
  {
   "cell_type": "markdown",
   "id": "9ee19251",
   "metadata": {},
   "source": [
    "```sql\n",
    "\n",
    "SELECT MODE(y)\n",
    "FROM database\n",
    "ORDER BY \n",
    "    ABS(x0 - xnew_0) + ABS(x1 - xnew_1)\n",
    "LIMIT 2\n",
    "```"
   ]
  },
  {
   "cell_type": "markdown",
   "id": "0ae4bc1a",
   "metadata": {},
   "source": [
    "## Linear Regression"
   ]
  },
  {
   "cell_type": "code",
   "execution_count": 34,
   "id": "f60fcafd",
   "metadata": {},
   "outputs": [],
   "source": [
    "X = [\n",
    "    (180, 13), # movie_length, ticket_price\n",
    "    (120, 14),\n",
    "    (90, 9),\n",
    "]\n",
    "\n",
    "y = [19.3, 13.4, 9.9] # spend on sweets"
   ]
  },
  {
   "cell_type": "code",
   "execution_count": 35,
   "id": "d9a90940",
   "metadata": {},
   "outputs": [],
   "source": [
    "from random import random"
   ]
  },
  {
   "cell_type": "markdown",
   "id": "385d2e56",
   "metadata": {},
   "source": [
    "$ w0_{next} = w_{prev} - \\lambda \\frac{dL(w0)}{dw0}$"
   ]
  },
  {
   "cell_type": "markdown",
   "id": "39ac6a1d",
   "metadata": {},
   "source": [
    "Aprox,"
   ]
  },
  {
   "cell_type": "code",
   "execution_count": null,
   "id": "6fb76f34",
   "metadata": {
    "scrolled": false
   },
   "outputs": [],
   "source": [
    "history = []\n",
    "\n",
    "w0, w1 = random(), random()\n",
    "\n",
    "while True:\n",
    "    yhats = [(w0 * x0 + w1 * x1) for x0, x1 in X]\n",
    "    total_loss = sum([abs(obs - pred) for obs, pred in zip(y, yhats) ])\n",
    "    \n",
    "    w0 += 0.01 * total_loss \n",
    "    w1 += 0.01 * total_loss\n",
    "    \n",
    "    history.append( \n",
    "        (total_loss, (w0, w1) ) \n",
    "    )\n",
    "    \n",
    "#    if abs(history[-1] - history[-2]) > 1:\n",
    "#        break "
   ]
  },
  {
   "cell_type": "code",
   "execution_count": 55,
   "id": "52e40b2d",
   "metadata": {},
   "outputs": [
    {
     "data": {
      "text/plain": [
       "(266.9254105537289, (3.4018099242279662, 3.331160807325204))"
      ]
     },
     "execution_count": 55,
     "metadata": {},
     "output_type": "execute_result"
    }
   ],
   "source": [
    "min(history)"
   ]
  },
  {
   "cell_type": "code",
   "execution_count": 56,
   "id": "df709b70",
   "metadata": {},
   "outputs": [],
   "source": [
    "error, (w0_best, w1_best) = min(history)"
   ]
  },
  {
   "cell_type": "code",
   "execution_count": 57,
   "id": "7fedc3e5",
   "metadata": {},
   "outputs": [
    {
     "data": {
      "text/plain": [
       "[19.3, 13.4, 9.9]"
      ]
     },
     "execution_count": 57,
     "metadata": {},
     "output_type": "execute_result"
    }
   ],
   "source": [
    "y"
   ]
  },
  {
   "cell_type": "code",
   "execution_count": 60,
   "id": "c0d3f948",
   "metadata": {},
   "outputs": [
    {
     "data": {
      "text/plain": [
       "[655.6308768562616, 454.8534422099088, 336.1433404464438]"
      ]
     },
     "execution_count": 60,
     "metadata": {},
     "output_type": "execute_result"
    }
   ],
   "source": [
    "[ w0_best * x0 + w1_best * x1 for x0, x1 in X ]"
   ]
  },
  {
   "cell_type": "code",
   "execution_count": null,
   "id": "9497752c",
   "metadata": {},
   "outputs": [],
   "source": []
  }
 ],
 "metadata": {
  "kernelspec": {
   "display_name": "Python 3.9",
   "language": "python",
   "name": "python3"
  },
  "language_info": {
   "codemirror_mode": {
    "name": "ipython",
    "version": 3
   },
   "file_extension": ".py",
   "mimetype": "text/x-python",
   "name": "python",
   "nbconvert_exporter": "python",
   "pygments_lexer": "ipython3",
   "version": "3.9.6"
  }
 },
 "nbformat": 4,
 "nbformat_minor": 5
}
