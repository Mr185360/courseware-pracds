{
 "cells": [
  {
   "cell_type": "markdown",
   "metadata": {},
   "source": [
    "# Next Steps"
   ]
  },
  {
   "cell_type": "markdown",
   "metadata": {},
   "source": [
    "## Resources: Continuing Learning\n",
    "\n",
    "* lecture courses\n",
    "    * accessible ml\n",
    "        * https://www.youtube.com/c/AndreasMueller/playlists\n",
    "    * theoretical ml\n",
    "        * https://www.youtube.com/watch?v=jGwO_UgTS7I&list=PLoROMvodv4rMiGQp3WXShtMGgzqpfVfbU\n",
    "    * theory of maths,stats,...\n",
    "        * MIT + \n",
    "            * linear algebra\n",
    "            * calculus\n",
    "            * probability\n",
    "            * statistics\n",
    "* tutorial\n",
    "    * pycon, scipy\n",
    "    * https://www.youtube.com/results?search_query=scipy+visualization\n",
    "    * https://www.youtube.com/results?search_query=scipy+numpy\n",
    "    * https://www.youtube.com/results?search_query=scipy+pandas\n",
    "    * https://www.youtube.com/results?search_query=scipy+plotly\n",
    "    * eg.,\n",
    "        * network science \n",
    "        * https://www.youtube.com/watch?v=K5xiFDClgjo&ab_channel=Enthought\n",
    "    "
   ]
  },
  {
   "cell_type": "markdown",
   "metadata": {},
   "source": [
    "## Books\n",
    "* understanding & theory\n",
    "    * https://www.amazon.com/dp/0387310738\n",
    "* **applied ml in python**\n",
    "    * https://www.amazon.com/dp/1492032646\n",
    "* reference book for python data science\n",
    "    * https://www.amazon.com/dp/1491912057/"
   ]
  },
  {
   "cell_type": "markdown",
   "metadata": {},
   "source": [
    "## At Work\n",
    "\n",
    "* Social elements are very helpful\n",
    "    * multiple people invovled\n",
    "    \n",
    "* eg., Allocate friday afternoon for group study or project\n",
    "    * simple python project collaboration\n",
    "    * reading\n",
    "    * video watching\n",
    "    \n",
    "* Pick an in-work project and convert to python\n",
    "\n",
    "## At Home\n",
    " \n",
    "* review videos\n",
    "    * start with tutorials\n",
    "    * expand into theoretical courses\n",
    "    \n",
    "* create some projects\n"
   ]
  },
  {
   "cell_type": "markdown",
   "metadata": {},
   "source": [
    "## Kaggle\n",
    "* https://www.kaggle.com/\n",
    "    * search for a topic you like\n",
    "    * choose \"notebook\" from the search bar, \"beginner\" from the side menu\n",
    "        * possibly include \"visualization\"\n",
    "* Solved projects & examples in lots of areas\n",
    "* Can inspire, or provide starter for personal explorations"
   ]
  },
  {
   "cell_type": "markdown",
   "metadata": {},
   "source": [
    "---"
   ]
  },
  {
   "cell_type": "markdown",
   "metadata": {},
   "source": [
    "Michael.Burgess@qa.com"
   ]
  },
  {
   "cell_type": "markdown",
   "metadata": {},
   "source": [
    "----"
   ]
  }
 ],
 "metadata": {
  "kernelspec": {
   "display_name": "Python 3.9",
   "language": "python",
   "name": "python3"
  },
  "language_info": {
   "codemirror_mode": {
    "name": "ipython",
    "version": 3
   },
   "file_extension": ".py",
   "mimetype": "text/x-python",
   "name": "python",
   "nbconvert_exporter": "python",
   "pygments_lexer": "ipython3",
   "version": "3.9.6"
  }
 },
 "nbformat": 4,
 "nbformat_minor": 4
}
