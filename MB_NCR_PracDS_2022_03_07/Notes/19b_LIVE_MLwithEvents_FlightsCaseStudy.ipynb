{
 "cells": [
  {
   "cell_type": "markdown",
   "id": "5ced7f00",
   "metadata": {},
   "source": [
    "# Machine Learning & Events\n",
    "\n",
    "## How do I combine Machine Learning with Big Data?"
   ]
  },
  {
   "cell_type": "markdown",
   "id": "0663b397",
   "metadata": {},
   "source": [
    "Modern big data systems often have streaming and event systems at their heart. \n",
    "\n",
    "Machine learning fits into this quite nicely,"
   ]
  },
  {
   "cell_type": "markdown",
   "id": "7b7cd04e",
   "metadata": {},
   "source": [
    "### Case Study: Flight Booking System"
   ]
  },
  {
   "cell_type": "code",
   "execution_count": 14,
   "id": "a4901c0d",
   "metadata": {},
   "outputs": [],
   "source": [
    "import seaborn as sns\n",
    "import pandas as pd"
   ]
  },
  {
   "cell_type": "markdown",
   "id": "1dc4c849",
   "metadata": {},
   "source": [
    "Let's simulate a stream of flight availabilities being sent to us (a travel agent) who can sell some of them, "
   ]
  },
  {
   "cell_type": "code",
   "execution_count": 17,
   "id": "5811461c",
   "metadata": {},
   "outputs": [],
   "source": [
    "flights = sns.load_dataset('flights')"
   ]
  },
  {
   "cell_type": "markdown",
   "id": "6130ab88",
   "metadata": {},
   "source": [
    "We won't know their sale price when they launch, so we will want to predict it before advertising the flight."
   ]
  },
  {
   "cell_type": "markdown",
   "id": "565b8cde",
   "metadata": {},
   "source": [
    "To predict the price, we need to have a history of prices for similar flights, so let's simualte this...\n",
    "\n",
    "(In a real-world case, this data would have to be available...)"
   ]
  },
  {
   "cell_type": "code",
   "execution_count": 31,
   "id": "b6fcfd5d",
   "metadata": {},
   "outputs": [],
   "source": [
    "base_price = flights[\"month\"].replace({\n",
    "    \"Jan\": 100,\n",
    "    \"Feb\": 100,\n",
    "    \"Mar\": 120,\n",
    "    \"Apr\": 125,\n",
    "    \"May\": 175,\n",
    "    \"Jun\": 200,\n",
    "    \"Jul\": 225,\n",
    "    \"Aug\": 300,\n",
    "    \"Sep\": 250,\n",
    "    \"Oct\": 175,\n",
    "    \"Nov\": 100,\n",
    "    \"Dec\": 90\n",
    "})"
   ]
  },
  {
   "cell_type": "markdown",
   "id": "a440ee34",
   "metadata": {},
   "source": [
    "The ticket price is something to do with the number of passengers (ie., capacity of airplane) and the month, "
   ]
  },
  {
   "cell_type": "code",
   "execution_count": 39,
   "id": "5b050f0f",
   "metadata": {},
   "outputs": [],
   "source": [
    "flights[\"ticket\"] = 10*(flights[\"passengers\"]/8 + base_price/10)"
   ]
  },
  {
   "cell_type": "markdown",
   "id": "302046b0",
   "metadata": {},
   "source": [
    "Let's simulate the events arriving,"
   ]
  },
  {
   "cell_type": "code",
   "execution_count": 24,
   "id": "1da098e7",
   "metadata": {},
   "outputs": [],
   "source": [
    "stream = []\n",
    "for index, row in flights.iterrows():\n",
    "    stream.append({\n",
    "        \"subject\": \"BOOKING_SYSTEM\",\n",
    "        \"verb\": \"ADVERTISING\",\n",
    "        \"object\": \"FLIGHT\",\n",
    "        \"context\": {\n",
    "            \"seats\": row[\"passengers\"],\n",
    "            \"month\": row[\"month\"],\n",
    "            \"year\": 2022 \n",
    "        }\n",
    "    })"
   ]
  },
  {
   "cell_type": "markdown",
   "id": "1cb6ab3f",
   "metadata": {},
   "source": [
    "This finishes the simulation."
   ]
  },
  {
   "cell_type": "markdown",
   "id": "d0f3273a",
   "metadata": {},
   "source": [
    "----"
   ]
  },
  {
   "cell_type": "markdown",
   "id": "f4ca973d",
   "metadata": {},
   "source": [
    "#### Building the Event-ML System"
   ]
  },
  {
   "cell_type": "markdown",
   "id": "39725b05",
   "metadata": {},
   "source": [
    "From now, we have the event log to process,"
   ]
  },
  {
   "cell_type": "code",
   "execution_count": 72,
   "id": "758e8b4c",
   "metadata": {
    "scrolled": true
   },
   "outputs": [
    {
     "data": {
      "text/plain": [
       "144"
      ]
     },
     "execution_count": 72,
     "metadata": {},
     "output_type": "execute_result"
    }
   ],
   "source": [
    "len(stream)"
   ]
  },
  {
   "cell_type": "markdown",
   "id": "3639d963",
   "metadata": {},
   "source": [
    "###### Processing the event log,"
   ]
  },
  {
   "cell_type": "markdown",
   "id": "220e123d",
   "metadata": {},
   "source": [
    "We want to use a machine learning model to predict prices,"
   ]
  },
  {
   "cell_type": "code",
   "execution_count": 41,
   "id": "0c7a1f9d",
   "metadata": {},
   "outputs": [],
   "source": [
    "from sklearn.linear_model import LinearRegression"
   ]
  },
  {
   "cell_type": "markdown",
   "id": "e3eb490f",
   "metadata": {},
   "source": [
    "Let's train it on historical data,"
   ]
  },
  {
   "cell_type": "code",
   "execution_count": 42,
   "id": "66dae44b",
   "metadata": {},
   "outputs": [],
   "source": [
    "lm = LinearRegression().fit(flights[[\"passengers\"]], flights[\"ticket\"])"
   ]
  },
  {
   "cell_type": "markdown",
   "id": "2e28e979",
   "metadata": {},
   "source": [
    "Incidentally, a rough score, "
   ]
  },
  {
   "cell_type": "code",
   "execution_count": 43,
   "id": "d17e3bf4",
   "metadata": {},
   "outputs": [
    {
     "data": {
      "text/plain": [
       "0.8767116324486033"
      ]
     },
     "execution_count": 43,
     "metadata": {},
     "output_type": "execute_result"
    }
   ],
   "source": [
    "lm.score(flights[[\"passengers\"]], flights[\"ticket\"])"
   ]
  },
  {
   "cell_type": "markdown",
   "id": "9877f6e1",
   "metadata": {},
   "source": [
    "The stream processing algorith runs across the event log, watches for \"ADVERTSING\" events and inserts a new event into a \"sellable_stream\" when \"the predicted price is right\", "
   ]
  },
  {
   "cell_type": "code",
   "execution_count": 48,
   "id": "0c6a9261",
   "metadata": {},
   "outputs": [],
   "source": [
    "sellable_stream = []\n",
    "\n",
    "customer_cutoff = 500\n",
    "for event in stream:\n",
    "    if event[\"verb\"] == \"ADVERTISING\":\n",
    "        seats = event[\"context\"][\"seats\"]\n",
    "        price_est = lm.predict([[seats]])\n",
    "        \n",
    "        if price_est < customer_cutoff:\n",
    "            event[\"subject\"] = \"SALES_SYSTEM\"\n",
    "            sellable_stream.append(event)"
   ]
  },
  {
   "cell_type": "markdown",
   "id": "93e6340e",
   "metadata": {},
   "source": [
    "The derived stream will have fewer events, ie., flights, as we don't want all of them,"
   ]
  },
  {
   "cell_type": "code",
   "execution_count": 51,
   "id": "551bbfdd",
   "metadata": {},
   "outputs": [
    {
     "data": {
      "text/plain": [
       "144"
      ]
     },
     "execution_count": 51,
     "metadata": {},
     "output_type": "execute_result"
    }
   ],
   "source": [
    "len(stream)"
   ]
  },
  {
   "cell_type": "code",
   "execution_count": 50,
   "id": "9da13f02",
   "metadata": {
    "scrolled": true
   },
   "outputs": [
    {
     "data": {
      "text/plain": [
       "75"
      ]
     },
     "execution_count": 50,
     "metadata": {},
     "output_type": "execute_result"
    }
   ],
   "source": [
    "len(sellable_stream)"
   ]
  },
  {
   "cell_type": "markdown",
   "id": "8e6c2681",
   "metadata": {},
   "source": [
    "##### Aside: More, interesting, complexity"
   ]
  },
  {
   "cell_type": "markdown",
   "id": "ab037ab9",
   "metadata": {},
   "source": [
    "If we were to take the above approach, ie., filtering based on price -- we'd want to know a more accurate assessment of customer's actual preferences on price, "
   ]
  },
  {
   "cell_type": "markdown",
   "id": "d5de63fc",
   "metadata": {},
   "source": [
    "Let's simulate a dataset we might have,"
   ]
  },
  {
   "cell_type": "code",
   "execution_count": 52,
   "id": "c2cd8aeb",
   "metadata": {},
   "outputs": [],
   "source": [
    "import numpy as np"
   ]
  },
  {
   "cell_type": "markdown",
   "id": "eb34a049",
   "metadata": {},
   "source": [
    "The dataset below simulates 1000 sales/mo data,"
   ]
  },
  {
   "cell_type": "code",
   "execution_count": 58,
   "id": "78b0a33e",
   "metadata": {},
   "outputs": [],
   "source": [
    "customer_ticket_history = {\n",
    "    \"Jan\": np.random.normal(200, 25, 1_000) + 50,\n",
    "    \"Feb\": np.random.normal(200, 25, 1_000) + 50,\n",
    "    \"Mar\": np.random.normal(200, 25, 1_000) + 50,\n",
    "    \"Apr\": np.random.normal(200, 25, 1_000) + 50,\n",
    "    \"May\": np.random.normal(300, 75, 1_000) + 50,\n",
    "    \"Jun\": np.random.normal(300, 75, 1_000) + 50,\n",
    "    \"Jul\": np.random.normal(300, 75, 1_000) + 50,\n",
    "    \"Aug\": np.random.normal(400, 75, 1_000) + 50,\n",
    "    \"Sep\": np.random.normal(400, 75, 1_000) + 50,\n",
    "    \"Oct\": np.random.normal(300, 75, 1_000) + 50,\n",
    "    \"Nov\": np.random.normal(300, 75, 1_000) + 50,\n",
    "    \"Dec\": np.random.normal(200, 25, 1_000) + 50\n",
    "}"
   ]
  },
  {
   "cell_type": "markdown",
   "id": "aa8f75b6",
   "metadata": {},
   "source": [
    "We will use these sales to build a cutoff point, based on our \"tolerance\" to keeping customers,"
   ]
  },
  {
   "cell_type": "code",
   "execution_count": 66,
   "id": "d8b71b98",
   "metadata": {
    "scrolled": true
   },
   "outputs": [
    {
     "name": "stdout",
     "output_type": "stream",
     "text": [
      "Jan 289.0\n",
      "Feb 291.0\n",
      "Mar 291.0\n",
      "Apr 292.0\n",
      "May 481.0\n",
      "Jun 474.0\n",
      "Jul 470.0\n",
      "Aug 572.0\n",
      "Sep 567.0\n",
      "Oct 473.0\n",
      "Nov 464.0\n",
      "Dec 290.0\n"
     ]
    }
   ],
   "source": [
    "cutoff_95 = {}\n",
    "for month, data in customer_ticket_history.items():\n",
    "    print(month, np.percentile(data, 95).round())\n",
    "    cutoff_95[month] = np.percentile(data, 95).round()"
   ]
  },
  {
   "cell_type": "markdown",
   "id": "64e04f59",
   "metadata": {},
   "source": [
    "Setting the cutoff at 95% means we *might* lose 5% of customers who would paid more than the flights we're throwing away. However, if we keep 100% we waste a lot of time with selling stuff our customers don't want. "
   ]
  },
  {
   "cell_type": "markdown",
   "id": "8120f186",
   "metadata": {},
   "source": [
    "Modifying the processing code, we lookup the cutoff in this database, "
   ]
  },
  {
   "cell_type": "code",
   "execution_count": 68,
   "id": "44f87359",
   "metadata": {},
   "outputs": [],
   "source": [
    "sellable_stream = []\n",
    "\n",
    "\n",
    "for event in stream:\n",
    "    if event[\"verb\"] == \"ADVERTISING\":\n",
    "        seats = event[\"context\"][\"seats\"]\n",
    "        price_est = lm.predict([[seats]])\n",
    "        \n",
    "        if price_est < cutoff_95[event[\"context\"][\"month\"]]:\n",
    "            event[\"subject\"] = \"SALES_SYSTEM\"\n",
    "            sellable_stream.append(event)"
   ]
  },
  {
   "cell_type": "markdown",
   "id": "3876c0fd",
   "metadata": {},
   "source": [
    "This turns out to be more aggressive than our initial version,"
   ]
  },
  {
   "cell_type": "code",
   "execution_count": 69,
   "id": "6f6731ac",
   "metadata": {
    "scrolled": true
   },
   "outputs": [
    {
     "data": {
      "text/plain": [
       "45"
      ]
     },
     "execution_count": 69,
     "metadata": {},
     "output_type": "execute_result"
    }
   ],
   "source": [
    "len(sellable_stream)"
   ]
  },
  {
   "cell_type": "markdown",
   "id": "f7258ca1",
   "metadata": {},
   "source": [
    "----"
   ]
  },
  {
   "cell_type": "markdown",
   "id": "5979d40e",
   "metadata": {},
   "source": [
    "## Reflections"
   ]
  },
  {
   "cell_type": "markdown",
   "id": "fa5358a8",
   "metadata": {},
   "source": [
    "* This is a pretty accurate event-ml system\n",
    "* The code in a real-world system would look similar\n",
    "* The datasets would look similar\n",
    "* There is nothing *wrong* with the code\n",
    "    * but, in practice, we might have more going on\n",
    "    \n",
    "* More going on:\n",
    "    * look up cutoffs in db\n",
    "    * event system (eg., kafka) providing stream to loop over\n",
    "    * pre-saved model (rather than fitting & then processing a stream)"
   ]
  },
  {
   "cell_type": "markdown",
   "id": "4484cfca",
   "metadata": {},
   "source": [
    "## Appendix"
   ]
  },
  {
   "cell_type": "markdown",
   "id": "a294a150",
   "metadata": {},
   "source": [
    "...a more accurate score,"
   ]
  },
  {
   "cell_type": "code",
   "execution_count": 88,
   "id": "480f61e1",
   "metadata": {},
   "outputs": [],
   "source": [
    "from sklearn.model_selection import train_test_split"
   ]
  },
  {
   "cell_type": "code",
   "execution_count": 92,
   "id": "64a5d583",
   "metadata": {
    "scrolled": true
   },
   "outputs": [
    {
     "data": {
      "text/plain": [
       "0.89"
      ]
     },
     "execution_count": 92,
     "metadata": {},
     "output_type": "execute_result"
    }
   ],
   "source": [
    "Xtr, Xte, ytr, yte = train_test_split(flights[[\"passengers\"]], flights[\"ticket\"])\n",
    "\n",
    "\n",
    "LinearRegression().fit(Xtr, ytr).score(Xte, yte).round(2)"
   ]
  }
 ],
 "metadata": {
  "kernelspec": {
   "display_name": "Python 3.9",
   "language": "python",
   "name": "python3"
  },
  "language_info": {
   "codemirror_mode": {
    "name": "ipython",
    "version": 3
   },
   "file_extension": ".py",
   "mimetype": "text/x-python",
   "name": "python",
   "nbconvert_exporter": "python",
   "pygments_lexer": "ipython3",
   "version": "3.9.6"
  }
 },
 "nbformat": 4,
 "nbformat_minor": 5
}
