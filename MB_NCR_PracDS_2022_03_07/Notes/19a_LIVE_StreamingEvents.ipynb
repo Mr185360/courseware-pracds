{
 "cells": [
  {
   "cell_type": "markdown",
   "id": "cac6b42b",
   "metadata": {},
   "source": [
    "# Streaming Algorithms & Event Systems"
   ]
  },
  {
   "cell_type": "markdown",
   "id": "de55112e",
   "metadata": {},
   "source": [
    "## What is an Event System?"
   ]
  },
  {
   "cell_type": "markdown",
   "id": "51d69c60",
   "metadata": {},
   "source": [
    "* events are the primitivate/fundamental unit\n",
    "    * vs., \"row\"\n",
    "* data processing algorithms are streaming algorithms"
   ]
  },
  {
   "cell_type": "markdown",
   "id": "9a74789d",
   "metadata": {},
   "source": [
    "## What is Streaming?\n",
    "\n",
    "* (vs. traditional relational data processing)"
   ]
  },
  {
   "cell_type": "code",
   "execution_count": 3,
   "id": "19eaf676",
   "metadata": {},
   "outputs": [],
   "source": [
    "import pandas as pd\n",
    "\n",
    "table = pd.read_csv(\"tips.csv\")"
   ]
  },
  {
   "cell_type": "code",
   "execution_count": 12,
   "id": "8804f4bf",
   "metadata": {},
   "outputs": [
    {
     "data": {
      "text/html": [
       "<div>\n",
       "<style scoped>\n",
       "    .dataframe tbody tr th:only-of-type {\n",
       "        vertical-align: middle;\n",
       "    }\n",
       "\n",
       "    .dataframe tbody tr th {\n",
       "        vertical-align: top;\n",
       "    }\n",
       "\n",
       "    .dataframe thead th {\n",
       "        text-align: right;\n",
       "    }\n",
       "</style>\n",
       "<table border=\"1\" class=\"dataframe\">\n",
       "  <thead>\n",
       "    <tr style=\"text-align: right;\">\n",
       "      <th></th>\n",
       "      <th>total_bill</th>\n",
       "      <th>tip</th>\n",
       "      <th>sex</th>\n",
       "      <th>smoker</th>\n",
       "      <th>day</th>\n",
       "      <th>time</th>\n",
       "      <th>size</th>\n",
       "    </tr>\n",
       "  </thead>\n",
       "  <tbody>\n",
       "    <tr>\n",
       "      <th>46</th>\n",
       "      <td>22.23</td>\n",
       "      <td>5.0</td>\n",
       "      <td>Male</td>\n",
       "      <td>No</td>\n",
       "      <td>Sun</td>\n",
       "      <td>Dinner</td>\n",
       "      <td>2</td>\n",
       "    </tr>\n",
       "  </tbody>\n",
       "</table>\n",
       "</div>"
      ],
      "text/plain": [
       "    total_bill  tip   sex smoker  day    time  size\n",
       "46       22.23  5.0  Male     No  Sun  Dinner     2"
      ]
     },
     "execution_count": 12,
     "metadata": {},
     "output_type": "execute_result"
    }
   ],
   "source": [
    "table.sample()"
   ]
  },
  {
   "cell_type": "markdown",
   "id": "611c49ee",
   "metadata": {},
   "source": [
    "With tabular (batch) datasets we have access to the entire table (history/rows), so computing means is trivial.. "
   ]
  },
  {
   "cell_type": "code",
   "execution_count": 5,
   "id": "65095457",
   "metadata": {
    "scrolled": true
   },
   "outputs": [
    {
     "data": {
      "text/plain": [
       "19.78594262295082"
      ]
     },
     "execution_count": 5,
     "metadata": {},
     "output_type": "execute_result"
    }
   ],
   "source": [
    "table[\"total_bill\"].mean()"
   ]
  },
  {
   "cell_type": "markdown",
   "id": "a4193c91",
   "metadata": {},
   "source": [
    "In a streaming system, \"rows\" (events, observations) arrive one at a time,"
   ]
  },
  {
   "cell_type": "code",
   "execution_count": 9,
   "id": "1e8b655b",
   "metadata": {},
   "outputs": [],
   "source": [
    "stream = table.iterrows()"
   ]
  },
  {
   "cell_type": "markdown",
   "id": "a854efc7",
   "metadata": {},
   "source": [
    "You can't compute a mean on a stream, as \"there's no data yet\", "
   ]
  },
  {
   "cell_type": "code",
   "execution_count": 20,
   "id": "0c4fbe66",
   "metadata": {
    "scrolled": true
   },
   "outputs": [
    {
     "ename": "AttributeError",
     "evalue": "'generator' object has no attribute 'mean'",
     "output_type": "error",
     "traceback": [
      "\u001b[0;31m---------------------------------------------------------------------------\u001b[0m",
      "\u001b[0;31mAttributeError\u001b[0m                            Traceback (most recent call last)",
      "\u001b[0;32m<ipython-input-20-538cce2cc570>\u001b[0m in \u001b[0;36m<module>\u001b[0;34m\u001b[0m\n\u001b[0;32m----> 1\u001b[0;31m \u001b[0mstream\u001b[0m\u001b[0;34m.\u001b[0m\u001b[0mmean\u001b[0m\u001b[0;34m(\u001b[0m\u001b[0;34m)\u001b[0m\u001b[0;34m\u001b[0m\u001b[0;34m\u001b[0m\u001b[0m\n\u001b[0m",
      "\u001b[0;31mAttributeError\u001b[0m: 'generator' object has no attribute 'mean'"
     ]
    }
   ],
   "source": [
    "stream.mean()"
   ]
  },
  {
   "cell_type": "markdown",
   "id": "88cce7a1",
   "metadata": {},
   "source": [
    "#### Estimating the Mean"
   ]
  },
  {
   "cell_type": "markdown",
   "id": "02f6e1bf",
   "metadata": {},
   "source": [
    "In a streaming context we can only see one row at a time. \n",
    "\n",
    "Suppose we wish to estimate the mean total_bill for the week, the best we can do is compute a running estimate using running totals,"
   ]
  },
  {
   "cell_type": "code",
   "execution_count": 27,
   "id": "35140c69",
   "metadata": {},
   "outputs": [
    {
     "name": "stdout",
     "output_type": "stream",
     "text": [
      "Running est: 18.37\n",
      "Running est: 18.86\n",
      "Running est: 19.97\n",
      "Running est: 19.32\n",
      "Running est: 19.62\n",
      "Running est: 19.78\n",
      "Running est: 19.08\n",
      "Running est: 19.28\n",
      "Running est: 19.43\n",
      "Running est: 19.81\n",
      "Running est: 19.99\n",
      "Running est: 19.76\n"
     ]
    }
   ],
   "source": [
    "stream = table.iterrows()\n",
    "\n",
    "running_sum = 0\n",
    "running_count = 0\n",
    "running_est = []\n",
    "for index, row in stream:\n",
    "    running_sum  += row[\"total_bill\"]\n",
    "    running_count += 1\n",
    "    \n",
    "    mean_estimate = running_sum / running_count\n",
    "    \n",
    "    running_est.append(mean_estimate)\n",
    "    \n",
    "    if (running_count % 20) == 0:\n",
    "        print(f\"Running est: {mean_estimate :.2f}\")"
   ]
  },
  {
   "cell_type": "markdown",
   "id": "5c33c51e",
   "metadata": {},
   "source": [
    "As we can see, this approach only consistently approaches the true mean after c. 175 observations, "
   ]
  },
  {
   "cell_type": "code",
   "execution_count": 34,
   "id": "1e87758b",
   "metadata": {},
   "outputs": [
    {
     "data": {
      "text/plain": [
       "<AxesSubplot:>"
      ]
     },
     "execution_count": 34,
     "metadata": {},
     "output_type": "execute_result"
    },
    {
     "data": {
      "image/png": "[encoded data removed]",
      "text/plain": [
       "<Figure size 432x288 with 1 Axes>"
      ]
     },
     "metadata": {
      "needs_background": "light"
     },
     "output_type": "display_data"
    }
   ],
   "source": [
    "%matplotlib inline \n",
    "\n",
    "import seaborn as sns\n",
    "sns.lineplot(x=range(0, running_count), y=[table[\"total_bill\"].mean()] * running_count)\n",
    "sns.lineplot(x=range(0, running_count), y=running_est)"
   ]
  },
  {
   "cell_type": "markdown",
   "id": "63f2f43c",
   "metadata": {},
   "source": [
    "Aproximately, in reverse, when does the line depart from the true mean?"
   ]
  },
  {
   "cell_type": "code",
   "execution_count": 47,
   "id": "8db1d7b6",
   "metadata": {},
   "outputs": [],
   "source": [
    "true = table[\"total_bill\"].mean()\n",
    "\n",
    "for index, est in enumerate(reversed(running_est)):\n",
    "    if abs(est - true) > 0.01*true:\n",
    "        break"
   ]
  },
  {
   "cell_type": "code",
   "execution_count": 48,
   "id": "3d6dea23",
   "metadata": {},
   "outputs": [
    {
     "data": {
      "text/plain": [
       "220"
      ]
     },
     "execution_count": 48,
     "metadata": {},
     "output_type": "execute_result"
    }
   ],
   "source": [
    "len(running_est) - index"
   ]
  },
  {
   "cell_type": "markdown",
   "id": "446d7d76",
   "metadata": {},
   "source": [
    "## What are Events?"
   ]
  },
  {
   "cell_type": "markdown",
   "id": "4ed4178b",
   "metadata": {},
   "source": [
    "All datasets can be phrased as collections of events,"
   ]
  },
  {
   "cell_type": "code",
   "execution_count": 39,
   "id": "aa605f34",
   "metadata": {},
   "outputs": [],
   "source": [
    "event = {\n",
    "    \"subject\": \"DOER\",\n",
    "    \"verb\": \"DOES\",\n",
    "    \"object\": \"ON\",\n",
    "    \"context\": {\n",
    "        \"time\": \"WHEN\"\n",
    "    }\n",
    "}"
   ]
  },
  {
   "cell_type": "markdown",
   "id": "31082043",
   "metadata": {},
   "source": [
    "\"Event\" models are helpful data structures in streaming system, and often even beyond them. \n",
    "\n",
    "Event data structures capture all the context around a piece of data -- typically relational systems are designed to ignore that context -- and keep only the essential stuff. "
   ]
  },
  {
   "cell_type": "markdown",
   "id": "8146843d",
   "metadata": {},
   "source": [
    "### Comparing Relational to Event Systems"
   ]
  },
  {
   "cell_type": "markdown",
   "id": "92643b1a",
   "metadata": {},
   "source": [
    "Relational systems often retain just enough information to enable \"the system to work\". Ie., not useful extra analytical data."
   ]
  },
  {
   "cell_type": "code",
   "execution_count": 41,
   "id": "f60db246",
   "metadata": {},
   "outputs": [],
   "source": [
    "tickets_table = {\n",
    "    (1, \"Premium\", \"A13\", \"James Bond\"),\n",
    "    (2, \"Premium\", \"A43\", \"James Bond\"),\n",
    "}"
   ]
  },
  {
   "cell_type": "markdown",
   "id": "8fb9636f",
   "metadata": {},
   "source": [
    "Event model \"encourage\" capturing this useful data,"
   ]
  },
  {
   "cell_type": "code",
   "execution_count": 49,
   "id": "b8fbba69",
   "metadata": {},
   "outputs": [],
   "source": [
    "tickets_stream = []\n",
    "\n",
    "tickets_stream.append({\n",
    "    \"subject\": {\"name\": \"TICKET_OFFICE\", \"id\": \"London SW1 1AA\"},\n",
    "    \"verb\": \"ISSUE_TICKET\",\n",
    "    \"object\": {\"type\": \"CUSTOMER\", \"id\": 13403943 },\n",
    "    \"context\": {\n",
    "        \"time\": \"12pm\",   \n",
    "        \"class\": \"Premium\",  # CORE OPERATIONAL DATA\n",
    "        \"seat\": \"A13\",       # CORE OPERATIONAL DATA\n",
    "        \"film\": \"James Bond\" # CORE OPERATIONAL DATA\n",
    "    }\n",
    "})"
   ]
  },
  {
   "cell_type": "markdown",
   "id": "7ab55b5a",
   "metadata": {},
   "source": [
    "As we can see here an \"event model\" captures lots of addition context around the source/dest/use of data. "
   ]
  },
  {
   "cell_type": "markdown",
   "id": "89edfc19",
   "metadata": {},
   "source": [
    "## How do you design an event system?"
   ]
  },
  {
   "cell_type": "markdown",
   "id": "ae42da7a",
   "metadata": {},
   "source": [
    "Event systems typically use an \"append-only log\". \n",
    "\n",
    "A primitivate database which can only be appended to!"
   ]
  },
  {
   "cell_type": "code",
   "execution_count": 65,
   "id": "c4fb74a1",
   "metadata": {},
   "outputs": [],
   "source": [
    "elog = []\n",
    "elog.append({\n",
    "    \"subject\": \"TICKET_SYSTEM\",\n",
    "    \"verb\": \"ISSUE\",\n",
    "    \"object\": {\"id\": 13232, \"type\": \"TICKET\"},\n",
    "    \"context\": {\n",
    "        \"time\": \"1pm\"\n",
    "    }\n",
    "})\n",
    "\n",
    "elog.append({\n",
    "    \"subject\": \"CUSTOMER\",\n",
    "    \"verb\": \"PURCHASES\",\n",
    "    \"object\": {\"id\": 13232, \"type\": \"TICKET\"},\n",
    "    \"context\": {\n",
    "        \"time\": \"1pm\",\n",
    "        \"film\": \"James Bond\"\n",
    "    }\n",
    "})\n",
    "\n",
    "elog.append({\n",
    "    \"subject\": \"CUSTOMER\",\n",
    "    \"verb\": \"ATTENDS\",\n",
    "    \"object\": \"FILM\",\n",
    "    \"context\": {\n",
    "        \"time\": \"1pm\",\n",
    "        \"film\": \"James Bond\",\n",
    "        \"ticket\": 1234\n",
    "    }\n",
    "})\n"
   ]
  },
  {
   "cell_type": "code",
   "execution_count": 66,
   "id": "d4ac8e73",
   "metadata": {},
   "outputs": [
    {
     "data": {
      "text/plain": [
       "[{'subject': 'TICKET_SYSTEM',\n",
       "  'verb': 'ISSUE',\n",
       "  'object': {'id': 13232, 'type': 'TICKET'},\n",
       "  'context': {'time': '1pm'}},\n",
       " {'subject': 'CUSTOMER',\n",
       "  'verb': 'PURCHASES',\n",
       "  'object': {'id': 13232, 'type': 'TICKET'},\n",
       "  'context': {'time': '1pm', 'film': 'James Bond'}},\n",
       " {'subject': 'CUSTOMER',\n",
       "  'verb': 'ATTENDS',\n",
       "  'object': 'FILM',\n",
       "  'context': {'time': '1pm', 'film': 'James Bond', 'ticket': 1234}}]"
      ]
     },
     "execution_count": 66,
     "metadata": {},
     "output_type": "execute_result"
    }
   ],
   "source": [
    "elog"
   ]
  },
  {
   "cell_type": "markdown",
   "id": "f07a8491",
   "metadata": {},
   "source": [
    "This limitation provides a lot of advantages!\n",
    "\n",
    "Appending is a highly optimized operation so the log is very fast. No edits, deletes, etc. to support. Log is a great single-point-of-truth. "
   ]
  },
  {
   "cell_type": "markdown",
   "id": "9f358530",
   "metadata": {},
   "source": [
    "## Processing an Append-Only Log"
   ]
  },
  {
   "cell_type": "markdown",
   "id": "b12f632e",
   "metadata": {},
   "source": [
    "This system looks-for the purchasing of tickets and adds them to the db,"
   ]
  },
  {
   "cell_type": "code",
   "execution_count": 67,
   "id": "25f02708",
   "metadata": {},
   "outputs": [],
   "source": [
    "db_valid_tickets = []\n",
    "\n",
    "for event in elog:\n",
    "    if event[\"verb\"] == \"PURCHASES\":\n",
    "        db_valid_tickets.append(event[\"object\"][\"id\"])"
   ]
  },
  {
   "cell_type": "code",
   "execution_count": 68,
   "id": "39762b10",
   "metadata": {},
   "outputs": [
    {
     "data": {
      "text/plain": [
       "[13232]"
      ]
     },
     "execution_count": 68,
     "metadata": {},
     "output_type": "execute_result"
    }
   ],
   "source": [
    "db_valid_tickets"
   ]
  },
  {
   "cell_type": "markdown",
   "id": "de81da68",
   "metadata": {},
   "source": [
    "This system checks for valid tickets,"
   ]
  },
  {
   "cell_type": "code",
   "execution_count": 71,
   "id": "0ffa7797",
   "metadata": {},
   "outputs": [
    {
     "ename": "Exception",
     "evalue": "Invalid Ticket",
     "output_type": "error",
     "traceback": [
      "\u001b[0;31m---------------------------------------------------------------------------\u001b[0m",
      "\u001b[0;31mException\u001b[0m                                 Traceback (most recent call last)",
      "\u001b[0;32m<ipython-input-71-5430e3147acf>\u001b[0m in \u001b[0;36m<module>\u001b[0;34m\u001b[0m\n\u001b[1;32m      3\u001b[0m         \u001b[0;32mif\u001b[0m \u001b[0mevent\u001b[0m\u001b[0;34m[\u001b[0m\u001b[0;34m\"context\"\u001b[0m\u001b[0;34m]\u001b[0m\u001b[0;34m[\u001b[0m\u001b[0;34m\"ticket\"\u001b[0m\u001b[0;34m]\u001b[0m \u001b[0;32mnot\u001b[0m \u001b[0;32min\u001b[0m \u001b[0mdb_valid_tickets\u001b[0m\u001b[0;34m:\u001b[0m\u001b[0;34m\u001b[0m\u001b[0;34m\u001b[0m\u001b[0m\n\u001b[1;32m      4\u001b[0m             \u001b[0;31m# just to illustrate\u001b[0m\u001b[0;34m\u001b[0m\u001b[0;34m\u001b[0m\u001b[0;34m\u001b[0m\u001b[0m\n\u001b[0;32m----> 5\u001b[0;31m             \u001b[0;32mraise\u001b[0m \u001b[0mException\u001b[0m\u001b[0;34m(\u001b[0m\u001b[0;34m\"Invalid Ticket\"\u001b[0m\u001b[0;34m)\u001b[0m\u001b[0;34m\u001b[0m\u001b[0;34m\u001b[0m\u001b[0m\n\u001b[0m\u001b[1;32m      6\u001b[0m \u001b[0;34m\u001b[0m\u001b[0m\n\u001b[1;32m      7\u001b[0m             \u001b[0;31m# more reasonable:\u001b[0m\u001b[0;34m\u001b[0m\u001b[0;34m\u001b[0m\u001b[0;34m\u001b[0m\u001b[0m\n",
      "\u001b[0;31mException\u001b[0m: Invalid Ticket"
     ]
    }
   ],
   "source": [
    "for event in elog:\n",
    "    if event[\"verb\"] == \"ATTENDS\":\n",
    "        if event[\"context\"][\"ticket\"] not in db_valid_tickets:\n",
    "            # just to illustrate \n",
    "            raise Exception(\"Invalid Ticket\")\n",
    "            \n",
    "            # more reasonable:\n",
    "            # report_error(\"Invalid Ticket\")\n",
    "            # deny_entry(event) # here event = customer"
   ]
  },
  {
   "cell_type": "markdown",
   "id": "b71128ce",
   "metadata": {},
   "source": [
    "## Exercise (25 min)"
   ]
  },
  {
   "cell_type": "markdown",
   "id": "72c02087",
   "metadata": {},
   "source": [
    "* Consider a company/organization/industry \n",
    "    * consider a problem facing the organization\n",
    "    * datasets & datasystem\n",
    "    \n",
    "* Eg., cinema, supermarket, ecommerce website\n",
    "    * health data / health app tracking, ...\n",
    "    * IoT -- all IoT systems are event systems\n",
    "    \n",
    "* Design some events that systems/users can cause\n",
    "    * Eg., with cinema\n",
    "    * subject: CUSTOMER, ATTENDANT, TICKET_SYSTEM, ...\n",
    "    * verb: PURCHASE, ATTEND, ISSUE, ORDER, REFUND, \n",
    "        * object: SWEETS, TICKETS,\n",
    "\n",
    "* Simulate a sequence of real-world (> 5) actions \n",
    "    * CUSTOMER PURCHASES TICKET\n",
    "    * TICKET_SYSTEM ISSUES TICKET\n",
    "    * CUSTOMER PURCHASES SWEETS\n",
    "    * CUSTOMER ATTENDS FILM\n",
    "    \n",
    "* Using a for loop watch for properties of the event\n",
    "    * and perform a reasonable action\n",
    "    * eg., watch for \"PURHCASES\" & \"SWEETS\"\n",
    "        * and print(\"DISCOUNT 10%!\")\n",
    "    "
   ]
  },
  {
   "cell_type": "markdown",
   "id": "0bdce244",
   "metadata": {},
   "source": [
    "---"
   ]
  },
  {
   "cell_type": "markdown",
   "id": "82dffa9f",
   "metadata": {},
   "source": [
    "## How do you integrate analysis into event systems?"
   ]
  },
  {
   "cell_type": "code",
   "execution_count": 76,
   "id": "926d77b0",
   "metadata": {},
   "outputs": [],
   "source": [
    "def recommend(film):\n",
    "    db = {\n",
    "        \"James Bond\": \"Transformers\"\n",
    "    }\n",
    "    \n",
    "    return db[film]"
   ]
  },
  {
   "cell_type": "code",
   "execution_count": 78,
   "id": "73fbf87f",
   "metadata": {},
   "outputs": [
    {
     "name": "stdout",
     "output_type": "stream",
     "text": [
      "We recommend you also see Transformers\n"
     ]
    }
   ],
   "source": [
    "for event in elog:\n",
    "    if event[\"verb\"] == \"ATTENDS\":\n",
    "        print(\"We recommend you also see\", recommend(event[\"context\"][\"film\"]))"
   ]
  }
 ],
 "metadata": {
  "kernelspec": {
   "display_name": "Python 3.9",
   "language": "python",
   "name": "python3"
  },
  "language_info": {
   "codemirror_mode": {
    "name": "ipython",
    "version": 3
   },
   "file_extension": ".py",
   "mimetype": "text/x-python",
   "name": "python",
   "nbconvert_exporter": "python",
   "pygments_lexer": "ipython3",
   "version": "3.9.6"
  }
 },
 "nbformat": 4,
 "nbformat_minor": 5
}
