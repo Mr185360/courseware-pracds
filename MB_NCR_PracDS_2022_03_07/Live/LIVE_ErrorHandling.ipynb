{
 "cells": [
  {
   "cell_type": "code",
   "execution_count": 5,
   "id": "72a092ff",
   "metadata": {},
   "outputs": [
    {
     "name": "stdout",
     "output_type": "stream",
     "text": [
      "A\n"
     ]
    },
    {
     "ename": "ZeroDivisionError",
     "evalue": "division by zero",
     "output_type": "error",
     "traceback": [
      "\u001b[0;31m---------------------------------------------------------------------------\u001b[0m",
      "\u001b[0;31mZeroDivisionError\u001b[0m                         Traceback (most recent call last)",
      "\u001b[0;32m<ipython-input-5-cc0f8b23664a>\u001b[0m in \u001b[0;36m<module>\u001b[0;34m\u001b[0m\n\u001b[1;32m      1\u001b[0m \u001b[0mprint\u001b[0m\u001b[0;34m(\u001b[0m\u001b[0;34m\"A\"\u001b[0m\u001b[0;34m)\u001b[0m\u001b[0;34m\u001b[0m\u001b[0;34m\u001b[0m\u001b[0m\n\u001b[1;32m      2\u001b[0m \u001b[0;34m\u001b[0m\u001b[0m\n\u001b[0;32m----> 3\u001b[0;31m \u001b[0;36m10\u001b[0m\u001b[0;34m/\u001b[0m\u001b[0;36m0\u001b[0m\u001b[0;34m\u001b[0m\u001b[0;34m\u001b[0m\u001b[0m\n\u001b[0m\u001b[1;32m      4\u001b[0m \u001b[0;34m\u001b[0m\u001b[0m\n\u001b[1;32m      5\u001b[0m \u001b[0mprint\u001b[0m\u001b[0;34m(\u001b[0m\u001b[0;34m\"B\"\u001b[0m\u001b[0;34m)\u001b[0m\u001b[0;34m\u001b[0m\u001b[0;34m\u001b[0m\u001b[0m\n",
      "\u001b[0;31mZeroDivisionError\u001b[0m: division by zero"
     ]
    }
   ],
   "source": [
    "print(\"A\")\n",
    "\n",
    "10/0\n",
    "\n",
    "print(\"B\")"
   ]
  },
  {
   "cell_type": "code",
   "execution_count": 4,
   "id": "ccd7cdd1",
   "metadata": {},
   "outputs": [
    {
     "name": "stdout",
     "output_type": "stream",
     "text": [
      "A\n",
      "B\n"
     ]
    }
   ],
   "source": [
    "print(\"A\")\n",
    "\n",
    "try:\n",
    "    10/0\n",
    "except:\n",
    "    pass \n",
    "\n",
    "print(\"B\")"
   ]
  },
  {
   "cell_type": "code",
   "execution_count": 9,
   "id": "974b6a18",
   "metadata": {},
   "outputs": [
    {
     "name": "stdout",
     "output_type": "stream",
     "text": [
      "A\n",
      "HANDLING\n",
      "B\n"
     ]
    }
   ],
   "source": [
    "print(\"A\")\n",
    "\n",
    "try:\n",
    "    print(10/0)\n",
    "except:\n",
    "    print(\"HANDLING\") \n",
    "\n",
    "print(\"B\")"
   ]
  },
  {
   "cell_type": "code",
   "execution_count": 8,
   "id": "11a105c0",
   "metadata": {},
   "outputs": [
    {
     "name": "stdout",
     "output_type": "stream",
     "text": [
      "A\n",
      "10.0\n",
      "B\n"
     ]
    }
   ],
   "source": [
    "print(\"A\")\n",
    "\n",
    "try:\n",
    "    print(10/1)\n",
    "except:\n",
    "    print(\"HANDLING\") \n",
    "\n",
    "print(\"B\")"
   ]
  },
  {
   "cell_type": "code",
   "execution_count": 19,
   "id": "7e7a21ac",
   "metadata": {},
   "outputs": [],
   "source": [
    "d = {'msg': 'Hi'}"
   ]
  },
  {
   "cell_type": "code",
   "execution_count": 20,
   "id": "370febf8",
   "metadata": {},
   "outputs": [
    {
     "ename": "KeyError",
     "evalue": "'height'",
     "output_type": "error",
     "traceback": [
      "\u001b[0;31m---------------------------------------------------------------------------\u001b[0m",
      "\u001b[0;31mKeyError\u001b[0m                                  Traceback (most recent call last)",
      "\u001b[0;32m<ipython-input-20-382fdc933245>\u001b[0m in \u001b[0;36m<module>\u001b[0;34m\u001b[0m\n\u001b[0;32m----> 1\u001b[0;31m \u001b[0md\u001b[0m\u001b[0;34m[\u001b[0m\u001b[0;34m'height'\u001b[0m\u001b[0;34m]\u001b[0m \u001b[0;34m/\u001b[0m \u001b[0;36m0\u001b[0m\u001b[0;34m\u001b[0m\u001b[0;34m\u001b[0m\u001b[0m\n\u001b[0m",
      "\u001b[0;31mKeyError\u001b[0m: 'height'"
     ]
    }
   ],
   "source": [
    "d['height'] / 0 "
   ]
  },
  {
   "cell_type": "code",
   "execution_count": 22,
   "id": "95398db5",
   "metadata": {},
   "outputs": [
    {
     "name": "stdout",
     "output_type": "stream",
     "text": [
      "A\n",
      "B\n"
     ]
    }
   ],
   "source": [
    "print(\"A\")\n",
    "\n",
    "try:\n",
    "    d['height'] / 0\n",
    "except:\n",
    "    pass\n",
    "\n",
    "print(\"B\")"
   ]
  },
  {
   "cell_type": "code",
   "execution_count": 24,
   "id": "d2488b6d",
   "metadata": {},
   "outputs": [
    {
     "name": "stdout",
     "output_type": "stream",
     "text": [
      "A\n",
      "Key missing!\n",
      "B\n"
     ]
    }
   ],
   "source": [
    "print(\"A\")\n",
    "\n",
    "try:\n",
    "    d['height'] / 0\n",
    "except KeyError:\n",
    "    print(\"Key missing!\")\n",
    "except ZeroDivisionError:\n",
    "    print(\"Zero div!\")\n",
    "\n",
    "print(\"B\")"
   ]
  },
  {
   "cell_type": "code",
   "execution_count": 25,
   "id": "eac89b2f",
   "metadata": {},
   "outputs": [
    {
     "name": "stdout",
     "output_type": "stream",
     "text": [
      "A\n",
      "Zero div!\n",
      "B\n"
     ]
    }
   ],
   "source": [
    "print(\"A\")\n",
    "\n",
    "d['height'] = 10\n",
    "\n",
    "try:\n",
    "    d['height'] / 0\n",
    "except KeyError:\n",
    "    print(\"Key missing!\")\n",
    "except ZeroDivisionError:\n",
    "    print(\"Zero div!\")\n",
    "\n",
    "print(\"B\")"
   ]
  },
  {
   "cell_type": "code",
   "execution_count": 29,
   "id": "5e8da42b",
   "metadata": {},
   "outputs": [],
   "source": [
    "import requests"
   ]
  },
  {
   "cell_type": "code",
   "execution_count": 31,
   "id": "a471ea19",
   "metadata": {},
   "outputs": [],
   "source": [
    "response = requests.get(\"https://data.weather.gov.hk/weatherAPI/opendata/weather.php?dataType=fnd&lang=en\")"
   ]
  },
  {
   "cell_type": "code",
   "execution_count": 32,
   "id": "2005d71c",
   "metadata": {},
   "outputs": [],
   "source": [
    "data = response.json()"
   ]
  },
  {
   "cell_type": "code",
   "execution_count": 39,
   "id": "24387736",
   "metadata": {},
   "outputs": [
    {
     "name": "stdout",
     "output_type": "stream",
     "text": [
      "6.25\n",
      "5.882352941176471\n",
      "5.555555555555555\n",
      "5.555555555555555\n",
      "5.2631578947368425\n",
      "5.2631578947368425\n",
      "5.2631578947368425\n",
      "5.2631578947368425\n",
      "5.2631578947368425\n"
     ]
    }
   ],
   "source": [
    "for entry in data['weatherForecast']:\n",
    "    try:\n",
    "        print(100/entry['forecastMintemp']['value'])\n",
    "    except ZeroDivisionError:\n",
    "        print(0)"
   ]
  },
  {
   "cell_type": "markdown",
   "id": "0f264664",
   "metadata": {},
   "source": [
    "---"
   ]
  },
  {
   "cell_type": "code",
   "execution_count": 42,
   "id": "b84fa6b4",
   "metadata": {},
   "outputs": [
    {
     "name": "stdout",
     "output_type": "stream",
     "text": [
      "<class 'FileNotFoundError'>\n"
     ]
    }
   ],
   "source": [
    "try:\n",
    "    open(\"asfd\")\n",
    "except Exception as e:\n",
    "    print(type(e))"
   ]
  },
  {
   "cell_type": "code",
   "execution_count": 43,
   "id": "18b364da",
   "metadata": {},
   "outputs": [
    {
     "ename": "FileNotFoundError",
     "evalue": "[Errno 2] No such file or directory: 'asdsds'",
     "output_type": "error",
     "traceback": [
      "\u001b[0;31m---------------------------------------------------------------------------\u001b[0m",
      "\u001b[0;31mFileNotFoundError\u001b[0m                         Traceback (most recent call last)",
      "\u001b[0;32m<ipython-input-43-7631a4dea6ba>\u001b[0m in \u001b[0;36m<module>\u001b[0;34m\u001b[0m\n\u001b[0;32m----> 1\u001b[0;31m \u001b[0mopen\u001b[0m\u001b[0;34m(\u001b[0m\u001b[0;34m\"asdsds\"\u001b[0m\u001b[0;34m)\u001b[0m\u001b[0;34m\u001b[0m\u001b[0;34m\u001b[0m\u001b[0m\n\u001b[0m",
      "\u001b[0;31mFileNotFoundError\u001b[0m: [Errno 2] No such file or directory: 'asdsds'"
     ]
    }
   ],
   "source": [
    "open(\"asdsds\")"
   ]
  },
  {
   "cell_type": "code",
   "execution_count": 44,
   "id": "6d10e1ab",
   "metadata": {},
   "outputs": [
    {
     "name": "stdout",
     "output_type": "stream",
     "text": [
      "HANDLED\n"
     ]
    }
   ],
   "source": [
    "try:\n",
    "    open(\"sdfdf\")\n",
    "except FileNotFoundError:\n",
    "    print(\"HANDLED\")"
   ]
  },
  {
   "cell_type": "code",
   "execution_count": null,
   "id": "004c2fd5",
   "metadata": {},
   "outputs": [],
   "source": []
  }
 ],
 "metadata": {
  "kernelspec": {
   "display_name": "Python 3.9",
   "language": "python",
   "name": "python3"
  },
  "language_info": {
   "codemirror_mode": {
    "name": "ipython",
    "version": 3
   },
   "file_extension": ".py",
   "mimetype": "text/x-python",
   "name": "python",
   "nbconvert_exporter": "python",
   "pygments_lexer": "ipython3",
   "version": "3.9.6"
  }
 },
 "nbformat": 4,
 "nbformat_minor": 5
}
