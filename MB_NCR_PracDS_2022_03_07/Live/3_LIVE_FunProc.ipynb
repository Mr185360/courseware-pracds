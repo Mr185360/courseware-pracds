{
 "cells": [
  {
   "cell_type": "markdown",
   "id": "0e7a1d2b",
   "metadata": {},
   "source": [
    "# Data Processing in Python"
   ]
  },
  {
   "cell_type": "markdown",
   "id": "f8204a75",
   "metadata": {},
   "source": [
    "## Review"
   ]
  },
  {
   "cell_type": "code",
   "execution_count": 6,
   "id": "795b2067",
   "metadata": {},
   "outputs": [
    {
     "name": "stdout",
     "output_type": "stream",
     "text": [
      "Collecting geopy\n",
      "  Downloading geopy-2.2.0-py3-none-any.whl (118 kB)\n",
      "     |████████████████████████████████| 118 kB 9.4 MB/s            \n",
      "\u001b[?25hCollecting geographiclib<2,>=1.49\n",
      "  Downloading geographiclib-1.52-py3-none-any.whl (38 kB)\n",
      "Installing collected packages: geographiclib, geopy\n",
      "Successfully installed geographiclib-1.52 geopy-2.2.0\n"
     ]
    }
   ],
   "source": [
    "!pip install geopy"
   ]
  },
  {
   "cell_type": "code",
   "execution_count": 50,
   "id": "ee938e3f",
   "metadata": {},
   "outputs": [],
   "source": [
    "from geopy import distance"
   ]
  },
  {
   "cell_type": "code",
   "execution_count": 3,
   "id": "f19401cc",
   "metadata": {},
   "outputs": [],
   "source": [
    "weather = [\n",
    "    {\"distance\":16744,\"title\":\"Penzance\",\"location_type\":\"City\",\"woeid\":31889,\"latt_long\":(50.11861,-5.53723)},\n",
    "    {\"distance\":19287,\"title\":\"Falmouth\",\"location_type\":\"City\",\"woeid\":19894,\"latt_long\":(50.151001,-5.07832)},\n",
    "    {\"distance\":19904,\"title\":\"St Ives\",\"location_type\":\"City\",\"woeid\":35662,\"latt_long\":(50.21032,-5.48569)},\n",
    "    {\"distance\":28619,\"title\":\"Truro\",\"location_type\":\"City\",\"woeid\":38283,\"latt_long\":(50.263691,-5.054610)},\n",
    "    {\"distance\":90542,\"title\":\"Plymouth\",\"location_type\":\"City\",\"woeid\":32185,\"latt_long\":(50.375801,-4.136890)},\n",
    "    {\"distance\":146738,\"title\":\"Exeter\",\"location_type\":\"City\",\"woeid\":19792,\"latt_long\":(50.720760,-3.515340)},\n",
    "]"
   ]
  },
  {
   "cell_type": "code",
   "execution_count": 31,
   "id": "75f723c1",
   "metadata": {},
   "outputs": [],
   "source": [
    "london = (51.5072, -0.1276)\n",
    "\n",
    "messages = []\n",
    "\n",
    "for city in weather:\n",
    "    messages.append(\n",
    "        {city[\"title\"] : round(distance.distance(london, city[\"latt_long\"]).miles) }\n",
    "    )"
   ]
  },
  {
   "cell_type": "code",
   "execution_count": 32,
   "id": "b363b2da",
   "metadata": {},
   "outputs": [
    {
     "data": {
      "text/plain": [
       "[{'Penzance': 256},\n",
       " {'Falmouth': 236},\n",
       " {'St Ives': 251},\n",
       " {'Truro': 232},\n",
       " {'Plymouth': 192},\n",
       " {'Exeter': 157}]"
      ]
     },
     "execution_count": 32,
     "metadata": {},
     "output_type": "execute_result"
    }
   ],
   "source": [
    "messages"
   ]
  },
  {
   "cell_type": "markdown",
   "id": "de37ba66",
   "metadata": {},
   "source": [
    "---"
   ]
  },
  {
   "cell_type": "markdown",
   "id": "f6d052d1",
   "metadata": {},
   "source": [
    "## Comprehension"
   ]
  },
  {
   "cell_type": "code",
   "execution_count": 33,
   "id": "18a6274b",
   "metadata": {},
   "outputs": [],
   "source": [
    "distances = [256, 236, 251, 232, 192, 157]"
   ]
  },
  {
   "cell_type": "code",
   "execution_count": 34,
   "id": "7d2eba6b",
   "metadata": {},
   "outputs": [
    {
     "ename": "TypeError",
     "evalue": "can't multiply sequence by non-int of type 'float'",
     "output_type": "error",
     "traceback": [
      "\u001b[0;31m---------------------------------------------------------------------------\u001b[0m",
      "\u001b[0;31mTypeError\u001b[0m                                 Traceback (most recent call last)",
      "\u001b[0;32m<ipython-input-34-c22b28f8871b>\u001b[0m in \u001b[0;36m<module>\u001b[0;34m\u001b[0m\n\u001b[0;32m----> 1\u001b[0;31m \u001b[0;36m1.6\u001b[0m \u001b[0;34m*\u001b[0m \u001b[0mdistances\u001b[0m\u001b[0;34m\u001b[0m\u001b[0;34m\u001b[0m\u001b[0m\n\u001b[0m",
      "\u001b[0;31mTypeError\u001b[0m: can't multiply sequence by non-int of type 'float'"
     ]
    }
   ],
   "source": [
    "1.6 * distances"
   ]
  },
  {
   "cell_type": "markdown",
   "id": "159b6457",
   "metadata": {},
   "source": [
    "* CREATE A LIST \n",
    "    * `[ ]`\n",
    "* FROM THE LIST distances:   \n",
    "    * `[ ...    for ... in  distances ]`\n",
    "* WHERE EVERY ELEMENT OF THE NEW LIST IS 1.6 OF THE OLD \n",
    "    * `[ 1.6*element for element in distances]`"
   ]
  },
  {
   "cell_type": "code",
   "execution_count": 37,
   "id": "247adc32",
   "metadata": {},
   "outputs": [
    {
     "data": {
      "text/plain": [
       "[409.6,\n",
       " 377.6,\n",
       " 401.6,\n",
       " 371.20000000000005,\n",
       " 307.20000000000005,\n",
       " 251.20000000000002]"
      ]
     },
     "execution_count": 37,
     "metadata": {},
     "output_type": "execute_result"
    }
   ],
   "source": [
    "[ 1.6 * d for d in distances ]"
   ]
  },
  {
   "cell_type": "code",
   "execution_count": 39,
   "id": "c32502bb",
   "metadata": {},
   "outputs": [
    {
     "data": {
      "text/plain": [
       "[512, 472, 502, 464, 384, 314]"
      ]
     },
     "execution_count": 39,
     "metadata": {},
     "output_type": "execute_result"
    }
   ],
   "source": [
    "[ 2*d for d in distances ]"
   ]
  },
  {
   "cell_type": "code",
   "execution_count": 40,
   "id": "00bf14dc",
   "metadata": {},
   "outputs": [
    {
     "data": {
      "text/plain": [
       "1456.4"
      ]
     },
     "execution_count": 40,
     "metadata": {},
     "output_type": "execute_result"
    }
   ],
   "source": [
    "sum([1.1 * d for d in distances])"
   ]
  },
  {
   "cell_type": "markdown",
   "id": "94d0961c",
   "metadata": {},
   "source": [
    "## On Complex Datastructures"
   ]
  },
  {
   "cell_type": "code",
   "execution_count": 43,
   "id": "e9b1ba62",
   "metadata": {},
   "outputs": [
    {
     "data": {
      "text/plain": [
       "True"
      ]
     },
     "execution_count": 43,
     "metadata": {},
     "output_type": "execute_result"
    }
   ],
   "source": [
    "[ city for city in weather ] == weather"
   ]
  },
  {
   "cell_type": "code",
   "execution_count": 44,
   "id": "d7d611d4",
   "metadata": {},
   "outputs": [
    {
     "data": {
      "text/plain": [
       "['Penzance', 'Falmouth', 'St Ives', 'Truro', 'Plymouth', 'Exeter']"
      ]
     },
     "execution_count": 44,
     "metadata": {},
     "output_type": "execute_result"
    }
   ],
   "source": [
    "[ city['title'] for city in weather ]"
   ]
  },
  {
   "cell_type": "code",
   "execution_count": 45,
   "id": "763134ec",
   "metadata": {},
   "outputs": [
    {
     "data": {
      "text/plain": [
       "[('Penzance', (50.11861, -5.53723)),\n",
       " ('Falmouth', (50.151001, -5.07832)),\n",
       " ('St Ives', (50.21032, -5.48569)),\n",
       " ('Truro', (50.263691, -5.05461)),\n",
       " ('Plymouth', (50.375801, -4.13689)),\n",
       " ('Exeter', (50.72076, -3.51534))]"
      ]
     },
     "execution_count": 45,
     "metadata": {},
     "output_type": "execute_result"
    }
   ],
   "source": [
    "[ (city['title'], city['latt_long']) for city in weather ]"
   ]
  },
  {
   "cell_type": "code",
   "execution_count": 46,
   "id": "8b72a1c5",
   "metadata": {},
   "outputs": [
    {
     "data": {
      "text/plain": [
       "[{'Penzance': (50.11861, -5.53723)},\n",
       " {'Falmouth': (50.151001, -5.07832)},\n",
       " {'St Ives': (50.21032, -5.48569)},\n",
       " {'Truro': (50.263691, -5.05461)},\n",
       " {'Plymouth': (50.375801, -4.13689)},\n",
       " {'Exeter': (50.72076, -3.51534)}]"
      ]
     },
     "execution_count": 46,
     "metadata": {},
     "output_type": "execute_result"
    }
   ],
   "source": [
    "[ { city['title'] : city['latt_long'] } for city in weather ]"
   ]
  },
  {
   "cell_type": "code",
   "execution_count": 53,
   "id": "3d83900f",
   "metadata": {},
   "outputs": [
    {
     "data": {
      "text/plain": [
       "[{'Penzance': 256},\n",
       " {'Falmouth': 236},\n",
       " {'St Ives': 251},\n",
       " {'Truro': 232},\n",
       " {'Plymouth': 192},\n",
       " {'Exeter': 157}]"
      ]
     },
     "execution_count": 53,
     "metadata": {},
     "output_type": "execute_result"
    }
   ],
   "source": [
    "[ { \n",
    "    city['title'] : \n",
    "        round(distance.distance(london, city['latt_long']).miles) \n",
    "  } for city in weather \n",
    "]"
   ]
  },
  {
   "cell_type": "markdown",
   "id": "cdaf6ecf",
   "metadata": {},
   "source": [
    "---"
   ]
  },
  {
   "cell_type": "markdown",
   "id": "decff65d",
   "metadata": {},
   "source": [
    "## On Strings"
   ]
  },
  {
   "cell_type": "code",
   "execution_count": 55,
   "id": "eb7aac1a",
   "metadata": {},
   "outputs": [],
   "source": [
    "greetings = [\"ERROR\", \"LOG\", \"WARN\", \"...\"]"
   ]
  },
  {
   "cell_type": "code",
   "execution_count": 57,
   "id": "ee662663",
   "metadata": {},
   "outputs": [
    {
     "data": {
      "text/plain": [
       "['error', 'log', 'warn', '...']"
      ]
     },
     "execution_count": 57,
     "metadata": {},
     "output_type": "execute_result"
    }
   ],
   "source": [
    "[ g.lower() for g in greetings ]"
   ]
  },
  {
   "cell_type": "markdown",
   "id": "271ab5cc",
   "metadata": {},
   "source": [
    "---"
   ]
  },
  {
   "cell_type": "code",
   "execution_count": 59,
   "id": "1f9c3614",
   "metadata": {},
   "outputs": [
    {
     "data": {
      "text/plain": [
       "1000000000"
      ]
     },
     "execution_count": 59,
     "metadata": {},
     "output_type": "execute_result"
    }
   ],
   "source": [
    "1_00_0_000_000"
   ]
  },
  {
   "cell_type": "code",
   "execution_count": 60,
   "id": "ba0d6bce",
   "metadata": {},
   "outputs": [
    {
     "data": {
      "text/plain": [
       "10000000"
      ]
     },
     "execution_count": 60,
     "metadata": {},
     "output_type": "execute_result"
    }
   ],
   "source": [
    "10_000_000"
   ]
  },
  {
   "cell_type": "code",
   "execution_count": 61,
   "id": "252945e9",
   "metadata": {},
   "outputs": [],
   "source": [
    "doc = \"\"\"\n",
    "\n",
    "a document\n",
    "of text\n",
    "asdsds\n",
    "\"\"\""
   ]
  },
  {
   "cell_type": "code",
   "execution_count": 63,
   "id": "177a17b6",
   "metadata": {},
   "outputs": [
    {
     "data": {
      "text/plain": [
       "'x'"
      ]
     },
     "execution_count": 63,
     "metadata": {},
     "output_type": "execute_result"
    }
   ],
   "source": [
    "doc[-10]"
   ]
  },
  {
   "cell_type": "code",
   "execution_count": 68,
   "id": "3a687930",
   "metadata": {},
   "outputs": [
    {
     "name": "stdout",
     "output_type": "stream",
     "text": [
      "of text\n",
      "asdsds\n",
      "\n"
     ]
    }
   ],
   "source": [
    "print(doc[-15:])"
   ]
  },
  {
   "cell_type": "markdown",
   "id": "d4fb67c9",
   "metadata": {},
   "source": [
    "## On Graphs"
   ]
  },
  {
   "cell_type": "markdown",
   "id": "2da35652",
   "metadata": {},
   "source": [
    "* nodes = objects, rows, ...\n",
    "* edges = relationships, links, connections,... \n",
    "* data structures\n",
    "    * edge list\n",
    "    * matrix, ... "
   ]
  },
  {
   "cell_type": "code",
   "execution_count": 70,
   "id": "891c1b13",
   "metadata": {},
   "outputs": [],
   "source": [
    "edgelist = [\n",
    "    (\"Alice\", \"Eve\", 1.5),  # from, to, weight = friend1, friend2, length-of-friendship\n",
    "    (\"Eve\", \"Bob\", 1),\n",
    "    (\"Bob\", \"Alice\", 0.5)\n",
    "]"
   ]
  },
  {
   "cell_type": "code",
   "execution_count": 74,
   "id": "b1b412ec",
   "metadata": {},
   "outputs": [],
   "source": [
    "from statistics import mean"
   ]
  },
  {
   "cell_type": "code",
   "execution_count": 75,
   "id": "10612f94",
   "metadata": {},
   "outputs": [
    {
     "data": {
      "text/plain": [
       "1.0"
      ]
     },
     "execution_count": 75,
     "metadata": {},
     "output_type": "execute_result"
    }
   ],
   "source": [
    "mean([ e[-1] for e in edgelist ])"
   ]
  },
  {
   "cell_type": "code",
   "execution_count": 79,
   "id": "bcb74553",
   "metadata": {},
   "outputs": [],
   "source": [
    "M = [ \n",
    "    # alice, eve,      bob\n",
    "    [0.0,      1.5,    0.5], #alice\n",
    "    [1.5,      0.0,    1.0], #eve\n",
    "    [0.5,      1.0,    0.0], #bob\n",
    "]"
   ]
  },
  {
   "cell_type": "code",
   "execution_count": null,
   "id": "b6c53237",
   "metadata": {},
   "outputs": [],
   "source": []
  }
 ],
 "metadata": {
  "kernelspec": {
   "display_name": "Python 3.9",
   "language": "python",
   "name": "python3"
  },
  "language_info": {
   "codemirror_mode": {
    "name": "ipython",
    "version": 3
   },
   "file_extension": ".py",
   "mimetype": "text/x-python",
   "name": "python",
   "nbconvert_exporter": "python",
   "pygments_lexer": "ipython3",
   "version": "3.9.6"
  }
 },
 "nbformat": 4,
 "nbformat_minor": 5
}
