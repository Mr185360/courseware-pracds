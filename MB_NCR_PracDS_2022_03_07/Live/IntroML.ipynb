{
 "cells": [
  {
   "cell_type": "code",
   "execution_count": 1,
   "id": "15a0086c",
   "metadata": {},
   "outputs": [],
   "source": [
    "D = [(18, True), (22, True), (33, False), (45, False)] # (age, like_film)"
   ]
  },
  {
   "cell_type": "code",
   "execution_count": 30,
   "id": "747f774c",
   "metadata": {},
   "outputs": [],
   "source": [
    "from statistics import median \n",
    "\n",
    "def alg(data, hyper=0):\n",
    "    return median([ x for (x, y) in data ]) + hyper"
   ]
  },
  {
   "cell_type": "code",
   "execution_count": 31,
   "id": "1a39874c",
   "metadata": {},
   "outputs": [],
   "source": [
    "def f(x, param):\n",
    "    return x < param"
   ]
  },
  {
   "cell_type": "code",
   "execution_count": 33,
   "id": "26b0d08e",
   "metadata": {},
   "outputs": [
    {
     "data": {
      "text/plain": [
       "True"
      ]
     },
     "execution_count": 33,
     "metadata": {},
     "output_type": "execute_result"
    }
   ],
   "source": [
    "w = alg(D)\n",
    "x = 18\n",
    "\n",
    "f(x, w)"
   ]
  },
  {
   "cell_type": "code",
   "execution_count": 29,
   "id": "5a11b914",
   "metadata": {
    "scrolled": true
   },
   "outputs": [
    {
     "data": {
      "text/plain": [
       "True"
      ]
     },
     "execution_count": 29,
     "metadata": {},
     "output_type": "execute_result"
    }
   ],
   "source": [
    "[f(x, w) for (x, y) in D ] == [ y for (x, y) in D ]"
   ]
  },
  {
   "cell_type": "markdown",
   "id": "d6cd83a2",
   "metadata": {},
   "source": [
    "---"
   ]
  },
  {
   "cell_type": "code",
   "execution_count": 7,
   "id": "2cc42a70",
   "metadata": {},
   "outputs": [
    {
     "data": {
      "text/plain": [
       "True"
      ]
     },
     "execution_count": 7,
     "metadata": {},
     "output_type": "execute_result"
    }
   ],
   "source": [
    "all([ f(x) == y for (x, y) in D ])"
   ]
  },
  {
   "cell_type": "markdown",
   "id": "d76d44b2",
   "metadata": {},
   "source": [
    "---"
   ]
  },
  {
   "cell_type": "code",
   "execution_count": null,
   "id": "d33a2622",
   "metadata": {},
   "outputs": [],
   "source": []
  }
 ],
 "metadata": {
  "kernelspec": {
   "display_name": "Python 3.9",
   "language": "python",
   "name": "python3"
  },
  "language_info": {
   "codemirror_mode": {
    "name": "ipython",
    "version": 3
   },
   "file_extension": ".py",
   "mimetype": "text/x-python",
   "name": "python",
   "nbconvert_exporter": "python",
   "pygments_lexer": "ipython3",
   "version": "3.9.6"
  }
 },
 "nbformat": 4,
 "nbformat_minor": 5
}
