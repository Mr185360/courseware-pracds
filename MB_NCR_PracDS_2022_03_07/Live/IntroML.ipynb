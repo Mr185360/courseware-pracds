{
 "cells": [
  {
   "cell_type": "markdown",
   "id": "f2c456da",
   "metadata": {},
   "source": [
    "# Machine Learning: Method"
   ]
  },
  {
   "cell_type": "code",
   "execution_count": 1,
   "id": "07ce71f5",
   "metadata": {},
   "outputs": [],
   "source": [
    "D = [(18, True), (22, True), (33, False), (45, False)] # (age, like_film)"
   ]
  },
  {
   "cell_type": "code",
   "execution_count": 30,
   "id": "1609b123",
   "metadata": {},
   "outputs": [],
   "source": [
    "from statistics import median \n",
    "\n",
    "def alg(data, hyper=0):\n",
    "    return median([ x for (x, y) in data ]) + hyper"
   ]
  },
  {
   "cell_type": "code",
   "execution_count": 31,
   "id": "2b71bd13",
   "metadata": {},
   "outputs": [],
   "source": [
    "def f(x, param):\n",
    "    return x < param"
   ]
  },
  {
   "cell_type": "code",
   "execution_count": 33,
   "id": "18b6b371",
   "metadata": {},
   "outputs": [
    {
     "data": {
      "text/plain": [
       "True"
      ]
     },
     "execution_count": 33,
     "metadata": {},
     "output_type": "execute_result"
    }
   ],
   "source": [
    "w = alg(D)\n",
    "x = 18\n",
    "\n",
    "f(x, w)"
   ]
  },
  {
   "cell_type": "code",
   "execution_count": 29,
   "id": "37136695",
   "metadata": {
    "scrolled": true
   },
   "outputs": [
    {
     "data": {
      "text/plain": [
       "True"
      ]
     },
     "execution_count": 29,
     "metadata": {},
     "output_type": "execute_result"
    }
   ],
   "source": [
    "[f(x, w) for (x, y) in D ] == [ y for (x, y) in D ]"
   ]
  },
  {
   "cell_type": "markdown",
   "id": "24e8980f",
   "metadata": {},
   "source": [
    "---"
   ]
  },
  {
   "cell_type": "code",
   "execution_count": 7,
   "id": "7fc3662b",
   "metadata": {},
   "outputs": [
    {
     "data": {
      "text/plain": [
       "True"
      ]
     },
     "execution_count": 7,
     "metadata": {},
     "output_type": "execute_result"
    }
   ],
   "source": [
    "all([ f(x) == y for (x, y) in D ])"
   ]
  },
  {
   "cell_type": "markdown",
   "id": "fccae228",
   "metadata": {},
   "source": [
    "---"
   ]
  },
  {
   "cell_type": "code",
   "execution_count": null,
   "id": "ed5b92fd",
   "metadata": {},
   "outputs": [],
   "source": []
  }
 ],
 "metadata": {
  "kernelspec": {
   "display_name": "Python 3.9",
   "language": "python",
   "name": "python3"
  },
  "language_info": {
   "codemirror_mode": {
    "name": "ipython",
    "version": 3
   },
   "file_extension": ".py",
   "mimetype": "text/x-python",
   "name": "python",
   "nbconvert_exporter": "python",
   "pygments_lexer": "ipython3",
   "version": "3.9.6"
  }
 },
 "nbformat": 4,
 "nbformat_minor": 5
}
