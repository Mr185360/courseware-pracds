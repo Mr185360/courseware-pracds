{
 "cells": [
  {
   "cell_type": "markdown",
   "id": "cf3eed2a",
   "metadata": {},
   "source": [
    "# Python Review Project"
   ]
  },
  {
   "cell_type": "markdown",
   "id": "4709e36d",
   "metadata": {},
   "source": [
    "## Project Brief\n",
    "\n",
    "Either use the FBI Wanted API response below, as provided, or choose a detailed API from the https://github.com/public-apis/public-apis list. \n",
    "\n",
    "By processing the data in this response, produce a report which summarises they key elements. \n",
    "\n",
    "* Preferably include,\n",
    "    * averages of some numerical data\n",
    "        * HINT: `from statistics import mean, median, mode`\n",
    "        * HINT: `import statistics`, `statistics.stdev()`\n",
    "    * a mode of some categorical data (eg., text data)\n",
    "    * use if/elif/else to make some decisions based on values which are present\n",
    "* STRETCH:\n",
    "    * include error handling\n",
    "    * include functions\n",
    "        * eg., a function which makes a decision based on input\n",
    "        * `def decide(value): if return .../else return ....`"
   ]
  },
  {
   "cell_type": "markdown",
   "id": "f2599c5a",
   "metadata": {},
   "source": [
    "---"
   ]
  },
  {
   "cell_type": "markdown",
   "id": "5684ff63",
   "metadata": {},
   "source": [
    "### EXAMPLE: FBI Wanted API"
   ]
  },
  {
   "cell_type": "markdown",
   "id": "867bc2e6",
   "metadata": {},
   "source": [
    "https://www.fbi.gov/wanted/api"
   ]
  },
  {
   "cell_type": "code",
   "execution_count": 5,
   "id": "d6f88639",
   "metadata": {},
   "outputs": [],
   "source": [
    "import requests\n",
    "\n",
    "query = {\n",
    "    'field_offices': 'miami'\n",
    "}\n",
    "\n",
    "response = requests.get('https://api.fbi.gov/wanted/v1/list', params=query)"
   ]
  },
  {
   "cell_type": "code",
   "execution_count": 6,
   "id": "02e85517",
   "metadata": {},
   "outputs": [],
   "source": [
    "data = response.json()"
   ]
  },
  {
   "cell_type": "markdown",
   "id": "d29e1ca4",
   "metadata": {},
   "source": [
    "---"
   ]
  },
  {
   "cell_type": "code",
   "execution_count": 10,
   "id": "e6426638",
   "metadata": {},
   "outputs": [],
   "source": [
    "import statistics as s"
   ]
  },
  {
   "cell_type": "code",
   "execution_count": 31,
   "id": "912aa941",
   "metadata": {},
   "outputs": [
    {
     "name": "stdout",
     "output_type": "stream",
     "text": [
      "locations, reward_min, place_of_birth, reward_max, additional_information, subjects, languages, sex, eyes, caution, ncic, url, age_max, path, possible_countries, description, coordinates, remarks, height_max, eyes_raw, uid, age_range, nationality, dates_of_birth_used, reward_text, aliases, height_min, scars_and_marks, possible_states, field_offices, files, race_raw, weight_min, modified, legat_names, title, weight, publication, status, race, hair, age_min, suspects, hair_raw, occupations, images, complexion, weight_max, person_classification, build, warning_message, details, @id, "
     ]
    }
   ],
   "source": [
    "for k in data['items'][0].keys():\n",
    "    print(k, end=', ')"
   ]
  },
  {
   "cell_type": "code",
   "execution_count": 11,
   "id": "85c266eb",
   "metadata": {},
   "outputs": [
    {
     "data": {
      "text/plain": [
       "'Male'"
      ]
     },
     "execution_count": 11,
     "metadata": {},
     "output_type": "execute_result"
    }
   ],
   "source": [
    "s.mode([ d['sex'] for d in data['items'] ])"
   ]
  },
  {
   "cell_type": "code",
   "execution_count": 15,
   "id": "61cc3fa3",
   "metadata": {
    "scrolled": true
   },
   "outputs": [
    {
     "data": {
      "text/plain": [
       "179.8235294117647"
      ]
     },
     "execution_count": 15,
     "metadata": {},
     "output_type": "execute_result"
    }
   ],
   "source": [
    "s.mean([ d['weight_max'] for d in data['items'] if  d['weight_max'] is not None ])"
   ]
  },
  {
   "cell_type": "code",
   "execution_count": 18,
   "id": "2f7d0e99",
   "metadata": {},
   "outputs": [
    {
     "data": {
      "text/plain": [
       "179.8235294117647"
      ]
     },
     "execution_count": 18,
     "metadata": {},
     "output_type": "execute_result"
    }
   ],
   "source": [
    "weights = []\n",
    "\n",
    "for item in data['items']:\n",
    "    if item['weight_max'] is not None:\n",
    "        weights.append(item['weight_max'])\n",
    "        \n",
    "s.mean(weights)"
   ]
  },
  {
   "cell_type": "code",
   "execution_count": 20,
   "id": "ec4fc269",
   "metadata": {},
   "outputs": [
    {
     "data": {
      "text/plain": [
       "['Korea',\n",
       " 'Ecuador',\n",
       " 'La Calera, Chile',\n",
       " 'Virginia',\n",
       " None,\n",
       " 'Glasgow, Scotland, United Kingdom',\n",
       " None,\n",
       " None,\n",
       " 'Los Angeles, California',\n",
       " None,\n",
       " 'Minnesota',\n",
       " 'Sydney, Australia',\n",
       " None,\n",
       " None,\n",
       " None,\n",
       " 'Cuba',\n",
       " 'Cuba',\n",
       " 'Cuba',\n",
       " None,\n",
       " 'New York']"
      ]
     },
     "execution_count": 20,
     "metadata": {},
     "output_type": "execute_result"
    }
   ],
   "source": [
    "[d['place_of_birth'] for d in data['items']]"
   ]
  },
  {
   "cell_type": "code",
   "execution_count": 25,
   "id": "f85620c1",
   "metadata": {},
   "outputs": [
    {
     "name": "stdout",
     "output_type": "stream",
     "text": [
      "<p>James Alexander Ward is wanted for his alleged involvement in a precious metals fraud scheme that operated in Florida from September of 2007 to March of 2010.</p>\r\n"
     ]
    }
   ],
   "source": [
    "for item in data['items']:\n",
    "    try:\n",
    "        if 'United Kingdom' in item['place_of_birth']:\n",
    "            print(item['caution'].split(\"\\n\")[0])\n",
    "    except:\n",
    "        pass"
   ]
  },
  {
   "cell_type": "code",
   "execution_count": null,
   "id": "a2503e42",
   "metadata": {},
   "outputs": [],
   "source": []
  }
 ],
 "metadata": {
  "kernelspec": {
   "display_name": "Python 3.9",
   "language": "python",
   "name": "python3"
  },
  "language_info": {
   "codemirror_mode": {
    "name": "ipython",
    "version": 3
   },
   "file_extension": ".py",
   "mimetype": "text/x-python",
   "name": "python",
   "nbconvert_exporter": "python",
   "pygments_lexer": "ipython3",
   "version": "3.9.6"
  }
 },
 "nbformat": 4,
 "nbformat_minor": 5
}
