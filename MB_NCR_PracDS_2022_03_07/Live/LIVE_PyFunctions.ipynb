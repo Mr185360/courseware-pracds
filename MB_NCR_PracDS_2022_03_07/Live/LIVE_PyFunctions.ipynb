{
 "cells": [
  {
   "cell_type": "markdown",
   "id": "369bb242",
   "metadata": {},
   "source": [
    "## Clustering"
   ]
  },
  {
   "cell_type": "markdown",
   "id": "4b598068",
   "metadata": {},
   "source": [
    "$$\\mathcal{A}((x,) \\in \\mathbb{D}; \\mu) \\rightarrow (x, label) \\in \\mathbb{L}$$"
   ]
  },
  {
   "cell_type": "code",
   "execution_count": 9,
   "id": "82c925e3",
   "metadata": {},
   "outputs": [],
   "source": [
    "from statistics import median\n",
    "\n",
    "D = [18, 19, 21, 33, 45, 60]\n",
    "mu = median(D)\n",
    "\n",
    "L = [ int(x < mu) for x in D ]"
   ]
  },
  {
   "cell_type": "code",
   "execution_count": 10,
   "id": "f1182bb7",
   "metadata": {},
   "outputs": [
    {
     "data": {
      "text/plain": [
       "[1, 1, 1, 0, 0, 0]"
      ]
     },
     "execution_count": 10,
     "metadata": {},
     "output_type": "execute_result"
    }
   ],
   "source": [
    "L"
   ]
  },
  {
   "cell_type": "markdown",
   "id": "55d17776",
   "metadata": {},
   "source": [
    "---"
   ]
  },
  {
   "cell_type": "code",
   "execution_count": 11,
   "id": "f0f5bce6",
   "metadata": {},
   "outputs": [],
   "source": [
    "def alg(d, mu):\n",
    "    return [ int(x < mu) for x in d ]"
   ]
  },
  {
   "cell_type": "code",
   "execution_count": 12,
   "id": "530994cc",
   "metadata": {},
   "outputs": [],
   "source": [
    "L = alg(D, mu=median(D))"
   ]
  },
  {
   "cell_type": "markdown",
   "id": "533bc2b4",
   "metadata": {},
   "source": [
    "$$\\mathbb{L} = \\mathcal{A}(\\mathbb{D}; \\mu)$$"
   ]
  },
  {
   "cell_type": "markdown",
   "id": "f77f32b1",
   "metadata": {},
   "source": [
    "---"
   ]
  },
  {
   "cell_type": "code",
   "execution_count": 16,
   "id": "a097df30",
   "metadata": {},
   "outputs": [],
   "source": [
    "def f(alpha):\n",
    "    return 2 * alpha"
   ]
  },
  {
   "cell_type": "code",
   "execution_count": 17,
   "id": "e44b60a9",
   "metadata": {},
   "outputs": [],
   "source": [
    "y = f(10)"
   ]
  },
  {
   "cell_type": "code",
   "execution_count": 18,
   "id": "45f8df4e",
   "metadata": {},
   "outputs": [
    {
     "data": {
      "text/plain": [
       "20"
      ]
     },
     "execution_count": 18,
     "metadata": {},
     "output_type": "execute_result"
    }
   ],
   "source": [
    "y"
   ]
  },
  {
   "cell_type": "code",
   "execution_count": 19,
   "id": "bf5c64bd",
   "metadata": {},
   "outputs": [
    {
     "data": {
      "text/plain": [
       "20"
      ]
     },
     "execution_count": 19,
     "metadata": {},
     "output_type": "execute_result"
    }
   ],
   "source": [
    "f(alpha=10)"
   ]
  },
  {
   "cell_type": "code",
   "execution_count": 20,
   "id": "c37dffba",
   "metadata": {},
   "outputs": [],
   "source": [
    "def g(alpha, beta, gamma):\n",
    "    return 2 * alpha + 3 * beta + gamma"
   ]
  },
  {
   "cell_type": "code",
   "execution_count": 21,
   "id": "57b94f7c",
   "metadata": {},
   "outputs": [
    {
     "data": {
      "text/plain": [
       "100"
      ]
     },
     "execution_count": 21,
     "metadata": {},
     "output_type": "execute_result"
    }
   ],
   "source": [
    "g(beta=10, alpha=20, gamma=30)"
   ]
  },
  {
   "cell_type": "markdown",
   "id": "e8cb9283",
   "metadata": {},
   "source": [
    "---"
   ]
  },
  {
   "cell_type": "code",
   "execution_count": 23,
   "id": "97c2b77e",
   "metadata": {},
   "outputs": [],
   "source": [
    "def show_message(message, fmt):\n",
    "    print(fmt.format(message))"
   ]
  },
  {
   "cell_type": "code",
   "execution_count": 24,
   "id": "c8e2ec15",
   "metadata": {},
   "outputs": [
    {
     "name": "stdout",
     "output_type": "stream",
     "text": [
      "ERROR: Hello\n"
     ]
    }
   ],
   "source": [
    "show_message(\"Hello\", \"ERROR: {}\")"
   ]
  },
  {
   "cell_type": "code",
   "execution_count": 28,
   "id": "db076782",
   "metadata": {},
   "outputs": [
    {
     "data": {
      "text/plain": [
       "'ERROR: 2, 1, 3'"
      ]
     },
     "execution_count": 28,
     "metadata": {},
     "output_type": "execute_result"
    }
   ],
   "source": [
    "\"ERROR: {1}, {0}, {2}\".format(1, 2, 3)"
   ]
  },
  {
   "cell_type": "code",
   "execution_count": 29,
   "id": "a399d855",
   "metadata": {},
   "outputs": [
    {
     "name": "stdout",
     "output_type": "stream",
     "text": [
      "LOG: Hello\n"
     ]
    }
   ],
   "source": [
    "show_message(\"Hello\", fmt=\"LOG: {}\")"
   ]
  },
  {
   "cell_type": "markdown",
   "id": "9a079b86",
   "metadata": {},
   "source": [
    "---"
   ]
  },
  {
   "cell_type": "code",
   "execution_count": 43,
   "id": "f082c45a",
   "metadata": {},
   "outputs": [],
   "source": [
    "def h(x):\n",
    "    return 2 * x # does not print\n",
    "\n",
    "def say(x):\n",
    "    print(2 * x) # sends text to screen\n",
    "    \n",
    "    \n",
    "    # return None # automatally implied"
   ]
  },
  {
   "cell_type": "code",
   "execution_count": 34,
   "id": "fbb1f1d1",
   "metadata": {
    "scrolled": true
   },
   "outputs": [
    {
     "data": {
      "text/plain": [
       "20"
      ]
     },
     "execution_count": 34,
     "metadata": {},
     "output_type": "execute_result"
    }
   ],
   "source": [
    "h(10) # hidden print() in every cell"
   ]
  },
  {
   "cell_type": "code",
   "execution_count": 33,
   "id": "c393db06",
   "metadata": {},
   "outputs": [
    {
     "name": "stdout",
     "output_type": "stream",
     "text": [
      "20\n"
     ]
    }
   ],
   "source": [
    "say(10)"
   ]
  },
  {
   "cell_type": "code",
   "execution_count": 37,
   "id": "a1a009af",
   "metadata": {},
   "outputs": [],
   "source": [
    "z = h(10)"
   ]
  },
  {
   "cell_type": "code",
   "execution_count": 39,
   "id": "6ce9e6d8",
   "metadata": {},
   "outputs": [
    {
     "data": {
      "text/plain": [
       "60"
      ]
     },
     "execution_count": 39,
     "metadata": {},
     "output_type": "execute_result"
    }
   ],
   "source": [
    "z * 3"
   ]
  },
  {
   "cell_type": "code",
   "execution_count": 40,
   "id": "9160767e",
   "metadata": {},
   "outputs": [
    {
     "name": "stdout",
     "output_type": "stream",
     "text": [
      "20\n"
     ]
    }
   ],
   "source": [
    "result = say(10)"
   ]
  },
  {
   "cell_type": "code",
   "execution_count": 42,
   "id": "1f369d86",
   "metadata": {},
   "outputs": [
    {
     "data": {
      "text/plain": [
       "True"
      ]
     },
     "execution_count": 42,
     "metadata": {},
     "output_type": "execute_result"
    }
   ],
   "source": [
    "result is None"
   ]
  },
  {
   "cell_type": "markdown",
   "id": "505a3d47",
   "metadata": {},
   "source": [
    "---"
   ]
  },
  {
   "cell_type": "code",
   "execution_count": null,
   "id": "deda944d",
   "metadata": {},
   "outputs": [],
   "source": []
  },
  {
   "cell_type": "markdown",
   "id": "d52326d3",
   "metadata": {},
   "source": [
    "* calculative\n",
    "* actions: input/output -- devices"
   ]
  },
  {
   "cell_type": "code",
   "execution_count": 44,
   "id": "0c7568d2",
   "metadata": {},
   "outputs": [
    {
     "name": "stdout",
     "output_type": "stream",
     "text": [
      "HELLO\n"
     ]
    }
   ],
   "source": [
    "print(\"HELLO\")"
   ]
  },
  {
   "cell_type": "code",
   "execution_count": 50,
   "id": "0faf4df5",
   "metadata": {},
   "outputs": [
    {
     "name": "stdout",
     "output_type": "stream",
     "text": [
      "What's your age?32\n"
     ]
    }
   ],
   "source": [
    "response = int(input(\"What's your age?\"))"
   ]
  },
  {
   "cell_type": "code",
   "execution_count": 51,
   "id": "1ae8c9de",
   "metadata": {},
   "outputs": [
    {
     "data": {
      "text/plain": [
       "33"
      ]
     },
     "execution_count": 51,
     "metadata": {},
     "output_type": "execute_result"
    }
   ],
   "source": [
    "response + 1"
   ]
  },
  {
   "cell_type": "code",
   "execution_count": 52,
   "id": "334f33fd",
   "metadata": {},
   "outputs": [
    {
     "data": {
      "text/plain": [
       "54"
      ]
     },
     "execution_count": 52,
     "metadata": {},
     "output_type": "execute_result"
    }
   ],
   "source": [
    "2 * 3 ** 3"
   ]
  },
  {
   "cell_type": "code",
   "execution_count": 53,
   "id": "0b8cf85c",
   "metadata": {},
   "outputs": [],
   "source": [
    "var = 2 ** 3"
   ]
  },
  {
   "cell_type": "code",
   "execution_count": null,
   "id": "c573fe01",
   "metadata": {},
   "outputs": [],
   "source": [
    "def ask():\n",
    "    print()\n",
    "    return "
   ]
  },
  {
   "cell_type": "code",
   "execution_count": 54,
   "id": "144478c2",
   "metadata": {},
   "outputs": [
    {
     "name": "stdout",
     "output_type": "stream",
     "text": [
      "Age?18\n"
     ]
    },
    {
     "data": {
      "text/plain": [
       "'18'"
      ]
     },
     "execution_count": 54,
     "metadata": {},
     "output_type": "execute_result"
    }
   ],
   "source": [
    "input(\"Age?\")"
   ]
  },
  {
   "cell_type": "code",
   "execution_count": 55,
   "id": "122966ef",
   "metadata": {},
   "outputs": [],
   "source": [
    "def calc(values):\n",
    "    return sum(values)"
   ]
  },
  {
   "cell_type": "markdown",
   "id": "97eeb754",
   "metadata": {},
   "source": [
    "---"
   ]
  },
  {
   "cell_type": "code",
   "execution_count": 56,
   "id": "1de113f6",
   "metadata": {},
   "outputs": [],
   "source": [
    "import shared"
   ]
  },
  {
   "cell_type": "code",
   "execution_count": 57,
   "id": "832fc5a8",
   "metadata": {},
   "outputs": [
    {
     "data": {
      "text/plain": [
       "[10, 20, 30]"
      ]
     },
     "execution_count": 57,
     "metadata": {},
     "output_type": "execute_result"
    }
   ],
   "source": [
    "shared.SAMPLE"
   ]
  },
  {
   "cell_type": "code",
   "execution_count": 58,
   "id": "a32b7f05",
   "metadata": {},
   "outputs": [
    {
     "data": {
      "text/plain": [
       "60"
      ]
     },
     "execution_count": 58,
     "metadata": {},
     "output_type": "execute_result"
    }
   ],
   "source": [
    "shared.calc(shared.SAMPLE)"
   ]
  },
  {
   "cell_type": "code",
   "execution_count": 59,
   "id": "b407cbb1",
   "metadata": {},
   "outputs": [
    {
     "name": "stdout",
     "output_type": "stream",
     "text": [
      "TITLE: ...\n",
      "VALUES: 60\n",
      "END\n"
     ]
    }
   ],
   "source": [
    "shared.report(shared.calc(shared.SAMPLE))"
   ]
  },
  {
   "cell_type": "code",
   "execution_count": 60,
   "id": "b3beb897",
   "metadata": {},
   "outputs": [],
   "source": [
    "from shared import *"
   ]
  },
  {
   "cell_type": "code",
   "execution_count": 61,
   "id": "7db94458",
   "metadata": {},
   "outputs": [
    {
     "name": "stdout",
     "output_type": "stream",
     "text": [
      "TITLE: ...\n",
      "VALUES: 60\n",
      "END\n"
     ]
    }
   ],
   "source": [
    "report(calc(SAMPLE))"
   ]
  },
  {
   "cell_type": "code",
   "execution_count": 62,
   "id": "f60a2bb0",
   "metadata": {},
   "outputs": [],
   "source": [
    "import shared as s"
   ]
  },
  {
   "cell_type": "code",
   "execution_count": 63,
   "id": "f8713fa7",
   "metadata": {},
   "outputs": [
    {
     "name": "stdout",
     "output_type": "stream",
     "text": [
      "TITLE: ...\n",
      "VALUES: 60\n",
      "END\n"
     ]
    }
   ],
   "source": [
    "s.report(s.calc(s.SAMPLE))"
   ]
  },
  {
   "cell_type": "markdown",
   "id": "6d784b0c",
   "metadata": {},
   "source": [
    "---"
   ]
  },
  {
   "cell_type": "markdown",
   "id": "839d6e38",
   "metadata": {},
   "source": [
    "## Aside"
   ]
  },
  {
   "cell_type": "code",
   "execution_count": 64,
   "id": "e543a916",
   "metadata": {},
   "outputs": [],
   "source": [
    "import pickle"
   ]
  },
  {
   "cell_type": "code",
   "execution_count": 65,
   "id": "0e14cddb",
   "metadata": {},
   "outputs": [],
   "source": [
    "from sklearn.linear_model import LinearRegression"
   ]
  },
  {
   "cell_type": "code",
   "execution_count": 69,
   "id": "ab7356fd",
   "metadata": {},
   "outputs": [],
   "source": [
    "m = LinearRegression().fit(\n",
    "    [[1], [2], [3], [4], [5]],\n",
    "    [3, 5, 7, 9, 11]\n",
    ")"
   ]
  },
  {
   "cell_type": "code",
   "execution_count": 71,
   "id": "40ac6666",
   "metadata": {},
   "outputs": [
    {
     "data": {
      "text/plain": [
       "1.0"
      ]
     },
     "execution_count": 71,
     "metadata": {},
     "output_type": "execute_result"
    }
   ],
   "source": [
    "m.intercept_"
   ]
  },
  {
   "cell_type": "code",
   "execution_count": 74,
   "id": "668245b8",
   "metadata": {},
   "outputs": [
    {
     "data": {
      "text/plain": [
       "array([2.])"
      ]
     },
     "execution_count": 74,
     "metadata": {},
     "output_type": "execute_result"
    }
   ],
   "source": [
    "m.coef_"
   ]
  },
  {
   "cell_type": "code",
   "execution_count": 76,
   "id": "155273a5",
   "metadata": {},
   "outputs": [],
   "source": [
    "serialized = pickle.dumps(m)"
   ]
  },
  {
   "cell_type": "code",
   "execution_count": 79,
   "id": "4a5e0b61",
   "metadata": {},
   "outputs": [],
   "source": [
    "model = pickle.loads(serialized)"
   ]
  },
  {
   "cell_type": "code",
   "execution_count": 80,
   "id": "19054ae6",
   "metadata": {},
   "outputs": [
    {
     "data": {
      "text/plain": [
       "array([41., 61.])"
      ]
     },
     "execution_count": 80,
     "metadata": {},
     "output_type": "execute_result"
    }
   ],
   "source": [
    "model.predict([\n",
    "    [20],\n",
    "    [30]\n",
    "])"
   ]
  },
  {
   "cell_type": "code",
   "execution_count": null,
   "id": "7f5f1cc5",
   "metadata": {},
   "outputs": [],
   "source": []
  }
 ],
 "metadata": {
  "kernelspec": {
   "display_name": "Python 3.9",
   "language": "python",
   "name": "python3"
  },
  "language_info": {
   "codemirror_mode": {
    "name": "ipython",
    "version": 3
   },
   "file_extension": ".py",
   "mimetype": "text/x-python",
   "name": "python",
   "nbconvert_exporter": "python",
   "pygments_lexer": "ipython3",
   "version": "3.9.6"
  }
 },
 "nbformat": 4,
 "nbformat_minor": 5
}
