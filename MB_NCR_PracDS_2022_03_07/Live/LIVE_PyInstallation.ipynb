{
 "cells": [
  {
   "cell_type": "markdown",
   "id": "eaac6630",
   "metadata": {},
   "source": [
    "# Packages & Installing Python Packages"
   ]
  },
  {
   "cell_type": "markdown",
   "id": "69f3d5ad",
   "metadata": {},
   "source": [
    "## Running OS Commands "
   ]
  },
  {
   "cell_type": "markdown",
   "id": "ca1e5826",
   "metadata": {},
   "source": [
    "`!` in a notebook runs commands from the command-line (shell, terminal,...) which are operating system programs,"
   ]
  },
  {
   "cell_type": "code",
   "execution_count": 1,
   "id": "84ea2db8",
   "metadata": {},
   "outputs": [
    {
     "name": "stdout",
     "output_type": "stream",
     "text": [
      "1_MyReport.ipynb          3_LIVE_FunProc.ipynb      LIVE_PyInstallation.ipynb\r\n",
      "2_LIVE_IntroPython.ipynb  IntroDataScience.drawio\r\n"
     ]
    }
   ],
   "source": [
    "!ls"
   ]
  },
  {
   "cell_type": "code",
   "execution_count": 2,
   "id": "0c868e44",
   "metadata": {},
   "outputs": [
    {
     "name": "stdout",
     "output_type": "stream",
     "text": [
      "zsh:1: command not found: dir\r\n"
     ]
    }
   ],
   "source": [
    "!dir"
   ]
  },
  {
   "cell_type": "markdown",
   "id": "8e56bb21",
   "metadata": {},
   "source": [
    "## `pip` Package Installer for Python "
   ]
  },
  {
   "cell_type": "markdown",
   "id": "433b5e05",
   "metadata": {},
   "source": [
    "We can run `pip` from the terminal, \n",
    "```bash\n",
    "\n",
    "(py39) michael@mjb-mbpro ~ % pip install requests\n",
    "Requirement already satisfied: requests in /opt/anaconda3/envs/py39/lib/python3.9/site-packages (2.27.1)\n",
    "\n",
    "```"
   ]
  },
  {
   "cell_type": "markdown",
   "id": "03efb375",
   "metadata": {},
   "source": [
    "Or in a notebook using `!`, "
   ]
  },
  {
   "cell_type": "code",
   "execution_count": 3,
   "id": "5929d30b",
   "metadata": {},
   "outputs": [
    {
     "name": "stdout",
     "output_type": "stream",
     "text": [
      "Requirement already satisfied: requests in /opt/anaconda3/envs/py39/lib/python3.9/site-packages (2.27.1)\r\n",
      "Requirement already satisfied: certifi>=2017.4.17 in /opt/anaconda3/envs/py39/lib/python3.9/site-packages (from requests) (2021.10.8)\r\n",
      "Requirement already satisfied: charset-normalizer~=2.0.0 in /opt/anaconda3/envs/py39/lib/python3.9/site-packages (from requests) (2.0.10)\r\n",
      "Requirement already satisfied: idna<4,>=2.5 in /opt/anaconda3/envs/py39/lib/python3.9/site-packages (from requests) (3.1)\r\n",
      "Requirement already satisfied: urllib3<1.27,>=1.21.1 in /opt/anaconda3/envs/py39/lib/python3.9/site-packages (from requests) (1.26.8)\r\n"
     ]
    }
   ],
   "source": [
    "!pip install requests"
   ]
  },
  {
   "cell_type": "code",
   "execution_count": 11,
   "id": "d9aba7ad",
   "metadata": {},
   "outputs": [
    {
     "name": "stdout",
     "output_type": "stream",
     "text": [
      "Requirement already satisfied: networkx in /opt/anaconda3/envs/py39/lib/python3.9/site-packages (2.6.3)\r\n"
     ]
    }
   ],
   "source": [
    "!pip install networkx"
   ]
  },
  {
   "cell_type": "markdown",
   "id": "88df3e85",
   "metadata": {},
   "source": [
    "---"
   ]
  },
  {
   "cell_type": "markdown",
   "id": "11e52282",
   "metadata": {},
   "source": [
    "## Example: `requests`"
   ]
  },
  {
   "cell_type": "code",
   "execution_count": 10,
   "id": "cf2d0dff",
   "metadata": {},
   "outputs": [
    {
     "name": "stdout",
     "output_type": "stream",
     "text": [
      "Penzance 50.11861,-5.53723\n",
      "\n",
      "Falmouth 50.151001,-5.07832\n",
      "\n",
      "St Ives 50.21032,-5.48569\n",
      "\n",
      "Truro 50.263691,-5.054610\n",
      "\n",
      "Plymouth 50.375801,-4.136890\n",
      "\n",
      "Exeter 50.720760,-3.515340\n",
      "\n",
      "Sidmouth 50.687439,-3.23757\n",
      "\n",
      "Swansea 51.623150,-3.940930\n",
      "\n",
      "Cardiff 51.481251,-3.180730\n",
      "\n",
      "Bristol 51.453732,-2.591560\n",
      "\n"
     ]
    }
   ],
   "source": [
    "import requests\n",
    "\n",
    "response = requests.get(\"https://www.metaweather.com/api/location/search/?lattlong=50.068,-5.316\")\n",
    "\n",
    "data = response.json()\n",
    "\n",
    "for entry in data:\n",
    "    print(entry[\"title\"], entry[\"latt_long\"])\n",
    "    print()"
   ]
  },
  {
   "cell_type": "code",
   "execution_count": null,
   "id": "09a66c15",
   "metadata": {},
   "outputs": [],
   "source": []
  }
 ],
 "metadata": {
  "kernelspec": {
   "display_name": "Python 3.9",
   "language": "python",
   "name": "python3"
  },
  "language_info": {
   "codemirror_mode": {
    "name": "ipython",
    "version": 3
   },
   "file_extension": ".py",
   "mimetype": "text/x-python",
   "name": "python",
   "nbconvert_exporter": "python",
   "pygments_lexer": "ipython3",
   "version": "3.9.6"
  }
 },
 "nbformat": 4,
 "nbformat_minor": 5
}
