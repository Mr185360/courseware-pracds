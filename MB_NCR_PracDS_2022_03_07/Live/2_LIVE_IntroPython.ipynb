{
 "cells": [
  {
   "cell_type": "markdown",
   "id": "6c8aa053",
   "metadata": {},
   "source": [
    "# Intro to Python\n",
    "\n",
    "### EXAMPLE: Clustering"
   ]
  },
  {
   "cell_type": "markdown",
   "id": "ac48b289",
   "metadata": {},
   "source": [
    "## What is Clustering?"
   ]
  },
  {
   "cell_type": "markdown",
   "id": "edde6304",
   "metadata": {},
   "source": [
    "An algorithm accepts a dataset Din which contains observable $x$s, and ouputs Dout which contains (x, labels). "
   ]
  },
  {
   "cell_type": "markdown",
   "id": "13bc33b1",
   "metadata": {},
   "source": [
    "$\\mathcal{A}(x \\in \\mathbb{D_{in}}) \\rightarrow \\{(x, label), \\dots)\\} \\in  \\mathbb{D_{out}}$"
   ]
  },
  {
   "cell_type": "markdown",
   "id": "dfc6d859",
   "metadata": {},
   "source": [
    "$x \\in \\mathbb{R} \\text{ aprox. } \\mathbb{float}$\n",
    "\n",
    "$y \\in \\mathbb{Z} \\text{ aprox. } \\mathbb{int}$"
   ]
  },
  {
   "cell_type": "code",
   "execution_count": 5,
   "id": "0262003b",
   "metadata": {},
   "outputs": [],
   "source": [
    "info_michael = \"Michael\"\n",
    "x_michael_age = 18.5 \n",
    "label_michael = 1\n",
    "\n",
    "info_eve = \"Michael\"\n",
    "x_eve_age = 21.2\n",
    "label_eve = 1\n",
    "\n",
    "info_alice = \"Alice\"\n",
    "x_alice_age = 33.1\n",
    "label_alice = 2"
   ]
  },
  {
   "cell_type": "code",
   "execution_count": 4,
   "id": "75468977",
   "metadata": {},
   "outputs": [
    {
     "data": {
      "text/plain": [
       "float"
      ]
     },
     "execution_count": 4,
     "metadata": {},
     "output_type": "execute_result"
    }
   ],
   "source": [
    "type(1.1)"
   ]
  },
  {
   "cell_type": "markdown",
   "id": "5f5892df",
   "metadata": {},
   "source": [
    "---"
   ]
  },
  {
   "cell_type": "markdown",
   "id": "795f03fe",
   "metadata": {},
   "source": [
    "## Datasets"
   ]
  },
  {
   "cell_type": "markdown",
   "id": "71f0c511",
   "metadata": {},
   "source": [
    "* lists"
   ]
  },
  {
   "cell_type": "code",
   "execution_count": 18,
   "id": "ea124cc7",
   "metadata": {},
   "outputs": [],
   "source": [
    "x = [18, 21, 33, 45, 60]\n",
    "labels = [1, 1, 2, 2, 2]"
   ]
  },
  {
   "cell_type": "code",
   "execution_count": 7,
   "id": "0f66d789",
   "metadata": {},
   "outputs": [
    {
     "data": {
      "text/plain": [
       "18"
      ]
     },
     "execution_count": 7,
     "metadata": {},
     "output_type": "execute_result"
    }
   ],
   "source": [
    "x[0]"
   ]
  },
  {
   "cell_type": "code",
   "execution_count": 8,
   "id": "43eec6c1",
   "metadata": {},
   "outputs": [
    {
     "data": {
      "text/plain": [
       "60"
      ]
     },
     "execution_count": 8,
     "metadata": {},
     "output_type": "execute_result"
    }
   ],
   "source": [
    "x[-1]"
   ]
  },
  {
   "cell_type": "code",
   "execution_count": 9,
   "id": "f1ae1578",
   "metadata": {},
   "outputs": [
    {
     "data": {
      "text/plain": [
       "33"
      ]
     },
     "execution_count": 9,
     "metadata": {},
     "output_type": "execute_result"
    }
   ],
   "source": [
    "x[2]"
   ]
  },
  {
   "cell_type": "code",
   "execution_count": 10,
   "id": "63fc0c8c",
   "metadata": {},
   "outputs": [
    {
     "data": {
      "text/plain": [
       "33"
      ]
     },
     "execution_count": 10,
     "metadata": {},
     "output_type": "execute_result"
    }
   ],
   "source": [
    "x[-3]"
   ]
  },
  {
   "cell_type": "markdown",
   "id": "2f72beab",
   "metadata": {},
   "source": [
    "* slices"
   ]
  },
  {
   "cell_type": "code",
   "execution_count": 11,
   "id": "9a527cb4",
   "metadata": {},
   "outputs": [
    {
     "data": {
      "text/plain": [
       "[18, 21]"
      ]
     },
     "execution_count": 11,
     "metadata": {},
     "output_type": "execute_result"
    }
   ],
   "source": [
    "x[0:2]"
   ]
  },
  {
   "cell_type": "code",
   "execution_count": 12,
   "id": "a27c7cf6",
   "metadata": {},
   "outputs": [
    {
     "data": {
      "text/plain": [
       "[18, 21]"
      ]
     },
     "execution_count": 12,
     "metadata": {},
     "output_type": "execute_result"
    }
   ],
   "source": [
    "x[:2]"
   ]
  },
  {
   "cell_type": "code",
   "execution_count": 13,
   "id": "d4159bab",
   "metadata": {},
   "outputs": [
    {
     "data": {
      "text/plain": [
       "[45, 60]"
      ]
     },
     "execution_count": 13,
     "metadata": {},
     "output_type": "execute_result"
    }
   ],
   "source": [
    "x[3:]"
   ]
  },
  {
   "cell_type": "code",
   "execution_count": 15,
   "id": "ee57e859",
   "metadata": {},
   "outputs": [
    {
     "data": {
      "text/plain": [
       "[45, 60]"
      ]
     },
     "execution_count": 15,
     "metadata": {},
     "output_type": "execute_result"
    }
   ],
   "source": [
    "x[-2:]"
   ]
  },
  {
   "cell_type": "code",
   "execution_count": 16,
   "id": "754b6289",
   "metadata": {},
   "outputs": [
    {
     "data": {
      "text/plain": [
       "[18, 21, 33, 45, 60]"
      ]
     },
     "execution_count": 16,
     "metadata": {},
     "output_type": "execute_result"
    }
   ],
   "source": [
    "x"
   ]
  },
  {
   "cell_type": "code",
   "execution_count": 22,
   "id": "7b483c98",
   "metadata": {},
   "outputs": [
    {
     "data": {
      "text/plain": [
       "[1, 1, 2, 2, 2]"
      ]
     },
     "execution_count": 22,
     "metadata": {},
     "output_type": "execute_result"
    }
   ],
   "source": [
    "labels"
   ]
  },
  {
   "cell_type": "code",
   "execution_count": 21,
   "id": "d3504055",
   "metadata": {},
   "outputs": [
    {
     "data": {
      "text/plain": [
       "[1, 2]"
      ]
     },
     "execution_count": 21,
     "metadata": {},
     "output_type": "execute_result"
    }
   ],
   "source": [
    "labels[-4:-2]"
   ]
  },
  {
   "cell_type": "markdown",
   "id": "857174c9",
   "metadata": {},
   "source": [
    "`sequences[ start : end ]` \n",
    "\n",
    "select including `start` *until* `end`"
   ]
  },
  {
   "cell_type": "markdown",
   "id": "2cc03960",
   "metadata": {},
   "source": [
    "---"
   ]
  },
  {
   "cell_type": "markdown",
   "id": "7698b3ef",
   "metadata": {},
   "source": [
    "* tuple"
   ]
  },
  {
   "cell_type": "code",
   "execution_count": 23,
   "id": "6b70260c",
   "metadata": {},
   "outputs": [],
   "source": [
    "record = (1, \"Micahel\", \"UK\")"
   ]
  },
  {
   "cell_type": "code",
   "execution_count": 25,
   "id": "a9fcc07d",
   "metadata": {},
   "outputs": [
    {
     "data": {
      "text/plain": [
       "'UK'"
      ]
     },
     "execution_count": 25,
     "metadata": {},
     "output_type": "execute_result"
    }
   ],
   "source": [
    "record[-1]"
   ]
  },
  {
   "cell_type": "code",
   "execution_count": 27,
   "id": "75fb9010",
   "metadata": {},
   "outputs": [],
   "source": [
    "x.append(80)\n",
    "labels.append(2)"
   ]
  },
  {
   "cell_type": "code",
   "execution_count": 29,
   "id": "cb1c98b9",
   "metadata": {},
   "outputs": [
    {
     "name": "stdout",
     "output_type": "stream",
     "text": [
      "[18, 21, 33, 45, 60, 80] [1, 1, 2, 2, 2, 2]\n"
     ]
    }
   ],
   "source": [
    "print(x, labels)"
   ]
  },
  {
   "cell_type": "code",
   "execution_count": 30,
   "id": "0fddbd94",
   "metadata": {},
   "outputs": [
    {
     "ename": "AttributeError",
     "evalue": "'tuple' object has no attribute 'append'",
     "output_type": "error",
     "traceback": [
      "\u001b[0;31m---------------------------------------------------------------------------\u001b[0m",
      "\u001b[0;31mAttributeError\u001b[0m                            Traceback (most recent call last)",
      "\u001b[0;32m<ipython-input-30-fd3bfd5771bb>\u001b[0m in \u001b[0;36m<module>\u001b[0;34m\u001b[0m\n\u001b[0;32m----> 1\u001b[0;31m \u001b[0mrecord\u001b[0m\u001b[0;34m.\u001b[0m\u001b[0mappend\u001b[0m\u001b[0;34m(\u001b[0m\u001b[0;36m2\u001b[0m\u001b[0;34m)\u001b[0m\u001b[0;34m\u001b[0m\u001b[0;34m\u001b[0m\u001b[0m\n\u001b[0m",
      "\u001b[0;31mAttributeError\u001b[0m: 'tuple' object has no attribute 'append'"
     ]
    }
   ],
   "source": [
    "record.append(2)"
   ]
  },
  {
   "cell_type": "code",
   "execution_count": 31,
   "id": "9f2afea3",
   "metadata": {},
   "outputs": [],
   "source": [
    "dataset = []\n",
    "dataset.append( (1, \"Micahel\", \"UK\") )\n",
    "dataset.append( (2, \"Aice\", \"UK\") )\n",
    "dataset.append( (3, \"Eve\", \"FR\") )"
   ]
  },
  {
   "cell_type": "code",
   "execution_count": 32,
   "id": "46eaab09",
   "metadata": {},
   "outputs": [
    {
     "data": {
      "text/plain": [
       "[(1, 'Micahel', 'UK'), (2, 'Aice', 'UK'), (3, 'Eve', 'FR')]"
      ]
     },
     "execution_count": 32,
     "metadata": {},
     "output_type": "execute_result"
    }
   ],
   "source": [
    "dataset"
   ]
  },
  {
   "cell_type": "code",
   "execution_count": 33,
   "id": "7c757d9d",
   "metadata": {},
   "outputs": [],
   "source": [
    "dataset = [(1, 'Micahel', 'UK'), (2, 'Aice', 'UK'), (3, 'Eve', 'FR')]"
   ]
  },
  {
   "cell_type": "code",
   "execution_count": 35,
   "id": "5bb78eba",
   "metadata": {},
   "outputs": [
    {
     "data": {
      "text/plain": [
       "(1, 'Micahel', 'UK')"
      ]
     },
     "execution_count": 35,
     "metadata": {},
     "output_type": "execute_result"
    }
   ],
   "source": [
    "dataset[0]"
   ]
  },
  {
   "cell_type": "code",
   "execution_count": 36,
   "id": "802ef385",
   "metadata": {},
   "outputs": [
    {
     "data": {
      "text/plain": [
       "'Micahel'"
      ]
     },
     "execution_count": 36,
     "metadata": {},
     "output_type": "execute_result"
    }
   ],
   "source": [
    "dataset[0][1]"
   ]
  },
  {
   "cell_type": "code",
   "execution_count": 37,
   "id": "a8373c58",
   "metadata": {},
   "outputs": [
    {
     "data": {
      "text/plain": [
       "3"
      ]
     },
     "execution_count": 37,
     "metadata": {},
     "output_type": "execute_result"
    }
   ],
   "source": [
    "len(dataset)"
   ]
  },
  {
   "cell_type": "code",
   "execution_count": 38,
   "id": "89e0a5fb",
   "metadata": {},
   "outputs": [
    {
     "data": {
      "text/plain": [
       "[18, 21, 33, 45, 60, 80]"
      ]
     },
     "execution_count": 38,
     "metadata": {},
     "output_type": "execute_result"
    }
   ],
   "source": [
    "x"
   ]
  },
  {
   "cell_type": "code",
   "execution_count": 39,
   "id": "bac4c3a0",
   "metadata": {},
   "outputs": [
    {
     "data": {
      "text/plain": [
       "6"
      ]
     },
     "execution_count": 39,
     "metadata": {},
     "output_type": "execute_result"
    }
   ],
   "source": [
    "len(x)"
   ]
  },
  {
   "cell_type": "code",
   "execution_count": 40,
   "id": "43ef05a6",
   "metadata": {},
   "outputs": [
    {
     "data": {
      "text/plain": [
       "257"
      ]
     },
     "execution_count": 40,
     "metadata": {},
     "output_type": "execute_result"
    }
   ],
   "source": [
    "sum(x)"
   ]
  },
  {
   "cell_type": "code",
   "execution_count": 41,
   "id": "2afe5373",
   "metadata": {},
   "outputs": [
    {
     "data": {
      "text/plain": [
       "42.833333333333336"
      ]
     },
     "execution_count": 41,
     "metadata": {},
     "output_type": "execute_result"
    }
   ],
   "source": [
    "sum(x)/len(x)"
   ]
  },
  {
   "cell_type": "markdown",
   "id": "34c0cb14",
   "metadata": {},
   "source": [
    "---"
   ]
  },
  {
   "cell_type": "code",
   "execution_count": 45,
   "id": "4056d793",
   "metadata": {},
   "outputs": [
    {
     "data": {
      "text/plain": [
       "[18, 21, 33, 45, 60, 80]"
      ]
     },
     "execution_count": 45,
     "metadata": {},
     "output_type": "execute_result"
    }
   ],
   "source": [
    "x"
   ]
  },
  {
   "cell_type": "code",
   "execution_count": 44,
   "id": "76534ebd",
   "metadata": {},
   "outputs": [
    {
     "ename": "TypeError",
     "evalue": "can only concatenate list (not \"int\") to list",
     "output_type": "error",
     "traceback": [
      "\u001b[0;31m---------------------------------------------------------------------------\u001b[0m",
      "\u001b[0;31mTypeError\u001b[0m                                 Traceback (most recent call last)",
      "\u001b[0;32m<ipython-input-44-2c7a9192c558>\u001b[0m in \u001b[0;36m<module>\u001b[0;34m\u001b[0m\n\u001b[0;32m----> 1\u001b[0;31m \u001b[0mx\u001b[0m \u001b[0;34m+\u001b[0m \u001b[0;36m2\u001b[0m\u001b[0;34m\u001b[0m\u001b[0;34m\u001b[0m\u001b[0m\n\u001b[0m",
      "\u001b[0;31mTypeError\u001b[0m: can only concatenate list (not \"int\") to list"
     ]
    }
   ],
   "source": [
    "x + 2"
   ]
  },
  {
   "cell_type": "code",
   "execution_count": 47,
   "id": "1b6e9951",
   "metadata": {},
   "outputs": [],
   "source": [
    "new_list = []\n",
    "\n",
    "for entry in x:\n",
    "    new_entry = entry + 2\n",
    "    \n",
    "    new_list.append(  new_entry )"
   ]
  },
  {
   "cell_type": "code",
   "execution_count": 49,
   "id": "9a4c44d9",
   "metadata": {},
   "outputs": [
    {
     "data": {
      "text/plain": [
       "[18, 21, 33, 45, 60, 80]"
      ]
     },
     "execution_count": 49,
     "metadata": {},
     "output_type": "execute_result"
    }
   ],
   "source": [
    "x"
   ]
  },
  {
   "cell_type": "code",
   "execution_count": 48,
   "id": "a4716f8e",
   "metadata": {},
   "outputs": [
    {
     "data": {
      "text/plain": [
       "[20, 23, 35, 47, 62, 82]"
      ]
     },
     "execution_count": 48,
     "metadata": {},
     "output_type": "execute_result"
    }
   ],
   "source": [
    "new_list"
   ]
  },
  {
   "cell_type": "markdown",
   "id": "d36b547c",
   "metadata": {},
   "source": [
    "---"
   ]
  },
  {
   "cell_type": "code",
   "execution_count": 50,
   "id": "8a3a8e86",
   "metadata": {},
   "outputs": [],
   "source": [
    "import numpy as np"
   ]
  },
  {
   "cell_type": "code",
   "execution_count": 52,
   "id": "136f24a4",
   "metadata": {},
   "outputs": [],
   "source": [
    "a = np.array(x)"
   ]
  },
  {
   "cell_type": "code",
   "execution_count": 54,
   "id": "1b6dc538",
   "metadata": {},
   "outputs": [
    {
     "data": {
      "text/plain": [
       "array([20, 23, 35, 47, 62, 82])"
      ]
     },
     "execution_count": 54,
     "metadata": {},
     "output_type": "execute_result"
    }
   ],
   "source": [
    "a + 2"
   ]
  },
  {
   "cell_type": "code",
   "execution_count": 55,
   "id": "9293d021",
   "metadata": {},
   "outputs": [
    {
     "data": {
      "text/plain": [
       "array([18, 21, 33, 45, 60, 80])"
      ]
     },
     "execution_count": 55,
     "metadata": {},
     "output_type": "execute_result"
    }
   ],
   "source": [
    "a"
   ]
  },
  {
   "cell_type": "markdown",
   "id": "5d5a51ac",
   "metadata": {},
   "source": [
    "---\n",
    "# Part 2"
   ]
  },
  {
   "cell_type": "code",
   "execution_count": 56,
   "id": "f2045d3f",
   "metadata": {},
   "outputs": [
    {
     "data": {
      "text/plain": [
       "[18, 21, 33, 45, 60, 80]"
      ]
     },
     "execution_count": 56,
     "metadata": {},
     "output_type": "execute_result"
    }
   ],
   "source": [
    "x"
   ]
  },
  {
   "cell_type": "code",
   "execution_count": 60,
   "id": "b8210f95",
   "metadata": {},
   "outputs": [
    {
     "name": "stdout",
     "output_type": "stream",
     "text": [
      "19\n",
      "22\n",
      "34\n"
     ]
    }
   ],
   "source": [
    "entry = x[0]\n",
    "print(entry + 1)\n",
    "\n",
    "entry = x[1]\n",
    "print(entry + 1)\n",
    "\n",
    "\n",
    "entry = x[2]\n",
    "print(entry + 1)"
   ]
  },
  {
   "cell_type": "code",
   "execution_count": 62,
   "id": "359ff9be",
   "metadata": {},
   "outputs": [
    {
     "name": "stdout",
     "output_type": "stream",
     "text": [
      "19\n",
      "22\n",
      "34\n",
      "46\n",
      "61\n",
      "81\n"
     ]
    }
   ],
   "source": [
    "for entry in x:\n",
    "    print(   entry + 1 )"
   ]
  },
  {
   "cell_type": "code",
   "execution_count": 65,
   "id": "638d10ae",
   "metadata": {},
   "outputs": [
    {
     "name": "stdout",
     "output_type": "stream",
     "text": [
      "[324, 441, 1089, 2025, 3600, 6400]\n"
     ]
    }
   ],
   "source": [
    "new = []\n",
    "\n",
    "for e in x:\n",
    "    new.append( e ** 2 )\n",
    "    \n",
    "print(new)"
   ]
  },
  {
   "cell_type": "code",
   "execution_count": 66,
   "id": "ef38d1c8",
   "metadata": {},
   "outputs": [
    {
     "name": "stdout",
     "output_type": "stream",
     "text": [
      "0\n",
      "1\n",
      "2\n"
     ]
    }
   ],
   "source": [
    "for i in range(3):\n",
    "    print(i)"
   ]
  },
  {
   "cell_type": "code",
   "execution_count": 68,
   "id": "a6cade39",
   "metadata": {},
   "outputs": [
    {
     "name": "stdout",
     "output_type": "stream",
     "text": [
      "0\n",
      "1\n",
      "2\n",
      "3\n",
      "4\n",
      "5\n",
      "6\n",
      "7\n",
      "8\n",
      "9\n"
     ]
    }
   ],
   "source": [
    "for i in range(0, 10):\n",
    "    print(i)"
   ]
  },
  {
   "cell_type": "code",
   "execution_count": 69,
   "id": "141dd3c6",
   "metadata": {},
   "outputs": [
    {
     "name": "stdout",
     "output_type": "stream",
     "text": [
      "[18, 21, 33, 45, 60, 80] [1, 1, 2, 2, 2, 2]\n"
     ]
    }
   ],
   "source": [
    "print(x, labels)"
   ]
  },
  {
   "cell_type": "code",
   "execution_count": 72,
   "id": "9f45555d",
   "metadata": {},
   "outputs": [
    {
     "name": "stdout",
     "output_type": "stream",
     "text": [
      "1.8 0\n",
      "2.1 0\n",
      "3.3 1\n",
      "4.5 1\n",
      "6.0 1\n",
      "8.0 1\n"
     ]
    }
   ],
   "source": [
    "for x_entry, label_entry in zip(x, labels):\n",
    "    print(x_entry/10, label_entry - 1)"
   ]
  },
  {
   "cell_type": "markdown",
   "id": "2b62780f",
   "metadata": {},
   "source": [
    "----"
   ]
  },
  {
   "cell_type": "code",
   "execution_count": 73,
   "id": "d0c2c2f9",
   "metadata": {},
   "outputs": [
    {
     "data": {
      "text/plain": [
       "[18, 21, 33, 45, 60, 80]"
      ]
     },
     "execution_count": 73,
     "metadata": {},
     "output_type": "execute_result"
    }
   ],
   "source": [
    "x"
   ]
  },
  {
   "cell_type": "code",
   "execution_count": 79,
   "id": "101a3fe9",
   "metadata": {},
   "outputs": [
    {
     "name": "stdout",
     "output_type": "stream",
     "text": [
      "MAYBE \n",
      "MAYBE \n",
      "MAYBE ALLOWED2\n"
     ]
    }
   ],
   "source": [
    "if x[0] > 18:\n",
    "    print(\"ALLOWED\")\n",
    "elif x[-1] < 80:\n",
    "    print(\"MAYBE \")\n",
    "    print(\"MAYBE \")\n",
    "    print(\"MAYBE ALLOWED1\")\n",
    "elif x[-2] <= 80:\n",
    "    print(\"MAYBE \")\n",
    "    print(\"MAYBE \")\n",
    "    print(\"MAYBE ALLOWED2\")\n",
    "elif x[-3] <= 80:\n",
    "    print(\"MAYBE \")\n",
    "    print(\"MAYBE \")\n",
    "    print(\"MAYBE ALLOWED3\")\n",
    "else:\n",
    "    print(\"DENIED\")"
   ]
  },
  {
   "cell_type": "markdown",
   "id": "6adb4161",
   "metadata": {},
   "source": [
    "$$\\mathcal{A}(x \\in D) \\rightarrow \\{(x, label)\\} \\dots \\in L$$"
   ]
  },
  {
   "cell_type": "code",
   "execution_count": 93,
   "id": "5d3913e6",
   "metadata": {},
   "outputs": [],
   "source": [
    "from statistics import mean"
   ]
  },
  {
   "cell_type": "code",
   "execution_count": 96,
   "id": "e894fe17",
   "metadata": {},
   "outputs": [],
   "source": [
    "import statistics"
   ]
  },
  {
   "cell_type": "code",
   "execution_count": 97,
   "id": "6817befc",
   "metadata": {},
   "outputs": [
    {
     "data": {
      "text/plain": [
       "4.5"
      ]
     },
     "execution_count": 97,
     "metadata": {},
     "output_type": "execute_result"
    }
   ],
   "source": [
    "statistics.mean(range(10))"
   ]
  },
  {
   "cell_type": "code",
   "execution_count": 98,
   "id": "12010c94",
   "metadata": {},
   "outputs": [],
   "source": [
    "import statistics as st"
   ]
  },
  {
   "cell_type": "code",
   "execution_count": 99,
   "id": "4721ff55",
   "metadata": {},
   "outputs": [
    {
     "data": {
      "text/plain": [
       "2"
      ]
     },
     "execution_count": 99,
     "metadata": {},
     "output_type": "execute_result"
    }
   ],
   "source": [
    "st.mode([2, 2, 3, 4, 5])"
   ]
  },
  {
   "cell_type": "code",
   "execution_count": 94,
   "id": "9c471599",
   "metadata": {},
   "outputs": [],
   "source": [
    "D = [18, 21, 33, 45, 60, 80]\n",
    "L = []\n",
    "\n",
    "for x in D:\n",
    "    midpoint = mean(D)       # sum(D)/len(D)\n",
    "    if x <= midpoint:\n",
    "        L.append(1)\n",
    "    else:\n",
    "        L.append(2)"
   ]
  },
  {
   "cell_type": "code",
   "execution_count": 107,
   "id": "f1d2b206",
   "metadata": {},
   "outputs": [],
   "source": [
    "groups = {}\n",
    "\n",
    "for x in D:\n",
    "    midpoint = mean(D)       \n",
    "    if x <= midpoint:\n",
    "        groups[x] = 1\n",
    "    else:\n",
    "        groups[x] = 2"
   ]
  },
  {
   "cell_type": "code",
   "execution_count": 111,
   "id": "a4676151",
   "metadata": {},
   "outputs": [
    {
     "data": {
      "text/plain": [
       "{18: 1, 21: 1, 33: 1, 45: 2, 60: 2, 80: 2}"
      ]
     },
     "execution_count": 111,
     "metadata": {},
     "output_type": "execute_result"
    }
   ],
   "source": [
    "groups"
   ]
  },
  {
   "cell_type": "code",
   "execution_count": 103,
   "id": "f861760b",
   "metadata": {},
   "outputs": [],
   "source": [
    "words = {\n",
    "    # key    :  value\n",
    "    \"happy\"  : \"positive mood\",\n",
    "    \"sad\"    : \"negative mood\"\n",
    "}"
   ]
  },
  {
   "cell_type": "code",
   "execution_count": 101,
   "id": "d792d69b",
   "metadata": {},
   "outputs": [
    {
     "data": {
      "text/plain": [
       "'positive mood'"
      ]
     },
     "execution_count": 101,
     "metadata": {},
     "output_type": "execute_result"
    }
   ],
   "source": [
    "words[\"happy\"]"
   ]
  },
  {
   "cell_type": "code",
   "execution_count": 95,
   "id": "47eedb8a",
   "metadata": {},
   "outputs": [
    {
     "data": {
      "text/plain": [
       "[18, 21, 33, 45, 60, 80]"
      ]
     },
     "execution_count": 95,
     "metadata": {},
     "output_type": "execute_result"
    }
   ],
   "source": [
    "D"
   ]
  },
  {
   "cell_type": "code",
   "execution_count": 92,
   "id": "76786ccf",
   "metadata": {},
   "outputs": [
    {
     "data": {
      "text/plain": [
       "[1, 1, 1, 2, 2, 2]"
      ]
     },
     "execution_count": 92,
     "metadata": {},
     "output_type": "execute_result"
    }
   ],
   "source": [
    "L"
   ]
  },
  {
   "cell_type": "code",
   "execution_count": 84,
   "id": "744aef76",
   "metadata": {},
   "outputs": [
    {
     "data": {
      "text/plain": [
       "[18, 21, 33, 45, 60, 80]"
      ]
     },
     "execution_count": 84,
     "metadata": {},
     "output_type": "execute_result"
    }
   ],
   "source": [
    "x"
   ]
  },
  {
   "cell_type": "code",
   "execution_count": 82,
   "id": "8e95881d",
   "metadata": {},
   "outputs": [
    {
     "data": {
      "text/plain": [
       "[1, 1, 2, 2, 2, 2]"
      ]
     },
     "execution_count": 82,
     "metadata": {},
     "output_type": "execute_result"
    }
   ],
   "source": [
    "labels"
   ]
  },
  {
   "cell_type": "markdown",
   "id": "7229835f",
   "metadata": {},
   "source": [
    "---"
   ]
  },
  {
   "cell_type": "code",
   "execution_count": 114,
   "id": "d52e9cda",
   "metadata": {},
   "outputs": [
    {
     "data": {
      "text/plain": [
       "True"
      ]
     },
     "execution_count": 114,
     "metadata": {},
     "output_type": "execute_result"
    }
   ],
   "source": [
    "type(1) == int"
   ]
  },
  {
   "cell_type": "code",
   "execution_count": 113,
   "id": "698ef67e",
   "metadata": {},
   "outputs": [
    {
     "data": {
      "text/plain": [
       "True"
      ]
     },
     "execution_count": 113,
     "metadata": {},
     "output_type": "execute_result"
    }
   ],
   "source": [
    "isinstance(1, int)"
   ]
  },
  {
   "cell_type": "code",
   "execution_count": 115,
   "id": "1c275445",
   "metadata": {},
   "outputs": [
    {
     "data": {
      "text/plain": [
       "True"
      ]
     },
     "execution_count": 115,
     "metadata": {},
     "output_type": "execute_result"
    }
   ],
   "source": [
    "isinstance(\"Hello\", str)"
   ]
  },
  {
   "cell_type": "code",
   "execution_count": 116,
   "id": "a61a5edf",
   "metadata": {},
   "outputs": [
    {
     "data": {
      "text/plain": [
       "False"
      ]
     },
     "execution_count": 116,
     "metadata": {},
     "output_type": "execute_result"
    }
   ],
   "source": [
    "isinstance(\"hello\", int)"
   ]
  },
  {
   "cell_type": "code",
   "execution_count": 118,
   "id": "80f5a9aa",
   "metadata": {},
   "outputs": [
    {
     "data": {
      "text/plain": [
       "False"
      ]
     },
     "execution_count": 118,
     "metadata": {},
     "output_type": "execute_result"
    }
   ],
   "source": [
    "type(\"hello\") == int"
   ]
  },
  {
   "cell_type": "markdown",
   "id": "8a813ca0",
   "metadata": {},
   "source": [
    "---"
   ]
  },
  {
   "cell_type": "code",
   "execution_count": 119,
   "id": "cd156dbe",
   "metadata": {},
   "outputs": [],
   "source": [
    "from collections import Counter"
   ]
  },
  {
   "cell_type": "code",
   "execution_count": 123,
   "id": "dc7f2819",
   "metadata": {},
   "outputs": [
    {
     "data": {
      "text/plain": [
       "[1, 1, 2, 2, 2, 2]"
      ]
     },
     "execution_count": 123,
     "metadata": {},
     "output_type": "execute_result"
    }
   ],
   "source": [
    "labels"
   ]
  },
  {
   "cell_type": "code",
   "execution_count": 125,
   "id": "a4db4065",
   "metadata": {},
   "outputs": [],
   "source": [
    "counts = Counter(labels)"
   ]
  },
  {
   "cell_type": "code",
   "execution_count": 127,
   "id": "ed26a172",
   "metadata": {},
   "outputs": [
    {
     "data": {
      "text/plain": [
       "4"
      ]
     },
     "execution_count": 127,
     "metadata": {},
     "output_type": "execute_result"
    }
   ],
   "source": [
    "counts[2]"
   ]
  },
  {
   "cell_type": "code",
   "execution_count": 128,
   "id": "75978ecb",
   "metadata": {},
   "outputs": [
    {
     "data": {
      "text/plain": [
       "Counter({1: 2, 2: 4})"
      ]
     },
     "execution_count": 128,
     "metadata": {},
     "output_type": "execute_result"
    }
   ],
   "source": [
    "counts"
   ]
  },
  {
   "cell_type": "code",
   "execution_count": 129,
   "id": "6c66d2ff",
   "metadata": {},
   "outputs": [
    {
     "data": {
      "text/plain": [
       "{'B': 3, 'A': 2}"
      ]
     },
     "execution_count": 129,
     "metadata": {},
     "output_type": "execute_result"
    }
   ],
   "source": [
    "{\"B\": 3, \"A\": 2}"
   ]
  },
  {
   "cell_type": "markdown",
   "id": "de20c5fd",
   "metadata": {},
   "source": [
    "----"
   ]
  },
  {
   "cell_type": "code",
   "execution_count": 130,
   "id": "8685265f",
   "metadata": {},
   "outputs": [],
   "source": [
    "import requests"
   ]
  },
  {
   "cell_type": "code",
   "execution_count": 163,
   "id": "0b421d8f",
   "metadata": {},
   "outputs": [],
   "source": [
    "api_url = \"https://api.fiscaldata.treasury.gov/services/api/fiscal_service/v1/accounting/od/rates_of_exchange?fields=country_currency_desc, exchange_rate,record_date&filter=country_currency_desc:in:(Canada-Dollar,Mexico-Peso),record_date:gte:2020-01-01\"\n",
    "\n",
    "response = requests.get(api_url)"
   ]
  },
  {
   "cell_type": "code",
   "execution_count": 164,
   "id": "10e13188",
   "metadata": {},
   "outputs": [],
   "source": [
    "api_data = response.json()"
   ]
  },
  {
   "cell_type": "code",
   "execution_count": 176,
   "id": "9d8809a5",
   "metadata": {},
   "outputs": [],
   "source": [
    "rates = []\n",
    "\n",
    "for entry in api_data['data']:\n",
    "    if '2021' in entry['record_date']:\n",
    "        rates.append(\n",
    "            (float(entry['exchange_rate']),  entry['country_currency_desc'])\n",
    "        )\n",
    "    elif '2020' in"
   ]
  },
  {
   "cell_type": "code",
   "execution_count": 173,
   "id": "ccbbe28c",
   "metadata": {},
   "outputs": [
    {
     "data": {
      "text/plain": [
       "(20.531, 'Mexico-Peso')"
      ]
     },
     "execution_count": 173,
     "metadata": {},
     "output_type": "execute_result"
    }
   ],
   "source": [
    "max(rates)"
   ]
  },
  {
   "cell_type": "code",
   "execution_count": 174,
   "id": "116e84f3",
   "metadata": {},
   "outputs": [
    {
     "data": {
      "text/plain": [
       "(1.239, 'Canada-Dollar')"
      ]
     },
     "execution_count": 174,
     "metadata": {},
     "output_type": "execute_result"
    }
   ],
   "source": [
    "min(rates)"
   ]
  },
  {
   "cell_type": "code",
   "execution_count": 175,
   "id": "9cb65263",
   "metadata": {},
   "outputs": [
    {
     "data": {
      "text/plain": [
       "[(1.26, 'Canada-Dollar'),\n",
       " (1.277, 'Canada-Dollar'),\n",
       " (1.274, 'Canada-Dollar'),\n",
       " (1.239, 'Canada-Dollar'),\n",
       " (20.522, 'Mexico-Peso'),\n",
       " (20.531, 'Mexico-Peso'),\n",
       " (20.518, 'Mexico-Peso'),\n",
       " (19.838, 'Mexico-Peso')]"
      ]
     },
     "execution_count": 175,
     "metadata": {},
     "output_type": "execute_result"
    }
   ],
   "source": [
    "rates"
   ]
  },
  {
   "cell_type": "code",
   "execution_count": null,
   "id": "fc1d670e",
   "metadata": {},
   "outputs": [],
   "source": []
  }
 ],
 "metadata": {
  "kernelspec": {
   "display_name": "Python 3.9",
   "language": "python",
   "name": "python3"
  },
  "language_info": {
   "codemirror_mode": {
    "name": "ipython",
    "version": 3
   },
   "file_extension": ".py",
   "mimetype": "text/x-python",
   "name": "python",
   "nbconvert_exporter": "python",
   "pygments_lexer": "ipython3",
   "version": "3.9.6"
  }
 },
 "nbformat": 4,
 "nbformat_minor": 5
}
