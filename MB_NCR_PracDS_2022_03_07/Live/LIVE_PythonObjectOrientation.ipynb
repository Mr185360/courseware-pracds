{
 "cells": [
  {
   "cell_type": "markdown",
   "id": "505c2334",
   "metadata": {},
   "source": [
    "# Python: Object Oriented Programming"
   ]
  },
  {
   "cell_type": "markdown",
   "id": "cab9ba41",
   "metadata": {},
   "source": [
    "## Review"
   ]
  },
  {
   "cell_type": "markdown",
   "id": "f242984b",
   "metadata": {},
   "source": [
    "* `len(name)`\n",
    "    * `len` is a function\n",
    "* `name.upper()`\n",
    "    * `upper` is a method"
   ]
  },
  {
   "cell_type": "code",
   "execution_count": 1,
   "id": "d084c6d0",
   "metadata": {},
   "outputs": [
    {
     "data": {
      "text/plain": [
       "7"
      ]
     },
     "execution_count": 1,
     "metadata": {},
     "output_type": "execute_result"
    }
   ],
   "source": [
    "name = \"Michael\"\n",
    "\n",
    "len(name)"
   ]
  },
  {
   "cell_type": "markdown",
   "id": "3e4e3f19",
   "metadata": {},
   "source": [
    "## OO: A way of phrasing programs\n",
    "\n",
    "* bundles data & behaviour together\n",
    "* easier to see what behaviour can be used with what data\n",
    "* easier to control how data is modified `<- SEng care about this!`\n",
    "    * data analyst people dont want data access to be controlled\n",
    "* oo makes less sense for data analysis... \n",
    "    * in many ways, exactly the wrong thing!"
   ]
  },
  {
   "cell_type": "code",
   "execution_count": 6,
   "id": "77d1294b",
   "metadata": {},
   "outputs": [
    {
     "data": {
      "text/plain": [
       "'MICHAEL'"
      ]
     },
     "execution_count": 6,
     "metadata": {},
     "output_type": "execute_result"
    }
   ],
   "source": [
    "name.upper() # object.method()"
   ]
  },
  {
   "cell_type": "code",
   "execution_count": 8,
   "id": "5f12af82",
   "metadata": {},
   "outputs": [
    {
     "data": {
      "text/plain": [
       "['rstrip',\n",
       " 'split',\n",
       " 'splitlines',\n",
       " 'startswith',\n",
       " 'strip',\n",
       " 'swapcase',\n",
       " 'title',\n",
       " 'translate',\n",
       " 'upper',\n",
       " 'zfill']"
      ]
     },
     "execution_count": 8,
     "metadata": {},
     "output_type": "execute_result"
    }
   ],
   "source": [
    "dir(name)[-10:]"
   ]
  },
  {
   "cell_type": "code",
   "execution_count": 9,
   "id": "d11a24fa",
   "metadata": {},
   "outputs": [
    {
     "data": {
      "text/plain": [
       "True"
      ]
     },
     "execution_count": 9,
     "metadata": {},
     "output_type": "execute_result"
    }
   ],
   "source": [
    "name.startswith(\"M\")"
   ]
  },
  {
   "cell_type": "code",
   "execution_count": 10,
   "id": "b69bef65",
   "metadata": {},
   "outputs": [
    {
     "data": {
      "text/plain": [
       "False"
      ]
     },
     "execution_count": 10,
     "metadata": {},
     "output_type": "execute_result"
    }
   ],
   "source": [
    "name.startswith(\"m\")"
   ]
  },
  {
   "cell_type": "code",
   "execution_count": 13,
   "id": "0379997f",
   "metadata": {},
   "outputs": [
    {
     "data": {
      "text/plain": [
       "True"
      ]
     },
     "execution_count": 13,
     "metadata": {},
     "output_type": "execute_result"
    }
   ],
   "source": [
    "name.lower().startswith(\"m\")"
   ]
  },
  {
   "cell_type": "markdown",
   "id": "44370d05",
   "metadata": {},
   "source": [
    "---"
   ]
  },
  {
   "cell_type": "markdown",
   "id": "2452b226",
   "metadata": {},
   "source": [
    "## \"Simple Default\":  Procedural Programming"
   ]
  },
  {
   "cell_type": "code",
   "execution_count": 22,
   "id": "a9af7318",
   "metadata": {},
   "outputs": [],
   "source": [
    "age = 5 # variables\n",
    "\n",
    "\n",
    "# functions\n",
    "def f(a):\n",
    "    return age >= 18"
   ]
  },
  {
   "cell_type": "code",
   "execution_count": 23,
   "id": "42038351",
   "metadata": {},
   "outputs": [
    {
     "data": {
      "text/plain": [
       "False"
      ]
     },
     "execution_count": 23,
     "metadata": {},
     "output_type": "execute_result"
    }
   ],
   "source": [
    "f(age) # call a function"
   ]
  },
  {
   "cell_type": "markdown",
   "id": "ef71311d",
   "metadata": {},
   "source": [
    "---"
   ]
  },
  {
   "cell_type": "markdown",
   "id": "ea3b1501",
   "metadata": {},
   "source": [
    "## Bundling: OO"
   ]
  },
  {
   "cell_type": "code",
   "execution_count": 25,
   "id": "5da6cee7",
   "metadata": {},
   "outputs": [],
   "source": [
    "class Person:\n",
    "    def __init__(self, age):\n",
    "        self.age = age\n",
    "        \n",
    "    def is_adult(self):\n",
    "        return self.age >= 18\n"
   ]
  },
  {
   "cell_type": "markdown",
   "id": "91f3e8e7",
   "metadata": {},
   "source": [
    "---"
   ]
  },
  {
   "cell_type": "code",
   "execution_count": 29,
   "id": "05350464",
   "metadata": {},
   "outputs": [
    {
     "data": {
      "text/plain": [
       "False"
      ]
     },
     "execution_count": 29,
     "metadata": {},
     "output_type": "execute_result"
    }
   ],
   "source": [
    "me = Person(5) # variable = 5\n",
    "me.is_adult()  # is_adult(5)"
   ]
  },
  {
   "cell_type": "code",
   "execution_count": 32,
   "id": "e019c670",
   "metadata": {},
   "outputs": [
    {
     "data": {
      "text/plain": [
       "False"
      ]
     },
     "execution_count": 32,
     "metadata": {},
     "output_type": "execute_result"
    }
   ],
   "source": [
    "me_simple = 5 # variable\n",
    "f(me_simple)  # ... "
   ]
  },
  {
   "cell_type": "markdown",
   "id": "8b77c244",
   "metadata": {},
   "source": [
    "More information,"
   ]
  },
  {
   "cell_type": "code",
   "execution_count": 38,
   "id": "67994c4b",
   "metadata": {
    "scrolled": true
   },
   "outputs": [
    {
     "name": "stdout",
     "output_type": "stream",
     "text": [
      "<class '__main__.Person'> ['age', 'is_adult'] 5 False\n"
     ]
    }
   ],
   "source": [
    "print(type(me), dir(me)[-2:], me.age, me.is_adult())"
   ]
  },
  {
   "cell_type": "markdown",
   "id": "294db6c2",
   "metadata": {},
   "source": [
    "...."
   ]
  },
  {
   "cell_type": "code",
   "execution_count": 50,
   "id": "37c78a9b",
   "metadata": {},
   "outputs": [],
   "source": [
    "class Person:\n",
    "    def __init__(self, age, pwd):\n",
    "        self.age = age\n",
    "        self.pwd = pwd \n",
    "        \n",
    "    def is_adult(self):\n",
    "        return self.age >= 18\n",
    "    \n",
    "    def is_allowed(self):\n",
    "        return self.is_adult() and self.pwd == 1234"
   ]
  },
  {
   "cell_type": "code",
   "execution_count": 48,
   "id": "a543dc77",
   "metadata": {},
   "outputs": [
    {
     "ename": "TypeError",
     "evalue": "__init__() missing 1 required positional argument: 'pwd'",
     "output_type": "error",
     "traceback": [
      "\u001b[0;31m---------------------------------------------------------------------------\u001b[0m",
      "\u001b[0;31mTypeError\u001b[0m                                 Traceback (most recent call last)",
      "\u001b[0;32m<ipython-input-48-a3a947f6c085>\u001b[0m in \u001b[0;36m<module>\u001b[0;34m\u001b[0m\n\u001b[0;32m----> 1\u001b[0;31m \u001b[0myou\u001b[0m \u001b[0;34m=\u001b[0m \u001b[0mPerson\u001b[0m\u001b[0;34m(\u001b[0m\u001b[0;36m18\u001b[0m\u001b[0;34m)\u001b[0m\u001b[0;34m\u001b[0m\u001b[0;34m\u001b[0m\u001b[0m\n\u001b[0m",
      "\u001b[0;31mTypeError\u001b[0m: __init__() missing 1 required positional argument: 'pwd'"
     ]
    }
   ],
   "source": [
    "you = Person(18)"
   ]
  },
  {
   "cell_type": "code",
   "execution_count": 49,
   "id": "5b8f9bea",
   "metadata": {},
   "outputs": [
    {
     "data": {
      "text/plain": [
       "True"
      ]
     },
     "execution_count": 49,
     "metadata": {},
     "output_type": "execute_result"
    }
   ],
   "source": [
    "you = Person(18, 1234)\n",
    "you.is_allowed()"
   ]
  },
  {
   "cell_type": "markdown",
   "id": "fd1f3bf2",
   "metadata": {},
   "source": [
    "---"
   ]
  },
  {
   "cell_type": "markdown",
   "id": "f3ee5efb",
   "metadata": {},
   "source": [
    "## Steps to Defining a Class"
   ]
  },
  {
   "cell_type": "code",
   "execution_count": 55,
   "id": "c33ee2a5",
   "metadata": {},
   "outputs": [
    {
     "data": {
      "text/plain": [
       "__main__.Template"
      ]
     },
     "execution_count": 55,
     "metadata": {},
     "output_type": "execute_result"
    }
   ],
   "source": [
    "class Template:\n",
    "    pass\n",
    "\n",
    "product = Template()\n",
    "\n",
    "type(product)"
   ]
  },
  {
   "cell_type": "code",
   "execution_count": 57,
   "id": "f12b09ff",
   "metadata": {},
   "outputs": [
    {
     "data": {
      "text/plain": [
       "'GREEN'"
      ]
     },
     "execution_count": 57,
     "metadata": {},
     "output_type": "execute_result"
    }
   ],
   "source": [
    "class Template:\n",
    "    PROPERTY = \"GREEN\"\n",
    "    \n",
    "product = Template()\n",
    "product.PROPERTY"
   ]
  },
  {
   "cell_type": "code",
   "execution_count": 61,
   "id": "0cf8df04",
   "metadata": {},
   "outputs": [
    {
     "name": "stdout",
     "output_type": "stream",
     "text": [
      "140659784682368 140660319132112 140659784680976\n"
     ]
    }
   ],
   "source": [
    "a = Template(); b = Template(); c = Template()\n",
    "\n",
    "print(id(a), id(b), id(c))"
   ]
  },
  {
   "cell_type": "code",
   "execution_count": 62,
   "id": "b4005aa7",
   "metadata": {},
   "outputs": [],
   "source": [
    "a.name = \"Alice\"\n",
    "b.name = \"Bob\""
   ]
  },
  {
   "cell_type": "code",
   "execution_count": 65,
   "id": "264c6d5c",
   "metadata": {},
   "outputs": [
    {
     "name": "stdout",
     "output_type": "stream",
     "text": [
      "Alice Bob\n"
     ]
    }
   ],
   "source": [
    "print(a.name, b.name)"
   ]
  },
  {
   "cell_type": "markdown",
   "id": "e6b9530b",
   "metadata": {},
   "source": [
    "---"
   ]
  },
  {
   "cell_type": "code",
   "execution_count": 76,
   "id": "b40c17b0",
   "metadata": {},
   "outputs": [],
   "source": [
    "class Template:\n",
    "    PROPERTY = \"GREEN\"\n",
    "    \n",
    "    def __init__(self, n):\n",
    "        self.name = n.upper()\n",
    "    "
   ]
  },
  {
   "cell_type": "code",
   "execution_count": 77,
   "id": "02913c77",
   "metadata": {},
   "outputs": [],
   "source": [
    "obj = Template(\"Michael\")"
   ]
  },
  {
   "cell_type": "code",
   "execution_count": 78,
   "id": "152fd24b",
   "metadata": {},
   "outputs": [
    {
     "data": {
      "text/plain": [
       "'MICHAEL'"
      ]
     },
     "execution_count": 78,
     "metadata": {},
     "output_type": "execute_result"
    }
   ],
   "source": [
    "obj.name"
   ]
  },
  {
   "cell_type": "code",
   "execution_count": 79,
   "id": "67720057",
   "metadata": {},
   "outputs": [
    {
     "name": "stdout",
     "output_type": "stream",
     "text": [
      "A B\n"
     ]
    }
   ],
   "source": [
    "a = Template(\"A\"); b = Template(\"B\")\n",
    "\n",
    "print(a.name, b.name)"
   ]
  },
  {
   "cell_type": "markdown",
   "id": "1f166411",
   "metadata": {},
   "source": [
    "---"
   ]
  },
  {
   "cell_type": "code",
   "execution_count": 83,
   "id": "74d4a0ba",
   "metadata": {},
   "outputs": [],
   "source": [
    "class Page:\n",
    "    # require for all pages to HAVE...\n",
    "    def __init__(self, heading, body):\n",
    "        self.content = heading + body\n",
    "        \n",
    "    def show(self):\n",
    "        print(self.content)"
   ]
  },
  {
   "cell_type": "code",
   "execution_count": 84,
   "id": "8a52d4f9",
   "metadata": {},
   "outputs": [],
   "source": [
    "michael_page = Page(\"MICHAEL\", \"...HELLO...\")\n",
    "alice_page = Page(\"ALICE\", \"...BYE...\")"
   ]
  },
  {
   "cell_type": "code",
   "execution_count": 85,
   "id": "10e2325a",
   "metadata": {},
   "outputs": [
    {
     "name": "stdout",
     "output_type": "stream",
     "text": [
      "MICHAEL...HELLO...\n",
      "ALICE...BYE...\n"
     ]
    },
    {
     "data": {
      "text/plain": [
       "(None, None)"
      ]
     },
     "execution_count": 85,
     "metadata": {},
     "output_type": "execute_result"
    }
   ],
   "source": [
    "michael_page.show(), alice_page.show()"
   ]
  },
  {
   "cell_type": "markdown",
   "id": "d9c12604",
   "metadata": {},
   "source": [
    "---"
   ]
  },
  {
   "cell_type": "code",
   "execution_count": null,
   "id": "d562cefa",
   "metadata": {},
   "outputs": [],
   "source": []
  },
  {
   "cell_type": "code",
   "execution_count": 4,
   "id": "8c5d7e2b",
   "metadata": {
    "scrolled": true
   },
   "outputs": [
    {
     "data": {
      "text/plain": [
       "True"
      ]
     },
     "execution_count": 4,
     "metadata": {},
     "output_type": "execute_result"
    }
   ],
   "source": [
    "name.upper() == str.upper(name)"
   ]
  },
  {
   "cell_type": "code",
   "execution_count": 3,
   "id": "f667caf3",
   "metadata": {},
   "outputs": [
    {
     "data": {
      "text/plain": [
       "'MICHAEL'"
      ]
     },
     "execution_count": 3,
     "metadata": {},
     "output_type": "execute_result"
    }
   ],
   "source": [
    "str.upper(name)"
   ]
  },
  {
   "cell_type": "code",
   "execution_count": null,
   "id": "d715fd13",
   "metadata": {},
   "outputs": [],
   "source": []
  }
 ],
 "metadata": {
  "kernelspec": {
   "display_name": "Python 3.9",
   "language": "python",
   "name": "python3"
  },
  "language_info": {
   "codemirror_mode": {
    "name": "ipython",
    "version": 3
   },
   "file_extension": ".py",
   "mimetype": "text/x-python",
   "name": "python",
   "nbconvert_exporter": "python",
   "pygments_lexer": "ipython3",
   "version": "3.9.6"
  }
 },
 "nbformat": 4,
 "nbformat_minor": 5
}
