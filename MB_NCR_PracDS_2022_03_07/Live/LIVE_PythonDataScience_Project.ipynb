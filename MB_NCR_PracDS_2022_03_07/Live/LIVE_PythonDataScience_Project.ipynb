{
 "cells": [
  {
   "cell_type": "markdown",
   "id": "093a679a",
   "metadata": {},
   "source": [
    "# Python Data Science Project"
   ]
  },
  {
   "cell_type": "markdown",
   "id": "d87cafeb",
   "metadata": {},
   "source": [
    "* NumPy\n",
    "    * Simulate Data\n",
    "    * `np.random.normal(...)`\n",
    "    * `np.random.uniform(...)`\n",
    "    * `np.random.choice(...)`\n",
    "* Pandas\n",
    "    * Tabularize\n",
    "    * Report\n",
    "        * `df.describe()`\n",
    "        * `df.groupby(...).mean()`\n",
    "        * filter\n",
    "    * Save to file, etc.\n",
    "        * `pd.to_csv(...df)`\n",
    "* Seaborn\n",
    "    * Visualization\n",
    "    * `sns.violinplot(...)`\n",
    "    * `sns.lineplot(...)`\n",
    "    * `sns.scatterplot(...)`\n",
    "    * EXTRA: `sns.regplot(...)`\n",
    "* EXTRA: Sklearn\n",
    "    * Prediction\n",
    "    * `from sklearn.linear_model import LinearRegression`\n",
    "    * EXTRA: `from sklearn.tree import DecisionTreeClassifier`\n",
    "* EXTRA:\n",
    "    * add random errors to $y$\n",
    "    * + ...normal...(...) to $y$"
   ]
  },
  {
   "cell_type": "markdown",
   "id": "ce74070c",
   "metadata": {},
   "source": [
    "## Exercise\n",
    "\n",
    "Choose a problem domain (retail, finance, health...) and consider a problem that a practicioner could solve using data. Simulate a dataset, and produce a solution. \n",
    "\n",
    "\n",
    "* Simulate four or five variables\n",
    "    * some quantities (.normal())\n",
    "    * some categories (.choice())\n",
    "* Produce a report\n",
    "    * multiple visuals\n",
    "    * structured headings & discussion (not much)\n",
    "    * groupby, stats, ...\n",
    "* EXTRA:\n",
    "    * some predictions"
   ]
  },
  {
   "cell_type": "markdown",
   "id": "f61892e6",
   "metadata": {},
   "source": [
    "### Example: Movie Rating Prediction"
   ]
  },
  {
   "cell_type": "markdown",
   "id": "cc5fc69a",
   "metadata": {},
   "source": [
    "* Eg., movie recommendation\n",
    "* x = (age, spend_ticket)\n",
    "* y = rating "
   ]
  },
  {
   "cell_type": "code",
   "execution_count": 28,
   "id": "21d07b6c",
   "metadata": {},
   "outputs": [],
   "source": [
    "import numpy as np\n",
    "import pandas as pd\n",
    "import seaborn as sns\n",
    "from sklearn.linear_model import LinearRegression"
   ]
  },
  {
   "cell_type": "markdown",
   "id": "7481a5f9",
   "metadata": {},
   "source": [
    "* numpy"
   ]
  },
  {
   "cell_type": "code",
   "execution_count": 38,
   "id": "3d6028c6",
   "metadata": {},
   "outputs": [],
   "source": [
    "x_age   = np.random.normal(30, 5, 10).round()\n",
    "x_spend = np.random.normal(30, 5, 10).round()\n",
    "# np.choice\n",
    "y = (1.7*x_age + 0.8*x_spend).round() - 20"
   ]
  },
  {
   "cell_type": "markdown",
   "id": "d61677f3",
   "metadata": {},
   "source": [
    "* pandas"
   ]
  },
  {
   "cell_type": "code",
   "execution_count": 39,
   "id": "632a67e7",
   "metadata": {},
   "outputs": [],
   "source": [
    "table = pd.DataFrame({\n",
    "    \"Age\": x_age, \n",
    "    \"Spend\": x_spend,\n",
    "#    \"Categorical\": ... \n",
    "    \"Rating\": y\n",
    "})\n",
    "\n",
    "# pd.to_csv ...\n",
    "# more stats!"
   ]
  },
  {
   "cell_type": "markdown",
   "id": "e44d91cd",
   "metadata": {},
   "source": [
    "* seaborn"
   ]
  },
  {
   "cell_type": "code",
   "execution_count": 40,
   "id": "5e43a168",
   "metadata": {},
   "outputs": [
    {
     "data": {
      "text/plain": [
       "<AxesSubplot:xlabel='Age', ylabel='Spend'>"
      ]
     },
     "execution_count": 40,
     "metadata": {},
     "output_type": "execute_result"
    },
    {
     "data": {
      "image/png": "[encoded data removed]",
      "text/plain": [
       "<Figure size 432x288 with 1 Axes>"
      ]
     },
     "metadata": {
      "needs_background": "light"
     },
     "output_type": "display_data"
    }
   ],
   "source": [
    "%matplotlib inline\n",
    "\n",
    "sns.regplot(x=table[\"Age\"], y=table[\"Spend\"])\n",
    "\n",
    "# + many more visuals"
   ]
  },
  {
   "cell_type": "markdown",
   "id": "79e79409",
   "metadata": {},
   "source": [
    "* EXTRA"
   ]
  },
  {
   "cell_type": "code",
   "execution_count": 41,
   "id": "4f361e4b",
   "metadata": {},
   "outputs": [
    {
     "data": {
      "text/plain": [
       "array([26.05578036, 96.58920085])"
      ]
     },
     "execution_count": 41,
     "metadata": {},
     "output_type": "execute_result"
    }
   ],
   "source": [
    "model = LinearRegression().fit(table[['Age', 'Spend']], table['Rating'])\n",
    "model.predict([\n",
    "    [20, 15],\n",
    "    [60, 20]\n",
    "])"
   ]
  },
  {
   "cell_type": "markdown",
   "id": "9283282f",
   "metadata": {},
   "source": [
    "----"
   ]
  },
  {
   "cell_type": "markdown",
   "id": "4d041208",
   "metadata": {},
   "source": [
    "$y = 1.7x_{age} + 0.8x_{spend} - 20$"
   ]
  },
  {
   "cell_type": "code",
   "execution_count": 44,
   "id": "565493e7",
   "metadata": {
    "scrolled": true
   },
   "outputs": [
    {
     "data": {
      "text/plain": [
       "(array([1.7, 0.8]), -19.0)"
      ]
     },
     "execution_count": 44,
     "metadata": {},
     "output_type": "execute_result"
    }
   ],
   "source": [
    "model.coef_.round(1), model.intercept_.round()"
   ]
  }
 ],
 "metadata": {
  "kernelspec": {
   "display_name": "Python 3.9",
   "language": "python",
   "name": "python3"
  },
  "language_info": {
   "codemirror_mode": {
    "name": "ipython",
    "version": 3
   },
   "file_extension": ".py",
   "mimetype": "text/x-python",
   "name": "python",
   "nbconvert_exporter": "python",
   "pygments_lexer": "ipython3",
   "version": "3.9.6"
  }
 },
 "nbformat": 4,
 "nbformat_minor": 5
}
